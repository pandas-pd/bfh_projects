{
  "cells": [
    {
      "cell_type": "markdown",
      "metadata": {
        "id": "QHo59nmtvJSg"
      },
      "source": [
        "# Lesson 6 - Random forest continued\n",
        "\n",
        "> A deep dive into how Random Forests work and some tricks for making them more accurate."
      ]
    },
    {
      "cell_type": "markdown",
      "metadata": {
        "id": "7t7OQbcbvJSj"
      },
      "source": [
        "## Learning objectives"
      ]
    },
    {
      "cell_type": "markdown",
      "metadata": {
        "id": "Yv72y7dMvJSn"
      },
      "source": [
        "* Understand how to go from simple to complex models\n",
        "* Understand the concepts of bagging and out-of-bag score\n",
        "* Gain an introduction to hyperparameter tuning"
      ]
    },
    {
      "cell_type": "markdown",
      "metadata": {
        "id": "IDSwUsgovJSo"
      },
      "source": [
        "## References"
      ]
    },
    {
      "cell_type": "markdown",
      "metadata": {
        "id": "Znk6udUOvJSp"
      },
      "source": [
        "This lesson is adapted from Jeremy Howard's online course [_Introduction to Machine Learning for Coders_](https://course18.fast.ai/ml), in particular:\n",
        "\n",
        "* [2 - Random Forest Deep Dive](https://course18.fast.ai/lessonsml1/lesson2.html)"
      ]
    },
    {
      "cell_type": "markdown",
      "metadata": {
        "id": "ShmPrf3WvJSq"
      },
      "source": [
        "## Homework\n",
        "\n",
        "* Solve the exercises included in this notebook\n",
        "* Read chapter 7 of _Hands-On Machine Learning with Scikit-Learn and TensorFlow_ by Aurèlien Geron"
      ]
    },
    {
      "cell_type": "markdown",
      "metadata": {
        "id": "tC3TYWmivJSr"
      },
      "source": [
        "## The data"
      ]
    },
    {
      "cell_type": "markdown",
      "metadata": {
        "id": "4CRz1ROtvJSs"
      },
      "source": [
        "In this lesson we will analyse the preprocessed table of clean housing data and their addresses that we prepared in lesson 3:\n",
        "\n",
        "* `housing_processed.csv`"
      ]
    },
    {
      "cell_type": "markdown",
      "metadata": {
        "id": "P2oBsvpcvJSt"
      },
      "source": [
        "## How does a random forest work for regression tasks?"
      ]
    },
    {
      "cell_type": "markdown",
      "metadata": {
        "id": "3uTGBf7-vJSv"
      },
      "source": [
        "When we use a Random Forest to solve a regression task, the basic idea is that the _leaf nodes_ of each Decision Tree predict a numerical value that is the average of the training instances associated with that node. These predictions are then _averaged_ to obtain the final prediction from the forest of trees. In this lesson we will look at how we can build predictions from a single tree and get better predictions by adding progressively more trees to the forest."
      ]
    },
    {
      "cell_type": "markdown",
      "metadata": {
        "id": "WnX6K5rgvJSv"
      },
      "source": [
        "## Import libraries"
      ]
    },
    {
      "cell_type": "code",
      "execution_count": 1,
      "metadata": {
        "id": "nzx_d5Y3vJSx"
      },
      "outputs": [],
      "source": [
        "# data wrangling\n",
        "import pandas as pd\n",
        "import numpy as np\n",
        "from numpy.testing import assert_array_equal\n",
        "from pathlib import Path\n",
        "import pickle\n",
        "\n",
        "# data visualisations\n",
        "import matplotlib.pyplot as plt\n",
        "import seaborn as sns\n",
        "from sklearn.tree import plot_tree\n",
        "\n",
        "sns.set(color_codes=True)\n",
        "sns.set_palette(sns.color_palette(\"muted\"))\n",
        "\n",
        "# machine learning\n",
        "from sklearn.model_selection import train_test_split\n",
        "from sklearn.metrics import mean_squared_error, r2_score\n",
        "from sklearn.ensemble import RandomForestRegressor"
      ]
    },
    {
      "cell_type": "markdown",
      "metadata": {
        "id": "6yrwVWYIvJSx"
      },
      "source": [
        "## Load the data"
      ]
    },
    {
      "cell_type": "code",
      "execution_count": 2,
      "metadata": {
        "colab": {
          "base_uri": "https://localhost:8080/",
          "height": 288
        },
        "id": "Z_7AbF_UvJS0",
        "outputId": "6bf423bc-1750-4bfa-9e6e-b26715fdf1e2"
      },
      "outputs": [
        {
          "data": {
            "text/html": [
              "<div>\n",
              "<style scoped>\n",
              "    .dataframe tbody tr th:only-of-type {\n",
              "        vertical-align: middle;\n",
              "    }\n",
              "\n",
              "    .dataframe tbody tr th {\n",
              "        vertical-align: top;\n",
              "    }\n",
              "\n",
              "    .dataframe thead th {\n",
              "        text-align: right;\n",
              "    }\n",
              "</style>\n",
              "<table border=\"1\" class=\"dataframe\">\n",
              "  <thead>\n",
              "    <tr style=\"text-align: right;\">\n",
              "      <th></th>\n",
              "      <th>longitude</th>\n",
              "      <th>latitude</th>\n",
              "      <th>housing_median_age</th>\n",
              "      <th>total_rooms</th>\n",
              "      <th>total_bedrooms</th>\n",
              "      <th>population</th>\n",
              "      <th>households</th>\n",
              "      <th>median_income</th>\n",
              "      <th>median_house_value</th>\n",
              "      <th>city</th>\n",
              "      <th>rooms_per_household</th>\n",
              "      <th>bedrooms_per_household</th>\n",
              "      <th>bedrooms_per_room</th>\n",
              "      <th>population_per_household</th>\n",
              "      <th>ocean_proximity_INLAND</th>\n",
              "      <th>ocean_proximity_&lt;1H OCEAN</th>\n",
              "      <th>ocean_proximity_NEAR BAY</th>\n",
              "      <th>ocean_proximity_NEAR OCEAN</th>\n",
              "      <th>ocean_proximity_ISLAND</th>\n",
              "    </tr>\n",
              "  </thead>\n",
              "  <tbody>\n",
              "    <tr>\n",
              "      <th>0</th>\n",
              "      <td>-122.23</td>\n",
              "      <td>37.88</td>\n",
              "      <td>41.0</td>\n",
              "      <td>880.0</td>\n",
              "      <td>129.0</td>\n",
              "      <td>322.0</td>\n",
              "      <td>126.0</td>\n",
              "      <td>8.3252</td>\n",
              "      <td>452600.0</td>\n",
              "      <td>69</td>\n",
              "      <td>6.984127</td>\n",
              "      <td>1.023810</td>\n",
              "      <td>0.146591</td>\n",
              "      <td>2.555556</td>\n",
              "      <td>0</td>\n",
              "      <td>0</td>\n",
              "      <td>1</td>\n",
              "      <td>0</td>\n",
              "      <td>0</td>\n",
              "    </tr>\n",
              "    <tr>\n",
              "      <th>1</th>\n",
              "      <td>-122.22</td>\n",
              "      <td>37.86</td>\n",
              "      <td>21.0</td>\n",
              "      <td>7099.0</td>\n",
              "      <td>1106.0</td>\n",
              "      <td>2401.0</td>\n",
              "      <td>1138.0</td>\n",
              "      <td>8.3014</td>\n",
              "      <td>358500.0</td>\n",
              "      <td>620</td>\n",
              "      <td>6.238137</td>\n",
              "      <td>0.971880</td>\n",
              "      <td>0.155797</td>\n",
              "      <td>2.109842</td>\n",
              "      <td>0</td>\n",
              "      <td>0</td>\n",
              "      <td>1</td>\n",
              "      <td>0</td>\n",
              "      <td>0</td>\n",
              "    </tr>\n",
              "    <tr>\n",
              "      <th>2</th>\n",
              "      <td>-122.24</td>\n",
              "      <td>37.85</td>\n",
              "      <td>52.0</td>\n",
              "      <td>1467.0</td>\n",
              "      <td>190.0</td>\n",
              "      <td>496.0</td>\n",
              "      <td>177.0</td>\n",
              "      <td>7.2574</td>\n",
              "      <td>352100.0</td>\n",
              "      <td>620</td>\n",
              "      <td>8.288136</td>\n",
              "      <td>1.073446</td>\n",
              "      <td>0.129516</td>\n",
              "      <td>2.802260</td>\n",
              "      <td>0</td>\n",
              "      <td>0</td>\n",
              "      <td>1</td>\n",
              "      <td>0</td>\n",
              "      <td>0</td>\n",
              "    </tr>\n",
              "    <tr>\n",
              "      <th>3</th>\n",
              "      <td>-122.25</td>\n",
              "      <td>37.85</td>\n",
              "      <td>52.0</td>\n",
              "      <td>1274.0</td>\n",
              "      <td>235.0</td>\n",
              "      <td>558.0</td>\n",
              "      <td>219.0</td>\n",
              "      <td>5.6431</td>\n",
              "      <td>341300.0</td>\n",
              "      <td>620</td>\n",
              "      <td>5.817352</td>\n",
              "      <td>1.073059</td>\n",
              "      <td>0.184458</td>\n",
              "      <td>2.547945</td>\n",
              "      <td>0</td>\n",
              "      <td>0</td>\n",
              "      <td>1</td>\n",
              "      <td>0</td>\n",
              "      <td>0</td>\n",
              "    </tr>\n",
              "    <tr>\n",
              "      <th>4</th>\n",
              "      <td>-122.25</td>\n",
              "      <td>37.85</td>\n",
              "      <td>52.0</td>\n",
              "      <td>1627.0</td>\n",
              "      <td>280.0</td>\n",
              "      <td>565.0</td>\n",
              "      <td>259.0</td>\n",
              "      <td>3.8462</td>\n",
              "      <td>342200.0</td>\n",
              "      <td>620</td>\n",
              "      <td>6.281853</td>\n",
              "      <td>1.081081</td>\n",
              "      <td>0.172096</td>\n",
              "      <td>2.181467</td>\n",
              "      <td>0</td>\n",
              "      <td>0</td>\n",
              "      <td>1</td>\n",
              "      <td>0</td>\n",
              "      <td>0</td>\n",
              "    </tr>\n",
              "  </tbody>\n",
              "</table>\n",
              "</div>"
            ],
            "text/plain": [
              "   longitude  latitude  housing_median_age  total_rooms  total_bedrooms  \\\n",
              "0    -122.23     37.88                41.0        880.0           129.0   \n",
              "1    -122.22     37.86                21.0       7099.0          1106.0   \n",
              "2    -122.24     37.85                52.0       1467.0           190.0   \n",
              "3    -122.25     37.85                52.0       1274.0           235.0   \n",
              "4    -122.25     37.85                52.0       1627.0           280.0   \n",
              "\n",
              "   population  households  median_income  median_house_value  city  \\\n",
              "0       322.0       126.0         8.3252            452600.0    69   \n",
              "1      2401.0      1138.0         8.3014            358500.0   620   \n",
              "2       496.0       177.0         7.2574            352100.0   620   \n",
              "3       558.0       219.0         5.6431            341300.0   620   \n",
              "4       565.0       259.0         3.8462            342200.0   620   \n",
              "\n",
              "   rooms_per_household  bedrooms_per_household  bedrooms_per_room  \\\n",
              "0             6.984127                1.023810           0.146591   \n",
              "1             6.238137                0.971880           0.155797   \n",
              "2             8.288136                1.073446           0.129516   \n",
              "3             5.817352                1.073059           0.184458   \n",
              "4             6.281853                1.081081           0.172096   \n",
              "\n",
              "   population_per_household  ocean_proximity_INLAND  \\\n",
              "0                  2.555556                       0   \n",
              "1                  2.109842                       0   \n",
              "2                  2.802260                       0   \n",
              "3                  2.547945                       0   \n",
              "4                  2.181467                       0   \n",
              "\n",
              "   ocean_proximity_<1H OCEAN  ocean_proximity_NEAR BAY  \\\n",
              "0                          0                         1   \n",
              "1                          0                         1   \n",
              "2                          0                         1   \n",
              "3                          0                         1   \n",
              "4                          0                         1   \n",
              "\n",
              "   ocean_proximity_NEAR OCEAN  ocean_proximity_ISLAND  \n",
              "0                           0                       0  \n",
              "1                           0                       0  \n",
              "2                           0                       0  \n",
              "3                           0                       0  \n",
              "4                           0                       0  "
            ]
          },
          "execution_count": 2,
          "metadata": {},
          "output_type": "execute_result"
        }
      ],
      "source": [
        "housing_data = pd.read_csv('housing_processed.csv'); housing_data.head()"
      ]
    },
    {
      "cell_type": "markdown",
      "metadata": {
        "id": "-7GK3Wp-vJS1"
      },
      "source": [
        "With the data loaded, we can recreate our feature matrix $X$ and target vector $y$ and train/validation splits as before."
      ]
    },
    {
      "cell_type": "markdown",
      "metadata": {
        "id": "CYf92APNvJS1"
      },
      "source": [
        "---\n",
        "\n",
        "#### Exercise #1\n",
        "\n",
        "* Create the feature matrix $X$ and target vector $y$ from `housing_data`\n",
        "* Create training and validation sets with a split of 80:20\n",
        "\n",
        "---"
      ]
    },
    {
      "cell_type": "code",
      "execution_count": 9,
      "metadata": {},
      "outputs": [
        {
          "name": "stdout",
          "output_type": "stream",
          "text": [
            "(19443, 18) (19443,)\n"
          ]
        }
      ],
      "source": [
        "X = housing_data.drop(\"median_house_value\", axis = 1)\n",
        "y = housing_data[\"median_house_value\"]\n",
        "\n",
        "print(X.shape, y.shape)"
      ]
    },
    {
      "cell_type": "code",
      "execution_count": 18,
      "metadata": {},
      "outputs": [
        {
          "name": "stdout",
          "output_type": "stream",
          "text": [
            "Train size:\t 15554\n",
            "Test size:\t 3889\n",
            "Fraction:\t 0.7999794270431517\n"
          ]
        }
      ],
      "source": [
        "X_train, X_valid, y_train, y_valid = train_test_split(X,y, test_size = 0.2, random_state = 42)\n",
        "print(\"Train size:\\t\", X_train.shape[0])\n",
        "print(\"Test size:\\t\", X_test.shape[0])\n",
        "print(\"Fraction:\\t\", X_train.shape[0] / X.shape[0])"
      ]
    },
    {
      "cell_type": "markdown",
      "metadata": {
        "id": "lAPWjfGmvJS2"
      },
      "source": [
        "## Baseline model"
      ]
    },
    {
      "cell_type": "markdown",
      "metadata": {
        "id": "UvxnVAUAvJS2"
      },
      "source": [
        "As a sanity check, let's see how our baseline model performs on the validation set:"
      ]
    },
    {
      "cell_type": "code",
      "execution_count": 19,
      "metadata": {
        "id": "Y8K49TmsvJS3"
      },
      "outputs": [],
      "source": [
        "model = RandomForestRegressor(n_estimators=10, n_jobs=-1, random_state=42)"
      ]
    },
    {
      "cell_type": "code",
      "execution_count": 20,
      "metadata": {
        "colab": {
          "base_uri": "https://localhost:8080/"
        },
        "id": "gW0TKgUzvJS3",
        "outputId": "07869784-de14-4c47-aae5-0100b399d1fd"
      },
      "outputs": [
        {
          "data": {
            "text/plain": [
              "RandomForestRegressor(n_estimators=10, n_jobs=-1, random_state=42)"
            ]
          },
          "execution_count": 20,
          "metadata": {},
          "output_type": "execute_result"
        }
      ],
      "source": [
        "model.fit(X_train, y_train)"
      ]
    },
    {
      "cell_type": "markdown",
      "metadata": {
        "id": "d9lloKrUvJS4"
      },
      "source": [
        "To simplify the evaluation of our models, let's write a simple function to keep track of the scores:"
      ]
    },
    {
      "cell_type": "code",
      "execution_count": 21,
      "metadata": {
        "id": "TO8sXjfWvJS4"
      },
      "outputs": [],
      "source": [
        "def print_rf_scores(fitted_model):\n",
        "    \"\"\"Generates RMSE and R^2 scores from fitted Random Forest model.\"\"\"\n",
        "\n",
        "    yhat_train = fitted_model.predict(X_train)\n",
        "    R2_train = fitted_model.score(X_train, y_train)\n",
        "    yhat_valid = fitted_model.predict(X_valid)\n",
        "    R2_valid = fitted_model.score(X_valid, y_valid)\n",
        "\n",
        "    scores = {\n",
        "        \"RMSE on train:\": rmse(y_train, yhat_train),\n",
        "        \"R^2 on train:\": R2_train,\n",
        "        \"RMSE on valid:\": rmse(y_valid, yhat_valid),\n",
        "        \"R^2 on valid:\": R2_valid,\n",
        "    }\n",
        "    if hasattr(fitted_model, \"oob_score_\"):\n",
        "        scores[\"OOB R^2:\"] = fitted_model.oob_score_\n",
        "\n",
        "    for score_name, score_value in scores.items():\n",
        "        print(score_name, round(score_value, 3))\n",
        "\n",
        "def rmse(y, yhat):\n",
        "    \"\"\"A utility function to calculate the Root Mean Square Error (RMSE).\n",
        "    \n",
        "    Args:\n",
        "        y (array): Actual values for target.\n",
        "        yhat (array): Predicted values for target.\n",
        "        \n",
        "    Returns:\n",
        "        rmse (double): The RMSE.\n",
        "    \"\"\"\n",
        "    return np.sqrt(mean_squared_error(y, yhat))"
      ]
    },
    {
      "cell_type": "code",
      "execution_count": 22,
      "metadata": {
        "colab": {
          "base_uri": "https://localhost:8080/"
        },
        "id": "RAOgqxpFvJS5",
        "outputId": "61b248a3-bf6a-46a2-8dce-a0d0e94cfc55"
      },
      "outputs": [
        {
          "name": "stdout",
          "output_type": "stream",
          "text": [
            "RMSE on train: 19650.09\n",
            "R^2 on train: 0.958\n",
            "RMSE on valid: 47406.616\n",
            "R^2 on valid: 0.766\n"
          ]
        }
      ],
      "source": [
        "print_rf_scores(model)"
      ]
    },
    {
      "cell_type": "markdown",
      "metadata": {
        "id": "XcN2rPb7vJS5"
      },
      "source": [
        "## The simplest model: a single tree"
      ]
    },
    {
      "cell_type": "markdown",
      "metadata": {
        "id": "khmqQ5-1vJS6"
      },
      "source": [
        "Let's build a model that is so simple that we can actually take a look at it. As we saw in lesson 4, a Random Forest is a simply forest of decision trees, so let's begin by looking at a single tree (called _estimators_ in scikit-learn): "
      ]
    },
    {
      "cell_type": "code",
      "execution_count": 23,
      "metadata": {
        "colab": {
          "base_uri": "https://localhost:8080/"
        },
        "id": "_BTC2RAyvJS6",
        "outputId": "47926bde-4259-4442-8457-5b92a1f787ff"
      },
      "outputs": [
        {
          "data": {
            "text/plain": [
              "RandomForestRegressor(bootstrap=False, max_depth=3, n_estimators=1, n_jobs=-1,\n",
              "                      random_state=42)"
            ]
          },
          "execution_count": 23,
          "metadata": {},
          "output_type": "execute_result"
        }
      ],
      "source": [
        "model = RandomForestRegressor(n_estimators=1, max_depth=3, bootstrap=False, n_jobs=-1, random_state=42)\n",
        "model.fit(X_train, y_train)"
      ]
    },
    {
      "cell_type": "markdown",
      "metadata": {
        "id": "w8Pa0TY3vJS7"
      },
      "source": [
        "In the above we have fixed the following hyperparameters:\n",
        "\n",
        "* `n_estimators = 1`: create a forest with one tree, i.e. a _decision tree_\n",
        "* `max_depth = 3`: how deep or the number of \"levels\" in the tree\n",
        "* `bootstrap=False`: this setting ensures we use the whole dataset to build the tree. If `bootstrap=True` (which is the default setting), sub-samples are used to fit each tree and the sub-sample size is set with the `max_samples` parameter in that case.\n",
        "\n",
        "Let's see how this simple model performs:"
      ]
    },
    {
      "cell_type": "code",
      "execution_count": null,
      "metadata": {
        "id": "ssA3-yFvvJS8",
        "outputId": "65eb45ac-c165-4761-de85-26536a29b19f"
      },
      "outputs": [
        {
          "name": "stdout",
          "output_type": "stream",
          "text": [
            "RMSE on train: 65040.247\n",
            "R^2 on train: 0.545\n",
            "RMSE on valid: 67579.11\n",
            "R^2 on valid: 0.525\n"
          ]
        }
      ],
      "source": [
        "print_rf_scores(model)"
      ]
    },
    {
      "cell_type": "markdown",
      "metadata": {
        "id": "CNk6Cfg6vJS8"
      },
      "source": [
        "Unsurprisingly, this single tree yields worse predictions than our baseline with 10 trees (to see this, please compare the RMSE with the one from last lecture). Nevertheless, we can visualise the tree by accessing the `estimators_` attribute and making use of scikit-learn's plotting API ([link](https://scikit-learn.org/stable/modules/generated/sklearn.tree.plot_tree.html)):"
      ]
    },
    {
      "cell_type": "code",
      "execution_count": 24,
      "metadata": {
        "colab": {
          "base_uri": "https://localhost:8080/",
          "height": 251
        },
        "id": "THvcnEX5vJS9",
        "outputId": "a4634085-8ac5-4361-e06c-9f35d699476f"
      },
      "outputs": [
        {
          "data": {
            "image/png": "[encoded data removed]",
            "text/plain": [
              "<Figure size 2160x720 with 1 Axes>"
            ]
          },
          "metadata": {},
          "output_type": "display_data"
        }
      ],
      "source": [
        "# get column names\n",
        "feature_names = X_train.columns\n",
        "# we need to specify the background color because of a bug in sklearn\n",
        "fig, ax = plt.subplots(figsize=(30,10), facecolor='k')\n",
        "# generate tree plot\n",
        "plot_tree(model.estimators_[0], filled=True, feature_names=feature_names, ax=ax)\n",
        "plt.show()"
      ]
    },
    {
      "cell_type": "markdown",
      "metadata": {
        "id": "LdrumLsxvJS9"
      },
      "source": [
        "From the figure we observe that a tree consists of a sequence of binary decisions, where each box includes information about:\n",
        "\n",
        "* The binary split criterion (mean squared error (mse) in this case)\n",
        "* The number of `samples` in each node. Note we start with the full dataset in the root node and get successively smaller values at each split.\n",
        "* Darker colours indicate a higher `value`, where `value` refers to the _average_ of the prices. \n",
        "* The best single binary split is for `median_income <= 4.068` which improves the mean squared error from 9.3 billion to 6.0 billion."
      ]
    },
    {
      "cell_type": "markdown",
      "metadata": {
        "id": "J2RxgmSgvJS-"
      },
      "source": [
        "## A slightly better model"
      ]
    },
    {
      "cell_type": "markdown",
      "metadata": {
        "id": "JI31cg7bvJS-"
      },
      "source": [
        "Right now our simple tree model has $RMSE = 67579.11$ on the validation set - let's make it better by removing the `max_depth=3` restriction:"
      ]
    },
    {
      "cell_type": "code",
      "execution_count": 26,
      "metadata": {
        "colab": {
          "base_uri": "https://localhost:8080/"
        },
        "id": "NF5Sm8wcvJS-",
        "outputId": "ba8d224e-59ac-4b3b-a928-19e6c3c2ccc7"
      },
      "outputs": [
        {
          "data": {
            "text/plain": [
              "RandomForestRegressor(bootstrap=False, n_estimators=10, n_jobs=-1,\n",
              "                      random_state=42)"
            ]
          },
          "execution_count": 26,
          "metadata": {},
          "output_type": "execute_result"
        }
      ],
      "source": [
        "model = RandomForestRegressor(n_estimators=10, bootstrap=False, n_jobs=-1, random_state=42)\n",
        "model.fit(X_train, y_train)"
      ]
    },
    {
      "cell_type": "code",
      "execution_count": 27,
      "metadata": {
        "id": "7iCkntkrvJS_",
        "outputId": "4e617cbe-7f75-4fb3-9b8f-cfdfed9aad10"
      },
      "outputs": [
        {
          "name": "stdout",
          "output_type": "stream",
          "text": [
            "RMSE on train: 0.0\n",
            "R^2 on train: 1.0\n",
            "RMSE on valid: 61137.503\n",
            "R^2 on valid: 0.611\n"
          ]
        }
      ],
      "source": [
        "print_rf_scores(model)"
      ]
    },
    {
      "cell_type": "markdown",
      "metadata": {
        "id": "v10qIGYevJS_"
      },
      "source": [
        "Note that removing the `max_depth` constraint has yielded a _perfect_ $RMSE=0$ on the training set! That is because in this case each leaf node has exactly one element, so we can perfectly segment the data. We also have $RMSE = 58570.323$ on the validation set which is better than our shallow tree, but we can do better."
      ]
    },
    {
      "cell_type": "markdown",
      "metadata": {
        "id": "AY9ixH_lRvkL"
      },
      "source": [
        "---\n",
        "\n",
        "#### Exercise #2\n",
        "\n",
        "* Why did we obtain a _perfect_ $RMSE=0$ on the training set now?\n",
        "* Why is the error on the validation set so much larger? (Why does our model generalise so poorly to the validation set?)\n",
        "---"
      ]
    },
    {
      "cell_type": "markdown",
      "metadata": {},
      "source": [
        "Answers\n",
        " - Becaust the model is overfitted. Meaning, that it perfeclty fits the training data, but as soon as you throw some other information at it, it will put out an error\n",
        " - Because the data is different, on which the model was perfectly fitted to"
      ]
    },
    {
      "cell_type": "markdown",
      "metadata": {
        "id": "ZCvmjEvkvJTA"
      },
      "source": [
        "## Introduction to bagging"
      ]
    },
    {
      "cell_type": "markdown",
      "metadata": {
        "id": "ZF9nBZrMvJTA"
      },
      "source": [
        "Bagging is a technique that can be used to improve the ability of models to generalise to new data.\n",
        "\n",
        "The basic idea of bagging is to consider training _several_ models, each of which is only partially predictive, but crucially, uncorrelated. Since these models are effectively gaining different insights into the data, by averaging their predictions we can create an _ensemble_ that is more predictive!\n",
        "\n",
        "As shown in today's lecture slides, bagging is a two-step process:\n",
        "\n",
        "1. Bootstrapping, i.e. sampling the training set\n",
        "2. Aggregation, i.e. averaging predictions from multiple models\n",
        "\n",
        "This gives us the acronym Bootstrap AGGregatING, or bagging for short 🤓.\n",
        "\n",
        "The key for this to work is to ensure the errors of each mode are uncorrelated, so the way we do that with trees is to _**sample with replacement**_ from the data: this produces a set of independent samples upon which we can train our models for the ensemble."
      ]
    },
    {
      "cell_type": "markdown",
      "metadata": {
        "id": "DNmpSEJbvJTB"
      },
      "source": [
        "## Hyperparameter tuning"
      ]
    },
    {
      "cell_type": "markdown",
      "metadata": {
        "id": "jQvhyvepvJTC"
      },
      "source": [
        "If we revisit our very first model, we saw that the number of trees (`n_estimators`) is one of the parameters we can tune when building our Random Forest. Let's look at this more closely and see how the performance of the forest improves as we add trees."
      ]
    },
    {
      "cell_type": "code",
      "execution_count": 29,
      "metadata": {
        "colab": {
          "base_uri": "https://localhost:8080/"
        },
        "id": "6o-lh8EVvJTC",
        "outputId": "1fc7a746-fb71-44a9-a9e2-b82a63e0a04c"
      },
      "outputs": [
        {
          "data": {
            "text/plain": [
              "RandomForestRegressor(n_estimators=10, random_state=42)"
            ]
          },
          "execution_count": 29,
          "metadata": {},
          "output_type": "execute_result"
        }
      ],
      "source": [
        "model = RandomForestRegressor(n_estimators=10, bootstrap=True, random_state=42)\n",
        "model.fit(X_train, y_train)"
      ]
    },
    {
      "cell_type": "markdown",
      "metadata": {
        "id": "qFisaWWMvJTD"
      },
      "source": [
        "After training, each tree is stored in an attribute called `estimators_`. For each tree, we can call `predict()` on the validation set and use the `numpy.stack()` function to concatenate the predictions together:"
      ]
    },
    {
      "cell_type": "code",
      "execution_count": 31,
      "metadata": {
        "id": "sNis3L6WvJTE"
      },
      "outputs": [
        {
          "name": "stderr",
          "output_type": "stream",
          "text": [
            "C:\\Users\\joelt\\AppData\\Local\\Programs\\Python\\Python39\\lib\\site-packages\\sklearn\\base.py:443: UserWarning: X has feature names, but DecisionTreeRegressor was fitted without feature names\n",
            "  warnings.warn(\n",
            "C:\\Users\\joelt\\AppData\\Local\\Programs\\Python\\Python39\\lib\\site-packages\\sklearn\\base.py:443: UserWarning: X has feature names, but DecisionTreeRegressor was fitted without feature names\n",
            "  warnings.warn(\n",
            "C:\\Users\\joelt\\AppData\\Local\\Programs\\Python\\Python39\\lib\\site-packages\\sklearn\\base.py:443: UserWarning: X has feature names, but DecisionTreeRegressor was fitted without feature names\n",
            "  warnings.warn(\n",
            "C:\\Users\\joelt\\AppData\\Local\\Programs\\Python\\Python39\\lib\\site-packages\\sklearn\\base.py:443: UserWarning: X has feature names, but DecisionTreeRegressor was fitted without feature names\n",
            "  warnings.warn(\n",
            "C:\\Users\\joelt\\AppData\\Local\\Programs\\Python\\Python39\\lib\\site-packages\\sklearn\\base.py:443: UserWarning: X has feature names, but DecisionTreeRegressor was fitted without feature names\n",
            "  warnings.warn(\n",
            "C:\\Users\\joelt\\AppData\\Local\\Programs\\Python\\Python39\\lib\\site-packages\\sklearn\\base.py:443: UserWarning: X has feature names, but DecisionTreeRegressor was fitted without feature names\n",
            "  warnings.warn(\n",
            "C:\\Users\\joelt\\AppData\\Local\\Programs\\Python\\Python39\\lib\\site-packages\\sklearn\\base.py:443: UserWarning: X has feature names, but DecisionTreeRegressor was fitted without feature names\n",
            "  warnings.warn(\n",
            "C:\\Users\\joelt\\AppData\\Local\\Programs\\Python\\Python39\\lib\\site-packages\\sklearn\\base.py:443: UserWarning: X has feature names, but DecisionTreeRegressor was fitted without feature names\n",
            "  warnings.warn(\n",
            "C:\\Users\\joelt\\AppData\\Local\\Programs\\Python\\Python39\\lib\\site-packages\\sklearn\\base.py:443: UserWarning: X has feature names, but DecisionTreeRegressor was fitted without feature names\n",
            "  warnings.warn(\n",
            "C:\\Users\\joelt\\AppData\\Local\\Programs\\Python\\Python39\\lib\\site-packages\\sklearn\\base.py:443: UserWarning: X has feature names, but DecisionTreeRegressor was fitted without feature names\n",
            "  warnings.warn(\n"
          ]
        }
      ],
      "source": [
        "preds = np.stack([tree.predict(X_valid) for tree in model.estimators_])"
      ]
    },
    {
      "cell_type": "markdown",
      "metadata": {
        "id": "qpE7EzEPvJTF"
      },
      "source": [
        "Since we have 10 trees and 3889 samples in our validation set, we expect that `preds` will have shape $(n_\\mathrm{trees}, n_\\mathrm{samples})$:"
      ]
    },
    {
      "cell_type": "code",
      "execution_count": 32,
      "metadata": {
        "colab": {
          "base_uri": "https://localhost:8080/"
        },
        "id": "umzGT--QvJTF",
        "outputId": "5ac3ae1b-c3d4-470e-8614-857aa0b3c662"
      },
      "outputs": [
        {
          "data": {
            "text/plain": [
              "(10, 3889)"
            ]
          },
          "execution_count": 32,
          "metadata": {},
          "output_type": "execute_result"
        }
      ],
      "source": [
        "preds.shape"
      ]
    },
    {
      "cell_type": "markdown",
      "metadata": {
        "id": "HDEj66QhvJTG"
      },
      "source": [
        "**Note:** To calculate `preds` we made use of Python's list comprehension. An alternative way to do this would be to use a for-loop as follows:"
      ]
    },
    {
      "cell_type": "code",
      "execution_count": 33,
      "metadata": {
        "id": "j9BfU7QTvJTG"
      },
      "outputs": [
        {
          "name": "stderr",
          "output_type": "stream",
          "text": [
            "C:\\Users\\joelt\\AppData\\Local\\Programs\\Python\\Python39\\lib\\site-packages\\sklearn\\base.py:443: UserWarning: X has feature names, but DecisionTreeRegressor was fitted without feature names\n",
            "  warnings.warn(\n",
            "C:\\Users\\joelt\\AppData\\Local\\Programs\\Python\\Python39\\lib\\site-packages\\sklearn\\base.py:443: UserWarning: X has feature names, but DecisionTreeRegressor was fitted without feature names\n",
            "  warnings.warn(\n",
            "C:\\Users\\joelt\\AppData\\Local\\Programs\\Python\\Python39\\lib\\site-packages\\sklearn\\base.py:443: UserWarning: X has feature names, but DecisionTreeRegressor was fitted without feature names\n",
            "  warnings.warn(\n",
            "C:\\Users\\joelt\\AppData\\Local\\Programs\\Python\\Python39\\lib\\site-packages\\sklearn\\base.py:443: UserWarning: X has feature names, but DecisionTreeRegressor was fitted without feature names\n",
            "  warnings.warn(\n",
            "C:\\Users\\joelt\\AppData\\Local\\Programs\\Python\\Python39\\lib\\site-packages\\sklearn\\base.py:443: UserWarning: X has feature names, but DecisionTreeRegressor was fitted without feature names\n",
            "  warnings.warn(\n",
            "C:\\Users\\joelt\\AppData\\Local\\Programs\\Python\\Python39\\lib\\site-packages\\sklearn\\base.py:443: UserWarning: X has feature names, but DecisionTreeRegressor was fitted without feature names\n",
            "  warnings.warn(\n",
            "C:\\Users\\joelt\\AppData\\Local\\Programs\\Python\\Python39\\lib\\site-packages\\sklearn\\base.py:443: UserWarning: X has feature names, but DecisionTreeRegressor was fitted without feature names\n",
            "  warnings.warn(\n",
            "C:\\Users\\joelt\\AppData\\Local\\Programs\\Python\\Python39\\lib\\site-packages\\sklearn\\base.py:443: UserWarning: X has feature names, but DecisionTreeRegressor was fitted without feature names\n",
            "  warnings.warn(\n",
            "C:\\Users\\joelt\\AppData\\Local\\Programs\\Python\\Python39\\lib\\site-packages\\sklearn\\base.py:443: UserWarning: X has feature names, but DecisionTreeRegressor was fitted without feature names\n",
            "  warnings.warn(\n",
            "C:\\Users\\joelt\\AppData\\Local\\Programs\\Python\\Python39\\lib\\site-packages\\sklearn\\base.py:443: UserWarning: X has feature names, but DecisionTreeRegressor was fitted without feature names\n",
            "  warnings.warn(\n"
          ]
        }
      ],
      "source": [
        "preds_list = []\n",
        "\n",
        "for tree in model.estimators_:\n",
        "    preds_list.append(tree.predict(X_valid))\n",
        "\n",
        "# concatenate list of predictions into single array \n",
        "preds_v2 = np.stack(preds_list)\n",
        "\n",
        "# test that arrays are equal\n",
        "assert_array_equal(preds, preds_v2)"
      ]
    },
    {
      "cell_type": "markdown",
      "metadata": {
        "id": "Tvc7ddD8vJTH"
      },
      "source": [
        "Let's now look at a plot of the $R^2$ values as we increase the number of trees."
      ]
    },
    {
      "cell_type": "code",
      "execution_count": 34,
      "metadata": {
        "id": "0VA1sRzTvJTH"
      },
      "outputs": [],
      "source": [
        "def plot_r2_vs_trees(preds, y_valid):\n",
        "    \"\"\"Generate a plot of R^2 score on validation set vs number of trees in Random Forest\"\"\"\n",
        "    fig, ax = plt.subplots()\n",
        "    plt.plot(\n",
        "        [\n",
        "            r2_score(y_valid, np.mean(preds[: i + 1], axis=0))\n",
        "            for i in range(len(preds) + 1)\n",
        "        ]\n",
        "    )\n",
        "    ax.set_ylabel(\"$R^2$ on validation set\")\n",
        "    ax.set_xlabel(\"Number of trees\")"
      ]
    },
    {
      "cell_type": "code",
      "execution_count": 35,
      "metadata": {
        "colab": {
          "base_uri": "https://localhost:8080/",
          "height": 285
        },
        "id": "7OEoH_FVvJTH",
        "outputId": "fe2076d5-a791-4258-9314-c445bccf0cf6"
      },
      "outputs": [
        {
          "data": {
            "image/png": "[encoded data removed]",
            "text/plain": [
              "<Figure size 432x288 with 1 Axes>"
            ]
          },
          "metadata": {},
          "output_type": "display_data"
        }
      ],
      "source": [
        "plot_r2_vs_trees(preds, y_valid)"
      ]
    },
    {
      "cell_type": "markdown",
      "metadata": {
        "id": "YJgIW4XuvJTH"
      },
      "source": [
        "As we add more trees, $R^2$ improves but appears to flatten out. Let's test this numerically."
      ]
    },
    {
      "cell_type": "markdown",
      "metadata": {
        "id": "qyvsMV3XvJTI"
      },
      "source": [
        "---\n",
        "\n",
        "#### Exercise #3\n",
        "\n",
        "* Increase the number of trees in the forest by changing `n_estimators` from 10 to 40. For the forest with 40 trees, generate the array of predictions for each tree and plot the $R^2$ value against the number of trees.\n",
        "\n",
        "---"
      ]
    },
    {
      "cell_type": "code",
      "execution_count": 36,
      "metadata": {},
      "outputs": [
        {
          "data": {
            "text/plain": [
              "RandomForestRegressor(n_estimators=40, random_state=42)"
            ]
          },
          "execution_count": 36,
          "metadata": {},
          "output_type": "execute_result"
        }
      ],
      "source": [
        "model = RandomForestRegressor(n_estimators=40, bootstrap=True, random_state=42)\n",
        "model.fit(X_train, y_train)"
      ]
    },
    {
      "cell_type": "code",
      "execution_count": 38,
      "metadata": {},
      "outputs": [
        {
          "name": "stderr",
          "output_type": "stream",
          "text": [
            "C:\\Users\\joelt\\AppData\\Local\\Programs\\Python\\Python39\\lib\\site-packages\\sklearn\\base.py:443: UserWarning: X has feature names, but DecisionTreeRegressor was fitted without feature names\n",
            "  warnings.warn(\n",
            "C:\\Users\\joelt\\AppData\\Local\\Programs\\Python\\Python39\\lib\\site-packages\\sklearn\\base.py:443: UserWarning: X has feature names, but DecisionTreeRegressor was fitted without feature names\n",
            "  warnings.warn(\n",
            "C:\\Users\\joelt\\AppData\\Local\\Programs\\Python\\Python39\\lib\\site-packages\\sklearn\\base.py:443: UserWarning: X has feature names, but DecisionTreeRegressor was fitted without feature names\n",
            "  warnings.warn(\n",
            "C:\\Users\\joelt\\AppData\\Local\\Programs\\Python\\Python39\\lib\\site-packages\\sklearn\\base.py:443: UserWarning: X has feature names, but DecisionTreeRegressor was fitted without feature names\n",
            "  warnings.warn(\n",
            "C:\\Users\\joelt\\AppData\\Local\\Programs\\Python\\Python39\\lib\\site-packages\\sklearn\\base.py:443: UserWarning: X has feature names, but DecisionTreeRegressor was fitted without feature names\n",
            "  warnings.warn(\n",
            "C:\\Users\\joelt\\AppData\\Local\\Programs\\Python\\Python39\\lib\\site-packages\\sklearn\\base.py:443: UserWarning: X has feature names, but DecisionTreeRegressor was fitted without feature names\n",
            "  warnings.warn(\n",
            "C:\\Users\\joelt\\AppData\\Local\\Programs\\Python\\Python39\\lib\\site-packages\\sklearn\\base.py:443: UserWarning: X has feature names, but DecisionTreeRegressor was fitted without feature names\n",
            "  warnings.warn(\n",
            "C:\\Users\\joelt\\AppData\\Local\\Programs\\Python\\Python39\\lib\\site-packages\\sklearn\\base.py:443: UserWarning: X has feature names, but DecisionTreeRegressor was fitted without feature names\n",
            "  warnings.warn(\n",
            "C:\\Users\\joelt\\AppData\\Local\\Programs\\Python\\Python39\\lib\\site-packages\\sklearn\\base.py:443: UserWarning: X has feature names, but DecisionTreeRegressor was fitted without feature names\n",
            "  warnings.warn(\n",
            "C:\\Users\\joelt\\AppData\\Local\\Programs\\Python\\Python39\\lib\\site-packages\\sklearn\\base.py:443: UserWarning: X has feature names, but DecisionTreeRegressor was fitted without feature names\n",
            "  warnings.warn(\n",
            "C:\\Users\\joelt\\AppData\\Local\\Programs\\Python\\Python39\\lib\\site-packages\\sklearn\\base.py:443: UserWarning: X has feature names, but DecisionTreeRegressor was fitted without feature names\n",
            "  warnings.warn(\n",
            "C:\\Users\\joelt\\AppData\\Local\\Programs\\Python\\Python39\\lib\\site-packages\\sklearn\\base.py:443: UserWarning: X has feature names, but DecisionTreeRegressor was fitted without feature names\n",
            "  warnings.warn(\n",
            "C:\\Users\\joelt\\AppData\\Local\\Programs\\Python\\Python39\\lib\\site-packages\\sklearn\\base.py:443: UserWarning: X has feature names, but DecisionTreeRegressor was fitted without feature names\n",
            "  warnings.warn(\n",
            "C:\\Users\\joelt\\AppData\\Local\\Programs\\Python\\Python39\\lib\\site-packages\\sklearn\\base.py:443: UserWarning: X has feature names, but DecisionTreeRegressor was fitted without feature names\n",
            "  warnings.warn(\n",
            "C:\\Users\\joelt\\AppData\\Local\\Programs\\Python\\Python39\\lib\\site-packages\\sklearn\\base.py:443: UserWarning: X has feature names, but DecisionTreeRegressor was fitted without feature names\n",
            "  warnings.warn(\n",
            "C:\\Users\\joelt\\AppData\\Local\\Programs\\Python\\Python39\\lib\\site-packages\\sklearn\\base.py:443: UserWarning: X has feature names, but DecisionTreeRegressor was fitted without feature names\n",
            "  warnings.warn(\n",
            "C:\\Users\\joelt\\AppData\\Local\\Programs\\Python\\Python39\\lib\\site-packages\\sklearn\\base.py:443: UserWarning: X has feature names, but DecisionTreeRegressor was fitted without feature names\n",
            "  warnings.warn(\n",
            "C:\\Users\\joelt\\AppData\\Local\\Programs\\Python\\Python39\\lib\\site-packages\\sklearn\\base.py:443: UserWarning: X has feature names, but DecisionTreeRegressor was fitted without feature names\n",
            "  warnings.warn(\n",
            "C:\\Users\\joelt\\AppData\\Local\\Programs\\Python\\Python39\\lib\\site-packages\\sklearn\\base.py:443: UserWarning: X has feature names, but DecisionTreeRegressor was fitted without feature names\n",
            "  warnings.warn(\n",
            "C:\\Users\\joelt\\AppData\\Local\\Programs\\Python\\Python39\\lib\\site-packages\\sklearn\\base.py:443: UserWarning: X has feature names, but DecisionTreeRegressor was fitted without feature names\n",
            "  warnings.warn(\n",
            "C:\\Users\\joelt\\AppData\\Local\\Programs\\Python\\Python39\\lib\\site-packages\\sklearn\\base.py:443: UserWarning: X has feature names, but DecisionTreeRegressor was fitted without feature names\n",
            "  warnings.warn(\n",
            "C:\\Users\\joelt\\AppData\\Local\\Programs\\Python\\Python39\\lib\\site-packages\\sklearn\\base.py:443: UserWarning: X has feature names, but DecisionTreeRegressor was fitted without feature names\n",
            "  warnings.warn(\n",
            "C:\\Users\\joelt\\AppData\\Local\\Programs\\Python\\Python39\\lib\\site-packages\\sklearn\\base.py:443: UserWarning: X has feature names, but DecisionTreeRegressor was fitted without feature names\n",
            "  warnings.warn(\n",
            "C:\\Users\\joelt\\AppData\\Local\\Programs\\Python\\Python39\\lib\\site-packages\\sklearn\\base.py:443: UserWarning: X has feature names, but DecisionTreeRegressor was fitted without feature names\n",
            "  warnings.warn(\n",
            "C:\\Users\\joelt\\AppData\\Local\\Programs\\Python\\Python39\\lib\\site-packages\\sklearn\\base.py:443: UserWarning: X has feature names, but DecisionTreeRegressor was fitted without feature names\n",
            "  warnings.warn(\n",
            "C:\\Users\\joelt\\AppData\\Local\\Programs\\Python\\Python39\\lib\\site-packages\\sklearn\\base.py:443: UserWarning: X has feature names, but DecisionTreeRegressor was fitted without feature names\n",
            "  warnings.warn(\n",
            "C:\\Users\\joelt\\AppData\\Local\\Programs\\Python\\Python39\\lib\\site-packages\\sklearn\\base.py:443: UserWarning: X has feature names, but DecisionTreeRegressor was fitted without feature names\n",
            "  warnings.warn(\n",
            "C:\\Users\\joelt\\AppData\\Local\\Programs\\Python\\Python39\\lib\\site-packages\\sklearn\\base.py:443: UserWarning: X has feature names, but DecisionTreeRegressor was fitted without feature names\n",
            "  warnings.warn(\n",
            "C:\\Users\\joelt\\AppData\\Local\\Programs\\Python\\Python39\\lib\\site-packages\\sklearn\\base.py:443: UserWarning: X has feature names, but DecisionTreeRegressor was fitted without feature names\n",
            "  warnings.warn(\n",
            "C:\\Users\\joelt\\AppData\\Local\\Programs\\Python\\Python39\\lib\\site-packages\\sklearn\\base.py:443: UserWarning: X has feature names, but DecisionTreeRegressor was fitted without feature names\n",
            "  warnings.warn(\n",
            "C:\\Users\\joelt\\AppData\\Local\\Programs\\Python\\Python39\\lib\\site-packages\\sklearn\\base.py:443: UserWarning: X has feature names, but DecisionTreeRegressor was fitted without feature names\n",
            "  warnings.warn(\n",
            "C:\\Users\\joelt\\AppData\\Local\\Programs\\Python\\Python39\\lib\\site-packages\\sklearn\\base.py:443: UserWarning: X has feature names, but DecisionTreeRegressor was fitted without feature names\n",
            "  warnings.warn(\n",
            "C:\\Users\\joelt\\AppData\\Local\\Programs\\Python\\Python39\\lib\\site-packages\\sklearn\\base.py:443: UserWarning: X has feature names, but DecisionTreeRegressor was fitted without feature names\n",
            "  warnings.warn(\n",
            "C:\\Users\\joelt\\AppData\\Local\\Programs\\Python\\Python39\\lib\\site-packages\\sklearn\\base.py:443: UserWarning: X has feature names, but DecisionTreeRegressor was fitted without feature names\n",
            "  warnings.warn(\n",
            "C:\\Users\\joelt\\AppData\\Local\\Programs\\Python\\Python39\\lib\\site-packages\\sklearn\\base.py:443: UserWarning: X has feature names, but DecisionTreeRegressor was fitted without feature names\n",
            "  warnings.warn(\n",
            "C:\\Users\\joelt\\AppData\\Local\\Programs\\Python\\Python39\\lib\\site-packages\\sklearn\\base.py:443: UserWarning: X has feature names, but DecisionTreeRegressor was fitted without feature names\n",
            "  warnings.warn(\n",
            "C:\\Users\\joelt\\AppData\\Local\\Programs\\Python\\Python39\\lib\\site-packages\\sklearn\\base.py:443: UserWarning: X has feature names, but DecisionTreeRegressor was fitted without feature names\n",
            "  warnings.warn(\n",
            "C:\\Users\\joelt\\AppData\\Local\\Programs\\Python\\Python39\\lib\\site-packages\\sklearn\\base.py:443: UserWarning: X has feature names, but DecisionTreeRegressor was fitted without feature names\n",
            "  warnings.warn(\n",
            "C:\\Users\\joelt\\AppData\\Local\\Programs\\Python\\Python39\\lib\\site-packages\\sklearn\\base.py:443: UserWarning: X has feature names, but DecisionTreeRegressor was fitted without feature names\n",
            "  warnings.warn(\n",
            "C:\\Users\\joelt\\AppData\\Local\\Programs\\Python\\Python39\\lib\\site-packages\\sklearn\\base.py:443: UserWarning: X has feature names, but DecisionTreeRegressor was fitted without feature names\n",
            "  warnings.warn(\n"
          ]
        }
      ],
      "source": [
        "preds = np.stack([tree.predict(X_valid) for tree in model.estimators_])"
      ]
    },
    {
      "cell_type": "code",
      "execution_count": 39,
      "metadata": {},
      "outputs": [
        {
          "data": {
            "image/png": "[encoded data removed]",
            "text/plain": [
              "<Figure size 432x288 with 1 Axes>"
            ]
          },
          "metadata": {},
          "output_type": "display_data"
        }
      ],
      "source": [
        "plot_r2_vs_trees(preds, y_valid)"
      ]
    },
    {
      "cell_type": "markdown",
      "metadata": {
        "id": "l6WWH7ngvJTI"
      },
      "source": [
        "## Out-Of-Bag (OOB) score"
      ]
    },
    {
      "cell_type": "markdown",
      "metadata": {
        "id": "pBiVZCe8vJTI"
      },
      "source": [
        "So far, we've been using a validation set to examine the effect of tuning hyperparameters like the number of trees - what happens if the dataset is small and it may not be feasible to create a validation set because you would not have enough data to build a good model? Random Forests have a nice feature called _**Out-Of-Bag (OOB) error**_ which is designed for just this case!\n",
        "\n",
        "The key idea is to observe that the first tree of our ensemble was trained on a bagged sample of the full dataset, so if we evaluate this model on the _remaining_ samples we have effectively created a _validation set per tree._ To generate OOB predictions, we can then average all the trees and calculate RMSE, $R^2$, or whatever metric we are interested in.\n",
        "\n",
        "To toggle this behaviour in scikit-learn, one makes use of the `oob_score` flag, which adds an `oob_score_` attribute to our model that we can print out:"
      ]
    },
    {
      "cell_type": "code",
      "execution_count": 40,
      "metadata": {
        "colab": {
          "base_uri": "https://localhost:8080/"
        },
        "id": "xYzf8z9cvJTK",
        "outputId": "6b0aa9a1-7c8b-4a77-a3b9-af4ca85ebb33"
      },
      "outputs": [
        {
          "name": "stdout",
          "output_type": "stream",
          "text": [
            "RMSE on train: 17126.88\n",
            "R^2 on train: 0.968\n",
            "RMSE on valid: 45228.156\n",
            "R^2 on valid: 0.787\n",
            "OOB R^2: 0.776\n"
          ]
        }
      ],
      "source": [
        "model = RandomForestRegressor(n_estimators=40, bootstrap=True, oob_score=True, random_state=42)\n",
        "model.fit(X_train, y_train)\n",
        "print_rf_scores(model)"
      ]
    },
    {
      "cell_type": "markdown",
      "metadata": {
        "id": "7WQAzuzfvJTK"
      },
      "source": [
        "OOB score is handy when you want to find the best set of hyperparameters in some automated way. For example, scikit-learn has a function called [grid search](https://scikit-learn.org/stable/modules/grid_search.html) that allows you to pass a list of hyperparameters and a range of values to scan through. Using the OOB score to evaluate which combination of parameters is best is a good strategy in practice."
      ]
    },
    {
      "cell_type": "markdown",
      "metadata": {
        "id": "43HJwStOvJTK"
      },
      "source": [
        "## More hyperparameter tuning"
      ]
    },
    {
      "cell_type": "markdown",
      "metadata": {
        "id": "4qmpZEKBvJTL"
      },
      "source": [
        "Let's look at a few more hyperparameters that can be tuned in a Random Forest. From our earlier analysis, we saw that 40 trees gave good performance, so let's pick that as a baseline to compare against."
      ]
    },
    {
      "cell_type": "code",
      "execution_count": 41,
      "metadata": {
        "colab": {
          "base_uri": "https://localhost:8080/"
        },
        "id": "vMsKbNvqvJTL",
        "outputId": "d9ea154c-c48d-48e2-f5de-591a70903813"
      },
      "outputs": [
        {
          "name": "stdout",
          "output_type": "stream",
          "text": [
            "RMSE on train: 17126.88\n",
            "R^2 on train: 0.968\n",
            "RMSE on valid: 45228.156\n",
            "R^2 on valid: 0.787\n",
            "OOB R^2: 0.776\n"
          ]
        }
      ],
      "source": [
        "model = RandomForestRegressor(n_estimators=40, bootstrap=True, oob_score=True, random_state=42)\n",
        "model.fit(X_train, y_train)\n",
        "print_rf_scores(model)"
      ]
    },
    {
      "cell_type": "markdown",
      "metadata": {
        "id": "XyF0T6LxvJTL"
      },
      "source": [
        "### Minimum number of samples per leaf"
      ]
    },
    {
      "cell_type": "markdown",
      "metadata": {
        "id": "NQr4MJGpvJTL"
      },
      "source": [
        "The hyperparameter `min_samples_leaf` controls whether or not the tree should continue splitting a given node based on the number of samples in that node. By default, `min_samples_leaf = 1`, so each tree will split all the way down to a single sample, but in practice it can be useful to work with values such as 3, 5, 10, 25 and see if the performance improves."
      ]
    },
    {
      "cell_type": "markdown",
      "metadata": {
        "id": "kJS-VXeovJTL"
      },
      "source": [
        "---\n",
        "\n",
        "#### Exercise #4\n",
        "Train several Random Forest models with `min_samples_leaf` values of 3, 5, 10, and 25. By comparing the scores, do you see an improvement in performance compared to our baseline?\n",
        "\n",
        "---"
      ]
    },
    {
      "cell_type": "code",
      "execution_count": 43,
      "metadata": {},
      "outputs": [
        {
          "name": "stdout",
          "output_type": "stream",
          "text": [
            "\n",
            "Number of leafs:\t 3\n",
            "RMSE on train: 24285.469\n",
            "R^2 on train: 0.937\n",
            "RMSE on valid: 45587.809\n",
            "R^2 on valid: 0.784\n",
            "OOB R^2: 0.779\n",
            "\n",
            "Number of leafs:\t 5\n",
            "RMSE on train: 29490.032\n",
            "R^2 on train: 0.907\n",
            "RMSE on valid: 45796.996\n",
            "R^2 on valid: 0.782\n",
            "OOB R^2: 0.778\n",
            "\n",
            "Number of leafs:\t 10\n",
            "RMSE on train: 36174.659\n",
            "R^2 on train: 0.859\n",
            "RMSE on valid: 46649.91\n",
            "R^2 on valid: 0.774\n",
            "OOB R^2: 0.772\n",
            "\n",
            "Number of leafs:\t 25\n",
            "RMSE on train: 43229.703\n",
            "R^2 on train: 0.799\n",
            "RMSE on valid: 48915.148\n",
            "R^2 on valid: 0.751\n",
            "OOB R^2: 0.751\n"
          ]
        }
      ],
      "source": [
        "for i in [3,5,10,25]:\n",
        "    model = RandomForestRegressor(n_estimators=40, bootstrap=True, oob_score=True, random_state=42, min_samples_leaf= i)\n",
        "    model.fit(X_train, y_train)\n",
        "    print(\"\\nNumber of leafs:\\t\",i)\n",
        "    print_rf_scores(model)\n"
      ]
    },
    {
      "cell_type": "markdown",
      "metadata": {
        "id": "sUQZqOTOvJTM"
      },
      "source": [
        "### Maximum number of features per split"
      ]
    },
    {
      "cell_type": "markdown",
      "metadata": {
        "id": "lm_t4pZhvJTM"
      },
      "source": [
        "Another good hyperparameter to tune is `max_features`, which controls what _**random**_ number or fraction of _**columns**_ we consider when making a single split at a tree node. Here, the motivation is that we might have situations where a few columns in our data are highly predictive, so each tree will be biased towards picking the same splits and thus reduce the generalisation power of our ensemble. To counteract that, we can tune `max_features`, where good values to try are `1.0`, `0.5`, `log2`, or `sqrt`."
      ]
    },
    {
      "cell_type": "code",
      "execution_count": 48,
      "metadata": {},
      "outputs": [],
      "source": [
        "\n"
      ]
    },
    {
      "cell_type": "code",
      "execution_count": 52,
      "metadata": {},
      "outputs": [
        {
          "name": "stdout",
          "output_type": "stream",
          "text": [
            "\n",
            "Number of max_features:\t 1\n",
            "RMSE on train: 19154.458\n",
            "R^2 on train: 0.961\n",
            "RMSE on valid: 49810.32\n",
            "R^2 on valid: 0.742\n",
            "OOB R^2: 0.718\n",
            "\n",
            "Number of max_features:\t 0.5\n",
            "RMSE on train: 16899.623\n",
            "R^2 on train: 0.969\n",
            "RMSE on valid: 44245.784\n",
            "R^2 on valid: 0.796\n",
            "OOB R^2: 0.78\n",
            "\n",
            "Number of max_features:\t 4\n",
            "RMSE on train: 17178.571\n",
            "R^2 on train: 0.968\n",
            "RMSE on valid: 44720.654\n",
            "R^2 on valid: 0.792\n",
            "OOB R^2: 0.774\n",
            "\n",
            "Number of max_features:\t 4\n",
            "RMSE on train: 17178.571\n",
            "R^2 on train: 0.968\n",
            "RMSE on valid: 44720.654\n",
            "R^2 on valid: 0.792\n",
            "OOB R^2: 0.774\n"
          ]
        }
      ],
      "source": [
        "from math import sqrt, log2\n",
        "n_features = X.shape[1]\n",
        "\n",
        "for i in [1, 0.5, round(sqrt(n_features)), round(log2(n_features))]:\n",
        "    \n",
        "    print(\"\\nNumber of max_features:\\t\",i)\n",
        "    model = RandomForestRegressor(n_estimators=40, bootstrap=True, oob_score=True, random_state=42, max_features = i)\n",
        "    \n",
        "    model.fit(X_train, y_train)\n",
        "    print_rf_scores(model)"
      ]
    }
  ],
  "metadata": {
    "colab": {
      "collapsed_sections": [],
      "name": "lesson06_random-forest-continued.ipynb",
      "provenance": [],
      "toc_visible": true
    },
    "kernelspec": {
      "display_name": "Python 3",
      "language": "python",
      "name": "python3"
    },
    "language_info": {
      "codemirror_mode": {
        "name": "ipython",
        "version": 3
      },
      "file_extension": ".py",
      "mimetype": "text/x-python",
      "name": "python",
      "nbconvert_exporter": "python",
      "pygments_lexer": "ipython3",
      "version": "3.9.5"
    }
  },
  "nbformat": 4,
  "nbformat_minor": 0
}
