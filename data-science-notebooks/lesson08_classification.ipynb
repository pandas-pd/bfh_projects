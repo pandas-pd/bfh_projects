{
  "cells": [
    {
      "cell_type": "markdown",
      "metadata": {
        "id": "sbsXdI6ldGsk"
      },
      "source": [
        "# Lesson 8 - Classification\n",
        "\n",
        "> In this lesson we bring together all the knowledge we have gained about Random Forests and apply it to a new type of supervised learning task: binary classification"
      ]
    },
    {
      "cell_type": "markdown",
      "metadata": {
        "id": "bAPKROjldGsp"
      },
      "source": [
        "## Learning objectives"
      ]
    },
    {
      "cell_type": "markdown",
      "metadata": {
        "id": "qH5f4_CodGsq"
      },
      "source": [
        "* Know how to apply Random Forests to classification tasks\n",
        "* Understand the performance metrics associated with binary classification"
      ]
    },
    {
      "cell_type": "markdown",
      "metadata": {
        "id": "K63TUUIvdGsr"
      },
      "source": [
        "## References"
      ]
    },
    {
      "cell_type": "markdown",
      "metadata": {
        "id": "OTf1PzejdGss"
      },
      "source": [
        "This lesson is inspired by the following textbooks and online courses:\n",
        "\n",
        "* Chapter 3 of _Hands-On Machine Learning with Scikit-Learn and TensorFlow_ by Aurèlien Geron\n",
        "* Chapter 7 of _Data Science for Business_ by Provost and Fawcett\n",
        "* Lessons 1 - 4 of Jeremy Howard's online course [_Introduction to Machine Learning for Coders_](https://course18.fast.ai/ml)\n",
        "\n",
        "You may also find the following blog post useful:\n",
        "\n",
        "* [Grumpy, euphoric, and smart classifiers (interactive)](https://christian.bock.ml/posts/metrics/)"
      ]
    },
    {
      "cell_type": "markdown",
      "metadata": {
        "id": "kLTdj0PfdGst"
      },
      "source": [
        "## Homework\n",
        "\n",
        "* Solve the exercise at the end of this notebook\n",
        "* Read chapter 3 of _Hands-On Machine Learning with Scikit-Learn and TensorFlow_ by Aurèlien Geron\n",
        "* Read chapter 7 of _Data Science for Business_ by Provost and Fawcett\n"
      ]
    },
    {
      "cell_type": "markdown",
      "metadata": {
        "id": "PXXrLgyPdGsu"
      },
      "source": [
        "## What is customer churn?"
      ]
    },
    {
      "cell_type": "markdown",
      "metadata": {
        "id": "NsfO0si2dGsu"
      },
      "source": [
        "We will explore [IBM's telecommunications dataset](https://www.kaggle.com/blastchar/telco-customer-churn) and determine which attributes are most informative for predicting customer retention (also known as customer churn). As described by IBM, the problem setting is as follows:\n",
        "\n",
        "> A telecommunications company is concerned about the number of customers leaving their landline business for competitors. They need to understand who is leaving. Imagine that you’re an analyst at this company and you have to find out who is leaving and why.\n",
        "\n",
        "The kind of questions we'd like to find answers to are:\n",
        "\n",
        "* Which customers are likely to leave?\n",
        "* Which attributes influence customers who leave?"
      ]
    },
    {
      "cell_type": "markdown",
      "metadata": {
        "id": "B0EC3grqdGsw"
      },
      "source": [
        "## The data"
      ]
    },
    {
      "cell_type": "markdown",
      "metadata": {
        "id": "F26RAMyudGsx"
      },
      "source": [
        "As noted above, in this lesson we will analyse IBM's customer churn dataset:\n",
        "\n",
        "* `churn.csv`\n",
        "\n",
        "The dataset includes information about:\n",
        "\n",
        "* Customers who left within the last month – the column is called `Churn`\n",
        "* Services that each customer has signed up for – phone, multiple lines, internet, online security, online backup, device protection, tech support, and streaming TV and movies\n",
        "* Customer account information – how long they’ve been a customer (tenure), contract, payment method, paperless billing, monthly charges, and total charges\n",
        "* Demographic info about customers – gender, whether they're a senior citizen or not, and if they have partners and dependents\n"
      ]
    },
    {
      "cell_type": "markdown",
      "metadata": {
        "id": "Y86MXoFFdGsy"
      },
      "source": [
        "## Import libraries"
      ]
    },
    {
      "cell_type": "code",
      "execution_count": 1,
      "metadata": {
        "id": "7mNrQkeMdGs1"
      },
      "outputs": [],
      "source": [
        "# data wrangling\n",
        "import pandas as pd\n",
        "import numpy as np\n",
        "\n",
        "# data visualisation\n",
        "import matplotlib.pyplot as plt\n",
        "import seaborn as sns\n",
        "from sklearn.metrics import plot_confusion_matrix, plot_roc_curve\n",
        "from sklearn.tree import plot_tree\n",
        "\n",
        "sns.set(color_codes=True)\n",
        "sns.set_palette(sns.color_palette(\"muted\"))\n",
        "\n",
        "# machine learning\n",
        "from sklearn.model_selection import train_test_split\n",
        "from sklearn.metrics import confusion_matrix, accuracy_score, roc_auc_score\n",
        "from sklearn.ensemble import RandomForestClassifier\n",
        "import scipy\n",
        "from scipy.cluster import hierarchy as hc\n",
        "\n",
        "from pandas.api.types import is_string_dtype, is_numeric_dtype, is_categorical_dtype"
      ]
    },
    {
      "cell_type": "markdown",
      "metadata": {
        "id": "Aq2rXBMt_clm"
      },
      "source": [
        "## Helper functions \n",
        "###### based on fast.ai / L. von Werra"
      ]
    },
    {
      "cell_type": "code",
      "execution_count": 2,
      "metadata": {
        "id": "fGNEdU52-7QA"
      },
      "outputs": [],
      "source": [
        "## Sources: https://github.com/lewtun/dslectures/blob/master/dslectures/structured.py#L138 and https://lvwerra.github.io/dslectures/utils00_core.html#display_large\n",
        "\n",
        "def fix_missing(df, col, name, na_dict):\n",
        "    \"\"\" Fill missing data in a column of df with the median, and add a {name}_na column\n",
        "    which specifies if the data was missing.\n",
        "    \"\"\"\n",
        "    if is_numeric_dtype(col):\n",
        "        if pd.isnull(col).sum() or (name in na_dict):\n",
        "            df[name+'_na'] = pd.isnull(col)\n",
        "            filler = na_dict[name] if name in na_dict else col.median()\n",
        "            df[name] = col.fillna(filler)\n",
        "            na_dict[name] = filler\n",
        "    return na_dict\n",
        "\n",
        "def proc_df(df, y_fld=None, skip_flds=None, ignore_flds=None, do_scale=False, na_dict=None,\n",
        "            preproc_fn=None, max_n_cat=None, subset=None, mapper=None):\n",
        "    \"\"\" proc_df takes a data frame df and splits off the response variable, and\n",
        "    changes the df into an entirely numeric dataframe. For each column of df\n",
        "    which is not in skip_flds nor in ignore_flds, na values are replaced by the\n",
        "    median value of the column.\n",
        "    \"\"\"\n",
        "    if not ignore_flds: ignore_flds=[]\n",
        "    if not skip_flds: skip_flds=[]\n",
        "    if subset: df = get_sample(df,subset)\n",
        "    else: df = df.copy()\n",
        "    ignored_flds = df.loc[:, ignore_flds]\n",
        "    df.drop(ignore_flds, axis=1, inplace=True)\n",
        "    if preproc_fn: preproc_fn(df)\n",
        "    if y_fld is None: y = None\n",
        "    else:\n",
        "        if not is_numeric_dtype(df[y_fld]): df[y_fld] = pd.Categorical(df[y_fld]).codes\n",
        "        y = df[y_fld].values\n",
        "        skip_flds += [y_fld]\n",
        "    df.drop(skip_flds, axis=1, inplace=True)\n",
        "\n",
        "    if na_dict is None: na_dict = {}\n",
        "    else: na_dict = na_dict.copy()\n",
        "    na_dict_initial = na_dict.copy()\n",
        "    for n,c in df.items(): na_dict = fix_missing(df, c, n, na_dict)\n",
        "    if len(na_dict_initial.keys()) > 0:\n",
        "        df.drop([a + '_na' for a in list(set(na_dict.keys()) - set(na_dict_initial.keys()))], axis=1, inplace=True)\n",
        "    if do_scale: mapper = scale_vars(df, mapper)\n",
        "    for n,c in df.items(): numericalize(df, c, n, max_n_cat)\n",
        "    df = pd.get_dummies(df, dummy_na=True)\n",
        "    df = pd.concat([ignored_flds, df], axis=1)\n",
        "    res = [df, y, na_dict]\n",
        "    if do_scale: res = res + [mapper]\n",
        "    return res\n",
        "\n",
        "def numericalize(df, col, name, max_n_cat):\n",
        "    \"\"\" Changes the column col from a categorical type to it's integer codes.\n",
        "    \"\"\"\n",
        "    if not is_numeric_dtype(col) and ( max_n_cat is None or len(col.cat.categories)>max_n_cat):\n",
        "        df[name] = pd.Categorical(col).codes+1\n",
        "\n",
        "def display_large(df):\n",
        "    \"\"\"Displays up to 1000 columns and rows of pandas.DataFrame or pandas.Series objects.\"\"\"\n",
        "    with pd.option_context(\"display.max_rows\", 1000, \"display.max_columns\", 1000):\n",
        "        display(df)\n",
        "\n",
        "def rf_feature_importance(fitted_model, df):\n",
        "    \"Creates a pandas.Dataframe of a Random Forest's feature importance per column.\"\n",
        "    return pd.DataFrame(\n",
        "        {\"Column\": df.columns, \"Importance\": fitted_model.feature_importances_}\n",
        "    ).sort_values(\"Importance\", ascending=False)\n",
        "\n",
        "def plot_feature_importance(feature_importance):\n",
        "    fig, ax = plt.subplots(figsize=(12,8))\n",
        "    return sns.barplot(y=\"Column\", x=\"Importance\", data=feature_importance, color=\"b\")\n"
      ]
    },
    {
      "cell_type": "markdown",
      "metadata": {
        "id": "QVPtgtN8dGs2"
      },
      "source": [
        "## Load the data"
      ]
    },
    {
      "cell_type": "code",
      "execution_count": 3,
      "metadata": {
        "id": "9K6DXiY_dGs4"
      },
      "outputs": [],
      "source": [
        "churn_data = pd.read_csv(\"churn.csv\")"
      ]
    },
    {
      "cell_type": "markdown",
      "metadata": {
        "id": "UVzpWDgadGs4"
      },
      "source": [
        "## Inspect the data"
      ]
    },
    {
      "cell_type": "markdown",
      "metadata": {
        "id": "fTiBaismdGs5"
      },
      "source": [
        "### Preview the data"
      ]
    },
    {
      "cell_type": "markdown",
      "metadata": {
        "id": "zFVoNb1hdGs5"
      },
      "source": [
        "Sometimes you will find that the dataset has too many columns to be displayed with the standard `DataFrame.head()` method and just shows `...` for intermediate columns:"
      ]
    },
    {
      "cell_type": "code",
      "execution_count": 4,
      "metadata": {
        "colab": {
          "base_uri": "https://localhost:8080/",
          "height": 386
        },
        "id": "2wooyu1DdGs6",
        "outputId": "d181d805-f6fe-41bb-96d7-c19f9371d4f4"
      },
      "outputs": [
        {
          "data": {
            "text/html": [
              "\n",
              "  <div id=\"df-8d81ab05-561e-4f79-a408-f98916974cfa\">\n",
              "    <div class=\"colab-df-container\">\n",
              "      <div>\n",
              "<style scoped>\n",
              "    .dataframe tbody tr th:only-of-type {\n",
              "        vertical-align: middle;\n",
              "    }\n",
              "\n",
              "    .dataframe tbody tr th {\n",
              "        vertical-align: top;\n",
              "    }\n",
              "\n",
              "    .dataframe thead th {\n",
              "        text-align: right;\n",
              "    }\n",
              "</style>\n",
              "<table border=\"1\" class=\"dataframe\">\n",
              "  <thead>\n",
              "    <tr style=\"text-align: right;\">\n",
              "      <th></th>\n",
              "      <th>customerID</th>\n",
              "      <th>gender</th>\n",
              "      <th>SeniorCitizen</th>\n",
              "      <th>Partner</th>\n",
              "      <th>Dependents</th>\n",
              "      <th>tenure</th>\n",
              "      <th>PhoneService</th>\n",
              "      <th>MultipleLines</th>\n",
              "      <th>InternetService</th>\n",
              "      <th>OnlineSecurity</th>\n",
              "      <th>...</th>\n",
              "      <th>DeviceProtection</th>\n",
              "      <th>TechSupport</th>\n",
              "      <th>StreamingTV</th>\n",
              "      <th>StreamingMovies</th>\n",
              "      <th>Contract</th>\n",
              "      <th>PaperlessBilling</th>\n",
              "      <th>PaymentMethod</th>\n",
              "      <th>MonthlyCharges</th>\n",
              "      <th>TotalCharges</th>\n",
              "      <th>Churn</th>\n",
              "    </tr>\n",
              "  </thead>\n",
              "  <tbody>\n",
              "    <tr>\n",
              "      <th>0</th>\n",
              "      <td>7590-VHVEG</td>\n",
              "      <td>Female</td>\n",
              "      <td>0</td>\n",
              "      <td>Yes</td>\n",
              "      <td>No</td>\n",
              "      <td>1</td>\n",
              "      <td>No</td>\n",
              "      <td>No phone service</td>\n",
              "      <td>DSL</td>\n",
              "      <td>No</td>\n",
              "      <td>...</td>\n",
              "      <td>No</td>\n",
              "      <td>No</td>\n",
              "      <td>No</td>\n",
              "      <td>No</td>\n",
              "      <td>Month-to-month</td>\n",
              "      <td>Yes</td>\n",
              "      <td>Electronic check</td>\n",
              "      <td>29.85</td>\n",
              "      <td>29.85</td>\n",
              "      <td>No</td>\n",
              "    </tr>\n",
              "    <tr>\n",
              "      <th>1</th>\n",
              "      <td>5575-GNVDE</td>\n",
              "      <td>Male</td>\n",
              "      <td>0</td>\n",
              "      <td>No</td>\n",
              "      <td>No</td>\n",
              "      <td>34</td>\n",
              "      <td>Yes</td>\n",
              "      <td>No</td>\n",
              "      <td>DSL</td>\n",
              "      <td>Yes</td>\n",
              "      <td>...</td>\n",
              "      <td>Yes</td>\n",
              "      <td>No</td>\n",
              "      <td>No</td>\n",
              "      <td>No</td>\n",
              "      <td>One year</td>\n",
              "      <td>No</td>\n",
              "      <td>Mailed check</td>\n",
              "      <td>56.95</td>\n",
              "      <td>1889.5</td>\n",
              "      <td>No</td>\n",
              "    </tr>\n",
              "    <tr>\n",
              "      <th>2</th>\n",
              "      <td>3668-QPYBK</td>\n",
              "      <td>Male</td>\n",
              "      <td>0</td>\n",
              "      <td>No</td>\n",
              "      <td>No</td>\n",
              "      <td>2</td>\n",
              "      <td>Yes</td>\n",
              "      <td>No</td>\n",
              "      <td>DSL</td>\n",
              "      <td>Yes</td>\n",
              "      <td>...</td>\n",
              "      <td>No</td>\n",
              "      <td>No</td>\n",
              "      <td>No</td>\n",
              "      <td>No</td>\n",
              "      <td>Month-to-month</td>\n",
              "      <td>Yes</td>\n",
              "      <td>Mailed check</td>\n",
              "      <td>53.85</td>\n",
              "      <td>108.15</td>\n",
              "      <td>Yes</td>\n",
              "    </tr>\n",
              "    <tr>\n",
              "      <th>3</th>\n",
              "      <td>7795-CFOCW</td>\n",
              "      <td>Male</td>\n",
              "      <td>0</td>\n",
              "      <td>No</td>\n",
              "      <td>No</td>\n",
              "      <td>45</td>\n",
              "      <td>No</td>\n",
              "      <td>No phone service</td>\n",
              "      <td>DSL</td>\n",
              "      <td>Yes</td>\n",
              "      <td>...</td>\n",
              "      <td>Yes</td>\n",
              "      <td>Yes</td>\n",
              "      <td>No</td>\n",
              "      <td>No</td>\n",
              "      <td>One year</td>\n",
              "      <td>No</td>\n",
              "      <td>Bank transfer (automatic)</td>\n",
              "      <td>42.30</td>\n",
              "      <td>1840.75</td>\n",
              "      <td>No</td>\n",
              "    </tr>\n",
              "    <tr>\n",
              "      <th>4</th>\n",
              "      <td>9237-HQITU</td>\n",
              "      <td>Female</td>\n",
              "      <td>0</td>\n",
              "      <td>No</td>\n",
              "      <td>No</td>\n",
              "      <td>2</td>\n",
              "      <td>Yes</td>\n",
              "      <td>No</td>\n",
              "      <td>Fiber optic</td>\n",
              "      <td>No</td>\n",
              "      <td>...</td>\n",
              "      <td>No</td>\n",
              "      <td>No</td>\n",
              "      <td>No</td>\n",
              "      <td>No</td>\n",
              "      <td>Month-to-month</td>\n",
              "      <td>Yes</td>\n",
              "      <td>Electronic check</td>\n",
              "      <td>70.70</td>\n",
              "      <td>151.65</td>\n",
              "      <td>Yes</td>\n",
              "    </tr>\n",
              "  </tbody>\n",
              "</table>\n",
              "<p>5 rows × 21 columns</p>\n",
              "</div>\n",
              "      <button class=\"colab-df-convert\" onclick=\"convertToInteractive('df-8d81ab05-561e-4f79-a408-f98916974cfa')\"\n",
              "              title=\"Convert this dataframe to an interactive table.\"\n",
              "              style=\"display:none;\">\n",
              "        \n",
              "  <svg xmlns=\"http://www.w3.org/2000/svg\" height=\"24px\"viewBox=\"0 0 24 24\"\n",
              "       width=\"24px\">\n",
              "    <path d=\"M0 0h24v24H0V0z\" fill=\"none\"/>\n",
              "    <path d=\"M18.56 5.44l.94 2.06.94-2.06 2.06-.94-2.06-.94-.94-2.06-.94 2.06-2.06.94zm-11 1L8.5 8.5l.94-2.06 2.06-.94-2.06-.94L8.5 2.5l-.94 2.06-2.06.94zm10 10l.94 2.06.94-2.06 2.06-.94-2.06-.94-.94-2.06-.94 2.06-2.06.94z\"/><path d=\"M17.41 7.96l-1.37-1.37c-.4-.4-.92-.59-1.43-.59-.52 0-1.04.2-1.43.59L10.3 9.45l-7.72 7.72c-.78.78-.78 2.05 0 2.83L4 21.41c.39.39.9.59 1.41.59.51 0 1.02-.2 1.41-.59l7.78-7.78 2.81-2.81c.8-.78.8-2.07 0-2.86zM5.41 20L4 18.59l7.72-7.72 1.47 1.35L5.41 20z\"/>\n",
              "  </svg>\n",
              "      </button>\n",
              "      \n",
              "  <style>\n",
              "    .colab-df-container {\n",
              "      display:flex;\n",
              "      flex-wrap:wrap;\n",
              "      gap: 12px;\n",
              "    }\n",
              "\n",
              "    .colab-df-convert {\n",
              "      background-color: #E8F0FE;\n",
              "      border: none;\n",
              "      border-radius: 50%;\n",
              "      cursor: pointer;\n",
              "      display: none;\n",
              "      fill: #1967D2;\n",
              "      height: 32px;\n",
              "      padding: 0 0 0 0;\n",
              "      width: 32px;\n",
              "    }\n",
              "\n",
              "    .colab-df-convert:hover {\n",
              "      background-color: #E2EBFA;\n",
              "      box-shadow: 0px 1px 2px rgba(60, 64, 67, 0.3), 0px 1px 3px 1px rgba(60, 64, 67, 0.15);\n",
              "      fill: #174EA6;\n",
              "    }\n",
              "\n",
              "    [theme=dark] .colab-df-convert {\n",
              "      background-color: #3B4455;\n",
              "      fill: #D2E3FC;\n",
              "    }\n",
              "\n",
              "    [theme=dark] .colab-df-convert:hover {\n",
              "      background-color: #434B5C;\n",
              "      box-shadow: 0px 1px 3px 1px rgba(0, 0, 0, 0.15);\n",
              "      filter: drop-shadow(0px 1px 2px rgba(0, 0, 0, 0.3));\n",
              "      fill: #FFFFFF;\n",
              "    }\n",
              "  </style>\n",
              "\n",
              "      <script>\n",
              "        const buttonEl =\n",
              "          document.querySelector('#df-8d81ab05-561e-4f79-a408-f98916974cfa button.colab-df-convert');\n",
              "        buttonEl.style.display =\n",
              "          google.colab.kernel.accessAllowed ? 'block' : 'none';\n",
              "\n",
              "        async function convertToInteractive(key) {\n",
              "          const element = document.querySelector('#df-8d81ab05-561e-4f79-a408-f98916974cfa');\n",
              "          const dataTable =\n",
              "            await google.colab.kernel.invokeFunction('convertToInteractive',\n",
              "                                                     [key], {});\n",
              "          if (!dataTable) return;\n",
              "\n",
              "          const docLinkHtml = 'Like what you see? Visit the ' +\n",
              "            '<a target=\"_blank\" href=https://colab.research.google.com/notebooks/data_table.ipynb>data table notebook</a>'\n",
              "            + ' to learn more about interactive tables.';\n",
              "          element.innerHTML = '';\n",
              "          dataTable['output_type'] = 'display_data';\n",
              "          await google.colab.output.renderOutput(dataTable, element);\n",
              "          const docLink = document.createElement('div');\n",
              "          docLink.innerHTML = docLinkHtml;\n",
              "          element.appendChild(docLink);\n",
              "        }\n",
              "      </script>\n",
              "    </div>\n",
              "  </div>\n",
              "  "
            ],
            "text/plain": [
              "   customerID  gender  SeniorCitizen Partner Dependents  tenure PhoneService  \\\n",
              "0  7590-VHVEG  Female              0     Yes         No       1           No   \n",
              "1  5575-GNVDE    Male              0      No         No      34          Yes   \n",
              "2  3668-QPYBK    Male              0      No         No       2          Yes   \n",
              "3  7795-CFOCW    Male              0      No         No      45           No   \n",
              "4  9237-HQITU  Female              0      No         No       2          Yes   \n",
              "\n",
              "      MultipleLines InternetService OnlineSecurity  ... DeviceProtection  \\\n",
              "0  No phone service             DSL             No  ...               No   \n",
              "1                No             DSL            Yes  ...              Yes   \n",
              "2                No             DSL            Yes  ...               No   \n",
              "3  No phone service             DSL            Yes  ...              Yes   \n",
              "4                No     Fiber optic             No  ...               No   \n",
              "\n",
              "  TechSupport StreamingTV StreamingMovies        Contract PaperlessBilling  \\\n",
              "0          No          No              No  Month-to-month              Yes   \n",
              "1          No          No              No        One year               No   \n",
              "2          No          No              No  Month-to-month              Yes   \n",
              "3         Yes          No              No        One year               No   \n",
              "4          No          No              No  Month-to-month              Yes   \n",
              "\n",
              "               PaymentMethod MonthlyCharges  TotalCharges Churn  \n",
              "0           Electronic check          29.85         29.85    No  \n",
              "1               Mailed check          56.95        1889.5    No  \n",
              "2               Mailed check          53.85        108.15   Yes  \n",
              "3  Bank transfer (automatic)          42.30       1840.75    No  \n",
              "4           Electronic check          70.70        151.65   Yes  \n",
              "\n",
              "[5 rows x 21 columns]"
            ]
          },
          "execution_count": 4,
          "metadata": {},
          "output_type": "execute_result"
        }
      ],
      "source": [
        "churn_data.head()"
      ]
    },
    {
      "cell_type": "markdown",
      "metadata": {
        "id": "xxg9nrl3dGs8"
      },
      "source": [
        "You can take the transpose to see all the columns more easily:"
      ]
    },
    {
      "cell_type": "code",
      "execution_count": 5,
      "metadata": {
        "colab": {
          "base_uri": "https://localhost:8080/",
          "height": 708
        },
        "id": "rDr1PCA2dGs8",
        "outputId": "a967738e-090f-4203-f706-f7f5b4b58897"
      },
      "outputs": [
        {
          "data": {
            "text/html": [
              "\n",
              "  <div id=\"df-c517b7b6-870b-43f1-9fcb-0f7f7249210b\">\n",
              "    <div class=\"colab-df-container\">\n",
              "      <div>\n",
              "<style scoped>\n",
              "    .dataframe tbody tr th:only-of-type {\n",
              "        vertical-align: middle;\n",
              "    }\n",
              "\n",
              "    .dataframe tbody tr th {\n",
              "        vertical-align: top;\n",
              "    }\n",
              "\n",
              "    .dataframe thead th {\n",
              "        text-align: right;\n",
              "    }\n",
              "</style>\n",
              "<table border=\"1\" class=\"dataframe\">\n",
              "  <thead>\n",
              "    <tr style=\"text-align: right;\">\n",
              "      <th></th>\n",
              "      <th>0</th>\n",
              "      <th>1</th>\n",
              "      <th>2</th>\n",
              "      <th>3</th>\n",
              "      <th>4</th>\n",
              "    </tr>\n",
              "  </thead>\n",
              "  <tbody>\n",
              "    <tr>\n",
              "      <th>customerID</th>\n",
              "      <td>7590-VHVEG</td>\n",
              "      <td>5575-GNVDE</td>\n",
              "      <td>3668-QPYBK</td>\n",
              "      <td>7795-CFOCW</td>\n",
              "      <td>9237-HQITU</td>\n",
              "    </tr>\n",
              "    <tr>\n",
              "      <th>gender</th>\n",
              "      <td>Female</td>\n",
              "      <td>Male</td>\n",
              "      <td>Male</td>\n",
              "      <td>Male</td>\n",
              "      <td>Female</td>\n",
              "    </tr>\n",
              "    <tr>\n",
              "      <th>SeniorCitizen</th>\n",
              "      <td>0</td>\n",
              "      <td>0</td>\n",
              "      <td>0</td>\n",
              "      <td>0</td>\n",
              "      <td>0</td>\n",
              "    </tr>\n",
              "    <tr>\n",
              "      <th>Partner</th>\n",
              "      <td>Yes</td>\n",
              "      <td>No</td>\n",
              "      <td>No</td>\n",
              "      <td>No</td>\n",
              "      <td>No</td>\n",
              "    </tr>\n",
              "    <tr>\n",
              "      <th>Dependents</th>\n",
              "      <td>No</td>\n",
              "      <td>No</td>\n",
              "      <td>No</td>\n",
              "      <td>No</td>\n",
              "      <td>No</td>\n",
              "    </tr>\n",
              "    <tr>\n",
              "      <th>tenure</th>\n",
              "      <td>1</td>\n",
              "      <td>34</td>\n",
              "      <td>2</td>\n",
              "      <td>45</td>\n",
              "      <td>2</td>\n",
              "    </tr>\n",
              "    <tr>\n",
              "      <th>PhoneService</th>\n",
              "      <td>No</td>\n",
              "      <td>Yes</td>\n",
              "      <td>Yes</td>\n",
              "      <td>No</td>\n",
              "      <td>Yes</td>\n",
              "    </tr>\n",
              "    <tr>\n",
              "      <th>MultipleLines</th>\n",
              "      <td>No phone service</td>\n",
              "      <td>No</td>\n",
              "      <td>No</td>\n",
              "      <td>No phone service</td>\n",
              "      <td>No</td>\n",
              "    </tr>\n",
              "    <tr>\n",
              "      <th>InternetService</th>\n",
              "      <td>DSL</td>\n",
              "      <td>DSL</td>\n",
              "      <td>DSL</td>\n",
              "      <td>DSL</td>\n",
              "      <td>Fiber optic</td>\n",
              "    </tr>\n",
              "    <tr>\n",
              "      <th>OnlineSecurity</th>\n",
              "      <td>No</td>\n",
              "      <td>Yes</td>\n",
              "      <td>Yes</td>\n",
              "      <td>Yes</td>\n",
              "      <td>No</td>\n",
              "    </tr>\n",
              "    <tr>\n",
              "      <th>OnlineBackup</th>\n",
              "      <td>Yes</td>\n",
              "      <td>No</td>\n",
              "      <td>Yes</td>\n",
              "      <td>No</td>\n",
              "      <td>No</td>\n",
              "    </tr>\n",
              "    <tr>\n",
              "      <th>DeviceProtection</th>\n",
              "      <td>No</td>\n",
              "      <td>Yes</td>\n",
              "      <td>No</td>\n",
              "      <td>Yes</td>\n",
              "      <td>No</td>\n",
              "    </tr>\n",
              "    <tr>\n",
              "      <th>TechSupport</th>\n",
              "      <td>No</td>\n",
              "      <td>No</td>\n",
              "      <td>No</td>\n",
              "      <td>Yes</td>\n",
              "      <td>No</td>\n",
              "    </tr>\n",
              "    <tr>\n",
              "      <th>StreamingTV</th>\n",
              "      <td>No</td>\n",
              "      <td>No</td>\n",
              "      <td>No</td>\n",
              "      <td>No</td>\n",
              "      <td>No</td>\n",
              "    </tr>\n",
              "    <tr>\n",
              "      <th>StreamingMovies</th>\n",
              "      <td>No</td>\n",
              "      <td>No</td>\n",
              "      <td>No</td>\n",
              "      <td>No</td>\n",
              "      <td>No</td>\n",
              "    </tr>\n",
              "    <tr>\n",
              "      <th>Contract</th>\n",
              "      <td>Month-to-month</td>\n",
              "      <td>One year</td>\n",
              "      <td>Month-to-month</td>\n",
              "      <td>One year</td>\n",
              "      <td>Month-to-month</td>\n",
              "    </tr>\n",
              "    <tr>\n",
              "      <th>PaperlessBilling</th>\n",
              "      <td>Yes</td>\n",
              "      <td>No</td>\n",
              "      <td>Yes</td>\n",
              "      <td>No</td>\n",
              "      <td>Yes</td>\n",
              "    </tr>\n",
              "    <tr>\n",
              "      <th>PaymentMethod</th>\n",
              "      <td>Electronic check</td>\n",
              "      <td>Mailed check</td>\n",
              "      <td>Mailed check</td>\n",
              "      <td>Bank transfer (automatic)</td>\n",
              "      <td>Electronic check</td>\n",
              "    </tr>\n",
              "    <tr>\n",
              "      <th>MonthlyCharges</th>\n",
              "      <td>29.85</td>\n",
              "      <td>56.95</td>\n",
              "      <td>53.85</td>\n",
              "      <td>42.3</td>\n",
              "      <td>70.7</td>\n",
              "    </tr>\n",
              "    <tr>\n",
              "      <th>TotalCharges</th>\n",
              "      <td>29.85</td>\n",
              "      <td>1889.5</td>\n",
              "      <td>108.15</td>\n",
              "      <td>1840.75</td>\n",
              "      <td>151.65</td>\n",
              "    </tr>\n",
              "    <tr>\n",
              "      <th>Churn</th>\n",
              "      <td>No</td>\n",
              "      <td>No</td>\n",
              "      <td>Yes</td>\n",
              "      <td>No</td>\n",
              "      <td>Yes</td>\n",
              "    </tr>\n",
              "  </tbody>\n",
              "</table>\n",
              "</div>\n",
              "      <button class=\"colab-df-convert\" onclick=\"convertToInteractive('df-c517b7b6-870b-43f1-9fcb-0f7f7249210b')\"\n",
              "              title=\"Convert this dataframe to an interactive table.\"\n",
              "              style=\"display:none;\">\n",
              "        \n",
              "  <svg xmlns=\"http://www.w3.org/2000/svg\" height=\"24px\"viewBox=\"0 0 24 24\"\n",
              "       width=\"24px\">\n",
              "    <path d=\"M0 0h24v24H0V0z\" fill=\"none\"/>\n",
              "    <path d=\"M18.56 5.44l.94 2.06.94-2.06 2.06-.94-2.06-.94-.94-2.06-.94 2.06-2.06.94zm-11 1L8.5 8.5l.94-2.06 2.06-.94-2.06-.94L8.5 2.5l-.94 2.06-2.06.94zm10 10l.94 2.06.94-2.06 2.06-.94-2.06-.94-.94-2.06-.94 2.06-2.06.94z\"/><path d=\"M17.41 7.96l-1.37-1.37c-.4-.4-.92-.59-1.43-.59-.52 0-1.04.2-1.43.59L10.3 9.45l-7.72 7.72c-.78.78-.78 2.05 0 2.83L4 21.41c.39.39.9.59 1.41.59.51 0 1.02-.2 1.41-.59l7.78-7.78 2.81-2.81c.8-.78.8-2.07 0-2.86zM5.41 20L4 18.59l7.72-7.72 1.47 1.35L5.41 20z\"/>\n",
              "  </svg>\n",
              "      </button>\n",
              "      \n",
              "  <style>\n",
              "    .colab-df-container {\n",
              "      display:flex;\n",
              "      flex-wrap:wrap;\n",
              "      gap: 12px;\n",
              "    }\n",
              "\n",
              "    .colab-df-convert {\n",
              "      background-color: #E8F0FE;\n",
              "      border: none;\n",
              "      border-radius: 50%;\n",
              "      cursor: pointer;\n",
              "      display: none;\n",
              "      fill: #1967D2;\n",
              "      height: 32px;\n",
              "      padding: 0 0 0 0;\n",
              "      width: 32px;\n",
              "    }\n",
              "\n",
              "    .colab-df-convert:hover {\n",
              "      background-color: #E2EBFA;\n",
              "      box-shadow: 0px 1px 2px rgba(60, 64, 67, 0.3), 0px 1px 3px 1px rgba(60, 64, 67, 0.15);\n",
              "      fill: #174EA6;\n",
              "    }\n",
              "\n",
              "    [theme=dark] .colab-df-convert {\n",
              "      background-color: #3B4455;\n",
              "      fill: #D2E3FC;\n",
              "    }\n",
              "\n",
              "    [theme=dark] .colab-df-convert:hover {\n",
              "      background-color: #434B5C;\n",
              "      box-shadow: 0px 1px 3px 1px rgba(0, 0, 0, 0.15);\n",
              "      filter: drop-shadow(0px 1px 2px rgba(0, 0, 0, 0.3));\n",
              "      fill: #FFFFFF;\n",
              "    }\n",
              "  </style>\n",
              "\n",
              "      <script>\n",
              "        const buttonEl =\n",
              "          document.querySelector('#df-c517b7b6-870b-43f1-9fcb-0f7f7249210b button.colab-df-convert');\n",
              "        buttonEl.style.display =\n",
              "          google.colab.kernel.accessAllowed ? 'block' : 'none';\n",
              "\n",
              "        async function convertToInteractive(key) {\n",
              "          const element = document.querySelector('#df-c517b7b6-870b-43f1-9fcb-0f7f7249210b');\n",
              "          const dataTable =\n",
              "            await google.colab.kernel.invokeFunction('convertToInteractive',\n",
              "                                                     [key], {});\n",
              "          if (!dataTable) return;\n",
              "\n",
              "          const docLinkHtml = 'Like what you see? Visit the ' +\n",
              "            '<a target=\"_blank\" href=https://colab.research.google.com/notebooks/data_table.ipynb>data table notebook</a>'\n",
              "            + ' to learn more about interactive tables.';\n",
              "          element.innerHTML = '';\n",
              "          dataTable['output_type'] = 'display_data';\n",
              "          await google.colab.output.renderOutput(dataTable, element);\n",
              "          const docLink = document.createElement('div');\n",
              "          docLink.innerHTML = docLinkHtml;\n",
              "          element.appendChild(docLink);\n",
              "        }\n",
              "      </script>\n",
              "    </div>\n",
              "  </div>\n",
              "  "
            ],
            "text/plain": [
              "                                 0             1               2  \\\n",
              "customerID              7590-VHVEG    5575-GNVDE      3668-QPYBK   \n",
              "gender                      Female          Male            Male   \n",
              "SeniorCitizen                    0             0               0   \n",
              "Partner                        Yes            No              No   \n",
              "Dependents                      No            No              No   \n",
              "tenure                           1            34               2   \n",
              "PhoneService                    No           Yes             Yes   \n",
              "MultipleLines     No phone service            No              No   \n",
              "InternetService                DSL           DSL             DSL   \n",
              "OnlineSecurity                  No           Yes             Yes   \n",
              "OnlineBackup                   Yes            No             Yes   \n",
              "DeviceProtection                No           Yes              No   \n",
              "TechSupport                     No            No              No   \n",
              "StreamingTV                     No            No              No   \n",
              "StreamingMovies                 No            No              No   \n",
              "Contract            Month-to-month      One year  Month-to-month   \n",
              "PaperlessBilling               Yes            No             Yes   \n",
              "PaymentMethod     Electronic check  Mailed check    Mailed check   \n",
              "MonthlyCharges               29.85         56.95           53.85   \n",
              "TotalCharges                 29.85        1889.5          108.15   \n",
              "Churn                           No            No             Yes   \n",
              "\n",
              "                                          3                 4  \n",
              "customerID                       7795-CFOCW        9237-HQITU  \n",
              "gender                                 Male            Female  \n",
              "SeniorCitizen                             0                 0  \n",
              "Partner                                  No                No  \n",
              "Dependents                               No                No  \n",
              "tenure                                   45                 2  \n",
              "PhoneService                             No               Yes  \n",
              "MultipleLines              No phone service                No  \n",
              "InternetService                         DSL       Fiber optic  \n",
              "OnlineSecurity                          Yes                No  \n",
              "OnlineBackup                             No                No  \n",
              "DeviceProtection                        Yes                No  \n",
              "TechSupport                             Yes                No  \n",
              "StreamingTV                              No                No  \n",
              "StreamingMovies                          No                No  \n",
              "Contract                           One year    Month-to-month  \n",
              "PaperlessBilling                         No               Yes  \n",
              "PaymentMethod     Bank transfer (automatic)  Electronic check  \n",
              "MonthlyCharges                         42.3              70.7  \n",
              "TotalCharges                        1840.75            151.65  \n",
              "Churn                                    No               Yes  "
            ]
          },
          "execution_count": 5,
          "metadata": {},
          "output_type": "execute_result"
        }
      ],
      "source": [
        "churn_data.head().T"
      ]
    },
    {
      "cell_type": "markdown",
      "metadata": {
        "id": "CXhJMEqbdGs9"
      },
      "source": [
        "### The shape of data"
      ]
    },
    {
      "cell_type": "code",
      "execution_count": 6,
      "metadata": {
        "colab": {
          "base_uri": "https://localhost:8080/"
        },
        "id": "wF_8PaArdGs9",
        "outputId": "65a6b3eb-455a-407b-8b04-6997aa775460"
      },
      "outputs": [
        {
          "data": {
            "text/plain": [
              "7043"
            ]
          },
          "execution_count": 6,
          "metadata": {},
          "output_type": "execute_result"
        }
      ],
      "source": [
        "# get number of rows\n",
        "len(churn_data)"
      ]
    },
    {
      "cell_type": "code",
      "execution_count": 7,
      "metadata": {
        "colab": {
          "base_uri": "https://localhost:8080/"
        },
        "id": "Q2b0-DiAdGs-",
        "outputId": "eca44759-29fc-41f4-b323-4ecdc9d7d677"
      },
      "outputs": [
        {
          "data": {
            "text/plain": [
              "(7043, 21)"
            ]
          },
          "execution_count": 7,
          "metadata": {},
          "output_type": "execute_result"
        }
      ],
      "source": [
        "# get the numbers of rows and columns\n",
        "churn_data.shape"
      ]
    },
    {
      "cell_type": "markdown",
      "metadata": {
        "id": "xvSHa_-ndGs_"
      },
      "source": [
        "In this case, we see that we have 7043 customers and 21 variables or attributes that describe their telecom subscription. Let's have a look at the columns:"
      ]
    },
    {
      "cell_type": "code",
      "execution_count": 8,
      "metadata": {
        "colab": {
          "base_uri": "https://localhost:8080/"
        },
        "id": "O5N1amMmdGs_",
        "outputId": "e4d94c60-dedd-41d8-bd7b-8cef578b75c9"
      },
      "outputs": [
        {
          "data": {
            "text/plain": [
              "Index(['customerID', 'gender', 'SeniorCitizen', 'Partner', 'Dependents',\n",
              "       'tenure', 'PhoneService', 'MultipleLines', 'InternetService',\n",
              "       'OnlineSecurity', 'OnlineBackup', 'DeviceProtection', 'TechSupport',\n",
              "       'StreamingTV', 'StreamingMovies', 'Contract', 'PaperlessBilling',\n",
              "       'PaymentMethod', 'MonthlyCharges', 'TotalCharges', 'Churn'],\n",
              "      dtype='object')"
            ]
          },
          "execution_count": 8,
          "metadata": {},
          "output_type": "execute_result"
        }
      ],
      "source": [
        "churn_data.columns"
      ]
    },
    {
      "cell_type": "markdown",
      "metadata": {
        "id": "4lAo99K_dGs_"
      },
      "source": [
        "> Note: As explained in the summary, the _**target attribute**_ is `Churn` and thus we have a _**classification problem**_ (rather than regression) because the target is a _**category**_ (Yes or No) rather than a coninuous number."
      ]
    },
    {
      "cell_type": "markdown",
      "metadata": {
        "id": "-4TSKx8wdGtA"
      },
      "source": [
        "### Unique values"
      ]
    },
    {
      "cell_type": "markdown",
      "metadata": {
        "id": "Tc1bqGtjdGtA"
      },
      "source": [
        "Whenever we see an ID column like `Id`, it is useful to perform a sanity check that each value is unique. Otherwise it may be possible that you have duplicates in your data that can bias your models and hence conclusions. "
      ]
    },
    {
      "cell_type": "code",
      "execution_count": 9,
      "metadata": {
        "colab": {
          "base_uri": "https://localhost:8080/"
        },
        "id": "mGpqpk0VdGtB",
        "outputId": "5941d3ea-1e09-4dfe-becb-2fb4906769d0"
      },
      "outputs": [
        {
          "data": {
            "text/plain": [
              "7043"
            ]
          },
          "execution_count": 9,
          "metadata": {},
          "output_type": "execute_result"
        }
      ],
      "source": [
        "churn_data[\"customerID\"].nunique()"
      ]
    },
    {
      "cell_type": "markdown",
      "metadata": {
        "id": "bOzr8eY6dGtB"
      },
      "source": [
        "Good! The number of unique IDs matches the number of rows in our DataFrame."
      ]
    },
    {
      "cell_type": "markdown",
      "metadata": {
        "id": "WSg7P83-dGtC"
      },
      "source": [
        "### Data types"
      ]
    },
    {
      "cell_type": "code",
      "execution_count": 10,
      "metadata": {
        "colab": {
          "base_uri": "https://localhost:8080/"
        },
        "id": "Mt6OOWyrdGtC",
        "outputId": "961fc040-8ee8-402e-c52a-5419d3054e41"
      },
      "outputs": [
        {
          "data": {
            "text/plain": [
              "customerID           object\n",
              "gender               object\n",
              "SeniorCitizen         int64\n",
              "Partner              object\n",
              "Dependents           object\n",
              "tenure                int64\n",
              "PhoneService         object\n",
              "MultipleLines        object\n",
              "InternetService      object\n",
              "OnlineSecurity       object\n",
              "OnlineBackup         object\n",
              "DeviceProtection     object\n",
              "TechSupport          object\n",
              "StreamingTV          object\n",
              "StreamingMovies      object\n",
              "Contract             object\n",
              "PaperlessBilling     object\n",
              "PaymentMethod        object\n",
              "MonthlyCharges      float64\n",
              "TotalCharges         object\n",
              "Churn                object\n",
              "dtype: object"
            ]
          },
          "execution_count": 10,
          "metadata": {},
          "output_type": "execute_result"
        }
      ],
      "source": [
        "churn_data.dtypes"
      ]
    },
    {
      "cell_type": "markdown",
      "metadata": {
        "id": "rhrabKlxdGtD"
      },
      "source": [
        "Hmm, `TotalCharges` is of type **object** (i.e. string) even though it is clearly a float. Since null values or NaNs don't produce this behaviour, there are presumably empty strings lurking in this column. Let's test this hypothesis using `DataFrame.value_counts()`:"
      ]
    },
    {
      "cell_type": "code",
      "execution_count": 11,
      "metadata": {
        "colab": {
          "base_uri": "https://localhost:8080/"
        },
        "id": "5G6imYRGdGtD",
        "outputId": "42bf2aa8-7985-41ff-c30c-3be9f5dd6b18"
      },
      "outputs": [
        {
          "data": {
            "text/plain": [
              "          11\n",
              "20.2      11\n",
              "19.75      9\n",
              "20.05      8\n",
              "19.9       8\n",
              "          ..\n",
              "6849.4     1\n",
              "692.35     1\n",
              "130.15     1\n",
              "3211.9     1\n",
              "6844.5     1\n",
              "Name: TotalCharges, Length: 6531, dtype: int64"
            ]
          },
          "execution_count": 11,
          "metadata": {},
          "output_type": "execute_result"
        }
      ],
      "source": [
        "churn_data[\"TotalCharges\"].value_counts()"
      ]
    },
    {
      "cell_type": "markdown",
      "metadata": {
        "id": "gSP0KSj4dGtD"
      },
      "source": [
        "We will deal with this empty strings in the preprocessing steps below."
      ]
    },
    {
      "cell_type": "markdown",
      "metadata": {
        "id": "tJyoLeeadGtE"
      },
      "source": [
        "## Data preprocessing"
      ]
    },
    {
      "cell_type": "markdown",
      "metadata": {
        "id": "QE7Kqp65dGtE"
      },
      "source": [
        "Recall in our housing analysis, we needed to perform the following main steps to bring our DataFrame to a form suitable for training a Random Forest on:\n",
        "\n",
        "* Convert strings to categorical data type\n",
        "* Fill missing values\n",
        "* Numericalise the DataFrame and create a features matrix $X$ and target vector $y$\n",
        "* Create train and validation sets\n",
        "\n",
        "Let's perform each of those steps below."
      ]
    },
    {
      "cell_type": "markdown",
      "metadata": {
        "id": "JzmrlqPOdGtE"
      },
      "source": [
        "### Convert strings to categories"
      ]
    },
    {
      "cell_type": "markdown",
      "metadata": {
        "id": "fgVpIlTKdGtE"
      },
      "source": [
        "First we convert all the string columns to pandas' categorical data type:"
      ]
    },
    {
      "cell_type": "code",
      "execution_count": 12,
      "metadata": {
        "id": "9p-f_s_x75WX"
      },
      "outputs": [],
      "source": [
        " for col in churn_data.columns:\n",
        "   if col not in [\"SeniorCitizen\", \"tenure\", \"MonthlyCharges\"]:\n",
        "            churn_data[col] = churn_data[col].astype(\"category\")"
      ]
    },
    {
      "cell_type": "code",
      "execution_count": 13,
      "metadata": {
        "colab": {
          "base_uri": "https://localhost:8080/"
        },
        "id": "2MMwzjB1dGtF",
        "outputId": "c8fb971d-4c1d-4889-a2b6-390ed97d49f9"
      },
      "outputs": [
        {
          "data": {
            "text/plain": [
              "customerID          category\n",
              "gender              category\n",
              "SeniorCitizen          int64\n",
              "Partner             category\n",
              "Dependents          category\n",
              "tenure                 int64\n",
              "PhoneService        category\n",
              "MultipleLines       category\n",
              "InternetService     category\n",
              "OnlineSecurity      category\n",
              "OnlineBackup        category\n",
              "DeviceProtection    category\n",
              "TechSupport         category\n",
              "StreamingTV         category\n",
              "StreamingMovies     category\n",
              "Contract            category\n",
              "PaperlessBilling    category\n",
              "PaymentMethod       category\n",
              "MonthlyCharges       float64\n",
              "TotalCharges        category\n",
              "Churn               category\n",
              "dtype: object"
            ]
          },
          "execution_count": 13,
          "metadata": {},
          "output_type": "execute_result"
        }
      ],
      "source": [
        "churn_data.dtypes"
      ]
    },
    {
      "cell_type": "markdown",
      "metadata": {
        "id": "dKKeCIQkdGtF"
      },
      "source": [
        "This is almost correct - a closer look at `SeniorCitizen` reveals that it refers to a binary feature and thus should also be categorical:"
      ]
    },
    {
      "cell_type": "code",
      "execution_count": 14,
      "metadata": {
        "colab": {
          "base_uri": "https://localhost:8080/"
        },
        "id": "osoSdwJwdGtF",
        "outputId": "a71328f5-4028-4fc8-da5e-df3e0eea300c"
      },
      "outputs": [
        {
          "data": {
            "text/plain": [
              "array([0, 1])"
            ]
          },
          "execution_count": 14,
          "metadata": {},
          "output_type": "execute_result"
        }
      ],
      "source": [
        "churn_data[\"SeniorCitizen\"].unique()"
      ]
    },
    {
      "cell_type": "markdown",
      "metadata": {
        "id": "YhG_vEPgdGtG"
      },
      "source": [
        "We can fix this easily by simply changing the data type:"
      ]
    },
    {
      "cell_type": "code",
      "execution_count": 15,
      "metadata": {
        "id": "BmOv8c-fdGtH"
      },
      "outputs": [],
      "source": [
        "churn_data[\"SeniorCitizen\"] = churn_data[\"SeniorCitizen\"].astype(\"category\")"
      ]
    },
    {
      "cell_type": "code",
      "execution_count": 16,
      "metadata": {
        "colab": {
          "base_uri": "https://localhost:8080/"
        },
        "id": "XjSL2QQvdGtH",
        "outputId": "1bdac89f-a632-471c-eec3-eaeababb5003"
      },
      "outputs": [
        {
          "data": {
            "text/plain": [
              "customerID          category\n",
              "gender              category\n",
              "SeniorCitizen       category\n",
              "Partner             category\n",
              "Dependents          category\n",
              "tenure                 int64\n",
              "PhoneService        category\n",
              "MultipleLines       category\n",
              "InternetService     category\n",
              "OnlineSecurity      category\n",
              "OnlineBackup        category\n",
              "DeviceProtection    category\n",
              "TechSupport         category\n",
              "StreamingTV         category\n",
              "StreamingMovies     category\n",
              "Contract            category\n",
              "PaperlessBilling    category\n",
              "PaymentMethod       category\n",
              "MonthlyCharges       float64\n",
              "TotalCharges        category\n",
              "Churn               category\n",
              "dtype: object"
            ]
          },
          "execution_count": 16,
          "metadata": {},
          "output_type": "execute_result"
        }
      ],
      "source": [
        "# sanity check on the transformation\n",
        "churn_data.dtypes"
      ]
    },
    {
      "cell_type": "markdown",
      "metadata": {
        "id": "P3PTcSrndGtH"
      },
      "source": [
        "### Fill missing values"
      ]
    },
    {
      "cell_type": "markdown",
      "metadata": {
        "id": "QvUvikZedGtH"
      },
      "source": [
        "A quick way to test for missing values is to apply the `isna` method from pandas and calculate the sum of missing values in our DataFrame:"
      ]
    },
    {
      "cell_type": "code",
      "execution_count": 17,
      "metadata": {
        "colab": {
          "base_uri": "https://localhost:8080/"
        },
        "id": "xl9Gjh8gdGtI",
        "outputId": "6af5a92a-121b-4bbc-f189-998e364f55a4"
      },
      "outputs": [
        {
          "data": {
            "text/plain": [
              "customerID          0.0\n",
              "DeviceProtection    0.0\n",
              "TotalCharges        0.0\n",
              "MonthlyCharges      0.0\n",
              "PaymentMethod       0.0\n",
              "PaperlessBilling    0.0\n",
              "Contract            0.0\n",
              "StreamingMovies     0.0\n",
              "StreamingTV         0.0\n",
              "TechSupport         0.0\n",
              "OnlineBackup        0.0\n",
              "gender              0.0\n",
              "OnlineSecurity      0.0\n",
              "InternetService     0.0\n",
              "MultipleLines       0.0\n",
              "PhoneService        0.0\n",
              "tenure              0.0\n",
              "Dependents          0.0\n",
              "Partner             0.0\n",
              "SeniorCitizen       0.0\n",
              "Churn               0.0\n",
              "dtype: float64"
            ]
          },
          "execution_count": 17,
          "metadata": {},
          "output_type": "execute_result"
        }
      ],
      "source": [
        "(churn_data.isna().sum() / len(churn_data)).sort_values(ascending=False)"
      ]
    },
    {
      "cell_type": "markdown",
      "metadata": {
        "id": "uDSONg0HdGtI"
      },
      "source": [
        "In this case, it looks like we're lucky and have a pre-cleaned dataset!"
      ]
    },
    {
      "cell_type": "markdown",
      "metadata": {
        "id": "EifPzdCvdGtJ"
      },
      "source": [
        "## Create feature matrix and target vector"
      ]
    },
    {
      "cell_type": "markdown",
      "metadata": {
        "id": "8qg_jLj9dGtJ"
      },
      "source": [
        "Now that we have done some basic preprocessing, the final step is to numericalise the `pandas.DataFrame` and create the feature matrix $X$ and target vector $y$. In previous lessons we created some functions to automate these steps. Below we use fast.ai's utility function `proc_df` to wrap all these steps into a single step:"
      ]
    },
    {
      "cell_type": "code",
      "execution_count": 18,
      "metadata": {
        "id": "hKHqV0m4dGtJ"
      },
      "outputs": [],
      "source": [
        "X, y, nas = proc_df(churn_data, \"Churn\")"
      ]
    },
    {
      "cell_type": "code",
      "execution_count": 19,
      "metadata": {
        "colab": {
          "base_uri": "https://localhost:8080/",
          "height": 270
        },
        "id": "-9Vmr5PXdGtK",
        "outputId": "dbf989f5-48b0-4169-f86a-9fcdca0e9460"
      },
      "outputs": [
        {
          "data": {
            "text/html": [
              "\n",
              "  <div id=\"df-ee910322-6b17-47c1-9c30-4bc8c0d7bbc0\">\n",
              "    <div class=\"colab-df-container\">\n",
              "      <div>\n",
              "<style scoped>\n",
              "    .dataframe tbody tr th:only-of-type {\n",
              "        vertical-align: middle;\n",
              "    }\n",
              "\n",
              "    .dataframe tbody tr th {\n",
              "        vertical-align: top;\n",
              "    }\n",
              "\n",
              "    .dataframe thead th {\n",
              "        text-align: right;\n",
              "    }\n",
              "</style>\n",
              "<table border=\"1\" class=\"dataframe\">\n",
              "  <thead>\n",
              "    <tr style=\"text-align: right;\">\n",
              "      <th></th>\n",
              "      <th>customerID</th>\n",
              "      <th>gender</th>\n",
              "      <th>SeniorCitizen</th>\n",
              "      <th>Partner</th>\n",
              "      <th>Dependents</th>\n",
              "      <th>tenure</th>\n",
              "      <th>PhoneService</th>\n",
              "      <th>MultipleLines</th>\n",
              "      <th>InternetService</th>\n",
              "      <th>OnlineSecurity</th>\n",
              "      <th>OnlineBackup</th>\n",
              "      <th>DeviceProtection</th>\n",
              "      <th>TechSupport</th>\n",
              "      <th>StreamingTV</th>\n",
              "      <th>StreamingMovies</th>\n",
              "      <th>Contract</th>\n",
              "      <th>PaperlessBilling</th>\n",
              "      <th>PaymentMethod</th>\n",
              "      <th>MonthlyCharges</th>\n",
              "      <th>TotalCharges</th>\n",
              "    </tr>\n",
              "  </thead>\n",
              "  <tbody>\n",
              "    <tr>\n",
              "      <th>0</th>\n",
              "      <td>5376</td>\n",
              "      <td>1</td>\n",
              "      <td>1</td>\n",
              "      <td>2</td>\n",
              "      <td>1</td>\n",
              "      <td>1</td>\n",
              "      <td>1</td>\n",
              "      <td>2</td>\n",
              "      <td>1</td>\n",
              "      <td>1</td>\n",
              "      <td>3</td>\n",
              "      <td>1</td>\n",
              "      <td>1</td>\n",
              "      <td>1</td>\n",
              "      <td>1</td>\n",
              "      <td>1</td>\n",
              "      <td>2</td>\n",
              "      <td>3</td>\n",
              "      <td>29.85</td>\n",
              "      <td>2506</td>\n",
              "    </tr>\n",
              "    <tr>\n",
              "      <th>1</th>\n",
              "      <td>3963</td>\n",
              "      <td>2</td>\n",
              "      <td>1</td>\n",
              "      <td>1</td>\n",
              "      <td>1</td>\n",
              "      <td>34</td>\n",
              "      <td>2</td>\n",
              "      <td>1</td>\n",
              "      <td>1</td>\n",
              "      <td>3</td>\n",
              "      <td>1</td>\n",
              "      <td>3</td>\n",
              "      <td>1</td>\n",
              "      <td>1</td>\n",
              "      <td>1</td>\n",
              "      <td>2</td>\n",
              "      <td>1</td>\n",
              "      <td>4</td>\n",
              "      <td>56.95</td>\n",
              "      <td>1467</td>\n",
              "    </tr>\n",
              "    <tr>\n",
              "      <th>2</th>\n",
              "      <td>2565</td>\n",
              "      <td>2</td>\n",
              "      <td>1</td>\n",
              "      <td>1</td>\n",
              "      <td>1</td>\n",
              "      <td>2</td>\n",
              "      <td>2</td>\n",
              "      <td>1</td>\n",
              "      <td>1</td>\n",
              "      <td>3</td>\n",
              "      <td>3</td>\n",
              "      <td>1</td>\n",
              "      <td>1</td>\n",
              "      <td>1</td>\n",
              "      <td>1</td>\n",
              "      <td>1</td>\n",
              "      <td>2</td>\n",
              "      <td>4</td>\n",
              "      <td>53.85</td>\n",
              "      <td>158</td>\n",
              "    </tr>\n",
              "    <tr>\n",
              "      <th>3</th>\n",
              "      <td>5536</td>\n",
              "      <td>2</td>\n",
              "      <td>1</td>\n",
              "      <td>1</td>\n",
              "      <td>1</td>\n",
              "      <td>45</td>\n",
              "      <td>1</td>\n",
              "      <td>2</td>\n",
              "      <td>1</td>\n",
              "      <td>3</td>\n",
              "      <td>1</td>\n",
              "      <td>3</td>\n",
              "      <td>3</td>\n",
              "      <td>1</td>\n",
              "      <td>1</td>\n",
              "      <td>2</td>\n",
              "      <td>1</td>\n",
              "      <td>1</td>\n",
              "      <td>42.30</td>\n",
              "      <td>1401</td>\n",
              "    </tr>\n",
              "    <tr>\n",
              "      <th>4</th>\n",
              "      <td>6512</td>\n",
              "      <td>1</td>\n",
              "      <td>1</td>\n",
              "      <td>1</td>\n",
              "      <td>1</td>\n",
              "      <td>2</td>\n",
              "      <td>2</td>\n",
              "      <td>1</td>\n",
              "      <td>2</td>\n",
              "      <td>1</td>\n",
              "      <td>1</td>\n",
              "      <td>1</td>\n",
              "      <td>1</td>\n",
              "      <td>1</td>\n",
              "      <td>1</td>\n",
              "      <td>1</td>\n",
              "      <td>2</td>\n",
              "      <td>3</td>\n",
              "      <td>70.70</td>\n",
              "      <td>926</td>\n",
              "    </tr>\n",
              "  </tbody>\n",
              "</table>\n",
              "</div>\n",
              "      <button class=\"colab-df-convert\" onclick=\"convertToInteractive('df-ee910322-6b17-47c1-9c30-4bc8c0d7bbc0')\"\n",
              "              title=\"Convert this dataframe to an interactive table.\"\n",
              "              style=\"display:none;\">\n",
              "        \n",
              "  <svg xmlns=\"http://www.w3.org/2000/svg\" height=\"24px\"viewBox=\"0 0 24 24\"\n",
              "       width=\"24px\">\n",
              "    <path d=\"M0 0h24v24H0V0z\" fill=\"none\"/>\n",
              "    <path d=\"M18.56 5.44l.94 2.06.94-2.06 2.06-.94-2.06-.94-.94-2.06-.94 2.06-2.06.94zm-11 1L8.5 8.5l.94-2.06 2.06-.94-2.06-.94L8.5 2.5l-.94 2.06-2.06.94zm10 10l.94 2.06.94-2.06 2.06-.94-2.06-.94-.94-2.06-.94 2.06-2.06.94z\"/><path d=\"M17.41 7.96l-1.37-1.37c-.4-.4-.92-.59-1.43-.59-.52 0-1.04.2-1.43.59L10.3 9.45l-7.72 7.72c-.78.78-.78 2.05 0 2.83L4 21.41c.39.39.9.59 1.41.59.51 0 1.02-.2 1.41-.59l7.78-7.78 2.81-2.81c.8-.78.8-2.07 0-2.86zM5.41 20L4 18.59l7.72-7.72 1.47 1.35L5.41 20z\"/>\n",
              "  </svg>\n",
              "      </button>\n",
              "      \n",
              "  <style>\n",
              "    .colab-df-container {\n",
              "      display:flex;\n",
              "      flex-wrap:wrap;\n",
              "      gap: 12px;\n",
              "    }\n",
              "\n",
              "    .colab-df-convert {\n",
              "      background-color: #E8F0FE;\n",
              "      border: none;\n",
              "      border-radius: 50%;\n",
              "      cursor: pointer;\n",
              "      display: none;\n",
              "      fill: #1967D2;\n",
              "      height: 32px;\n",
              "      padding: 0 0 0 0;\n",
              "      width: 32px;\n",
              "    }\n",
              "\n",
              "    .colab-df-convert:hover {\n",
              "      background-color: #E2EBFA;\n",
              "      box-shadow: 0px 1px 2px rgba(60, 64, 67, 0.3), 0px 1px 3px 1px rgba(60, 64, 67, 0.15);\n",
              "      fill: #174EA6;\n",
              "    }\n",
              "\n",
              "    [theme=dark] .colab-df-convert {\n",
              "      background-color: #3B4455;\n",
              "      fill: #D2E3FC;\n",
              "    }\n",
              "\n",
              "    [theme=dark] .colab-df-convert:hover {\n",
              "      background-color: #434B5C;\n",
              "      box-shadow: 0px 1px 3px 1px rgba(0, 0, 0, 0.15);\n",
              "      filter: drop-shadow(0px 1px 2px rgba(0, 0, 0, 0.3));\n",
              "      fill: #FFFFFF;\n",
              "    }\n",
              "  </style>\n",
              "\n",
              "      <script>\n",
              "        const buttonEl =\n",
              "          document.querySelector('#df-ee910322-6b17-47c1-9c30-4bc8c0d7bbc0 button.colab-df-convert');\n",
              "        buttonEl.style.display =\n",
              "          google.colab.kernel.accessAllowed ? 'block' : 'none';\n",
              "\n",
              "        async function convertToInteractive(key) {\n",
              "          const element = document.querySelector('#df-ee910322-6b17-47c1-9c30-4bc8c0d7bbc0');\n",
              "          const dataTable =\n",
              "            await google.colab.kernel.invokeFunction('convertToInteractive',\n",
              "                                                     [key], {});\n",
              "          if (!dataTable) return;\n",
              "\n",
              "          const docLinkHtml = 'Like what you see? Visit the ' +\n",
              "            '<a target=\"_blank\" href=https://colab.research.google.com/notebooks/data_table.ipynb>data table notebook</a>'\n",
              "            + ' to learn more about interactive tables.';\n",
              "          element.innerHTML = '';\n",
              "          dataTable['output_type'] = 'display_data';\n",
              "          await google.colab.output.renderOutput(dataTable, element);\n",
              "          const docLink = document.createElement('div');\n",
              "          docLink.innerHTML = docLinkHtml;\n",
              "          element.appendChild(docLink);\n",
              "        }\n",
              "      </script>\n",
              "    </div>\n",
              "  </div>\n",
              "  "
            ],
            "text/plain": [
              "   customerID  gender  SeniorCitizen  Partner  Dependents  tenure  \\\n",
              "0        5376       1              1        2           1       1   \n",
              "1        3963       2              1        1           1      34   \n",
              "2        2565       2              1        1           1       2   \n",
              "3        5536       2              1        1           1      45   \n",
              "4        6512       1              1        1           1       2   \n",
              "\n",
              "   PhoneService  MultipleLines  InternetService  OnlineSecurity  OnlineBackup  \\\n",
              "0             1              2                1               1             3   \n",
              "1             2              1                1               3             1   \n",
              "2             2              1                1               3             3   \n",
              "3             1              2                1               3             1   \n",
              "4             2              1                2               1             1   \n",
              "\n",
              "   DeviceProtection  TechSupport  StreamingTV  StreamingMovies  Contract  \\\n",
              "0                 1            1            1                1         1   \n",
              "1                 3            1            1                1         2   \n",
              "2                 1            1            1                1         1   \n",
              "3                 3            3            1                1         2   \n",
              "4                 1            1            1                1         1   \n",
              "\n",
              "   PaperlessBilling  PaymentMethod  MonthlyCharges  TotalCharges  \n",
              "0                 2              3           29.85          2506  \n",
              "1                 1              4           56.95          1467  \n",
              "2                 2              4           53.85           158  \n",
              "3                 1              1           42.30          1401  \n",
              "4                 2              3           70.70           926  "
            ]
          },
          "metadata": {},
          "output_type": "display_data"
        }
      ],
      "source": [
        "display_large(X.head())"
      ]
    },
    {
      "cell_type": "code",
      "execution_count": 20,
      "metadata": {
        "colab": {
          "base_uri": "https://localhost:8080/"
        },
        "id": "2_tSIlENdGtK",
        "outputId": "f4a0b90f-0033-49bf-cdac-236921705be4"
      },
      "outputs": [
        {
          "data": {
            "text/plain": [
              "((7043, 20), (7043,))"
            ]
          },
          "execution_count": 20,
          "metadata": {},
          "output_type": "execute_result"
        }
      ],
      "source": [
        "X.shape, y.shape"
      ]
    },
    {
      "cell_type": "markdown",
      "metadata": {
        "id": "58yJfX2DdGtL"
      },
      "source": [
        "For future use we can save our processed quantities:"
      ]
    },
    {
      "cell_type": "code",
      "execution_count": 21,
      "metadata": {
        "id": "nu2M7zjLdGtL"
      },
      "outputs": [],
      "source": [
        "churn_processed = X.join(pd.Series(y, name=\"Churn\"))\n",
        "\n",
        "churn_processed.to_csv(\"churn_processed.csv\", index=False)"
      ]
    },
    {
      "cell_type": "markdown",
      "metadata": {
        "id": "cefr3I7hdGtL"
      },
      "source": [
        "## Create train and validation sets"
      ]
    },
    {
      "cell_type": "code",
      "execution_count": 22,
      "metadata": {
        "colab": {
          "base_uri": "https://localhost:8080/"
        },
        "id": "-bmY_G-5dGtL",
        "outputId": "cc986dce-005e-4dc4-e714-478f148e589b"
      },
      "outputs": [
        {
          "name": "stdout",
          "output_type": "stream",
          "text": [
            "5634 train rows + 1409 valid rows\n"
          ]
        }
      ],
      "source": [
        "X_train, X_valid, y_train, y_valid = train_test_split(\n",
        "    X, y, test_size=0.2, random_state=42\n",
        ")\n",
        "print(f\"{len(X_train)} train rows + {len(X_valid)} valid rows\")"
      ]
    },
    {
      "cell_type": "markdown",
      "metadata": {
        "id": "C5IExKy7dGtL"
      },
      "source": [
        "## Select a performance measure"
      ]
    },
    {
      "cell_type": "markdown",
      "metadata": {
        "id": "NGFC4Ht0dGtL"
      },
      "source": [
        "Evaluating classifiers is often significantly trickier than evaluating a regressor. One way to do this is to compare the accuracy of each classifier, where \n",
        "\n",
        "$$ \\mbox{accuracy} = \\frac{\\mbox{Number of correct decisions made}}{\\mbox{Total number of decisions made}} $$\n",
        "\n",
        "In general, however, accuracy is _**not**_ the preferred performance measures for classifiers, especially when you are dealing with _**skewed datasets**_ (i.e. when some classes are much more frequent than others). For our churn example, supose we build a model that generates 75% accuracy. Is this any good? Let's have a look at the distribution of churn in the data:"
      ]
    },
    {
      "cell_type": "code",
      "execution_count": 23,
      "metadata": {
        "colab": {
          "base_uri": "https://localhost:8080/",
          "height": 285
        },
        "id": "BWgxYROHdGtM",
        "outputId": "b84912d9-6dd6-4043-aa1d-c7511306ff0c"
      },
      "outputs": [
        {
          "data": {
            "image/png": "[encoded data removed]",
            "text/plain": [
              "<Figure size 432x288 with 1 Axes>"
            ]
          },
          "metadata": {
            "needs_background": "light"
          },
          "output_type": "display_data"
        }
      ],
      "source": [
        "sns.countplot(x=\"Churn\", data=churn_data)\n",
        "plt.show()"
      ]
    },
    {
      "cell_type": "code",
      "execution_count": 24,
      "metadata": {
        "colab": {
          "base_uri": "https://localhost:8080/"
        },
        "id": "EbCe_n50dGtN",
        "outputId": "0cef4223-c0bc-4a0c-e874-ceb651a13737"
      },
      "outputs": [
        {
          "data": {
            "text/plain": [
              "No     0.73463\n",
              "Yes    0.26537\n",
              "Name: Churn, dtype: float64"
            ]
          },
          "execution_count": 24,
          "metadata": {},
          "output_type": "execute_result"
        }
      ],
      "source": [
        "churn_data[\"Churn\"].value_counts(normalize=True)"
      ]
    },
    {
      "cell_type": "markdown",
      "metadata": {
        "id": "czGR0y81dGtN"
      },
      "source": [
        "From the plot and numbers we see that the \"No Churn\" and \"Churn\" classes appear in approximately a 3:1 ratio. If we built a dumb classifier that just classifies every single customer as \"No Churn\", then we would be right about 73.5% of the time! In practice skews of 99:1 are common, for which a report of 99% accuracy is somewhat meaningless."
      ]
    },
    {
      "cell_type": "markdown",
      "metadata": {
        "id": "PjW-LS81dGtN"
      },
      "source": [
        "### Confusion matrix"
      ]
    },
    {
      "cell_type": "markdown",
      "metadata": {
        "id": "4RIqjnn3dGtN"
      },
      "source": [
        "A much better way to evaluate the performance of a classifier is to look at the _**confusion matrix.**_ Recall that a confusion matrix for a problem involving $n$ classes is an $n\\times n$ matrix with the rows labelled by the _**actual**_ classes and the columns with the _**predicted**_ classes. Our churn example is a two-class problem (\"Churn\" vs \"No Churn\"), so the confusion matrix is $2\\times 2$.\n",
        "\n",
        "If we denote the true classes as $\\mathbf{p}$(positive) and $\\mathbf{n}$(egative), and the classes predicted by the model as $\\mathbf{Y}$(es) and $\\mathbf{N}$(o) then the confusion matrix has the form:\n",
        "\n",
        "| &nbsp; | **N** | **Y** | \n",
        "| :---: | :---: | :---: |\n",
        "| **n** | True negatives | False positives | \n",
        "| **p** | False negatives | True positives |\n",
        "\n",
        "The main diagonal contains the counts of correct decisions. The errors of the classifier are the _**false negatives**_ (positives classified as negative) and **false positives** (negatives classified as positive)."
      ]
    },
    {
      "cell_type": "markdown",
      "metadata": {
        "id": "8Dj0iTwWdGtO"
      },
      "source": [
        "---\n",
        "**You should know**\n",
        "\n",
        "In the _Data Science for Business_ textbook, the confusion matrix is given a different layout, namely the columns are labelled by the actual classes and the rows by the predicted classes: \n",
        "\n",
        "| &nbsp; | **p** | **n** | \n",
        "| :---: | :---: | :---: |\n",
        "| **Y** | True positives | False positives | \n",
        "| **P** | False negatives | True negatives |\n",
        "\n",
        "The layout adopted above and in this notebook is the one produced by scikit-learn, since we'd like to make use of the in-built functions included in that library.\n",
        "\n",
        "---"
      ]
    },
    {
      "cell_type": "markdown",
      "metadata": {
        "id": "h92UIW80dGtO"
      },
      "source": [
        "## Baseline model"
      ]
    },
    {
      "cell_type": "markdown",
      "metadata": {
        "id": "iPr6btt6dGtO"
      },
      "source": [
        "Let's begin by creating a baseline Random Forest model to build upon. First we need a scoring function for classifiers, similar to our $R^2$ and RMSE function for regression:"
      ]
    },
    {
      "cell_type": "code",
      "execution_count": 25,
      "metadata": {
        "id": "zK4MdNNrdGtO"
      },
      "outputs": [],
      "source": [
        "def print_scores(fitted_model):\n",
        "    res = {\n",
        "        \"Accuracy on train:\": accuracy_score(fitted_model.predict(X_train), y_train),\n",
        "        \"ROC AUC on train:\": roc_auc_score(\n",
        "            y_train, fitted_model.predict_proba(X_train)[:, 1]\n",
        "        ),\n",
        "        \"Accuracy on valid:\": accuracy_score(fitted_model.predict(X_valid), y_valid),\n",
        "        \"ROC AUC on valid:\": roc_auc_score(\n",
        "            y_valid, fitted_model.predict_proba(X_valid)[:, 1]\n",
        "        ),\n",
        "    }\n",
        "    if hasattr(fitted_model, \"oob_score_\"):\n",
        "        res[\"OOB accuracy:\"] = fitted_model.oob_score_\n",
        "\n",
        "    for k, v in res.items():\n",
        "        print(k, round(v, 3))"
      ]
    },
    {
      "cell_type": "code",
      "execution_count": 26,
      "metadata": {
        "colab": {
          "base_uri": "https://localhost:8080/"
        },
        "id": "ghJAm76mdGtO",
        "outputId": "1ad9577e-6ed9-44d9-d3c1-e1ddeb56dc3c"
      },
      "outputs": [
        {
          "data": {
            "text/plain": [
              "RandomForestClassifier(n_estimators=10, n_jobs=-1, random_state=42)"
            ]
          },
          "execution_count": 26,
          "metadata": {},
          "output_type": "execute_result"
        }
      ],
      "source": [
        "model = RandomForestClassifier(n_estimators=10, n_jobs=-1, random_state=42)\n",
        "model.fit(X_train, y_train)"
      ]
    },
    {
      "cell_type": "code",
      "execution_count": 27,
      "metadata": {
        "colab": {
          "base_uri": "https://localhost:8080/"
        },
        "id": "hZaRyK_ZdGtO",
        "outputId": "9ea97fc4-0f64-4ed8-c48d-7ea16f23ab85"
      },
      "outputs": [
        {
          "name": "stdout",
          "output_type": "stream",
          "text": [
            "Accuracy on train: 0.984\n",
            "ROC AUC on train: 0.999\n",
            "Accuracy on valid: 0.771\n",
            "ROC AUC on valid: 0.801\n"
          ]
        }
      ],
      "source": [
        "print_scores(model)"
      ]
    },
    {
      "cell_type": "markdown",
      "metadata": {
        "id": "eEsLtc5WdGtQ"
      },
      "source": [
        "## ROC Curves and AUC\n",
        "Note that in addition to accuracy, we also show a second value, the _**Area Under the ROC Curve**_ (AUC). The AUC is a good summary statistic of the predictiveness of a binary classifier. It varies from zero to one. A value of 0.5 corresponds to randomness (the classifier cannot distinguish at all between \"churn\" and \"no churn\") and a value of 1.0 means that it is perfect.\n",
        "\n",
        "The \"ROC\" refers to the Receiver Operating Characteristic (ROC) curve which plots the _true positive rate_ \n",
        "\n",
        "$$ \\mbox{TPR} = \\frac{\\mbox{TP}}{\\mbox{TP} + \\mbox{FP}} \\,, \\qquad \\mbox{TP (FP)}  = \\mbox{number of true (false) positives}\\,,$$\n",
        "\n",
        "against the _false positive rate_ FPR, where the FPR is the ratio of negative instances that are incorrectly classified as positive: \n",
        "\n",
        "$$ \\mbox{FPR} = \\frac{\\mbox{FP}}{\\mbox{FP} + \\mbox{TN}} \\,, \\qquad \\mbox{FP (TN)}  = \\mbox{number of false positives (true negatives)}\\,,$$\n",
        "\n",
        "In general there is a tradeoff between these two quantities: the higher the TPR, the more false positives (FPR) the classifier produces. A good classifiers stays as close to the top-left corner of a ROC curve plot as possible.\n",
        "\n",
        "In scikit-learn we can visualise the ROC curve of an estimator using the plotting API:"
      ]
    },
    {
      "cell_type": "code",
      "execution_count": 28,
      "metadata": {
        "colab": {
          "base_uri": "https://localhost:8080/",
          "height": 342
        },
        "id": "DERaWzkjdGtQ",
        "outputId": "481c1484-fc00-4641-d4d1-658ff044d86f"
      },
      "outputs": [
        {
          "name": "stderr",
          "output_type": "stream",
          "text": [
            "/usr/local/lib/python3.7/dist-packages/sklearn/utils/deprecation.py:87: FutureWarning: Function plot_roc_curve is deprecated; Function :func:`plot_roc_curve` is deprecated in 1.0 and will be removed in 1.2. Use one of the class methods: :meth:`sklearn.metric.RocCurveDisplay.from_predictions` or :meth:`sklearn.metric.RocCurveDisplay.from_estimator`.\n",
            "  warnings.warn(msg, category=FutureWarning)\n"
          ]
        },
        {
          "data": {
            "image/png": "[encoded data removed]",
            "text/plain": [
              "<Figure size 432x288 with 1 Axes>"
            ]
          },
          "metadata": {
            "needs_background": "light"
          },
          "output_type": "display_data"
        }
      ],
      "source": [
        "plot_roc_curve(model, X_valid, y_valid)\n",
        "plt.show()"
      ]
    },
    {
      "cell_type": "markdown",
      "metadata": {
        "id": "WrDocSModGtQ"
      },
      "source": [
        "Next we plot the confusion matrix using scikit-learn's plotting API:"
      ]
    },
    {
      "cell_type": "code",
      "execution_count": 29,
      "metadata": {
        "colab": {
          "base_uri": "https://localhost:8080/",
          "height": 342
        },
        "id": "ro6z3HSIdGtQ",
        "outputId": "a1e681d1-f757-49bc-9ca9-b6a27566797c"
      },
      "outputs": [
        {
          "name": "stderr",
          "output_type": "stream",
          "text": [
            "/usr/local/lib/python3.7/dist-packages/sklearn/utils/deprecation.py:87: FutureWarning: Function plot_confusion_matrix is deprecated; Function `plot_confusion_matrix` is deprecated in 1.0 and will be removed in 1.2. Use one of the class methods: ConfusionMatrixDisplay.from_predictions or ConfusionMatrixDisplay.from_estimator.\n",
            "  warnings.warn(msg, category=FutureWarning)\n"
          ]
        },
        {
          "data": {
            "image/png": "[encoded data removed]",
            "text/plain": [
              "<Figure size 432x288 with 2 Axes>"
            ]
          },
          "metadata": {
            "needs_background": "light"
          },
          "output_type": "display_data"
        }
      ],
      "source": [
        "# extract labels for classes\n",
        "class_names = churn_data[\"Churn\"].cat.categories\n",
        "\n",
        "plot_confusion_matrix(\n",
        "    model,\n",
        "    X_valid,\n",
        "    y_valid,\n",
        "    display_labels=class_names,\n",
        "    cmap=plt.cm.Blues,\n",
        "    normalize=\"true\",\n",
        ")\n",
        "plt.grid(None)"
      ]
    },
    {
      "cell_type": "markdown",
      "metadata": {
        "id": "uKI1Jm-3dGtQ"
      },
      "source": [
        "From the confusion matrix we see that our baseline model is able to identify churners only 42% of the time and incorrectly classifies people who churned 58% of the time. We can do better, but first let's inspect how a single decision tree is making decisions on this data."
      ]
    },
    {
      "cell_type": "markdown",
      "metadata": {
        "id": "gTKNM97zdGtQ"
      },
      "source": [
        "## Single tree"
      ]
    },
    {
      "cell_type": "markdown",
      "metadata": {
        "id": "cNANPXHedGtQ"
      },
      "source": [
        "Now that we have a baseline model, let's make a single tree so we can gain some insight into how the decisions are being made:"
      ]
    },
    {
      "cell_type": "code",
      "execution_count": 30,
      "metadata": {
        "colab": {
          "base_uri": "https://localhost:8080/"
        },
        "id": "GP8i1TxzdGtR",
        "outputId": "15fce163-e191-4437-f3f5-04806c4ce8e0"
      },
      "outputs": [
        {
          "data": {
            "text/plain": [
              "RandomForestClassifier(bootstrap=False, max_depth=3, n_estimators=1,\n",
              "                       random_state=42)"
            ]
          },
          "execution_count": 30,
          "metadata": {},
          "output_type": "execute_result"
        }
      ],
      "source": [
        "model = RandomForestClassifier(\n",
        "    n_estimators=1, max_depth=3, bootstrap=False, # use the whole dataset to build the tree\n",
        "    random_state=42\n",
        ")\n",
        "model.fit(X_train, y_train)"
      ]
    },
    {
      "cell_type": "code",
      "execution_count": 31,
      "metadata": {
        "colab": {
          "base_uri": "https://localhost:8080/",
          "height": 408
        },
        "id": "tJlG_MdIdGtR",
        "outputId": "15c452be-a269-4d96-b3ee-ba9e72160349"
      },
      "outputs": [
        {
          "data": {
            "image/png": "[encoded data removed]",
            "text/plain": [
              "<Figure size 2160x720 with 1 Axes>"
            ]
          },
          "metadata": {},
          "output_type": "display_data"
        }
      ],
      "source": [
        "# get column names\n",
        "feature_names = X_train.columns\n",
        "# we need to specify the background color because of a bug in sklearn\n",
        "fig, ax = plt.subplots(figsize=(30, 10), facecolor=\"k\")\n",
        "# generate tree plot\n",
        "plot_tree(model.estimators_[0], filled=True, feature_names=feature_names, ax=ax)\n",
        "plt.show()"
      ]
    },
    {
      "cell_type": "markdown",
      "metadata": {
        "id": "uEC6FuGQdGtS"
      },
      "source": [
        "The main difference here compared to our housing example is that the splitting criterion is no longer the mean squared error, but instead is something known as the **_Gini index_**:\n",
        "\n",
        "$$ G = 1 - \\sum_{i=1}^n p_i^2 $$\n",
        "\n",
        "where $p_i$ is the probability of an object being classified to a particular class (in our case \"Yes\" or \"No\"). For classification tasks, the goal is to _minimise_ the Gini index across each split, which amounts to finding which segments are most \"pure\".\n",
        "\n",
        "From the figure, we can already start seeing some features that might be interesting for predicting churn, e.g. `TotalCharges`, `tenure`, and `TechSupport` seem like good indicators."
      ]
    },
    {
      "cell_type": "markdown",
      "metadata": {
        "id": "RoRQErGJdGtS"
      },
      "source": [
        "## Hyperparameter tuning"
      ]
    },
    {
      "cell_type": "markdown",
      "metadata": {
        "id": "-4PcXf-GdGtS"
      },
      "source": [
        "Our baseline model has an accuracy of 0.771 and ROC AUC score of 0.801 on the validation set. Let's now examine whether we can improve this by tuning the:\n",
        "\n",
        "* number of trees in the forest\n",
        "* minimum number of samples per leaf\n",
        "* maximum number of features per split\n",
        "\n",
        "In our previous lessons we manually inspected how the performance evolved when we changed these hyperparameters one at a time. Instead we can automate this process using scikit-learn's `GridSearchCV` to search for the best combination of hyperparameter values:"
      ]
    },
    {
      "cell_type": "code",
      "execution_count": 32,
      "metadata": {
        "id": "i4FaAesadGtT"
      },
      "outputs": [],
      "source": [
        "from sklearn.model_selection import GridSearchCV\n",
        "\n",
        "# define range of values for each hyperparameter\n",
        "param_grid = [\n",
        "    {\n",
        "        \"n_estimators\": [10, 20, 40, 80, 100],\n",
        "        \"max_features\": [0.5, 1.0, \"sqrt\", \"log2\"],\n",
        "        \"min_samples_leaf\": [1, 3, 5, 10, 25],\n",
        "    }\n",
        "]\n",
        "\n",
        "# instantiate baseline model\n",
        "model = RandomForestClassifier(n_estimators=10, n_jobs=-1, random_state=42)\n",
        "\n",
        "# initialise grid search with cross-validation\n",
        "grid_search = GridSearchCV(\n",
        "    model, param_grid=param_grid, cv=3, scoring=\"roc_auc\", n_jobs=-1     # 3-fold cross-validation\n",
        ")"
      ]
    },
    {
      "cell_type": "code",
      "execution_count": 33,
      "metadata": {
        "colab": {
          "base_uri": "https://localhost:8080/"
        },
        "id": "4gGRCtrRdGtT",
        "outputId": "4b321abf-3038-46f8-b546-44a82f932f41"
      },
      "outputs": [
        {
          "name": "stdout",
          "output_type": "stream",
          "text": [
            "CPU times: user 3.32 s, sys: 249 ms, total: 3.57 s\n",
            "Wall time: 2min 24s\n"
          ]
        },
        {
          "data": {
            "text/plain": [
              "GridSearchCV(cv=3,\n",
              "             estimator=RandomForestClassifier(n_estimators=10, n_jobs=-1,\n",
              "                                              random_state=42),\n",
              "             n_jobs=-1,\n",
              "             param_grid=[{'max_features': [0.5, 1.0, 'sqrt', 'log2'],\n",
              "                          'min_samples_leaf': [1, 3, 5, 10, 25],\n",
              "                          'n_estimators': [10, 20, 40, 80, 100]}],\n",
              "             scoring='roc_auc')"
            ]
          },
          "execution_count": 33,
          "metadata": {},
          "output_type": "execute_result"
        }
      ],
      "source": [
        "%time grid_search.fit(X, y)"
      ]
    },
    {
      "cell_type": "markdown",
      "metadata": {
        "id": "Wy8ymXJLdGtT"
      },
      "source": [
        "Once the search is finished, we can get the best combination of parameters as follows:"
      ]
    },
    {
      "cell_type": "code",
      "execution_count": 34,
      "metadata": {
        "colab": {
          "base_uri": "https://localhost:8080/"
        },
        "id": "QRLLdFNPdGtU",
        "outputId": "9d457f09-b044-4c58-f3b1-820023347ff6"
      },
      "outputs": [
        {
          "data": {
            "text/plain": [
              "{'max_features': 'sqrt', 'min_samples_leaf': 25, 'n_estimators': 80}"
            ]
          },
          "execution_count": 34,
          "metadata": {},
          "output_type": "execute_result"
        }
      ],
      "source": [
        "best_params = grid_search.best_params_\n",
        "best_params"
      ]
    },
    {
      "cell_type": "markdown",
      "metadata": {
        "id": "kx7nacFTdGtU"
      },
      "source": [
        "Similarly we can get the best model in the search:"
      ]
    },
    {
      "cell_type": "code",
      "execution_count": 35,
      "metadata": {
        "colab": {
          "base_uri": "https://localhost:8080/"
        },
        "id": "WRlVic02dGtV",
        "outputId": "189822d7-1325-4f7c-ebe0-780d44618171"
      },
      "outputs": [
        {
          "data": {
            "text/plain": [
              "RandomForestClassifier(max_features='sqrt', min_samples_leaf=25,\n",
              "                       n_estimators=80, n_jobs=-1, random_state=42)"
            ]
          },
          "execution_count": 35,
          "metadata": {},
          "output_type": "execute_result"
        }
      ],
      "source": [
        "best_model = grid_search.best_estimator_\n",
        "best_model"
      ]
    },
    {
      "cell_type": "markdown",
      "metadata": {
        "id": "d5bQxYvZdGtW"
      },
      "source": [
        "Let's see how this model performs on our validation set in terms of metrics and the confusion matrix:"
      ]
    },
    {
      "cell_type": "code",
      "execution_count": 36,
      "metadata": {
        "colab": {
          "base_uri": "https://localhost:8080/"
        },
        "id": "KaJDv0n_dGtX",
        "outputId": "1890e22d-6c7d-44d6-806d-30c86fae6223"
      },
      "outputs": [
        {
          "name": "stdout",
          "output_type": "stream",
          "text": [
            "Accuracy on train: 0.819\n",
            "ROC AUC on train: 0.876\n",
            "Accuracy on valid: 0.828\n",
            "ROC AUC on valid: 0.891\n"
          ]
        }
      ],
      "source": [
        "print_scores(best_model)"
      ]
    },
    {
      "cell_type": "code",
      "execution_count": 37,
      "metadata": {
        "colab": {
          "base_uri": "https://localhost:8080/",
          "height": 342
        },
        "id": "SBh-1Ln6dGtY",
        "outputId": "d10a9e5b-7eaa-4f55-9b87-cbdc25c19c4e"
      },
      "outputs": [
        {
          "name": "stderr",
          "output_type": "stream",
          "text": [
            "/usr/local/lib/python3.7/dist-packages/sklearn/utils/deprecation.py:87: FutureWarning: Function plot_confusion_matrix is deprecated; Function `plot_confusion_matrix` is deprecated in 1.0 and will be removed in 1.2. Use one of the class methods: ConfusionMatrixDisplay.from_predictions or ConfusionMatrixDisplay.from_estimator.\n",
            "  warnings.warn(msg, category=FutureWarning)\n"
          ]
        },
        {
          "data": {
            "image/png": "[encoded data removed]",
            "text/plain": [
              "<Figure size 432x288 with 2 Axes>"
            ]
          },
          "metadata": {
            "needs_background": "light"
          },
          "output_type": "display_data"
        }
      ],
      "source": [
        "plot_confusion_matrix(\n",
        "    best_model,\n",
        "    X_valid,\n",
        "    y_valid,\n",
        "    display_labels=class_names,\n",
        "    cmap=plt.cm.Blues,\n",
        "    normalize=\"true\",\n",
        ")\n",
        "plt.grid(None)"
      ]
    },
    {
      "cell_type": "markdown",
      "metadata": {
        "id": "K8cvD5iNdGtY"
      },
      "source": [
        "In terms of the AUC score, we see about a 10% boost over our baseline model - not bad! Our confusion matrix has also visibly improved."
      ]
    },
    {
      "cell_type": "markdown",
      "metadata": {
        "id": "Lg8Eky4DdGtY"
      },
      "source": [
        "## Model interpretability"
      ]
    },
    {
      "cell_type": "markdown",
      "metadata": {
        "id": "MzO3s4bZdGtZ"
      },
      "source": [
        "As we did in the housing example, we now examine which features were deemed to be important for our Random Forest model:"
      ]
    },
    {
      "cell_type": "code",
      "execution_count": 38,
      "metadata": {
        "colab": {
          "base_uri": "https://localhost:8080/",
          "height": 363
        },
        "id": "w4oeARsLdGtZ",
        "outputId": "a34522dd-7633-4688-d867-4817ff434917"
      },
      "outputs": [
        {
          "data": {
            "text/html": [
              "\n",
              "  <div id=\"df-afd172ee-b61f-4638-b0f3-d2c651912e51\">\n",
              "    <div class=\"colab-df-container\">\n",
              "      <div>\n",
              "<style scoped>\n",
              "    .dataframe tbody tr th:only-of-type {\n",
              "        vertical-align: middle;\n",
              "    }\n",
              "\n",
              "    .dataframe tbody tr th {\n",
              "        vertical-align: top;\n",
              "    }\n",
              "\n",
              "    .dataframe thead th {\n",
              "        text-align: right;\n",
              "    }\n",
              "</style>\n",
              "<table border=\"1\" class=\"dataframe\">\n",
              "  <thead>\n",
              "    <tr style=\"text-align: right;\">\n",
              "      <th></th>\n",
              "      <th>Column</th>\n",
              "      <th>Importance</th>\n",
              "    </tr>\n",
              "  </thead>\n",
              "  <tbody>\n",
              "    <tr>\n",
              "      <th>15</th>\n",
              "      <td>Contract</td>\n",
              "      <td>0.228229</td>\n",
              "    </tr>\n",
              "    <tr>\n",
              "      <th>5</th>\n",
              "      <td>tenure</td>\n",
              "      <td>0.208876</td>\n",
              "    </tr>\n",
              "    <tr>\n",
              "      <th>9</th>\n",
              "      <td>OnlineSecurity</td>\n",
              "      <td>0.098802</td>\n",
              "    </tr>\n",
              "    <tr>\n",
              "      <th>18</th>\n",
              "      <td>MonthlyCharges</td>\n",
              "      <td>0.092676</td>\n",
              "    </tr>\n",
              "    <tr>\n",
              "      <th>12</th>\n",
              "      <td>TechSupport</td>\n",
              "      <td>0.069717</td>\n",
              "    </tr>\n",
              "    <tr>\n",
              "      <th>8</th>\n",
              "      <td>InternetService</td>\n",
              "      <td>0.056771</td>\n",
              "    </tr>\n",
              "    <tr>\n",
              "      <th>19</th>\n",
              "      <td>TotalCharges</td>\n",
              "      <td>0.049491</td>\n",
              "    </tr>\n",
              "    <tr>\n",
              "      <th>17</th>\n",
              "      <td>PaymentMethod</td>\n",
              "      <td>0.033299</td>\n",
              "    </tr>\n",
              "    <tr>\n",
              "      <th>10</th>\n",
              "      <td>OnlineBackup</td>\n",
              "      <td>0.030297</td>\n",
              "    </tr>\n",
              "    <tr>\n",
              "      <th>11</th>\n",
              "      <td>DeviceProtection</td>\n",
              "      <td>0.029809</td>\n",
              "    </tr>\n",
              "  </tbody>\n",
              "</table>\n",
              "</div>\n",
              "      <button class=\"colab-df-convert\" onclick=\"convertToInteractive('df-afd172ee-b61f-4638-b0f3-d2c651912e51')\"\n",
              "              title=\"Convert this dataframe to an interactive table.\"\n",
              "              style=\"display:none;\">\n",
              "        \n",
              "  <svg xmlns=\"http://www.w3.org/2000/svg\" height=\"24px\"viewBox=\"0 0 24 24\"\n",
              "       width=\"24px\">\n",
              "    <path d=\"M0 0h24v24H0V0z\" fill=\"none\"/>\n",
              "    <path d=\"M18.56 5.44l.94 2.06.94-2.06 2.06-.94-2.06-.94-.94-2.06-.94 2.06-2.06.94zm-11 1L8.5 8.5l.94-2.06 2.06-.94-2.06-.94L8.5 2.5l-.94 2.06-2.06.94zm10 10l.94 2.06.94-2.06 2.06-.94-2.06-.94-.94-2.06-.94 2.06-2.06.94z\"/><path d=\"M17.41 7.96l-1.37-1.37c-.4-.4-.92-.59-1.43-.59-.52 0-1.04.2-1.43.59L10.3 9.45l-7.72 7.72c-.78.78-.78 2.05 0 2.83L4 21.41c.39.39.9.59 1.41.59.51 0 1.02-.2 1.41-.59l7.78-7.78 2.81-2.81c.8-.78.8-2.07 0-2.86zM5.41 20L4 18.59l7.72-7.72 1.47 1.35L5.41 20z\"/>\n",
              "  </svg>\n",
              "      </button>\n",
              "      \n",
              "  <style>\n",
              "    .colab-df-container {\n",
              "      display:flex;\n",
              "      flex-wrap:wrap;\n",
              "      gap: 12px;\n",
              "    }\n",
              "\n",
              "    .colab-df-convert {\n",
              "      background-color: #E8F0FE;\n",
              "      border: none;\n",
              "      border-radius: 50%;\n",
              "      cursor: pointer;\n",
              "      display: none;\n",
              "      fill: #1967D2;\n",
              "      height: 32px;\n",
              "      padding: 0 0 0 0;\n",
              "      width: 32px;\n",
              "    }\n",
              "\n",
              "    .colab-df-convert:hover {\n",
              "      background-color: #E2EBFA;\n",
              "      box-shadow: 0px 1px 2px rgba(60, 64, 67, 0.3), 0px 1px 3px 1px rgba(60, 64, 67, 0.15);\n",
              "      fill: #174EA6;\n",
              "    }\n",
              "\n",
              "    [theme=dark] .colab-df-convert {\n",
              "      background-color: #3B4455;\n",
              "      fill: #D2E3FC;\n",
              "    }\n",
              "\n",
              "    [theme=dark] .colab-df-convert:hover {\n",
              "      background-color: #434B5C;\n",
              "      box-shadow: 0px 1px 3px 1px rgba(0, 0, 0, 0.15);\n",
              "      filter: drop-shadow(0px 1px 2px rgba(0, 0, 0, 0.3));\n",
              "      fill: #FFFFFF;\n",
              "    }\n",
              "  </style>\n",
              "\n",
              "      <script>\n",
              "        const buttonEl =\n",
              "          document.querySelector('#df-afd172ee-b61f-4638-b0f3-d2c651912e51 button.colab-df-convert');\n",
              "        buttonEl.style.display =\n",
              "          google.colab.kernel.accessAllowed ? 'block' : 'none';\n",
              "\n",
              "        async function convertToInteractive(key) {\n",
              "          const element = document.querySelector('#df-afd172ee-b61f-4638-b0f3-d2c651912e51');\n",
              "          const dataTable =\n",
              "            await google.colab.kernel.invokeFunction('convertToInteractive',\n",
              "                                                     [key], {});\n",
              "          if (!dataTable) return;\n",
              "\n",
              "          const docLinkHtml = 'Like what you see? Visit the ' +\n",
              "            '<a target=\"_blank\" href=https://colab.research.google.com/notebooks/data_table.ipynb>data table notebook</a>'\n",
              "            + ' to learn more about interactive tables.';\n",
              "          element.innerHTML = '';\n",
              "          dataTable['output_type'] = 'display_data';\n",
              "          await google.colab.output.renderOutput(dataTable, element);\n",
              "          const docLink = document.createElement('div');\n",
              "          docLink.innerHTML = docLinkHtml;\n",
              "          element.appendChild(docLink);\n",
              "        }\n",
              "      </script>\n",
              "    </div>\n",
              "  </div>\n",
              "  "
            ],
            "text/plain": [
              "              Column  Importance\n",
              "15          Contract    0.228229\n",
              "5             tenure    0.208876\n",
              "9     OnlineSecurity    0.098802\n",
              "18    MonthlyCharges    0.092676\n",
              "12       TechSupport    0.069717\n",
              "8    InternetService    0.056771\n",
              "19      TotalCharges    0.049491\n",
              "17     PaymentMethod    0.033299\n",
              "10      OnlineBackup    0.030297\n",
              "11  DeviceProtection    0.029809"
            ]
          },
          "execution_count": 38,
          "metadata": {},
          "output_type": "execute_result"
        }
      ],
      "source": [
        "feature_importance = rf_feature_importance(best_model, X)\n",
        "\n",
        "# peek at top 10\n",
        "feature_importance[:10]"
      ]
    },
    {
      "cell_type": "code",
      "execution_count": 39,
      "metadata": {
        "colab": {
          "base_uri": "https://localhost:8080/",
          "height": 502
        },
        "id": "bEwnMZMAdGtZ",
        "outputId": "b9fb073a-0e66-4d34-fe8b-fc404a2420d0"
      },
      "outputs": [
        {
          "data": {
            "image/png": "[encoded data removed]",
            "text/plain": [
              "<Figure size 864x576 with 1 Axes>"
            ]
          },
          "metadata": {
            "needs_background": "light"
          },
          "output_type": "display_data"
        }
      ],
      "source": [
        "plot_feature_importance(feature_importance)\n",
        "plt.show()"
      ]
    },
    {
      "cell_type": "markdown",
      "metadata": {
        "id": "mtBeijEsdGta"
      },
      "source": [
        "From the plot, it seems that the feature importance flattens out around 0.005.\n",
        "\n",
        "## Exercise 1\n",
        "Let's use this observation as a threshold to remove some uninformative features. Set the feature importance threshold to 0.008 and find out which columns (features) are more important than this threshold and will be kept based on this threshold. Store those column names in a one-dimensional pandas array called *cols_to_keep*. "
      ]
    },
    {
      "cell_type": "code",
      "execution_count": 1,
      "metadata": {
        "id": "wTaMcnxfWIbg"
      },
      "outputs": [
        {
          "ename": "NameError",
          "evalue": "name 'feature_importance' is not defined",
          "output_type": "error",
          "traceback": [
            "\u001b[1;31m---------------------------------------------------------------------------\u001b[0m",
            "\u001b[1;31mNameError\u001b[0m                                 Traceback (most recent call last)",
            "\u001b[1;32mc:\\Users\\joelt\\OneDrive\\BFH\\6. Semester\\DataScience\\notebooks\\lesson08_classification.ipynb Cell 102'\u001b[0m in \u001b[0;36m<module>\u001b[1;34m\u001b[0m\n\u001b[0;32m      <a href='vscode-notebook-cell:/c%3A/Users/joelt/OneDrive/BFH/6.%20Semester/DataScience/notebooks/lesson08_classification.ipynb#ch0000101?line=0'>1</a>\u001b[0m threshold \u001b[39m=\u001b[39m \u001b[39m0.008\u001b[39m\n\u001b[1;32m----> <a href='vscode-notebook-cell:/c%3A/Users/joelt/OneDrive/BFH/6.%20Semester/DataScience/notebooks/lesson08_classification.ipynb#ch0000101?line=2'>3</a>\u001b[0m cols_to_keep \u001b[39m=\u001b[39m feature_importance\u001b[39m.\u001b[39mloc[feature_importance[\u001b[39m\"\u001b[39m\u001b[39mImportance\u001b[39m\u001b[39m\"\u001b[39m] \u001b[39m>\u001b[39m threshold][\u001b[39m\"\u001b[39m\u001b[39mColumn\u001b[39m\u001b[39m\"\u001b[39m]\u001b[39m.\u001b[39mtolist()\n\u001b[0;32m      <a href='vscode-notebook-cell:/c%3A/Users/joelt/OneDrive/BFH/6.%20Semester/DataScience/notebooks/lesson08_classification.ipynb#ch0000101?line=3'>4</a>\u001b[0m cols_to_keep\n",
            "\u001b[1;31mNameError\u001b[0m: name 'feature_importance' is not defined"
          ]
        }
      ],
      "source": [
        "threshold = 0.008\n",
        "\n",
        "cols_to_keep = feature_importance.loc[feature_importance[\"Importance\"] > threshold][\"Column\"].tolist()\n",
        "cols_to_keep"
      ]
    },
    {
      "cell_type": "markdown",
      "metadata": {
        "id": "4Lu5eRK1dGta"
      },
      "source": [
        "Let's retrain with this subset and see if the model performance score drops or not (for reference, we have accuracy of 0.807 and AUC of  0.871 on the validation set):"
      ]
    },
    {
      "cell_type": "code",
      "execution_count": 42,
      "metadata": {
        "id": "e4d13UbMdGtb"
      },
      "outputs": [],
      "source": [
        "# create a copy of the data with selected columns and create new train / test set\n",
        "X_keep = X.copy()[cols_to_keep]\n",
        "X_train, X_valid = train_test_split(X_keep, test_size=0.2, random_state=42)"
      ]
    },
    {
      "cell_type": "code",
      "execution_count": 43,
      "metadata": {
        "colab": {
          "base_uri": "https://localhost:8080/"
        },
        "id": "-4akkjDBdGtb",
        "outputId": "ea2b7b63-7f22-443e-aba3-a74b6462b4f1"
      },
      "outputs": [
        {
          "name": "stdout",
          "output_type": "stream",
          "text": [
            "Accuracy on train: 0.802\n",
            "ROC AUC on train: 0.852\n",
            "Accuracy on valid: 0.798\n",
            "ROC AUC on valid: 0.862\n",
            "OOB accuracy: 0.793\n"
          ]
        }
      ],
      "source": [
        "model = RandomForestClassifier(\n",
        "    n_estimators=best_params[\"n_estimators\"],\n",
        "    min_samples_leaf=best_params[\"n_estimators\"],\n",
        "    max_features=best_params[\"max_features\"],\n",
        "    n_jobs=-1,\n",
        "    oob_score=True,\n",
        "    random_state=42,\n",
        ")\n",
        "\n",
        "model.fit(X_train, y_train)\n",
        "\n",
        "print_scores(model)"
      ]
    },
    {
      "cell_type": "markdown",
      "metadata": {
        "id": "HyQ-clfydGtc"
      },
      "source": [
        "The score has not changed significantly, so let's continue and replot the feature importances:"
      ]
    },
    {
      "cell_type": "code",
      "execution_count": 44,
      "metadata": {
        "colab": {
          "base_uri": "https://localhost:8080/",
          "height": 502
        },
        "id": "lsgvFy2ydGtc",
        "outputId": "c99a88a4-0488-4e5a-e7bf-bd7b780192f3"
      },
      "outputs": [
        {
          "data": {
            "image/png": "[encoded data removed]",
            "text/plain": [
              "<Figure size 864x576 with 1 Axes>"
            ]
          },
          "metadata": {
            "needs_background": "light"
          },
          "output_type": "display_data"
        }
      ],
      "source": [
        "feature_importance = rf_feature_importance(model, X_keep)\n",
        "plot_feature_importance(feature_importance)\n",
        "plt.show()"
      ]
    },
    {
      "cell_type": "markdown",
      "metadata": {
        "id": "Gh4ArAQ2dGtq"
      },
      "source": [
        "---\n",
        "\n",
        "#### Homework\n",
        "\n",
        "Use the techniques in this lesson to solve Kaggle's famous [Titanic Challenge](https://www.kaggle.com/c/titanic). As in the housing challenge from lesson 6, the goal is not to build a perfect model, but to get familiar with building models on new datasets.\n",
        "\n",
        "---"
      ]
    }
  ],
  "metadata": {
    "colab": {
      "collapsed_sections": [
        "Aq2rXBMt_clm",
        "Gh4ArAQ2dGtq"
      ],
      "name": "lesson08_classification.ipynb",
      "provenance": []
    },
    "kernelspec": {
      "display_name": "Python 3",
      "language": "python",
      "name": "python3"
    },
    "language_info": {
      "codemirror_mode": {
        "name": "ipython",
        "version": 3
      },
      "file_extension": ".py",
      "mimetype": "text/x-python",
      "name": "python",
      "nbconvert_exporter": "python",
      "pygments_lexer": "ipython3",
      "version": "3.9.5"
    }
  },
  "nbformat": 4,
  "nbformat_minor": 0
}
