{
  "cells": [
    {
      "cell_type": "markdown",
      "metadata": {
        "id": "19Ne1EIzimhh"
      },
      "source": [
        "# Lesson 2 - Exploratory Data Analysis\n",
        "\n",
        "> A walkthrough on the fundamental mechanics to manipulate the data contained in pandas Series or DataFrame objects."
      ]
    },
    {
      "cell_type": "markdown",
      "metadata": {
        "id": "8McbvDGFimhm"
      },
      "source": [
        "## Learning objectives"
      ]
    },
    {
      "cell_type": "markdown",
      "metadata": {
        "id": "MB4kndjLimhn"
      },
      "source": [
        "* Understand the main steps involved in exploratory data analysis\n",
        "* Visualise geographical data with seaborn\n",
        "* Slice, mask, and index `pandas.Series` and `pandas.DataFrame` objects\n",
        "* Merge `pandas.DataFrame` objects together on a common key\n",
        "* Apply the `DataFrame.groupby()` operation to aggregate data across different groups of interest"
      ]
    },
    {
      "cell_type": "markdown",
      "metadata": {
        "id": "S_C1H_naimho"
      },
      "source": [
        "## References"
      ]
    },
    {
      "cell_type": "markdown",
      "metadata": {
        "id": "aKOFgxhtimho"
      },
      "source": [
        "This lesson draws heavily on the following textbook chapters:\n",
        "\n",
        "* Chapter 2 of _Hands-On Machine Learning with Scikit-Learn and TensorFlow_ by Aurèlien Geron\n",
        "* Chapter 3 (pp. 146-170) of _Python Data Science Handbook_ by Jake Vanderplas"
      ]
    },
    {
      "cell_type": "markdown",
      "metadata": {
        "id": "7DcJRsGyimhp"
      },
      "source": [
        "## Homework\n",
        "\n",
        "* Solve the exercises included in this notebook\n",
        "* Read up on [typical exploratory data analysis processes and questions](https://www.datacamp.com/community/tutorials/python-data-profiling)\n",
        "\n",
        "If you get stuck on understanding a particular pandas technique, you might find their [docs](https://pandas.pydata.org/docs/) to be helpful."
      ]
    },
    {
      "cell_type": "markdown",
      "metadata": {
        "id": "-dihPbwEimhq"
      },
      "source": [
        "## What is exploratory data analysis?"
      ]
    },
    {
      "cell_type": "markdown",
      "metadata": {
        "id": "rihmHOpJimhq"
      },
      "source": [
        "In data science we apply the scientific method to data with the goal to gain insights. This means that we state a hypothesis about the data, test it and refine it if necessary. In this framework, exploratory data analysis (EDA) is the step where we explore the data before actually building models. This helps us understand what information is actually contained in the data and what insights could be gained from it. \n",
        "\n",
        "Formally, the goals of EDA are:\n",
        "\n",
        "- Suggest hypotheses about the phenomena of interest\n",
        "- Check if necessary data is available to test these hypotheses\n",
        "- Make a selection of appropriate methods and models to achieve the goal\n",
        "- Suggest what data should be gathered for further investigation\n",
        "\n",
        "This exploratory phase lays out the path for the rest of a data science project and is therefore a crucial part of the process."
      ]
    },
    {
      "cell_type": "markdown",
      "metadata": {
        "id": "OITbaFIcimhr"
      },
      "source": [
        "## The data"
      ]
    },
    {
      "cell_type": "markdown",
      "metadata": {
        "id": "UE_S2xL5imhs"
      },
      "source": [
        "In this lesson we will analyse two datasets:\n",
        "\n",
        "* `housing.csv`\n",
        "* `housing_addresses.csv`\n",
        "\n",
        "The first is the [California housing dataset](https://www.kaggle.com/camnugent/california-housing-prices) we saw in lesson 1, while the second provides information about the neighbourhoods associated with each house. This auxiliary data was generated using the [reverse geocoding](https://en.wikipedia.org/wiki/Reverse_geocoding) functionality from [Google Maps](https://developers.google.com/maps/documentation/geocoding/intro#ReverseGeocoding), where the latitude and longitude coordinates for each house are converted into the closest, human-readable address.\n",
        "\n",
        "The type of questions we will try to find answers to include:\n",
        "\n",
        "* Which cities have the most houses?\n",
        "* Which cities have the most expensive houses?\n",
        "* What is the breakdown of the house prices by proximity to the ocean?"
      ]
    },
    {
      "cell_type": "markdown",
      "metadata": {
        "id": "IVTJQHGtimhs"
      },
      "source": [
        "## Import libraries"
      ]
    },
    {
      "cell_type": "markdown",
      "metadata": {
        "id": "CuoLzLT_imht"
      },
      "source": [
        "As in lesson 1, we will be making use of the pandas and seaborn libraries. It is often a good idea to import all your libraries in a single cell block near the top of your notebooks so that your collaborators can quickly see whether they need to install new libraries or not."
      ]
    },
    {
      "cell_type": "code",
      "execution_count": 1,
      "metadata": {
        "id": "ybEacTmhimhv"
      },
      "outputs": [],
      "source": [
        "# data wrangling\n",
        "import pandas as pd\n",
        "import numpy as np\n",
        "from pathlib import Path\n",
        "\n",
        "# data viz\n",
        "import seaborn as sns\n",
        "import matplotlib.pyplot as plt\n",
        "import matplotlib.image as mpimg\n",
        "%matplotlib inline\n",
        "\n",
        "# these commands define the color scheme\n",
        "sns.set(color_codes=True)\n",
        "sns.set_palette(sns.color_palette('muted'))"
      ]
    },
    {
      "cell_type": "markdown",
      "metadata": {
        "id": "-nFxIAi9imhv"
      },
      "source": [
        "## Load the data"
      ]
    },
    {
      "cell_type": "markdown",
      "metadata": {
        "id": "QqDP0GNoQBiF"
      },
      "source": [
        "Load the files 'housing.csv' and 'housing_addresses.csv' into Colab in the same manner as in our lectures last week."
      ]
    },
    {
      "cell_type": "code",
      "execution_count": 2,
      "metadata": {
        "colab": {
          "base_uri": "https://localhost:8080/",
          "height": 206
        },
        "id": "benJ55Ndimhx",
        "outputId": "cf600d8c-abd9-4a39-a334-6d083975bd2f"
      },
      "outputs": [
        {
          "data": {
            "text/html": [
              "<div>\n",
              "<style scoped>\n",
              "    .dataframe tbody tr th:only-of-type {\n",
              "        vertical-align: middle;\n",
              "    }\n",
              "\n",
              "    .dataframe tbody tr th {\n",
              "        vertical-align: top;\n",
              "    }\n",
              "\n",
              "    .dataframe thead th {\n",
              "        text-align: right;\n",
              "    }\n",
              "</style>\n",
              "<table border=\"1\" class=\"dataframe\">\n",
              "  <thead>\n",
              "    <tr style=\"text-align: right;\">\n",
              "      <th></th>\n",
              "      <th>longitude</th>\n",
              "      <th>latitude</th>\n",
              "      <th>housing_median_age</th>\n",
              "      <th>total_rooms</th>\n",
              "      <th>total_bedrooms</th>\n",
              "      <th>population</th>\n",
              "      <th>households</th>\n",
              "      <th>median_income</th>\n",
              "      <th>median_house_value</th>\n",
              "      <th>ocean_proximity</th>\n",
              "    </tr>\n",
              "  </thead>\n",
              "  <tbody>\n",
              "    <tr>\n",
              "      <th>0</th>\n",
              "      <td>-122.23</td>\n",
              "      <td>37.88</td>\n",
              "      <td>41.0</td>\n",
              "      <td>880.0</td>\n",
              "      <td>129.0</td>\n",
              "      <td>322.0</td>\n",
              "      <td>126.0</td>\n",
              "      <td>8.3252</td>\n",
              "      <td>452600.0</td>\n",
              "      <td>NEAR BAY</td>\n",
              "    </tr>\n",
              "    <tr>\n",
              "      <th>1</th>\n",
              "      <td>-122.22</td>\n",
              "      <td>37.86</td>\n",
              "      <td>21.0</td>\n",
              "      <td>7099.0</td>\n",
              "      <td>1106.0</td>\n",
              "      <td>2401.0</td>\n",
              "      <td>1138.0</td>\n",
              "      <td>8.3014</td>\n",
              "      <td>358500.0</td>\n",
              "      <td>NEAR BAY</td>\n",
              "    </tr>\n",
              "    <tr>\n",
              "      <th>2</th>\n",
              "      <td>-122.24</td>\n",
              "      <td>37.85</td>\n",
              "      <td>52.0</td>\n",
              "      <td>1467.0</td>\n",
              "      <td>190.0</td>\n",
              "      <td>496.0</td>\n",
              "      <td>177.0</td>\n",
              "      <td>7.2574</td>\n",
              "      <td>352100.0</td>\n",
              "      <td>NEAR BAY</td>\n",
              "    </tr>\n",
              "    <tr>\n",
              "      <th>3</th>\n",
              "      <td>-122.25</td>\n",
              "      <td>37.85</td>\n",
              "      <td>52.0</td>\n",
              "      <td>1274.0</td>\n",
              "      <td>235.0</td>\n",
              "      <td>558.0</td>\n",
              "      <td>219.0</td>\n",
              "      <td>5.6431</td>\n",
              "      <td>341300.0</td>\n",
              "      <td>NEAR BAY</td>\n",
              "    </tr>\n",
              "    <tr>\n",
              "      <th>4</th>\n",
              "      <td>-122.25</td>\n",
              "      <td>37.85</td>\n",
              "      <td>52.0</td>\n",
              "      <td>1627.0</td>\n",
              "      <td>280.0</td>\n",
              "      <td>565.0</td>\n",
              "      <td>259.0</td>\n",
              "      <td>3.8462</td>\n",
              "      <td>342200.0</td>\n",
              "      <td>NEAR BAY</td>\n",
              "    </tr>\n",
              "  </tbody>\n",
              "</table>\n",
              "</div>"
            ],
            "text/plain": [
              "   longitude  latitude  housing_median_age  total_rooms  total_bedrooms  \\\n",
              "0    -122.23     37.88                41.0        880.0           129.0   \n",
              "1    -122.22     37.86                21.0       7099.0          1106.0   \n",
              "2    -122.24     37.85                52.0       1467.0           190.0   \n",
              "3    -122.25     37.85                52.0       1274.0           235.0   \n",
              "4    -122.25     37.85                52.0       1627.0           280.0   \n",
              "\n",
              "   population  households  median_income  median_house_value ocean_proximity  \n",
              "0       322.0       126.0         8.3252            452600.0        NEAR BAY  \n",
              "1      2401.0      1138.0         8.3014            358500.0        NEAR BAY  \n",
              "2       496.0       177.0         7.2574            352100.0        NEAR BAY  \n",
              "3       558.0       219.0         5.6431            341300.0        NEAR BAY  \n",
              "4       565.0       259.0         3.8462            342200.0        NEAR BAY  "
            ]
          },
          "execution_count": 2,
          "metadata": {},
          "output_type": "execute_result"
        }
      ],
      "source": [
        "housing_data = pd.read_csv('housing.csv'); housing_data.head()"
      ]
    },
    {
      "cell_type": "code",
      "execution_count": 3,
      "metadata": {
        "colab": {
          "base_uri": "https://localhost:8080/",
          "height": 206
        },
        "id": "tJ1Ec8gYimhx",
        "outputId": "4a726205-24ab-4de7-f9f5-e1f8b276df32"
      },
      "outputs": [
        {
          "data": {
            "text/html": [
              "<div>\n",
              "<style scoped>\n",
              "    .dataframe tbody tr th:only-of-type {\n",
              "        vertical-align: middle;\n",
              "    }\n",
              "\n",
              "    .dataframe tbody tr th {\n",
              "        vertical-align: top;\n",
              "    }\n",
              "\n",
              "    .dataframe thead th {\n",
              "        text-align: right;\n",
              "    }\n",
              "</style>\n",
              "<table border=\"1\" class=\"dataframe\">\n",
              "  <thead>\n",
              "    <tr style=\"text-align: right;\">\n",
              "      <th></th>\n",
              "      <th>street_number</th>\n",
              "      <th>route</th>\n",
              "      <th>locality-political</th>\n",
              "      <th>postal_code</th>\n",
              "      <th>latitude_longitude</th>\n",
              "    </tr>\n",
              "  </thead>\n",
              "  <tbody>\n",
              "    <tr>\n",
              "      <th>0</th>\n",
              "      <td>3130</td>\n",
              "      <td>Grizzly Peak Boulevard</td>\n",
              "      <td>Berkeley</td>\n",
              "      <td>94705.0</td>\n",
              "      <td>37.88,-122.23</td>\n",
              "    </tr>\n",
              "    <tr>\n",
              "      <th>1</th>\n",
              "      <td>2005</td>\n",
              "      <td>Tunnel Road</td>\n",
              "      <td>Oakland</td>\n",
              "      <td>94611.0</td>\n",
              "      <td>37.86,-122.22</td>\n",
              "    </tr>\n",
              "    <tr>\n",
              "      <th>2</th>\n",
              "      <td>6886</td>\n",
              "      <td>Chabot Road</td>\n",
              "      <td>Oakland</td>\n",
              "      <td>94618.0</td>\n",
              "      <td>37.85,-122.24</td>\n",
              "    </tr>\n",
              "    <tr>\n",
              "      <th>3</th>\n",
              "      <td>6365</td>\n",
              "      <td>Florio Street</td>\n",
              "      <td>Oakland</td>\n",
              "      <td>94618.0</td>\n",
              "      <td>37.85,-122.25</td>\n",
              "    </tr>\n",
              "    <tr>\n",
              "      <th>4</th>\n",
              "      <td>5407</td>\n",
              "      <td>Bryant Avenue</td>\n",
              "      <td>Oakland</td>\n",
              "      <td>94618.0</td>\n",
              "      <td>37.84,-122.25</td>\n",
              "    </tr>\n",
              "  </tbody>\n",
              "</table>\n",
              "</div>"
            ],
            "text/plain": [
              "  street_number                   route locality-political  postal_code  \\\n",
              "0          3130  Grizzly Peak Boulevard           Berkeley      94705.0   \n",
              "1          2005             Tunnel Road            Oakland      94611.0   \n",
              "2          6886             Chabot Road            Oakland      94618.0   \n",
              "3          6365           Florio Street            Oakland      94618.0   \n",
              "4          5407           Bryant Avenue            Oakland      94618.0   \n",
              "\n",
              "  latitude_longitude  \n",
              "0      37.88,-122.23  \n",
              "1      37.86,-122.22  \n",
              "2      37.85,-122.24  \n",
              "3      37.85,-122.25  \n",
              "4      37.84,-122.25  "
            ]
          },
          "execution_count": 3,
          "metadata": {},
          "output_type": "execute_result"
        }
      ],
      "source": [
        "housing_addresses = pd.read_csv('housing_addresses.csv'); housing_addresses.head()"
      ]
    },
    {
      "cell_type": "markdown",
      "metadata": {
        "id": "IjsRT6P1imhy"
      },
      "source": [
        "## Inspect the data"
      ]
    },
    {
      "cell_type": "markdown",
      "metadata": {
        "id": "BuMUq4s6imhy"
      },
      "source": [
        "### The shape of data"
      ]
    },
    {
      "cell_type": "markdown",
      "metadata": {
        "id": "kqZjuvizimhy"
      },
      "source": [
        "Whenever we have a new dataset it is handy to begin by getting an idea of how large the `DataFrame` is. This can be done with either the `len` or `DataFrame.shape` methods:"
      ]
    },
    {
      "cell_type": "code",
      "execution_count": 4,
      "metadata": {
        "colab": {
          "base_uri": "https://localhost:8080/"
        },
        "id": "6u2EpM40imhy",
        "outputId": "03143a48-6f56-4b19-e6c4-38aed9038953"
      },
      "outputs": [
        {
          "data": {
            "text/plain": [
              "(20640, 12590)"
            ]
          },
          "execution_count": 4,
          "metadata": {},
          "output_type": "execute_result"
        }
      ],
      "source": [
        "# get number of rows\n",
        "len(housing_data), len(housing_addresses)"
      ]
    },
    {
      "cell_type": "code",
      "execution_count": 5,
      "metadata": {
        "colab": {
          "base_uri": "https://localhost:8080/"
        },
        "id": "tLqIzfo8imhz",
        "outputId": "e1baaadd-42e8-4158-c2b6-5302256003ef"
      },
      "outputs": [
        {
          "data": {
            "text/plain": [
              "((20640, 10), (12590, 5))"
            ]
          },
          "execution_count": 5,
          "metadata": {},
          "output_type": "execute_result"
        }
      ],
      "source": [
        "# get tuples of (n_rows, n_columns)\n",
        "housing_data.shape, housing_addresses.shape"
      ]
    },
    {
      "cell_type": "markdown",
      "metadata": {
        "id": "XVFhTQbXimhz"
      },
      "source": [
        "### Rename columns"
      ]
    },
    {
      "cell_type": "markdown",
      "metadata": {
        "id": "qF6I_GQiimhz"
      },
      "source": [
        "Usually one finds that the column headers in the raw data are either ambiguous or appear in multiple `DataFrame` objects, in which case it is handy to give them the same name. Although it's obvious from the `DataFrame.head()` method what the column headers are for our housing and address data, one often has tens or hundreds of columns and the fastest way to see their names is as follows:"
      ]
    },
    {
      "cell_type": "code",
      "execution_count": 6,
      "metadata": {
        "colab": {
          "base_uri": "https://localhost:8080/"
        },
        "id": "4KTVk0APimhz",
        "outputId": "8c61f904-f982-4e91-9e09-aa58d6f0ec70"
      },
      "outputs": [
        {
          "data": {
            "text/plain": [
              "Index(['street_number', 'route', 'locality-political', 'postal_code',\n",
              "       'latitude_longitude'],\n",
              "      dtype='object')"
            ]
          },
          "execution_count": 6,
          "metadata": {},
          "output_type": "execute_result"
        }
      ],
      "source": [
        "housing_addresses.columns"
      ]
    },
    {
      "cell_type": "markdown",
      "metadata": {
        "id": "SOo09gCqimh0"
      },
      "source": [
        "Let's rename the `route` and `locality-political` columns to something more transparent:"
      ]
    },
    {
      "cell_type": "code",
      "execution_count": 7,
      "metadata": {
        "id": "f4HgmGRximh0"
      },
      "outputs": [],
      "source": [
        "housing_addresses.rename(columns={'route':'street_name', 'locality-political':'city'}, inplace=True)"
      ]
    },
    {
      "cell_type": "code",
      "execution_count": 8,
      "metadata": {
        "colab": {
          "base_uri": "https://localhost:8080/",
          "height": 206
        },
        "id": "MZuqM3fJimh0",
        "outputId": "f35b8f98-192a-48fe-cb0c-2cb86222d20b"
      },
      "outputs": [
        {
          "data": {
            "text/html": [
              "<div>\n",
              "<style scoped>\n",
              "    .dataframe tbody tr th:only-of-type {\n",
              "        vertical-align: middle;\n",
              "    }\n",
              "\n",
              "    .dataframe tbody tr th {\n",
              "        vertical-align: top;\n",
              "    }\n",
              "\n",
              "    .dataframe thead th {\n",
              "        text-align: right;\n",
              "    }\n",
              "</style>\n",
              "<table border=\"1\" class=\"dataframe\">\n",
              "  <thead>\n",
              "    <tr style=\"text-align: right;\">\n",
              "      <th></th>\n",
              "      <th>street_number</th>\n",
              "      <th>street_name</th>\n",
              "      <th>city</th>\n",
              "      <th>postal_code</th>\n",
              "      <th>latitude_longitude</th>\n",
              "    </tr>\n",
              "  </thead>\n",
              "  <tbody>\n",
              "    <tr>\n",
              "      <th>0</th>\n",
              "      <td>3130</td>\n",
              "      <td>Grizzly Peak Boulevard</td>\n",
              "      <td>Berkeley</td>\n",
              "      <td>94705.0</td>\n",
              "      <td>37.88,-122.23</td>\n",
              "    </tr>\n",
              "    <tr>\n",
              "      <th>1</th>\n",
              "      <td>2005</td>\n",
              "      <td>Tunnel Road</td>\n",
              "      <td>Oakland</td>\n",
              "      <td>94611.0</td>\n",
              "      <td>37.86,-122.22</td>\n",
              "    </tr>\n",
              "    <tr>\n",
              "      <th>2</th>\n",
              "      <td>6886</td>\n",
              "      <td>Chabot Road</td>\n",
              "      <td>Oakland</td>\n",
              "      <td>94618.0</td>\n",
              "      <td>37.85,-122.24</td>\n",
              "    </tr>\n",
              "    <tr>\n",
              "      <th>3</th>\n",
              "      <td>6365</td>\n",
              "      <td>Florio Street</td>\n",
              "      <td>Oakland</td>\n",
              "      <td>94618.0</td>\n",
              "      <td>37.85,-122.25</td>\n",
              "    </tr>\n",
              "    <tr>\n",
              "      <th>4</th>\n",
              "      <td>5407</td>\n",
              "      <td>Bryant Avenue</td>\n",
              "      <td>Oakland</td>\n",
              "      <td>94618.0</td>\n",
              "      <td>37.84,-122.25</td>\n",
              "    </tr>\n",
              "  </tbody>\n",
              "</table>\n",
              "</div>"
            ],
            "text/plain": [
              "  street_number             street_name      city  postal_code  \\\n",
              "0          3130  Grizzly Peak Boulevard  Berkeley      94705.0   \n",
              "1          2005             Tunnel Road   Oakland      94611.0   \n",
              "2          6886             Chabot Road   Oakland      94618.0   \n",
              "3          6365           Florio Street   Oakland      94618.0   \n",
              "4          5407           Bryant Avenue   Oakland      94618.0   \n",
              "\n",
              "  latitude_longitude  \n",
              "0      37.88,-122.23  \n",
              "1      37.86,-122.22  \n",
              "2      37.85,-122.24  \n",
              "3      37.85,-122.25  \n",
              "4      37.84,-122.25  "
            ]
          },
          "execution_count": 8,
          "metadata": {},
          "output_type": "execute_result"
        }
      ],
      "source": [
        "# check that the renaming worked\n",
        "housing_addresses.head()"
      ]
    },
    {
      "cell_type": "markdown",
      "metadata": {
        "id": "zZgkoTiCimh0"
      },
      "source": [
        "> Note: Many functions like `DataFrame.rename()` can manipulate an object _in-place_ without returning a new object. In other words, when `inplace=True` is passed, the data is renamed in place as `data_frame.an_operation(inplace=True)."
      ]
    },
    {
      "cell_type": "markdown",
      "metadata": {
        "id": "Um5YiaM6imh1"
      },
      "source": [
        "### Unique values"
      ]
    },
    {
      "cell_type": "markdown",
      "metadata": {
        "id": "P2vOs-mpimh1"
      },
      "source": [
        "Since we are dealing with data about California, we should check that the `city` column contains a reasonable number of unique entries. In pandas we can check this the `DataFrame.nunique()` method:"
      ]
    },
    {
      "cell_type": "code",
      "execution_count": 9,
      "metadata": {
        "colab": {
          "base_uri": "https://localhost:8080/"
        },
        "id": "AcYB8tphimh1",
        "outputId": "de758f26-8074-4ba8-cccb-691594420f3f"
      },
      "outputs": [
        {
          "data": {
            "text/plain": [
              "989"
            ]
          },
          "execution_count": 9,
          "metadata": {},
          "output_type": "execute_result"
        }
      ],
      "source": [
        "housing_addresses['city'].nunique()"
      ]
    },
    {
      "cell_type": "markdown",
      "metadata": {
        "id": "gCKzlM_dimh1"
      },
      "source": [
        "---\n",
        "\n",
        "#### Exercise #1\n",
        "\n",
        "Does the above number make sense to you? What additional data could you find to determine if it does or does not?\n",
        "\n",
        "---"
      ]
    },
    {
      "cell_type": "code",
      "execution_count": 22,
      "metadata": {},
      "outputs": [
        {
          "name": "stdout",
          "output_type": "stream",
          "text": [
            "Uniqe lon and lat:\t 12590\n",
            "Unique postal codes:\t 1534\n",
            "\n",
            "Average Postal/city:\t 1.551061678463094\n",
            "Average lonlat/city:\t 12.730030333670374\n"
          ]
        }
      ],
      "source": [
        "#we could check the geo data: lon and lat and get the unique combinations\n",
        "unique_lonlat =     len(housing_addresses[\"latitude_longitude\"].unique())\n",
        "unique_postal =     len(housing_addresses['postal_code'].unique())\n",
        "unique_city =       housing_addresses['city'].nunique()\n",
        "\n",
        "print(\"Uniqe lon and lat:\\t\" , unique_lonlat)\n",
        "print(\"Unique postal codes:\\t\", unique_postal)\n",
        "print(\"\\nAverage Postal/city:\\t\", unique_postal/unique_city)\n",
        "print(\"Average lonlat/city:\\t\", unique_lonlat/unique_city)\n",
        "\n",
        "#it seems plaussible when comparring to these datapoints. It would be normal that a city\n",
        "\n",
        "#comparing the lon lat to the housing_data data_frame"
      ]
    },
    {
      "cell_type": "markdown",
      "metadata": {
        "id": "D-B1cq9gimh2"
      },
      "source": [
        "## Visualising geographical data"
      ]
    },
    {
      "cell_type": "markdown",
      "metadata": {
        "id": "wZCCY6Fqimh2"
      },
      "source": [
        "In this lesson we will be focusing on how the house location affects its price, so let's make a scatterplot of the latitude and longitude values to see if we can identify any interesting patterns:"
      ]
    },
    {
      "cell_type": "code",
      "execution_count": 24,
      "metadata": {
        "colab": {
          "base_uri": "https://localhost:8080/",
          "height": 285
        },
        "id": "M1grj4G6imh2",
        "outputId": "0ba7ffdc-8f83-442b-914c-bd95b27aa126"
      },
      "outputs": [
        {
          "data": {
            "image/png": "[encoded data removed]",
            "text/plain": [
              "<Figure size 432x288 with 1 Axes>"
            ]
          },
          "metadata": {},
          "output_type": "display_data"
        }
      ],
      "source": [
        "sns.scatterplot(x=\"longitude\", y=\"latitude\", data=housing_data);"
      ]
    },
    {
      "cell_type": "markdown",
      "metadata": {
        "id": "syHAtkCTimh2"
      },
      "source": [
        "Although the points look like the shape of California, we see that many are overlapping which obscures potentially interesting substructure. We can fix this by configuring the transparency of the points with the `alpha` argument:"
      ]
    },
    {
      "cell_type": "code",
      "execution_count": 25,
      "metadata": {
        "colab": {
          "base_uri": "https://localhost:8080/",
          "height": 285
        },
        "id": "7mi3npZwimh2",
        "outputId": "61c44ffc-6389-4c6d-ee1d-e41cf64b6194"
      },
      "outputs": [
        {
          "data": {
            "image/png": "[encoded data removed]",
            "text/plain": [
              "<Figure size 432x288 with 1 Axes>"
            ]
          },
          "metadata": {},
          "output_type": "display_data"
        }
      ],
      "source": [
        "sns.scatterplot(x=\"longitude\", y=\"latitude\", data=housing_data, alpha=0.1);"
      ]
    },
    {
      "cell_type": "markdown",
      "metadata": {
        "id": "5pt6GRxjimh3"
      },
      "source": [
        "This is much better as we can now see distinct clusters of houses. To make this plot even more informative, let's colour the points according to the median house value; we will use the [viridis](https://bids.github.io/colormap/) colourmap (palette) as this has been carefully designed for data that has a sequential nature (i.e. low to high values):"
      ]
    },
    {
      "cell_type": "code",
      "execution_count": 27,
      "metadata": {
        "colab": {
          "base_uri": "https://localhost:8080/",
          "height": 293
        },
        "id": "HvJKtuc-imh3",
        "outputId": "27c757c7-51e0-4ccc-b08b-1f307e3174ca"
      },
      "outputs": [
        {
          "data": {
            "image/png": "[encoded data removed]",
            "text/plain": [
              "<Figure size 432x288 with 1 Axes>"
            ]
          },
          "metadata": {},
          "output_type": "display_data"
        }
      ],
      "source": [
        "fig = sns.scatterplot(\n",
        "    x=\"longitude\",\n",
        "    y=\"latitude\",\n",
        "    data=housing_data,\n",
        "    alpha=0.1,\n",
        "    hue=\"median_house_value\",\n",
        "    palette=\"viridis\",\n",
        "    size=housing_data[\"population\"] / 100\n",
        ")\n",
        "\n",
        "# place legend outside of figure\n",
        "fig.legend(loc=\"center left\", bbox_to_anchor=(1.01, 0.6), ncol=1);"
      ]
    },
    {
      "cell_type": "markdown",
      "metadata": {
        "id": "6s4Ke8Buimh3"
      },
      "source": [
        "---\n",
        "\n",
        "#### Exercise #2\n",
        "\n",
        "What does the figure above tell us about the relationship between house prices and location or population density? \n",
        "\n",
        "---"
      ]
    },
    {
      "cell_type": "markdown",
      "metadata": {},
      "source": [
        " - That the denser the population the higher the house values\n",
        " - Houses in more populated areas are more in demand"
      ]
    },
    {
      "cell_type": "markdown",
      "metadata": {
        "id": "yBxOOw-himh4"
      },
      "source": [
        "---\n",
        "\n",
        "#### Exercise #3\n",
        "\n",
        "Can you explain the light green and yellow hotspots in the above figure?\n",
        "\n",
        "---"
      ]
    },
    {
      "cell_type": "markdown",
      "metadata": {
        "id": "HhoYWfcZimh4"
      },
      "source": [
        "## Merging DataFrames"
      ]
    },
    {
      "cell_type": "markdown",
      "metadata": {
        "id": "NbJHJ6G-imh4"
      },
      "source": [
        "Although the `housing_data` and `housing_addresses` `DataFrames` contain interesting information, it would be nice if there was a way to join the two tables.\n",
        "\n",
        "More generally, one of the most common operations in pandas (or data science for that matter) is the combination of data contained in various objects. In particular, _**merge**_ or _**join**_ operations combine datasets by linking rows using one of more _**keys**_. These operations are central to relational databases (e.g. SQL-based). The `pandas.merge()` function in pandas is the main entry point for using these algorithms on your data. \n",
        "\n",
        "Let's use this idea to combine the `housing_data` and `housing_addresses` `pandas.DataFrame` objects via their common latitude and longitude coordinates. First we need to combine the `latitude` and `longitude` columns of `housing_data` into the same `lat,lon` format as our `housing_addresses` `pandas.DataFrame`. To do so, we will use the `Series.astype()` function to convert the numerical column values to strings, then use string concatenation to create a new `latitude_longitude` column with the desired format:"
      ]
    },
    {
      "cell_type": "code",
      "execution_count": 28,
      "metadata": {
        "colab": {
          "base_uri": "https://localhost:8080/",
          "height": 206
        },
        "id": "y_PVm_Juimh4",
        "outputId": "45cd4bc9-4ad7-4aa0-eb8a-60f16e53a202"
      },
      "outputs": [
        {
          "data": {
            "text/html": [
              "<div>\n",
              "<style scoped>\n",
              "    .dataframe tbody tr th:only-of-type {\n",
              "        vertical-align: middle;\n",
              "    }\n",
              "\n",
              "    .dataframe tbody tr th {\n",
              "        vertical-align: top;\n",
              "    }\n",
              "\n",
              "    .dataframe thead th {\n",
              "        text-align: right;\n",
              "    }\n",
              "</style>\n",
              "<table border=\"1\" class=\"dataframe\">\n",
              "  <thead>\n",
              "    <tr style=\"text-align: right;\">\n",
              "      <th></th>\n",
              "      <th>longitude</th>\n",
              "      <th>latitude</th>\n",
              "      <th>housing_median_age</th>\n",
              "      <th>total_rooms</th>\n",
              "      <th>total_bedrooms</th>\n",
              "      <th>population</th>\n",
              "      <th>households</th>\n",
              "      <th>median_income</th>\n",
              "      <th>median_house_value</th>\n",
              "      <th>ocean_proximity</th>\n",
              "      <th>latitude_longitude</th>\n",
              "    </tr>\n",
              "  </thead>\n",
              "  <tbody>\n",
              "    <tr>\n",
              "      <th>0</th>\n",
              "      <td>-122.23</td>\n",
              "      <td>37.88</td>\n",
              "      <td>41.0</td>\n",
              "      <td>880.0</td>\n",
              "      <td>129.0</td>\n",
              "      <td>322.0</td>\n",
              "      <td>126.0</td>\n",
              "      <td>8.3252</td>\n",
              "      <td>452600.0</td>\n",
              "      <td>NEAR BAY</td>\n",
              "      <td>37.88,-122.23</td>\n",
              "    </tr>\n",
              "    <tr>\n",
              "      <th>1</th>\n",
              "      <td>-122.22</td>\n",
              "      <td>37.86</td>\n",
              "      <td>21.0</td>\n",
              "      <td>7099.0</td>\n",
              "      <td>1106.0</td>\n",
              "      <td>2401.0</td>\n",
              "      <td>1138.0</td>\n",
              "      <td>8.3014</td>\n",
              "      <td>358500.0</td>\n",
              "      <td>NEAR BAY</td>\n",
              "      <td>37.86,-122.22</td>\n",
              "    </tr>\n",
              "    <tr>\n",
              "      <th>2</th>\n",
              "      <td>-122.24</td>\n",
              "      <td>37.85</td>\n",
              "      <td>52.0</td>\n",
              "      <td>1467.0</td>\n",
              "      <td>190.0</td>\n",
              "      <td>496.0</td>\n",
              "      <td>177.0</td>\n",
              "      <td>7.2574</td>\n",
              "      <td>352100.0</td>\n",
              "      <td>NEAR BAY</td>\n",
              "      <td>37.85,-122.24</td>\n",
              "    </tr>\n",
              "    <tr>\n",
              "      <th>3</th>\n",
              "      <td>-122.25</td>\n",
              "      <td>37.85</td>\n",
              "      <td>52.0</td>\n",
              "      <td>1274.0</td>\n",
              "      <td>235.0</td>\n",
              "      <td>558.0</td>\n",
              "      <td>219.0</td>\n",
              "      <td>5.6431</td>\n",
              "      <td>341300.0</td>\n",
              "      <td>NEAR BAY</td>\n",
              "      <td>37.85,-122.25</td>\n",
              "    </tr>\n",
              "    <tr>\n",
              "      <th>4</th>\n",
              "      <td>-122.25</td>\n",
              "      <td>37.85</td>\n",
              "      <td>52.0</td>\n",
              "      <td>1627.0</td>\n",
              "      <td>280.0</td>\n",
              "      <td>565.0</td>\n",
              "      <td>259.0</td>\n",
              "      <td>3.8462</td>\n",
              "      <td>342200.0</td>\n",
              "      <td>NEAR BAY</td>\n",
              "      <td>37.85,-122.25</td>\n",
              "    </tr>\n",
              "  </tbody>\n",
              "</table>\n",
              "</div>"
            ],
            "text/plain": [
              "   longitude  latitude  housing_median_age  total_rooms  total_bedrooms  \\\n",
              "0    -122.23     37.88                41.0        880.0           129.0   \n",
              "1    -122.22     37.86                21.0       7099.0          1106.0   \n",
              "2    -122.24     37.85                52.0       1467.0           190.0   \n",
              "3    -122.25     37.85                52.0       1274.0           235.0   \n",
              "4    -122.25     37.85                52.0       1627.0           280.0   \n",
              "\n",
              "   population  households  median_income  median_house_value ocean_proximity  \\\n",
              "0       322.0       126.0         8.3252            452600.0        NEAR BAY   \n",
              "1      2401.0      1138.0         8.3014            358500.0        NEAR BAY   \n",
              "2       496.0       177.0         7.2574            352100.0        NEAR BAY   \n",
              "3       558.0       219.0         5.6431            341300.0        NEAR BAY   \n",
              "4       565.0       259.0         3.8462            342200.0        NEAR BAY   \n",
              "\n",
              "  latitude_longitude  \n",
              "0      37.88,-122.23  \n",
              "1      37.86,-122.22  \n",
              "2      37.85,-122.24  \n",
              "3      37.85,-122.25  \n",
              "4      37.85,-122.25  "
            ]
          },
          "execution_count": 28,
          "metadata": {},
          "output_type": "execute_result"
        }
      ],
      "source": [
        "# create new column\n",
        "housing_data['latitude_longitude'] = housing_data['latitude'].astype(str) + ',' + housing_data['longitude'].astype(str)\n",
        "# check the column was created\n",
        "housing_data.head()"
      ]
    },
    {
      "cell_type": "markdown",
      "metadata": {
        "id": "HxDPsrGbimh5"
      },
      "source": [
        "--- \n",
        "\n",
        "#### Exercise #4\n",
        "\n",
        "Calculate the number of unique values in the `latitude_longitude` column of both `housing_data` and `housing_addresses`.\n",
        "\n",
        "* What can you conclude from this comparison? \n",
        "* Why do you think there might be less unique coordinate pairs than the total number of houses?\n",
        "\n",
        "---"
      ]
    },
    {
      "cell_type": "code",
      "execution_count": 33,
      "metadata": {
        "colab": {
          "base_uri": "https://localhost:8080/"
        },
        "id": "-3Vm7pwAeBSJ",
        "outputId": "cb6254e0-6b71-4e43-ced1-2a01f58a89e8"
      },
      "outputs": [
        {
          "name": "stdout",
          "output_type": "stream",
          "text": [
            "Have same lenght:  True\n"
          ]
        }
      ],
      "source": [
        "adress : int = housing_addresses['latitude_longitude'].nunique() #12590\n",
        "data : int = len(housing_data[\"latitude_longitude\"].unique())\n",
        "\n",
        "print(\"Have same lenght: \", adress==data)"
      ]
    },
    {
      "cell_type": "markdown",
      "metadata": {
        "id": "R8h_IfWFimh5"
      },
      "source": [
        "Now that we have `latitude_longitude` present in both `pandas.DataFrame` objects we can merge the two tables together in pandas as follows:"
      ]
    },
    {
      "cell_type": "code",
      "execution_count": 35,
      "metadata": {
        "colab": {
          "base_uri": "https://localhost:8080/",
          "height": 288
        },
        "id": "9eL22h4Cimh5",
        "outputId": "f06ac92a-e8b8-4c99-96e3-f8f125c89ff9"
      },
      "outputs": [
        {
          "data": {
            "text/html": [
              "<div>\n",
              "<style scoped>\n",
              "    .dataframe tbody tr th:only-of-type {\n",
              "        vertical-align: middle;\n",
              "    }\n",
              "\n",
              "    .dataframe tbody tr th {\n",
              "        vertical-align: top;\n",
              "    }\n",
              "\n",
              "    .dataframe thead th {\n",
              "        text-align: right;\n",
              "    }\n",
              "</style>\n",
              "<table border=\"1\" class=\"dataframe\">\n",
              "  <thead>\n",
              "    <tr style=\"text-align: right;\">\n",
              "      <th></th>\n",
              "      <th>longitude</th>\n",
              "      <th>latitude</th>\n",
              "      <th>housing_median_age</th>\n",
              "      <th>total_rooms</th>\n",
              "      <th>total_bedrooms</th>\n",
              "      <th>population</th>\n",
              "      <th>households</th>\n",
              "      <th>median_income</th>\n",
              "      <th>median_house_value</th>\n",
              "      <th>ocean_proximity</th>\n",
              "      <th>latitude_longitude</th>\n",
              "      <th>street_number</th>\n",
              "      <th>street_name</th>\n",
              "      <th>city</th>\n",
              "      <th>postal_code</th>\n",
              "    </tr>\n",
              "  </thead>\n",
              "  <tbody>\n",
              "    <tr>\n",
              "      <th>0</th>\n",
              "      <td>-122.23</td>\n",
              "      <td>37.88</td>\n",
              "      <td>41.0</td>\n",
              "      <td>880.0</td>\n",
              "      <td>129.0</td>\n",
              "      <td>322.0</td>\n",
              "      <td>126.0</td>\n",
              "      <td>8.3252</td>\n",
              "      <td>452600.0</td>\n",
              "      <td>NEAR BAY</td>\n",
              "      <td>37.88,-122.23</td>\n",
              "      <td>3130</td>\n",
              "      <td>Grizzly Peak Boulevard</td>\n",
              "      <td>Berkeley</td>\n",
              "      <td>94705.0</td>\n",
              "    </tr>\n",
              "    <tr>\n",
              "      <th>1</th>\n",
              "      <td>-122.22</td>\n",
              "      <td>37.86</td>\n",
              "      <td>21.0</td>\n",
              "      <td>7099.0</td>\n",
              "      <td>1106.0</td>\n",
              "      <td>2401.0</td>\n",
              "      <td>1138.0</td>\n",
              "      <td>8.3014</td>\n",
              "      <td>358500.0</td>\n",
              "      <td>NEAR BAY</td>\n",
              "      <td>37.86,-122.22</td>\n",
              "      <td>2005</td>\n",
              "      <td>Tunnel Road</td>\n",
              "      <td>Oakland</td>\n",
              "      <td>94611.0</td>\n",
              "    </tr>\n",
              "    <tr>\n",
              "      <th>2</th>\n",
              "      <td>-122.24</td>\n",
              "      <td>37.85</td>\n",
              "      <td>52.0</td>\n",
              "      <td>1467.0</td>\n",
              "      <td>190.0</td>\n",
              "      <td>496.0</td>\n",
              "      <td>177.0</td>\n",
              "      <td>7.2574</td>\n",
              "      <td>352100.0</td>\n",
              "      <td>NEAR BAY</td>\n",
              "      <td>37.85,-122.24</td>\n",
              "      <td>6886</td>\n",
              "      <td>Chabot Road</td>\n",
              "      <td>Oakland</td>\n",
              "      <td>94618.0</td>\n",
              "    </tr>\n",
              "    <tr>\n",
              "      <th>3</th>\n",
              "      <td>-122.25</td>\n",
              "      <td>37.85</td>\n",
              "      <td>52.0</td>\n",
              "      <td>1274.0</td>\n",
              "      <td>235.0</td>\n",
              "      <td>558.0</td>\n",
              "      <td>219.0</td>\n",
              "      <td>5.6431</td>\n",
              "      <td>341300.0</td>\n",
              "      <td>NEAR BAY</td>\n",
              "      <td>37.85,-122.25</td>\n",
              "      <td>6365</td>\n",
              "      <td>Florio Street</td>\n",
              "      <td>Oakland</td>\n",
              "      <td>94618.0</td>\n",
              "    </tr>\n",
              "    <tr>\n",
              "      <th>4</th>\n",
              "      <td>-122.25</td>\n",
              "      <td>37.85</td>\n",
              "      <td>52.0</td>\n",
              "      <td>1627.0</td>\n",
              "      <td>280.0</td>\n",
              "      <td>565.0</td>\n",
              "      <td>259.0</td>\n",
              "      <td>3.8462</td>\n",
              "      <td>342200.0</td>\n",
              "      <td>NEAR BAY</td>\n",
              "      <td>37.85,-122.25</td>\n",
              "      <td>6365</td>\n",
              "      <td>Florio Street</td>\n",
              "      <td>Oakland</td>\n",
              "      <td>94618.0</td>\n",
              "    </tr>\n",
              "  </tbody>\n",
              "</table>\n",
              "</div>"
            ],
            "text/plain": [
              "   longitude  latitude  housing_median_age  total_rooms  total_bedrooms  \\\n",
              "0    -122.23     37.88                41.0        880.0           129.0   \n",
              "1    -122.22     37.86                21.0       7099.0          1106.0   \n",
              "2    -122.24     37.85                52.0       1467.0           190.0   \n",
              "3    -122.25     37.85                52.0       1274.0           235.0   \n",
              "4    -122.25     37.85                52.0       1627.0           280.0   \n",
              "\n",
              "   population  households  median_income  median_house_value ocean_proximity  \\\n",
              "0       322.0       126.0         8.3252            452600.0        NEAR BAY   \n",
              "1      2401.0      1138.0         8.3014            358500.0        NEAR BAY   \n",
              "2       496.0       177.0         7.2574            352100.0        NEAR BAY   \n",
              "3       558.0       219.0         5.6431            341300.0        NEAR BAY   \n",
              "4       565.0       259.0         3.8462            342200.0        NEAR BAY   \n",
              "\n",
              "  latitude_longitude street_number             street_name      city  \\\n",
              "0      37.88,-122.23          3130  Grizzly Peak Boulevard  Berkeley   \n",
              "1      37.86,-122.22          2005             Tunnel Road   Oakland   \n",
              "2      37.85,-122.24          6886             Chabot Road   Oakland   \n",
              "3      37.85,-122.25          6365           Florio Street   Oakland   \n",
              "4      37.85,-122.25          6365           Florio Street   Oakland   \n",
              "\n",
              "   postal_code  \n",
              "0      94705.0  \n",
              "1      94611.0  \n",
              "2      94618.0  \n",
              "3      94618.0  \n",
              "4      94618.0  "
            ]
          },
          "execution_count": 35,
          "metadata": {},
          "output_type": "execute_result"
        }
      ],
      "source": [
        "# create a new DataFrame from the merge\n",
        "housing_merged = pd.merge(\n",
        "    housing_data, housing_addresses, how=\"left\", on=\"latitude_longitude\"\n",
        ")\n",
        "# check merge worked\n",
        "housing_merged.head()"
      ]
    },
    {
      "cell_type": "markdown",
      "metadata": {
        "id": "LFgI3YgOimh5"
      },
      "source": [
        "Boom! We now have a single `pandas.DataFrame` that links information for house prices and attributes and their addresses."
      ]
    },
    {
      "cell_type": "markdown",
      "metadata": {
        "id": "ZCtwx3XNimh5"
      },
      "source": [
        "> Note: The merge operation above is an example of a _**left** join_, namely we use all the key combinations of `latitude_longitude` found in the **left** table `housing_data`. "
      ]
    },
    {
      "cell_type": "markdown",
      "metadata": {
        "id": "VgoksiK1imh6"
      },
      "source": [
        "In general the `'how'` argument of `pandas.merge()` allows four different join types:\n",
        "* `'left'`: Use all key combinations found in the left table\n",
        "* `'right'`: Use all key combinations found in the right table\n",
        "* `'inner'`: Use only the key combinations observed in both tables\n",
        "* `'outer'`: Use all key combinations observed in both tables together\n",
        "\n",
        "A visual example of these different merges in action is shown in the figure below."
      ]
    },
    {
      "cell_type": "markdown",
      "metadata": {
        "id": "Cx5udB_Cimh6"
      },
      "source": [
        "Check out [this blog post](https://towardsdatascience.com/what-is-the-difference-between-an-inner-and-an-outer-join-in-sql-5b5ec8277377) for graphical representations of the different types of joins (left, right, inner, outer join) between two DataFrames df1 and df2 that are possible in pandas."
      ]
    },
    {
      "cell_type": "markdown",
      "metadata": {
        "id": "AK1ZDg5rimh6"
      },
      "source": [
        "> Warning: If the keys in one table match more than one row in the other `pandas.DataFrame` you can expect a _larger_ table to appear after you do a left join. To avoid this behaviour, you can run `DataFrame.drop_duplicates()` before doing the merge."
      ]
    },
    {
      "cell_type": "markdown",
      "metadata": {
        "id": "WV7tys5Fimh6"
      },
      "source": [
        "## Dropping columns"
      ]
    },
    {
      "cell_type": "markdown",
      "metadata": {
        "id": "Xj3QUYpAimh6"
      },
      "source": [
        "It is not uncommon for a dataset to have tens or hundreds of columns, and in practice we may only want to focus our attention on a smaller subset. One way to remove unwanted columns is via the `DataFrame.drop()` method. Since we have duplicate information about the latitude and longitude coordinate, we may as well drop the `latitude_longitude` column from our merged `pandas.DataFrame`:"
      ]
    },
    {
      "cell_type": "code",
      "execution_count": 36,
      "metadata": {
        "colab": {
          "base_uri": "https://localhost:8080/",
          "height": 288
        },
        "id": "UqLufu5gimh6",
        "outputId": "22c80057-f524-48cf-ee7f-6e6d5186a8ed"
      },
      "outputs": [
        {
          "data": {
            "text/html": [
              "<div>\n",
              "<style scoped>\n",
              "    .dataframe tbody tr th:only-of-type {\n",
              "        vertical-align: middle;\n",
              "    }\n",
              "\n",
              "    .dataframe tbody tr th {\n",
              "        vertical-align: top;\n",
              "    }\n",
              "\n",
              "    .dataframe thead th {\n",
              "        text-align: right;\n",
              "    }\n",
              "</style>\n",
              "<table border=\"1\" class=\"dataframe\">\n",
              "  <thead>\n",
              "    <tr style=\"text-align: right;\">\n",
              "      <th></th>\n",
              "      <th>longitude</th>\n",
              "      <th>latitude</th>\n",
              "      <th>housing_median_age</th>\n",
              "      <th>total_rooms</th>\n",
              "      <th>total_bedrooms</th>\n",
              "      <th>population</th>\n",
              "      <th>households</th>\n",
              "      <th>median_income</th>\n",
              "      <th>median_house_value</th>\n",
              "      <th>ocean_proximity</th>\n",
              "      <th>street_number</th>\n",
              "      <th>street_name</th>\n",
              "      <th>city</th>\n",
              "      <th>postal_code</th>\n",
              "    </tr>\n",
              "  </thead>\n",
              "  <tbody>\n",
              "    <tr>\n",
              "      <th>0</th>\n",
              "      <td>-122.23</td>\n",
              "      <td>37.88</td>\n",
              "      <td>41.0</td>\n",
              "      <td>880.0</td>\n",
              "      <td>129.0</td>\n",
              "      <td>322.0</td>\n",
              "      <td>126.0</td>\n",
              "      <td>8.3252</td>\n",
              "      <td>452600.0</td>\n",
              "      <td>NEAR BAY</td>\n",
              "      <td>3130</td>\n",
              "      <td>Grizzly Peak Boulevard</td>\n",
              "      <td>Berkeley</td>\n",
              "      <td>94705.0</td>\n",
              "    </tr>\n",
              "    <tr>\n",
              "      <th>1</th>\n",
              "      <td>-122.22</td>\n",
              "      <td>37.86</td>\n",
              "      <td>21.0</td>\n",
              "      <td>7099.0</td>\n",
              "      <td>1106.0</td>\n",
              "      <td>2401.0</td>\n",
              "      <td>1138.0</td>\n",
              "      <td>8.3014</td>\n",
              "      <td>358500.0</td>\n",
              "      <td>NEAR BAY</td>\n",
              "      <td>2005</td>\n",
              "      <td>Tunnel Road</td>\n",
              "      <td>Oakland</td>\n",
              "      <td>94611.0</td>\n",
              "    </tr>\n",
              "    <tr>\n",
              "      <th>2</th>\n",
              "      <td>-122.24</td>\n",
              "      <td>37.85</td>\n",
              "      <td>52.0</td>\n",
              "      <td>1467.0</td>\n",
              "      <td>190.0</td>\n",
              "      <td>496.0</td>\n",
              "      <td>177.0</td>\n",
              "      <td>7.2574</td>\n",
              "      <td>352100.0</td>\n",
              "      <td>NEAR BAY</td>\n",
              "      <td>6886</td>\n",
              "      <td>Chabot Road</td>\n",
              "      <td>Oakland</td>\n",
              "      <td>94618.0</td>\n",
              "    </tr>\n",
              "    <tr>\n",
              "      <th>3</th>\n",
              "      <td>-122.25</td>\n",
              "      <td>37.85</td>\n",
              "      <td>52.0</td>\n",
              "      <td>1274.0</td>\n",
              "      <td>235.0</td>\n",
              "      <td>558.0</td>\n",
              "      <td>219.0</td>\n",
              "      <td>5.6431</td>\n",
              "      <td>341300.0</td>\n",
              "      <td>NEAR BAY</td>\n",
              "      <td>6365</td>\n",
              "      <td>Florio Street</td>\n",
              "      <td>Oakland</td>\n",
              "      <td>94618.0</td>\n",
              "    </tr>\n",
              "    <tr>\n",
              "      <th>4</th>\n",
              "      <td>-122.25</td>\n",
              "      <td>37.85</td>\n",
              "      <td>52.0</td>\n",
              "      <td>1627.0</td>\n",
              "      <td>280.0</td>\n",
              "      <td>565.0</td>\n",
              "      <td>259.0</td>\n",
              "      <td>3.8462</td>\n",
              "      <td>342200.0</td>\n",
              "      <td>NEAR BAY</td>\n",
              "      <td>6365</td>\n",
              "      <td>Florio Street</td>\n",
              "      <td>Oakland</td>\n",
              "      <td>94618.0</td>\n",
              "    </tr>\n",
              "  </tbody>\n",
              "</table>\n",
              "</div>"
            ],
            "text/plain": [
              "   longitude  latitude  housing_median_age  total_rooms  total_bedrooms  \\\n",
              "0    -122.23     37.88                41.0        880.0           129.0   \n",
              "1    -122.22     37.86                21.0       7099.0          1106.0   \n",
              "2    -122.24     37.85                52.0       1467.0           190.0   \n",
              "3    -122.25     37.85                52.0       1274.0           235.0   \n",
              "4    -122.25     37.85                52.0       1627.0           280.0   \n",
              "\n",
              "   population  households  median_income  median_house_value ocean_proximity  \\\n",
              "0       322.0       126.0         8.3252            452600.0        NEAR BAY   \n",
              "1      2401.0      1138.0         8.3014            358500.0        NEAR BAY   \n",
              "2       496.0       177.0         7.2574            352100.0        NEAR BAY   \n",
              "3       558.0       219.0         5.6431            341300.0        NEAR BAY   \n",
              "4       565.0       259.0         3.8462            342200.0        NEAR BAY   \n",
              "\n",
              "  street_number             street_name      city  postal_code  \n",
              "0          3130  Grizzly Peak Boulevard  Berkeley      94705.0  \n",
              "1          2005             Tunnel Road   Oakland      94611.0  \n",
              "2          6886             Chabot Road   Oakland      94618.0  \n",
              "3          6365           Florio Street   Oakland      94618.0  \n",
              "4          6365           Florio Street   Oakland      94618.0  "
            ]
          },
          "execution_count": 36,
          "metadata": {},
          "output_type": "execute_result"
        }
      ],
      "source": [
        "# inplace=True manipulates an object without returning a new object\n",
        "housing_merged.drop(['latitude_longitude'], axis=1, inplace=True); housing_merged.head()"
      ]
    },
    {
      "cell_type": "markdown",
      "metadata": {
        "id": "qboQpkxnimh7"
      },
      "source": [
        "> Note: You will often encounter the cryptic axis parameter when dealing with `pandas.DataFrame` and `pandas.Series` objects. This parameter is used to specify along which dimension we want to apply a given transformation. \"axis=1\" specifies to drop from the ‘columns’."
      ]
    },
    {
      "cell_type": "markdown",
      "metadata": {
        "id": "_joLGLR2imh7"
      },
      "source": [
        "## Saving a DataFrame to disk"
      ]
    },
    {
      "cell_type": "markdown",
      "metadata": {
        "id": "J3FJGQieimh7"
      },
      "source": [
        "At this point, we have a unified table with housing data and their addresses. This is usually a good point to save the intermediate results to disk so that we can reload them without having to run all preprocessing steps. To do so in pandas, we can make use of the `DataFrame.to_csv()` function:"
      ]
    },
    {
      "cell_type": "code",
      "execution_count": 37,
      "metadata": {
        "id": "bpjhyQPRimh7"
      },
      "outputs": [],
      "source": [
        "# use index=False to avoid adding an extra column for the index\n",
        "housing_merged.to_csv('housing_merged.csv', index=False)"
      ]
    },
    {
      "cell_type": "markdown",
      "metadata": {
        "id": "XNTX8_uSimh7"
      },
      "source": [
        "## Indexing, selection, and filtering"
      ]
    },
    {
      "cell_type": "markdown",
      "metadata": {
        "id": "U_exCT06imh8"
      },
      "source": [
        "Now that we have a tidy `pandas.DataFrame` let's apply some of the most common pandas methods to make queries on the data."
      ]
    },
    {
      "cell_type": "markdown",
      "metadata": {
        "id": "d8sRymdBimh8"
      },
      "source": [
        "### Series"
      ]
    },
    {
      "cell_type": "markdown",
      "metadata": {
        "id": "H0fO8OcNimh8"
      },
      "source": [
        "A `pandas.Series` object provides array-style item selection that enables _slicing, masking,_ and _indexing_. For example, we can study the `housing_median_age` colum from a variety of angles:"
      ]
    },
    {
      "cell_type": "code",
      "execution_count": 38,
      "metadata": {
        "id": "rLI7hn7aimh8"
      },
      "outputs": [],
      "source": [
        "# define a new Series object \n",
        "age = housing_merged['housing_median_age']"
      ]
    },
    {
      "cell_type": "code",
      "execution_count": 39,
      "metadata": {
        "colab": {
          "base_uri": "https://localhost:8080/"
        },
        "id": "hV6ryoKWimh8",
        "outputId": "0ba40673-220d-4ac8-e8b5-c05ec610ca8e"
      },
      "outputs": [
        {
          "data": {
            "text/plain": [
              "0        41.0\n",
              "1        21.0\n",
              "2        52.0\n",
              "3        52.0\n",
              "4        52.0\n",
              "         ... \n",
              "20635    25.0\n",
              "20636    18.0\n",
              "20637    17.0\n",
              "20638    18.0\n",
              "20639    16.0\n",
              "Name: housing_median_age, Length: 20640, dtype: float64"
            ]
          },
          "execution_count": 39,
          "metadata": {},
          "output_type": "execute_result"
        }
      ],
      "source": [
        "age"
      ]
    },
    {
      "cell_type": "code",
      "execution_count": 40,
      "metadata": {
        "colab": {
          "base_uri": "https://localhost:8080/"
        },
        "id": "QvAaTC8Ximh8",
        "outputId": "dbea2230-efe6-4fd0-81d0-1aef28a3b94d"
      },
      "outputs": [
        {
          "data": {
            "text/plain": [
              "41.0"
            ]
          },
          "execution_count": 40,
          "metadata": {},
          "output_type": "execute_result"
        }
      ],
      "source": [
        "# get first entry\n",
        "age[0]"
      ]
    },
    {
      "cell_type": "code",
      "execution_count": 41,
      "metadata": {
        "colab": {
          "base_uri": "https://localhost:8080/"
        },
        "id": "3xrt9qLlimh9",
        "outputId": "667b29ee-e15c-4e0a-f3a3-1b0b1e9e7593"
      },
      "outputs": [
        {
          "data": {
            "text/plain": [
              "2    52.0\n",
              "3    52.0\n",
              "4    52.0\n",
              "Name: housing_median_age, dtype: float64"
            ]
          },
          "execution_count": 41,
          "metadata": {},
          "output_type": "execute_result"
        }
      ],
      "source": [
        "# slicing by index\n",
        "age[2:5]"
      ]
    },
    {
      "cell_type": "code",
      "execution_count": 44,
      "metadata": {
        "colab": {
          "base_uri": "https://localhost:8080/"
        },
        "id": "5WSNEM3Dimh9",
        "outputId": "452969cb-0577-4865-ba87-fffb5151c84a"
      },
      "outputs": [
        {
          "name": "stdout",
          "output_type": "stream",
          "text": [
            "[52.0, 52.0, 52.0]\n"
          ]
        }
      ],
      "source": [
        "# slice and just get values\n",
        "age[2:5].values\n",
        "example = age[2:5].tolist(); print(example)"
      ]
    },
    {
      "cell_type": "code",
      "execution_count": 45,
      "metadata": {
        "colab": {
          "base_uri": "https://localhost:8080/"
        },
        "id": "hQkbVymZimh9",
        "outputId": "9bb3ef02-f259-4121-c504-7bb00940c32d"
      },
      "outputs": [
        {
          "data": {
            "text/plain": [
              "count    20640.000000\n",
              "mean        28.639486\n",
              "std         12.585558\n",
              "min          1.000000\n",
              "25%         18.000000\n",
              "50%         29.000000\n",
              "75%         37.000000\n",
              "max         52.000000\n",
              "Name: housing_median_age, dtype: float64"
            ]
          },
          "execution_count": 45,
          "metadata": {},
          "output_type": "execute_result"
        }
      ],
      "source": [
        "age.describe()"
      ]
    },
    {
      "cell_type": "code",
      "execution_count": 46,
      "metadata": {
        "colab": {
          "base_uri": "https://localhost:8080/"
        },
        "id": "rj3o9vLZimh9",
        "outputId": "482cf6ab-3c7e-471e-8992-a2c6cf63e28e"
      },
      "outputs": [
        {
          "data": {
            "text/plain": [
              "75       17.0\n",
              "77       19.0\n",
              "80       17.0\n",
              "90       16.0\n",
              "131      18.0\n",
              "         ... \n",
              "20632    15.0\n",
              "20636    18.0\n",
              "20637    17.0\n",
              "20638    18.0\n",
              "20639    16.0\n",
              "Name: housing_median_age, Length: 4259, dtype: float64"
            ]
          },
          "execution_count": 46,
          "metadata": {},
          "output_type": "execute_result"
        }
      ],
      "source": [
        "# masking (filtering)\n",
        "age[(age > 10.0) & (age < 20.0)]"
      ]
    },
    {
      "cell_type": "code",
      "execution_count": 47,
      "metadata": {
        "colab": {
          "base_uri": "https://localhost:8080/"
        },
        "id": "g1DmruXjimh9",
        "outputId": "bd2c9587-d384-41c8-b9b9-c19c684dd7d9"
      },
      "outputs": [
        {
          "data": {
            "text/plain": [
              "0    41.0\n",
              "1    21.0\n",
              "4    52.0\n",
              "Name: housing_median_age, dtype: float64"
            ]
          },
          "execution_count": 47,
          "metadata": {},
          "output_type": "execute_result"
        }
      ],
      "source": [
        "# fancy indexing (i.e. passing multiple indices at once)\n",
        "age[[0, 1, 4]]\n"
      ]
    },
    {
      "cell_type": "markdown",
      "metadata": {
        "id": "_u5-f9M3imh-"
      },
      "source": [
        "### DataFrame"
      ]
    },
    {
      "cell_type": "markdown",
      "metadata": {
        "id": "dE00r65yimh-"
      },
      "source": [
        "Since a `pandas.DataFrame` acts like a two-dimensional array, pandas provides special indexing operators called `DataFrame.iloc[]` and `DataFrame.loc[]` to slice and dice our data. `loc` is based on labels, so rows and columns need to be addressed using their labels, whereas `iloc` is based on the integer position. As an example, let's select a single row and multiple columns by _**label**_:"
      ]
    },
    {
      "cell_type": "code",
      "execution_count": 48,
      "metadata": {
        "colab": {
          "base_uri": "https://localhost:8080/"
        },
        "id": "Zrosj7qZimh-",
        "outputId": "b0ee7c27-6bc7-41a4-d60b-e3816e81ac7e"
      },
      "outputs": [
        {
          "data": {
            "text/plain": [
              "city          Oakland\n",
              "population      496.0\n",
              "Name: 2, dtype: object"
            ]
          },
          "execution_count": 48,
          "metadata": {},
          "output_type": "execute_result"
        }
      ],
      "source": [
        "housing_merged.loc[2, ['city', 'population']] # Columns 'city' and 'population' from third row selected (row index = 2)"
      ]
    },
    {
      "cell_type": "markdown",
      "metadata": {
        "id": "451ov22Jimh-"
      },
      "source": [
        "We can perform similar selections with _**integers**_ using `DataFrame.iloc[]`:"
      ]
    },
    {
      "cell_type": "code",
      "execution_count": 49,
      "metadata": {
        "colab": {
          "base_uri": "https://localhost:8080/"
        },
        "id": "luWLhmCuimh-",
        "outputId": "840c656f-cc4d-4245-f63f-b30367825d95"
      },
      "outputs": [
        {
          "data": {
            "text/plain": [
              "population           496.0\n",
              "street_name    Chabot Road\n",
              "city               Oakland\n",
              "Name: 2, dtype: object"
            ]
          },
          "execution_count": 49,
          "metadata": {},
          "output_type": "execute_result"
        }
      ],
      "source": [
        "housing_merged.iloc[2, [5,11,12]]"
      ]
    },
    {
      "cell_type": "markdown",
      "metadata": {
        "id": "gn3wsfP_imh-"
      },
      "source": [
        "Masks or filters are especially common to use, e.g. let's select the subset of expensive houses:"
      ]
    },
    {
      "cell_type": "code",
      "execution_count": 50,
      "metadata": {
        "colab": {
          "base_uri": "https://localhost:8080/",
          "height": 609
        },
        "id": "ASJK5ZuLimh_",
        "outputId": "fc2a5415-9877-4856-a431-e90c6ab50dac"
      },
      "outputs": [
        {
          "data": {
            "text/html": [
              "<div>\n",
              "<style scoped>\n",
              "    .dataframe tbody tr th:only-of-type {\n",
              "        vertical-align: middle;\n",
              "    }\n",
              "\n",
              "    .dataframe tbody tr th {\n",
              "        vertical-align: top;\n",
              "    }\n",
              "\n",
              "    .dataframe thead th {\n",
              "        text-align: right;\n",
              "    }\n",
              "</style>\n",
              "<table border=\"1\" class=\"dataframe\">\n",
              "  <thead>\n",
              "    <tr style=\"text-align: right;\">\n",
              "      <th></th>\n",
              "      <th>longitude</th>\n",
              "      <th>latitude</th>\n",
              "      <th>housing_median_age</th>\n",
              "      <th>total_rooms</th>\n",
              "      <th>total_bedrooms</th>\n",
              "      <th>population</th>\n",
              "      <th>households</th>\n",
              "      <th>median_income</th>\n",
              "      <th>median_house_value</th>\n",
              "      <th>ocean_proximity</th>\n",
              "      <th>street_number</th>\n",
              "      <th>street_name</th>\n",
              "      <th>city</th>\n",
              "      <th>postal_code</th>\n",
              "    </tr>\n",
              "  </thead>\n",
              "  <tbody>\n",
              "    <tr>\n",
              "      <th>0</th>\n",
              "      <td>-122.23</td>\n",
              "      <td>37.88</td>\n",
              "      <td>41.0</td>\n",
              "      <td>880.0</td>\n",
              "      <td>129.0</td>\n",
              "      <td>322.0</td>\n",
              "      <td>126.0</td>\n",
              "      <td>8.3252</td>\n",
              "      <td>452600.0</td>\n",
              "      <td>NEAR BAY</td>\n",
              "      <td>3130</td>\n",
              "      <td>Grizzly Peak Boulevard</td>\n",
              "      <td>Berkeley</td>\n",
              "      <td>94705.0</td>\n",
              "    </tr>\n",
              "    <tr>\n",
              "      <th>89</th>\n",
              "      <td>-122.27</td>\n",
              "      <td>37.80</td>\n",
              "      <td>52.0</td>\n",
              "      <td>249.0</td>\n",
              "      <td>78.0</td>\n",
              "      <td>396.0</td>\n",
              "      <td>85.0</td>\n",
              "      <td>1.2434</td>\n",
              "      <td>500001.0</td>\n",
              "      <td>NEAR BAY</td>\n",
              "      <td>321</td>\n",
              "      <td>10th Street</td>\n",
              "      <td>Oakland</td>\n",
              "      <td>94607.0</td>\n",
              "    </tr>\n",
              "    <tr>\n",
              "      <th>140</th>\n",
              "      <td>-122.18</td>\n",
              "      <td>37.81</td>\n",
              "      <td>30.0</td>\n",
              "      <td>292.0</td>\n",
              "      <td>38.0</td>\n",
              "      <td>126.0</td>\n",
              "      <td>52.0</td>\n",
              "      <td>6.3624</td>\n",
              "      <td>483300.0</td>\n",
              "      <td>NEAR BAY</td>\n",
              "      <td>NaN</td>\n",
              "      <td>NaN</td>\n",
              "      <td>Oakland</td>\n",
              "      <td>94611.0</td>\n",
              "    </tr>\n",
              "    <tr>\n",
              "      <th>459</th>\n",
              "      <td>-122.25</td>\n",
              "      <td>37.87</td>\n",
              "      <td>52.0</td>\n",
              "      <td>609.0</td>\n",
              "      <td>236.0</td>\n",
              "      <td>1349.0</td>\n",
              "      <td>250.0</td>\n",
              "      <td>1.1696</td>\n",
              "      <td>500001.0</td>\n",
              "      <td>NEAR BAY</td>\n",
              "      <td>15</td>\n",
              "      <td>Canyon Road</td>\n",
              "      <td>Berkeley</td>\n",
              "      <td>94704.0</td>\n",
              "    </tr>\n",
              "    <tr>\n",
              "      <th>489</th>\n",
              "      <td>-122.25</td>\n",
              "      <td>37.86</td>\n",
              "      <td>48.0</td>\n",
              "      <td>2153.0</td>\n",
              "      <td>517.0</td>\n",
              "      <td>1656.0</td>\n",
              "      <td>459.0</td>\n",
              "      <td>3.0417</td>\n",
              "      <td>489600.0</td>\n",
              "      <td>NEAR BAY</td>\n",
              "      <td>2805</td>\n",
              "      <td>Kelsey Street</td>\n",
              "      <td>Berkeley</td>\n",
              "      <td>94705.0</td>\n",
              "    </tr>\n",
              "    <tr>\n",
              "      <th>...</th>\n",
              "      <td>...</td>\n",
              "      <td>...</td>\n",
              "      <td>...</td>\n",
              "      <td>...</td>\n",
              "      <td>...</td>\n",
              "      <td>...</td>\n",
              "      <td>...</td>\n",
              "      <td>...</td>\n",
              "      <td>...</td>\n",
              "      <td>...</td>\n",
              "      <td>...</td>\n",
              "      <td>...</td>\n",
              "      <td>...</td>\n",
              "      <td>...</td>\n",
              "    </tr>\n",
              "    <tr>\n",
              "      <th>20422</th>\n",
              "      <td>-118.90</td>\n",
              "      <td>34.14</td>\n",
              "      <td>35.0</td>\n",
              "      <td>1503.0</td>\n",
              "      <td>263.0</td>\n",
              "      <td>576.0</td>\n",
              "      <td>216.0</td>\n",
              "      <td>5.1457</td>\n",
              "      <td>500001.0</td>\n",
              "      <td>&lt;1H OCEAN</td>\n",
              "      <td>890</td>\n",
              "      <td>West Potrero Road</td>\n",
              "      <td>Thousand Oaks</td>\n",
              "      <td>91361.0</td>\n",
              "    </tr>\n",
              "    <tr>\n",
              "      <th>20426</th>\n",
              "      <td>-118.69</td>\n",
              "      <td>34.18</td>\n",
              "      <td>11.0</td>\n",
              "      <td>1177.0</td>\n",
              "      <td>138.0</td>\n",
              "      <td>415.0</td>\n",
              "      <td>119.0</td>\n",
              "      <td>10.0472</td>\n",
              "      <td>500001.0</td>\n",
              "      <td>&lt;1H OCEAN</td>\n",
              "      <td>NaN</td>\n",
              "      <td>East Las Virgenes Canyon Road</td>\n",
              "      <td>NaN</td>\n",
              "      <td>91307.0</td>\n",
              "    </tr>\n",
              "    <tr>\n",
              "      <th>20427</th>\n",
              "      <td>-118.80</td>\n",
              "      <td>34.19</td>\n",
              "      <td>4.0</td>\n",
              "      <td>15572.0</td>\n",
              "      <td>2222.0</td>\n",
              "      <td>5495.0</td>\n",
              "      <td>2152.0</td>\n",
              "      <td>8.6499</td>\n",
              "      <td>500001.0</td>\n",
              "      <td>&lt;1H OCEAN</td>\n",
              "      <td>5135</td>\n",
              "      <td>Island Forest Place</td>\n",
              "      <td>Westlake Village</td>\n",
              "      <td>91362.0</td>\n",
              "    </tr>\n",
              "    <tr>\n",
              "      <th>20436</th>\n",
              "      <td>-118.69</td>\n",
              "      <td>34.21</td>\n",
              "      <td>10.0</td>\n",
              "      <td>3663.0</td>\n",
              "      <td>409.0</td>\n",
              "      <td>1179.0</td>\n",
              "      <td>371.0</td>\n",
              "      <td>12.5420</td>\n",
              "      <td>500001.0</td>\n",
              "      <td>&lt;1H OCEAN</td>\n",
              "      <td>6</td>\n",
              "      <td>Ranchero Road</td>\n",
              "      <td>Bell Canyon</td>\n",
              "      <td>91307.0</td>\n",
              "    </tr>\n",
              "    <tr>\n",
              "      <th>20443</th>\n",
              "      <td>-118.85</td>\n",
              "      <td>34.27</td>\n",
              "      <td>50.0</td>\n",
              "      <td>187.0</td>\n",
              "      <td>33.0</td>\n",
              "      <td>130.0</td>\n",
              "      <td>35.0</td>\n",
              "      <td>3.3438</td>\n",
              "      <td>500001.0</td>\n",
              "      <td>&lt;1H OCEAN</td>\n",
              "      <td>2182</td>\n",
              "      <td>Tierra Rejada Road</td>\n",
              "      <td>Moorpark</td>\n",
              "      <td>93021.0</td>\n",
              "    </tr>\n",
              "  </tbody>\n",
              "</table>\n",
              "<p>1257 rows × 14 columns</p>\n",
              "</div>"
            ],
            "text/plain": [
              "       longitude  latitude  housing_median_age  total_rooms  total_bedrooms  \\\n",
              "0        -122.23     37.88                41.0        880.0           129.0   \n",
              "89       -122.27     37.80                52.0        249.0            78.0   \n",
              "140      -122.18     37.81                30.0        292.0            38.0   \n",
              "459      -122.25     37.87                52.0        609.0           236.0   \n",
              "489      -122.25     37.86                48.0       2153.0           517.0   \n",
              "...          ...       ...                 ...          ...             ...   \n",
              "20422    -118.90     34.14                35.0       1503.0           263.0   \n",
              "20426    -118.69     34.18                11.0       1177.0           138.0   \n",
              "20427    -118.80     34.19                 4.0      15572.0          2222.0   \n",
              "20436    -118.69     34.21                10.0       3663.0           409.0   \n",
              "20443    -118.85     34.27                50.0        187.0            33.0   \n",
              "\n",
              "       population  households  median_income  median_house_value  \\\n",
              "0           322.0       126.0         8.3252            452600.0   \n",
              "89          396.0        85.0         1.2434            500001.0   \n",
              "140         126.0        52.0         6.3624            483300.0   \n",
              "459        1349.0       250.0         1.1696            500001.0   \n",
              "489        1656.0       459.0         3.0417            489600.0   \n",
              "...           ...         ...            ...                 ...   \n",
              "20422       576.0       216.0         5.1457            500001.0   \n",
              "20426       415.0       119.0        10.0472            500001.0   \n",
              "20427      5495.0      2152.0         8.6499            500001.0   \n",
              "20436      1179.0       371.0        12.5420            500001.0   \n",
              "20443       130.0        35.0         3.3438            500001.0   \n",
              "\n",
              "      ocean_proximity street_number                    street_name  \\\n",
              "0            NEAR BAY          3130         Grizzly Peak Boulevard   \n",
              "89           NEAR BAY           321                    10th Street   \n",
              "140          NEAR BAY           NaN                            NaN   \n",
              "459          NEAR BAY            15                    Canyon Road   \n",
              "489          NEAR BAY          2805                  Kelsey Street   \n",
              "...               ...           ...                            ...   \n",
              "20422       <1H OCEAN           890              West Potrero Road   \n",
              "20426       <1H OCEAN           NaN  East Las Virgenes Canyon Road   \n",
              "20427       <1H OCEAN          5135            Island Forest Place   \n",
              "20436       <1H OCEAN             6                  Ranchero Road   \n",
              "20443       <1H OCEAN          2182             Tierra Rejada Road   \n",
              "\n",
              "                   city  postal_code  \n",
              "0              Berkeley      94705.0  \n",
              "89              Oakland      94607.0  \n",
              "140             Oakland      94611.0  \n",
              "459            Berkeley      94704.0  \n",
              "489            Berkeley      94705.0  \n",
              "...                 ...          ...  \n",
              "20422     Thousand Oaks      91361.0  \n",
              "20426               NaN      91307.0  \n",
              "20427  Westlake Village      91362.0  \n",
              "20436       Bell Canyon      91307.0  \n",
              "20443          Moorpark      93021.0  \n",
              "\n",
              "[1257 rows x 14 columns]"
            ]
          },
          "execution_count": 50,
          "metadata": {},
          "output_type": "execute_result"
        }
      ],
      "source": [
        "housing_merged.loc[housing_merged['median_house_value'] > 450000]"
      ]
    },
    {
      "cell_type": "markdown",
      "metadata": {
        "id": "f5ABtYgoimh_"
      },
      "source": [
        "We can also use Python's string methods to filter for things like"
      ]
    },
    {
      "cell_type": "code",
      "execution_count": 59,
      "metadata": {
        "colab": {
          "base_uri": "https://localhost:8080/",
          "height": 592
        },
        "id": "ZY9C5Mluimh_",
        "outputId": "4b376115-62a3-412b-f255-f05c99f007a6"
      },
      "outputs": [
        {
          "data": {
            "text/html": [
              "<div>\n",
              "<style scoped>\n",
              "    .dataframe tbody tr th:only-of-type {\n",
              "        vertical-align: middle;\n",
              "    }\n",
              "\n",
              "    .dataframe tbody tr th {\n",
              "        vertical-align: top;\n",
              "    }\n",
              "\n",
              "    .dataframe thead th {\n",
              "        text-align: right;\n",
              "    }\n",
              "</style>\n",
              "<table border=\"1\" class=\"dataframe\">\n",
              "  <thead>\n",
              "    <tr style=\"text-align: right;\">\n",
              "      <th></th>\n",
              "      <th>longitude</th>\n",
              "      <th>latitude</th>\n",
              "      <th>housing_median_age</th>\n",
              "      <th>total_rooms</th>\n",
              "      <th>total_bedrooms</th>\n",
              "      <th>population</th>\n",
              "      <th>households</th>\n",
              "      <th>median_income</th>\n",
              "      <th>median_house_value</th>\n",
              "      <th>ocean_proximity</th>\n",
              "      <th>street_number</th>\n",
              "      <th>street_name</th>\n",
              "      <th>city</th>\n",
              "      <th>postal_code</th>\n",
              "    </tr>\n",
              "  </thead>\n",
              "  <tbody>\n",
              "    <tr>\n",
              "      <th>0</th>\n",
              "      <td>-122.23</td>\n",
              "      <td>37.88</td>\n",
              "      <td>41.0</td>\n",
              "      <td>880.0</td>\n",
              "      <td>129.0</td>\n",
              "      <td>322.0</td>\n",
              "      <td>126.0</td>\n",
              "      <td>8.3252</td>\n",
              "      <td>452600.0</td>\n",
              "      <td>NEAR BAY</td>\n",
              "      <td>3130</td>\n",
              "      <td>Grizzly Peak Boulevard</td>\n",
              "      <td>Berkeley</td>\n",
              "      <td>94705.0</td>\n",
              "    </tr>\n",
              "    <tr>\n",
              "      <th>1</th>\n",
              "      <td>-122.22</td>\n",
              "      <td>37.86</td>\n",
              "      <td>21.0</td>\n",
              "      <td>7099.0</td>\n",
              "      <td>1106.0</td>\n",
              "      <td>2401.0</td>\n",
              "      <td>1138.0</td>\n",
              "      <td>8.3014</td>\n",
              "      <td>358500.0</td>\n",
              "      <td>NEAR BAY</td>\n",
              "      <td>2005</td>\n",
              "      <td>Tunnel Road</td>\n",
              "      <td>Oakland</td>\n",
              "      <td>94611.0</td>\n",
              "    </tr>\n",
              "    <tr>\n",
              "      <th>2</th>\n",
              "      <td>-122.24</td>\n",
              "      <td>37.85</td>\n",
              "      <td>52.0</td>\n",
              "      <td>1467.0</td>\n",
              "      <td>190.0</td>\n",
              "      <td>496.0</td>\n",
              "      <td>177.0</td>\n",
              "      <td>7.2574</td>\n",
              "      <td>352100.0</td>\n",
              "      <td>NEAR BAY</td>\n",
              "      <td>6886</td>\n",
              "      <td>Chabot Road</td>\n",
              "      <td>Oakland</td>\n",
              "      <td>94618.0</td>\n",
              "    </tr>\n",
              "    <tr>\n",
              "      <th>3</th>\n",
              "      <td>-122.25</td>\n",
              "      <td>37.85</td>\n",
              "      <td>52.0</td>\n",
              "      <td>1274.0</td>\n",
              "      <td>235.0</td>\n",
              "      <td>558.0</td>\n",
              "      <td>219.0</td>\n",
              "      <td>5.6431</td>\n",
              "      <td>341300.0</td>\n",
              "      <td>NEAR BAY</td>\n",
              "      <td>6365</td>\n",
              "      <td>Florio Street</td>\n",
              "      <td>Oakland</td>\n",
              "      <td>94618.0</td>\n",
              "    </tr>\n",
              "    <tr>\n",
              "      <th>4</th>\n",
              "      <td>-122.25</td>\n",
              "      <td>37.85</td>\n",
              "      <td>52.0</td>\n",
              "      <td>1627.0</td>\n",
              "      <td>280.0</td>\n",
              "      <td>565.0</td>\n",
              "      <td>259.0</td>\n",
              "      <td>3.8462</td>\n",
              "      <td>342200.0</td>\n",
              "      <td>NEAR BAY</td>\n",
              "      <td>6365</td>\n",
              "      <td>Florio Street</td>\n",
              "      <td>Oakland</td>\n",
              "      <td>94618.0</td>\n",
              "    </tr>\n",
              "    <tr>\n",
              "      <th>...</th>\n",
              "      <td>...</td>\n",
              "      <td>...</td>\n",
              "      <td>...</td>\n",
              "      <td>...</td>\n",
              "      <td>...</td>\n",
              "      <td>...</td>\n",
              "      <td>...</td>\n",
              "      <td>...</td>\n",
              "      <td>...</td>\n",
              "      <td>...</td>\n",
              "      <td>...</td>\n",
              "      <td>...</td>\n",
              "      <td>...</td>\n",
              "      <td>...</td>\n",
              "    </tr>\n",
              "    <tr>\n",
              "      <th>20380</th>\n",
              "      <td>-118.83</td>\n",
              "      <td>34.14</td>\n",
              "      <td>16.0</td>\n",
              "      <td>1316.0</td>\n",
              "      <td>194.0</td>\n",
              "      <td>450.0</td>\n",
              "      <td>173.0</td>\n",
              "      <td>10.1597</td>\n",
              "      <td>500001.0</td>\n",
              "      <td>NEAR OCEAN</td>\n",
              "      <td>3801</td>\n",
              "      <td>Charthouse Circle</td>\n",
              "      <td>Westlake Village</td>\n",
              "      <td>91361.0</td>\n",
              "    </tr>\n",
              "    <tr>\n",
              "      <th>20381</th>\n",
              "      <td>-118.83</td>\n",
              "      <td>34.14</td>\n",
              "      <td>16.0</td>\n",
              "      <td>1956.0</td>\n",
              "      <td>312.0</td>\n",
              "      <td>671.0</td>\n",
              "      <td>319.0</td>\n",
              "      <td>6.4001</td>\n",
              "      <td>321800.0</td>\n",
              "      <td>NEAR OCEAN</td>\n",
              "      <td>3801</td>\n",
              "      <td>Charthouse Circle</td>\n",
              "      <td>Westlake Village</td>\n",
              "      <td>91361.0</td>\n",
              "    </tr>\n",
              "    <tr>\n",
              "      <th>20423</th>\n",
              "      <td>-119.00</td>\n",
              "      <td>34.08</td>\n",
              "      <td>17.0</td>\n",
              "      <td>1822.0</td>\n",
              "      <td>438.0</td>\n",
              "      <td>578.0</td>\n",
              "      <td>291.0</td>\n",
              "      <td>5.4346</td>\n",
              "      <td>428600.0</td>\n",
              "      <td>NEAR OCEAN</td>\n",
              "      <td>NaN</td>\n",
              "      <td>Pacific View Drive</td>\n",
              "      <td>Malibu</td>\n",
              "      <td>90265.0</td>\n",
              "    </tr>\n",
              "    <tr>\n",
              "      <th>20424</th>\n",
              "      <td>-118.75</td>\n",
              "      <td>34.18</td>\n",
              "      <td>4.0</td>\n",
              "      <td>16704.0</td>\n",
              "      <td>2704.0</td>\n",
              "      <td>6187.0</td>\n",
              "      <td>2207.0</td>\n",
              "      <td>6.6122</td>\n",
              "      <td>357600.0</td>\n",
              "      <td>NEAR OCEAN</td>\n",
              "      <td>496</td>\n",
              "      <td>Summit Knoll Court</td>\n",
              "      <td>Oak Park</td>\n",
              "      <td>91377.0</td>\n",
              "    </tr>\n",
              "    <tr>\n",
              "      <th>20425</th>\n",
              "      <td>-118.75</td>\n",
              "      <td>34.17</td>\n",
              "      <td>18.0</td>\n",
              "      <td>6217.0</td>\n",
              "      <td>858.0</td>\n",
              "      <td>2703.0</td>\n",
              "      <td>834.0</td>\n",
              "      <td>6.8075</td>\n",
              "      <td>325900.0</td>\n",
              "      <td>NEAR OCEAN</td>\n",
              "      <td>6632</td>\n",
              "      <td>Buttonwood Avenue</td>\n",
              "      <td>Oak Park</td>\n",
              "      <td>91377.0</td>\n",
              "    </tr>\n",
              "  </tbody>\n",
              "</table>\n",
              "<p>4948 rows × 14 columns</p>\n",
              "</div>"
            ],
            "text/plain": [
              "       longitude  latitude  housing_median_age  total_rooms  total_bedrooms  \\\n",
              "0        -122.23     37.88                41.0        880.0           129.0   \n",
              "1        -122.22     37.86                21.0       7099.0          1106.0   \n",
              "2        -122.24     37.85                52.0       1467.0           190.0   \n",
              "3        -122.25     37.85                52.0       1274.0           235.0   \n",
              "4        -122.25     37.85                52.0       1627.0           280.0   \n",
              "...          ...       ...                 ...          ...             ...   \n",
              "20380    -118.83     34.14                16.0       1316.0           194.0   \n",
              "20381    -118.83     34.14                16.0       1956.0           312.0   \n",
              "20423    -119.00     34.08                17.0       1822.0           438.0   \n",
              "20424    -118.75     34.18                 4.0      16704.0          2704.0   \n",
              "20425    -118.75     34.17                18.0       6217.0           858.0   \n",
              "\n",
              "       population  households  median_income  median_house_value  \\\n",
              "0           322.0       126.0         8.3252            452600.0   \n",
              "1          2401.0      1138.0         8.3014            358500.0   \n",
              "2           496.0       177.0         7.2574            352100.0   \n",
              "3           558.0       219.0         5.6431            341300.0   \n",
              "4           565.0       259.0         3.8462            342200.0   \n",
              "...           ...         ...            ...                 ...   \n",
              "20380       450.0       173.0        10.1597            500001.0   \n",
              "20381       671.0       319.0         6.4001            321800.0   \n",
              "20423       578.0       291.0         5.4346            428600.0   \n",
              "20424      6187.0      2207.0         6.6122            357600.0   \n",
              "20425      2703.0       834.0         6.8075            325900.0   \n",
              "\n",
              "      ocean_proximity street_number             street_name              city  \\\n",
              "0            NEAR BAY          3130  Grizzly Peak Boulevard          Berkeley   \n",
              "1            NEAR BAY          2005             Tunnel Road           Oakland   \n",
              "2            NEAR BAY          6886             Chabot Road           Oakland   \n",
              "3            NEAR BAY          6365           Florio Street           Oakland   \n",
              "4            NEAR BAY          6365           Florio Street           Oakland   \n",
              "...               ...           ...                     ...               ...   \n",
              "20380      NEAR OCEAN          3801       Charthouse Circle  Westlake Village   \n",
              "20381      NEAR OCEAN          3801       Charthouse Circle  Westlake Village   \n",
              "20423      NEAR OCEAN           NaN      Pacific View Drive            Malibu   \n",
              "20424      NEAR OCEAN           496      Summit Knoll Court          Oak Park   \n",
              "20425      NEAR OCEAN          6632       Buttonwood Avenue          Oak Park   \n",
              "\n",
              "       postal_code  \n",
              "0          94705.0  \n",
              "1          94611.0  \n",
              "2          94618.0  \n",
              "3          94618.0  \n",
              "4          94618.0  \n",
              "...            ...  \n",
              "20380      91361.0  \n",
              "20381      91361.0  \n",
              "20423      90265.0  \n",
              "20424      91377.0  \n",
              "20425      91377.0  \n",
              "\n",
              "[4948 rows x 14 columns]"
            ]
          },
          "execution_count": 59,
          "metadata": {},
          "output_type": "execute_result"
        }
      ],
      "source": [
        "housing_merged.loc[housing_merged['ocean_proximity'].str.contains('NEA')]\n",
        "# select all rows in which 'ocean_proximity' attribute contains the string 'NEA'"
      ]
    },
    {
      "cell_type": "markdown",
      "metadata": {
        "id": "oX61GP24imh_"
      },
      "source": [
        "> Note: An important feature with `pandas.Series` and `pandas.DataFrame` objects is the fact that they contain an _**index**_ that lets us slice and modify the data. This `Index` object can be accessed via `Series.index` or `DataFrame.index` and is typically an array of integers that denote the location of each row."
      ]
    },
    {
      "cell_type": "markdown",
      "metadata": {
        "id": "tO-o0xwrimh_"
      },
      "source": [
        "For example, our `age` object has an index for each row or house in the dataset:"
      ]
    },
    {
      "cell_type": "code",
      "execution_count": 163,
      "metadata": {
        "colab": {
          "base_uri": "https://localhost:8080/"
        },
        "id": "7_2eBDlsimh_",
        "outputId": "b16d627b-f3b2-4fc2-dc65-3b5fcb83f80f"
      },
      "outputs": [
        {
          "data": {
            "text/plain": [
              "Int64Index([    0,     1,     2,     3,     4,     5,     6,     7,     8,\n",
              "                9,\n",
              "            ...\n",
              "            20630, 20631, 20632, 20633, 20634, 20635, 20636, 20637, 20638,\n",
              "            20639],\n",
              "           dtype='int64', length=20640)"
            ]
          },
          "execution_count": 163,
          "metadata": {},
          "output_type": "execute_result"
        }
      ],
      "source": [
        "age.index"
      ]
    },
    {
      "cell_type": "markdown",
      "metadata": {
        "id": "SxmrlLpjimiA"
      },
      "source": [
        "We can also sort the values according to the index, which in our example amounts to reversing the order:"
      ]
    },
    {
      "cell_type": "code",
      "execution_count": 60,
      "metadata": {
        "colab": {
          "base_uri": "https://localhost:8080/"
        },
        "id": "91jB3jtuimiA",
        "outputId": "33513dfc-da6f-46bd-9efa-3bec00ee5f65"
      },
      "outputs": [
        {
          "data": {
            "text/plain": [
              "20639    16.0\n",
              "20638    18.0\n",
              "20637    17.0\n",
              "20636    18.0\n",
              "20635    25.0\n",
              "         ... \n",
              "4        52.0\n",
              "3        52.0\n",
              "2        52.0\n",
              "1        21.0\n",
              "0        41.0\n",
              "Name: housing_median_age, Length: 20640, dtype: float64"
            ]
          },
          "execution_count": 60,
          "metadata": {},
          "output_type": "execute_result"
        }
      ],
      "source": [
        "age.sort_index(ascending=False)"
      ]
    },
    {
      "cell_type": "markdown",
      "metadata": {
        "id": "rhZPmeA3imiA"
      },
      "source": [
        "Finally, there are times when you want to reset the index of the `pandas.Series` or `pandas.DataFrame` objects; this can be achieved as follows:"
      ]
    },
    {
      "cell_type": "code",
      "execution_count": 165,
      "metadata": {
        "colab": {
          "base_uri": "https://localhost:8080/",
          "height": 424
        },
        "id": "n5Ysgwp7imiA",
        "outputId": "da6cf017-1ffe-40c5-c106-1e919e4c972d"
      },
      "outputs": [
        {
          "data": {
            "text/html": [
              "\n",
              "  <div id=\"df-44e80e9f-a824-4d4a-803d-bf712a66c321\">\n",
              "    <div class=\"colab-df-container\">\n",
              "      <div>\n",
              "<style scoped>\n",
              "    .dataframe tbody tr th:only-of-type {\n",
              "        vertical-align: middle;\n",
              "    }\n",
              "\n",
              "    .dataframe tbody tr th {\n",
              "        vertical-align: top;\n",
              "    }\n",
              "\n",
              "    .dataframe thead th {\n",
              "        text-align: right;\n",
              "    }\n",
              "</style>\n",
              "<table border=\"1\" class=\"dataframe\">\n",
              "  <thead>\n",
              "    <tr style=\"text-align: right;\">\n",
              "      <th></th>\n",
              "      <th>index</th>\n",
              "      <th>housing_median_age</th>\n",
              "    </tr>\n",
              "  </thead>\n",
              "  <tbody>\n",
              "    <tr>\n",
              "      <th>0</th>\n",
              "      <td>0</td>\n",
              "      <td>41.0</td>\n",
              "    </tr>\n",
              "    <tr>\n",
              "      <th>1</th>\n",
              "      <td>1</td>\n",
              "      <td>21.0</td>\n",
              "    </tr>\n",
              "    <tr>\n",
              "      <th>2</th>\n",
              "      <td>2</td>\n",
              "      <td>52.0</td>\n",
              "    </tr>\n",
              "    <tr>\n",
              "      <th>3</th>\n",
              "      <td>3</td>\n",
              "      <td>52.0</td>\n",
              "    </tr>\n",
              "    <tr>\n",
              "      <th>4</th>\n",
              "      <td>4</td>\n",
              "      <td>52.0</td>\n",
              "    </tr>\n",
              "    <tr>\n",
              "      <th>...</th>\n",
              "      <td>...</td>\n",
              "      <td>...</td>\n",
              "    </tr>\n",
              "    <tr>\n",
              "      <th>20635</th>\n",
              "      <td>20635</td>\n",
              "      <td>25.0</td>\n",
              "    </tr>\n",
              "    <tr>\n",
              "      <th>20636</th>\n",
              "      <td>20636</td>\n",
              "      <td>18.0</td>\n",
              "    </tr>\n",
              "    <tr>\n",
              "      <th>20637</th>\n",
              "      <td>20637</td>\n",
              "      <td>17.0</td>\n",
              "    </tr>\n",
              "    <tr>\n",
              "      <th>20638</th>\n",
              "      <td>20638</td>\n",
              "      <td>18.0</td>\n",
              "    </tr>\n",
              "    <tr>\n",
              "      <th>20639</th>\n",
              "      <td>20639</td>\n",
              "      <td>16.0</td>\n",
              "    </tr>\n",
              "  </tbody>\n",
              "</table>\n",
              "<p>20640 rows × 2 columns</p>\n",
              "</div>\n",
              "      <button class=\"colab-df-convert\" onclick=\"convertToInteractive('df-44e80e9f-a824-4d4a-803d-bf712a66c321')\"\n",
              "              title=\"Convert this dataframe to an interactive table.\"\n",
              "              style=\"display:none;\">\n",
              "        \n",
              "  <svg xmlns=\"http://www.w3.org/2000/svg\" height=\"24px\"viewBox=\"0 0 24 24\"\n",
              "       width=\"24px\">\n",
              "    <path d=\"M0 0h24v24H0V0z\" fill=\"none\"/>\n",
              "    <path d=\"M18.56 5.44l.94 2.06.94-2.06 2.06-.94-2.06-.94-.94-2.06-.94 2.06-2.06.94zm-11 1L8.5 8.5l.94-2.06 2.06-.94-2.06-.94L8.5 2.5l-.94 2.06-2.06.94zm10 10l.94 2.06.94-2.06 2.06-.94-2.06-.94-.94-2.06-.94 2.06-2.06.94z\"/><path d=\"M17.41 7.96l-1.37-1.37c-.4-.4-.92-.59-1.43-.59-.52 0-1.04.2-1.43.59L10.3 9.45l-7.72 7.72c-.78.78-.78 2.05 0 2.83L4 21.41c.39.39.9.59 1.41.59.51 0 1.02-.2 1.41-.59l7.78-7.78 2.81-2.81c.8-.78.8-2.07 0-2.86zM5.41 20L4 18.59l7.72-7.72 1.47 1.35L5.41 20z\"/>\n",
              "  </svg>\n",
              "      </button>\n",
              "      \n",
              "  <style>\n",
              "    .colab-df-container {\n",
              "      display:flex;\n",
              "      flex-wrap:wrap;\n",
              "      gap: 12px;\n",
              "    }\n",
              "\n",
              "    .colab-df-convert {\n",
              "      background-color: #E8F0FE;\n",
              "      border: none;\n",
              "      border-radius: 50%;\n",
              "      cursor: pointer;\n",
              "      display: none;\n",
              "      fill: #1967D2;\n",
              "      height: 32px;\n",
              "      padding: 0 0 0 0;\n",
              "      width: 32px;\n",
              "    }\n",
              "\n",
              "    .colab-df-convert:hover {\n",
              "      background-color: #E2EBFA;\n",
              "      box-shadow: 0px 1px 2px rgba(60, 64, 67, 0.3), 0px 1px 3px 1px rgba(60, 64, 67, 0.15);\n",
              "      fill: #174EA6;\n",
              "    }\n",
              "\n",
              "    [theme=dark] .colab-df-convert {\n",
              "      background-color: #3B4455;\n",
              "      fill: #D2E3FC;\n",
              "    }\n",
              "\n",
              "    [theme=dark] .colab-df-convert:hover {\n",
              "      background-color: #434B5C;\n",
              "      box-shadow: 0px 1px 3px 1px rgba(0, 0, 0, 0.15);\n",
              "      filter: drop-shadow(0px 1px 2px rgba(0, 0, 0, 0.3));\n",
              "      fill: #FFFFFF;\n",
              "    }\n",
              "  </style>\n",
              "\n",
              "      <script>\n",
              "        const buttonEl =\n",
              "          document.querySelector('#df-44e80e9f-a824-4d4a-803d-bf712a66c321 button.colab-df-convert');\n",
              "        buttonEl.style.display =\n",
              "          google.colab.kernel.accessAllowed ? 'block' : 'none';\n",
              "\n",
              "        async function convertToInteractive(key) {\n",
              "          const element = document.querySelector('#df-44e80e9f-a824-4d4a-803d-bf712a66c321');\n",
              "          const dataTable =\n",
              "            await google.colab.kernel.invokeFunction('convertToInteractive',\n",
              "                                                     [key], {});\n",
              "          if (!dataTable) return;\n",
              "\n",
              "          const docLinkHtml = 'Like what you see? Visit the ' +\n",
              "            '<a target=\"_blank\" href=https://colab.research.google.com/notebooks/data_table.ipynb>data table notebook</a>'\n",
              "            + ' to learn more about interactive tables.';\n",
              "          element.innerHTML = '';\n",
              "          dataTable['output_type'] = 'display_data';\n",
              "          await google.colab.output.renderOutput(dataTable, element);\n",
              "          const docLink = document.createElement('div');\n",
              "          docLink.innerHTML = docLinkHtml;\n",
              "          element.appendChild(docLink);\n",
              "        }\n",
              "      </script>\n",
              "    </div>\n",
              "  </div>\n",
              "  "
            ],
            "text/plain": [
              "       index  housing_median_age\n",
              "0          0                41.0\n",
              "1          1                21.0\n",
              "2          2                52.0\n",
              "3          3                52.0\n",
              "4          4                52.0\n",
              "...      ...                 ...\n",
              "20635  20635                25.0\n",
              "20636  20636                18.0\n",
              "20637  20637                17.0\n",
              "20638  20638                18.0\n",
              "20639  20639                16.0\n",
              "\n",
              "[20640 rows x 2 columns]"
            ]
          },
          "execution_count": 165,
          "metadata": {},
          "output_type": "execute_result"
        }
      ],
      "source": [
        "age.reset_index()"
      ]
    },
    {
      "cell_type": "markdown",
      "metadata": {
        "id": "EnIPpOnKimiA"
      },
      "source": [
        "Note this creates a new `index` column and resets the order of the `pandas.Series` object in ascending order.\n",
        "\n",
        "---"
      ]
    },
    {
      "cell_type": "markdown",
      "metadata": {
        "id": "zHuA0za3imiA"
      },
      "source": [
        "## Which cities have the most houses?"
      ]
    },
    {
      "cell_type": "markdown",
      "metadata": {
        "id": "DYHB1k0iimiB"
      },
      "source": [
        "Whenever you need to quickly find the frequencies associated with categorical data, the `DataFrame.value_counts()` and `Series.nlargest()` functions come in handy. For example, if we want to see which city has the most entries in the dataframe, we can run the following:"
      ]
    },
    {
      "cell_type": "code",
      "execution_count": 61,
      "metadata": {
        "colab": {
          "base_uri": "https://localhost:8080/"
        },
        "id": "7os1yxgg0NSJ",
        "outputId": "ef34784c-4d02-43d4-8a32-7a2b563b0cd4"
      },
      "outputs": [
        {
          "data": {
            "text/plain": [
              "Los Angeles      2372\n",
              "San Diego         809\n",
              "San Francisco     574\n",
              "San Jose          498\n",
              "Sacramento        422\n",
              "                 ... \n",
              "Stevinson           1\n",
              "Isleton             1\n",
              "Rackerby            1\n",
              "Farmington          1\n",
              "Loma Rica           1\n",
              "Name: city, Length: 989, dtype: int64"
            ]
          },
          "execution_count": 61,
          "metadata": {},
          "output_type": "execute_result"
        }
      ],
      "source": [
        "housing_merged['city'].value_counts()  # For each city, this will count the number of entries for that city"
      ]
    },
    {
      "cell_type": "code",
      "execution_count": 62,
      "metadata": {
        "colab": {
          "base_uri": "https://localhost:8080/"
        },
        "id": "3wXJMKeZimiB",
        "outputId": "d6756cd0-4132-418c-ac2b-8ed4498191b3"
      },
      "outputs": [
        {
          "data": {
            "text/plain": [
              "Los Angeles      2372\n",
              "San Diego         809\n",
              "San Francisco     574\n",
              "San Jose          498\n",
              "Sacramento        422\n",
              "Oakland           374\n",
              "Long Beach        317\n",
              "Fresno            309\n",
              "Stockton          242\n",
              "Bakersfield       222\n",
              "Name: city, dtype: int64"
            ]
          },
          "execution_count": 62,
          "metadata": {},
          "output_type": "execute_result"
        }
      ],
      "source": [
        "housing_merged['city'].value_counts().nlargest(10) # Prints the ten cities with the most entries"
      ]
    },
    {
      "cell_type": "markdown",
      "metadata": {
        "id": "zzM_fY_aimiB"
      },
      "source": [
        "This seems to make sense, since Los Angeles, San Diego, and San Francisco have some of the largest populations. We can check whether this is indeed the case by *aggregating* the data to calculate the *total* population value across the *group* of cities. pandas provides a flexibly `DataFrame.groupby()` interface that enables us to slice, dice, and summarise datasets in a natural way. In particular, pandas enables us to:\n",
        "\n",
        "* Split a pandas object into pieces using one or more keys\n",
        "* Calculate group summary statistics, like count, mean, standard deviation, or a user-defined function\n",
        "* Apply within-group transformations or other manipulations, like normalisation, rank, or subset selection\n",
        "* Compute pivot tables and cross-tabulations.\n",
        "\n",
        "Let's combine these ideas to answer our question, followed by an explanation of how the GroupBy mechanics really work:"
      ]
    },
    {
      "cell_type": "code",
      "execution_count": 63,
      "metadata": {
        "colab": {
          "base_uri": "https://localhost:8080/",
          "height": 143
        },
        "id": "EQGO-WjK45sc",
        "outputId": "9c3232c5-487d-47f8-e9d7-3e9a444c5e5a"
      },
      "outputs": [
        {
          "data": {
            "text/html": [
              "<div>\n",
              "<style scoped>\n",
              "    .dataframe tbody tr th:only-of-type {\n",
              "        vertical-align: middle;\n",
              "    }\n",
              "\n",
              "    .dataframe tbody tr th {\n",
              "        vertical-align: top;\n",
              "    }\n",
              "\n",
              "    .dataframe thead th {\n",
              "        text-align: right;\n",
              "    }\n",
              "</style>\n",
              "<table border=\"1\" class=\"dataframe\">\n",
              "  <thead>\n",
              "    <tr style=\"text-align: right;\">\n",
              "      <th></th>\n",
              "      <th>Max Speed</th>\n",
              "    </tr>\n",
              "    <tr>\n",
              "      <th>Animal</th>\n",
              "      <th></th>\n",
              "    </tr>\n",
              "  </thead>\n",
              "  <tbody>\n",
              "    <tr>\n",
              "      <th>Falcon</th>\n",
              "      <td>750.0</td>\n",
              "    </tr>\n",
              "    <tr>\n",
              "      <th>Parrot</th>\n",
              "      <td>50.0</td>\n",
              "    </tr>\n",
              "  </tbody>\n",
              "</table>\n",
              "</div>"
            ],
            "text/plain": [
              "        Max Speed\n",
              "Animal           \n",
              "Falcon      750.0\n",
              "Parrot       50.0"
            ]
          },
          "execution_count": 63,
          "metadata": {},
          "output_type": "execute_result"
        }
      ],
      "source": [
        "# We start with a simple example from the pandas documentation of groupby:\n",
        "df = pd.DataFrame({'Animal': ['Falcon', 'Falcon','Parrot', 'Parrot'],\n",
        "                   'Max Speed': [380., 370., 24., 26.]})\n",
        "\n",
        "df.groupby(['Animal']).sum()\n",
        "df.groupby(['Animal']).agg({'Max Speed':'sum'}) # does the same as the previous line"
      ]
    },
    {
      "cell_type": "code",
      "execution_count": null,
      "metadata": {},
      "outputs": [],
      "source": []
    },
    {
      "cell_type": "code",
      "execution_count": 64,
      "metadata": {
        "colab": {
          "base_uri": "https://localhost:8080/",
          "height": 455
        },
        "id": "x_P0ZlP7imiB",
        "outputId": "7cadc206-adc7-4308-97e0-4770276ae2ad"
      },
      "outputs": [
        {
          "data": {
            "text/html": [
              "<div>\n",
              "<style scoped>\n",
              "    .dataframe tbody tr th:only-of-type {\n",
              "        vertical-align: middle;\n",
              "    }\n",
              "\n",
              "    .dataframe tbody tr th {\n",
              "        vertical-align: top;\n",
              "    }\n",
              "\n",
              "    .dataframe thead th {\n",
              "        text-align: right;\n",
              "    }\n",
              "</style>\n",
              "<table border=\"1\" class=\"dataframe\">\n",
              "  <thead>\n",
              "    <tr style=\"text-align: right;\">\n",
              "      <th></th>\n",
              "      <th>population</th>\n",
              "    </tr>\n",
              "    <tr>\n",
              "      <th>city</th>\n",
              "      <th></th>\n",
              "    </tr>\n",
              "  </thead>\n",
              "  <tbody>\n",
              "    <tr>\n",
              "      <th>Acampo</th>\n",
              "      <td>9626.0</td>\n",
              "    </tr>\n",
              "    <tr>\n",
              "      <th>Acton</th>\n",
              "      <td>6740.0</td>\n",
              "    </tr>\n",
              "    <tr>\n",
              "      <th>Adelanto</th>\n",
              "      <td>6583.0</td>\n",
              "    </tr>\n",
              "    <tr>\n",
              "      <th>Adin</th>\n",
              "      <td>364.0</td>\n",
              "    </tr>\n",
              "    <tr>\n",
              "      <th>Agoura Hills</th>\n",
              "      <td>26776.0</td>\n",
              "    </tr>\n",
              "    <tr>\n",
              "      <th>...</th>\n",
              "      <td>...</td>\n",
              "    </tr>\n",
              "    <tr>\n",
              "      <th>Yreka</th>\n",
              "      <td>8971.0</td>\n",
              "    </tr>\n",
              "    <tr>\n",
              "      <th>Yuba City</th>\n",
              "      <td>49772.0</td>\n",
              "    </tr>\n",
              "    <tr>\n",
              "      <th>Yucaipa</th>\n",
              "      <td>31965.0</td>\n",
              "    </tr>\n",
              "    <tr>\n",
              "      <th>Yucca Valley</th>\n",
              "      <td>18955.0</td>\n",
              "    </tr>\n",
              "    <tr>\n",
              "      <th>Zenia</th>\n",
              "      <td>228.0</td>\n",
              "    </tr>\n",
              "  </tbody>\n",
              "</table>\n",
              "<p>989 rows × 1 columns</p>\n",
              "</div>"
            ],
            "text/plain": [
              "              population\n",
              "city                    \n",
              "Acampo            9626.0\n",
              "Acton             6740.0\n",
              "Adelanto          6583.0\n",
              "Adin               364.0\n",
              "Agoura Hills     26776.0\n",
              "...                  ...\n",
              "Yreka             8971.0\n",
              "Yuba City        49772.0\n",
              "Yucaipa          31965.0\n",
              "Yucca Valley     18955.0\n",
              "Zenia              228.0\n",
              "\n",
              "[989 rows x 1 columns]"
            ]
          },
          "execution_count": 64,
          "metadata": {},
          "output_type": "execute_result"
        }
      ],
      "source": [
        "# Now we apply the previous example to our housing_merged dataset to get the total number of residence in each city by summing over all of the city's entries in the dataset:\n",
        "housing_merged.groupby('city').agg({'population':'sum'}) "
      ]
    },
    {
      "cell_type": "markdown",
      "metadata": {
        "id": "uKHnzQv1imiB"
      },
      "source": [
        "This seems to work - we now have the total number of people residing in a city, but the result seems to be sorted alphabetically. To get the cities with the largest populations, we can use the `Series.sort_values()` method as follows:"
      ]
    },
    {
      "cell_type": "code",
      "execution_count": 170,
      "metadata": {
        "colab": {
          "base_uri": "https://localhost:8080/",
          "height": 455
        },
        "id": "IZNwjC5_imiB",
        "outputId": "c5a86785-7803-44f0-a032-9d234ea5ec52"
      },
      "outputs": [
        {
          "data": {
            "text/html": [
              "\n",
              "  <div id=\"df-7fe58a27-48af-44d7-821f-bf006592648c\">\n",
              "    <div class=\"colab-df-container\">\n",
              "      <div>\n",
              "<style scoped>\n",
              "    .dataframe tbody tr th:only-of-type {\n",
              "        vertical-align: middle;\n",
              "    }\n",
              "\n",
              "    .dataframe tbody tr th {\n",
              "        vertical-align: top;\n",
              "    }\n",
              "\n",
              "    .dataframe thead th {\n",
              "        text-align: right;\n",
              "    }\n",
              "</style>\n",
              "<table border=\"1\" class=\"dataframe\">\n",
              "  <thead>\n",
              "    <tr style=\"text-align: right;\">\n",
              "      <th></th>\n",
              "      <th>population</th>\n",
              "    </tr>\n",
              "    <tr>\n",
              "      <th>city</th>\n",
              "      <th></th>\n",
              "    </tr>\n",
              "  </thead>\n",
              "  <tbody>\n",
              "    <tr>\n",
              "      <th>Los Angeles</th>\n",
              "      <td>3495957.0</td>\n",
              "    </tr>\n",
              "    <tr>\n",
              "      <th>San Diego</th>\n",
              "      <td>1069557.0</td>\n",
              "    </tr>\n",
              "    <tr>\n",
              "      <th>San Jose</th>\n",
              "      <td>818234.0</td>\n",
              "    </tr>\n",
              "    <tr>\n",
              "      <th>San Francisco</th>\n",
              "      <td>702282.0</td>\n",
              "    </tr>\n",
              "    <tr>\n",
              "      <th>Sacramento</th>\n",
              "      <td>614478.0</td>\n",
              "    </tr>\n",
              "    <tr>\n",
              "      <th>...</th>\n",
              "      <td>...</td>\n",
              "    </tr>\n",
              "    <tr>\n",
              "      <th>Parker</th>\n",
              "      <td>83.0</td>\n",
              "    </tr>\n",
              "    <tr>\n",
              "      <th>El Portal</th>\n",
              "      <td>79.0</td>\n",
              "    </tr>\n",
              "    <tr>\n",
              "      <th>Pearsonville</th>\n",
              "      <td>48.0</td>\n",
              "    </tr>\n",
              "    <tr>\n",
              "      <th>Forest Ranch</th>\n",
              "      <td>47.0</td>\n",
              "    </tr>\n",
              "    <tr>\n",
              "      <th>North Richmond</th>\n",
              "      <td>42.0</td>\n",
              "    </tr>\n",
              "  </tbody>\n",
              "</table>\n",
              "<p>989 rows × 1 columns</p>\n",
              "</div>\n",
              "      <button class=\"colab-df-convert\" onclick=\"convertToInteractive('df-7fe58a27-48af-44d7-821f-bf006592648c')\"\n",
              "              title=\"Convert this dataframe to an interactive table.\"\n",
              "              style=\"display:none;\">\n",
              "        \n",
              "  <svg xmlns=\"http://www.w3.org/2000/svg\" height=\"24px\"viewBox=\"0 0 24 24\"\n",
              "       width=\"24px\">\n",
              "    <path d=\"M0 0h24v24H0V0z\" fill=\"none\"/>\n",
              "    <path d=\"M18.56 5.44l.94 2.06.94-2.06 2.06-.94-2.06-.94-.94-2.06-.94 2.06-2.06.94zm-11 1L8.5 8.5l.94-2.06 2.06-.94-2.06-.94L8.5 2.5l-.94 2.06-2.06.94zm10 10l.94 2.06.94-2.06 2.06-.94-2.06-.94-.94-2.06-.94 2.06-2.06.94z\"/><path d=\"M17.41 7.96l-1.37-1.37c-.4-.4-.92-.59-1.43-.59-.52 0-1.04.2-1.43.59L10.3 9.45l-7.72 7.72c-.78.78-.78 2.05 0 2.83L4 21.41c.39.39.9.59 1.41.59.51 0 1.02-.2 1.41-.59l7.78-7.78 2.81-2.81c.8-.78.8-2.07 0-2.86zM5.41 20L4 18.59l7.72-7.72 1.47 1.35L5.41 20z\"/>\n",
              "  </svg>\n",
              "      </button>\n",
              "      \n",
              "  <style>\n",
              "    .colab-df-container {\n",
              "      display:flex;\n",
              "      flex-wrap:wrap;\n",
              "      gap: 12px;\n",
              "    }\n",
              "\n",
              "    .colab-df-convert {\n",
              "      background-color: #E8F0FE;\n",
              "      border: none;\n",
              "      border-radius: 50%;\n",
              "      cursor: pointer;\n",
              "      display: none;\n",
              "      fill: #1967D2;\n",
              "      height: 32px;\n",
              "      padding: 0 0 0 0;\n",
              "      width: 32px;\n",
              "    }\n",
              "\n",
              "    .colab-df-convert:hover {\n",
              "      background-color: #E2EBFA;\n",
              "      box-shadow: 0px 1px 2px rgba(60, 64, 67, 0.3), 0px 1px 3px 1px rgba(60, 64, 67, 0.15);\n",
              "      fill: #174EA6;\n",
              "    }\n",
              "\n",
              "    [theme=dark] .colab-df-convert {\n",
              "      background-color: #3B4455;\n",
              "      fill: #D2E3FC;\n",
              "    }\n",
              "\n",
              "    [theme=dark] .colab-df-convert:hover {\n",
              "      background-color: #434B5C;\n",
              "      box-shadow: 0px 1px 3px 1px rgba(0, 0, 0, 0.15);\n",
              "      filter: drop-shadow(0px 1px 2px rgba(0, 0, 0, 0.3));\n",
              "      fill: #FFFFFF;\n",
              "    }\n",
              "  </style>\n",
              "\n",
              "      <script>\n",
              "        const buttonEl =\n",
              "          document.querySelector('#df-7fe58a27-48af-44d7-821f-bf006592648c button.colab-df-convert');\n",
              "        buttonEl.style.display =\n",
              "          google.colab.kernel.accessAllowed ? 'block' : 'none';\n",
              "\n",
              "        async function convertToInteractive(key) {\n",
              "          const element = document.querySelector('#df-7fe58a27-48af-44d7-821f-bf006592648c');\n",
              "          const dataTable =\n",
              "            await google.colab.kernel.invokeFunction('convertToInteractive',\n",
              "                                                     [key], {});\n",
              "          if (!dataTable) return;\n",
              "\n",
              "          const docLinkHtml = 'Like what you see? Visit the ' +\n",
              "            '<a target=\"_blank\" href=https://colab.research.google.com/notebooks/data_table.ipynb>data table notebook</a>'\n",
              "            + ' to learn more about interactive tables.';\n",
              "          element.innerHTML = '';\n",
              "          dataTable['output_type'] = 'display_data';\n",
              "          await google.colab.output.renderOutput(dataTable, element);\n",
              "          const docLink = document.createElement('div');\n",
              "          docLink.innerHTML = docLinkHtml;\n",
              "          element.appendChild(docLink);\n",
              "        }\n",
              "      </script>\n",
              "    </div>\n",
              "  </div>\n",
              "  "
            ],
            "text/plain": [
              "                population\n",
              "city                      \n",
              "Los Angeles      3495957.0\n",
              "San Diego        1069557.0\n",
              "San Jose          818234.0\n",
              "San Francisco     702282.0\n",
              "Sacramento        614478.0\n",
              "...                    ...\n",
              "Parker                83.0\n",
              "El Portal             79.0\n",
              "Pearsonville          48.0\n",
              "Forest Ranch          47.0\n",
              "North Richmond        42.0\n",
              "\n",
              "[989 rows x 1 columns]"
            ]
          },
          "execution_count": 170,
          "metadata": {},
          "output_type": "execute_result"
        }
      ],
      "source": [
        "housing_merged.groupby(\"city\").agg({\"population\": \"sum\"}).sort_values(\n",
        "    by=\"population\", ascending=False\n",
        ")"
      ]
    },
    {
      "cell_type": "markdown",
      "metadata": {
        "id": "9vg2068KimiC"
      },
      "source": [
        "That's much better! We can store the result as a new `pandas.DataFrame` and plot the distribution:"
      ]
    },
    {
      "cell_type": "code",
      "execution_count": 65,
      "metadata": {
        "colab": {
          "base_uri": "https://localhost:8080/",
          "height": 206
        },
        "id": "no-8aElI8Cpt",
        "outputId": "e893ac83-b5a1-4702-c3d9-50516b4b77f8"
      },
      "outputs": [
        {
          "data": {
            "text/html": [
              "<div>\n",
              "<style scoped>\n",
              "    .dataframe tbody tr th:only-of-type {\n",
              "        vertical-align: middle;\n",
              "    }\n",
              "\n",
              "    .dataframe tbody tr th {\n",
              "        vertical-align: top;\n",
              "    }\n",
              "\n",
              "    .dataframe thead th {\n",
              "        text-align: right;\n",
              "    }\n",
              "</style>\n",
              "<table border=\"1\" class=\"dataframe\">\n",
              "  <thead>\n",
              "    <tr style=\"text-align: right;\">\n",
              "      <th></th>\n",
              "      <th>city</th>\n",
              "      <th>population</th>\n",
              "    </tr>\n",
              "  </thead>\n",
              "  <tbody>\n",
              "    <tr>\n",
              "      <th>0</th>\n",
              "      <td>Los Angeles</td>\n",
              "      <td>3495957.0</td>\n",
              "    </tr>\n",
              "    <tr>\n",
              "      <th>1</th>\n",
              "      <td>San Diego</td>\n",
              "      <td>1069557.0</td>\n",
              "    </tr>\n",
              "    <tr>\n",
              "      <th>2</th>\n",
              "      <td>San Jose</td>\n",
              "      <td>818234.0</td>\n",
              "    </tr>\n",
              "    <tr>\n",
              "      <th>3</th>\n",
              "      <td>San Francisco</td>\n",
              "      <td>702282.0</td>\n",
              "    </tr>\n",
              "    <tr>\n",
              "      <th>4</th>\n",
              "      <td>Sacramento</td>\n",
              "      <td>614478.0</td>\n",
              "    </tr>\n",
              "  </tbody>\n",
              "</table>\n",
              "</div>"
            ],
            "text/plain": [
              "            city  population\n",
              "0    Los Angeles   3495957.0\n",
              "1      San Diego   1069557.0\n",
              "2       San Jose    818234.0\n",
              "3  San Francisco    702282.0\n",
              "4     Sacramento    614478.0"
            ]
          },
          "execution_count": 65,
          "metadata": {},
          "output_type": "execute_result"
        }
      ],
      "source": [
        "# Plot populations of the 10 largest cities in descending order\n",
        "top10_largest_cities = housing_merged.groupby(\"city\").agg({\"population\": \"sum\"}).nlargest(10, columns=\"population\").reset_index()\n",
        "top10_largest_cities.head()"
      ]
    },
    {
      "cell_type": "code",
      "execution_count": 66,
      "metadata": {
        "colab": {
          "base_uri": "https://localhost:8080/",
          "height": 206
        },
        "id": "LW6670vrimiC",
        "outputId": "ef5c0d6f-1a11-470e-fc25-5b2fecbf5aa2"
      },
      "outputs": [
        {
          "data": {
            "text/html": [
              "<div>\n",
              "<style scoped>\n",
              "    .dataframe tbody tr th:only-of-type {\n",
              "        vertical-align: middle;\n",
              "    }\n",
              "\n",
              "    .dataframe tbody tr th {\n",
              "        vertical-align: top;\n",
              "    }\n",
              "\n",
              "    .dataframe thead th {\n",
              "        text-align: right;\n",
              "    }\n",
              "</style>\n",
              "<table border=\"1\" class=\"dataframe\">\n",
              "  <thead>\n",
              "    <tr style=\"text-align: right;\">\n",
              "      <th></th>\n",
              "      <th>city</th>\n",
              "      <th>population</th>\n",
              "    </tr>\n",
              "  </thead>\n",
              "  <tbody>\n",
              "    <tr>\n",
              "      <th>0</th>\n",
              "      <td>Los Angeles</td>\n",
              "      <td>3495957.0</td>\n",
              "    </tr>\n",
              "    <tr>\n",
              "      <th>1</th>\n",
              "      <td>San Diego</td>\n",
              "      <td>1069557.0</td>\n",
              "    </tr>\n",
              "    <tr>\n",
              "      <th>2</th>\n",
              "      <td>San Jose</td>\n",
              "      <td>818234.0</td>\n",
              "    </tr>\n",
              "    <tr>\n",
              "      <th>3</th>\n",
              "      <td>San Francisco</td>\n",
              "      <td>702282.0</td>\n",
              "    </tr>\n",
              "    <tr>\n",
              "      <th>4</th>\n",
              "      <td>Sacramento</td>\n",
              "      <td>614478.0</td>\n",
              "    </tr>\n",
              "  </tbody>\n",
              "</table>\n",
              "</div>"
            ],
            "text/plain": [
              "            city  population\n",
              "0    Los Angeles   3495957.0\n",
              "1      San Diego   1069557.0\n",
              "2       San Jose    818234.0\n",
              "3  San Francisco    702282.0\n",
              "4     Sacramento    614478.0"
            ]
          },
          "execution_count": 66,
          "metadata": {},
          "output_type": "execute_result"
        }
      ],
      "source": [
        "# In more detail: Plot populations of the 10 largest cities in descending order\n",
        "top10_largest_cities = (\n",
        "    # group by key=city\n",
        "    housing_merged.groupby(\"city\")\n",
        "    # calculate total population\n",
        "    .agg({\"population\": \"sum\"})\n",
        "    # select 10 largest\n",
        "    .nlargest(10, columns=\"population\")\n",
        "    # reset index so city becomes column\n",
        "    .reset_index()\n",
        ")\n",
        "top10_largest_cities.head()"
      ]
    },
    {
      "cell_type": "code",
      "execution_count": 67,
      "metadata": {
        "colab": {
          "base_uri": "https://localhost:8080/",
          "height": 285
        },
        "id": "vQwp_IYnimiC",
        "outputId": "0c6d1f29-bfbe-4667-ed39-f0f6c55b54c0"
      },
      "outputs": [
        {
          "data": {
            "image/png": "[encoded data removed]",
            "text/plain": [
              "<Figure size 432x288 with 1 Axes>"
            ]
          },
          "metadata": {},
          "output_type": "display_data"
        }
      ],
      "source": [
        "sns.barplot(x='population', y='city', data=top10_largest_cities, color='b');"
      ]
    },
    {
      "cell_type": "markdown",
      "metadata": {
        "id": "troKwiXYimiC"
      },
      "source": [
        "## GroupBy mechanics"
      ]
    },
    {
      "cell_type": "markdown",
      "metadata": {
        "id": "wjcWC1IyimiC"
      },
      "source": [
        "The group operation above can be best understood by the H. Wickam's [_split-apply-combine_](https://medium.com/analytics-vidhya/split-apply-combine-strategy-for-data-mining-4fd6e2a0cc99) strategy, where you break up a big problem into manageable pieces, operate on each piece independently and then put all the pieces back together. \n",
        "\n",
        "**Split:**\n",
        "In the first stage of the process, data contained in a `pandas.Series` or `pandas.DataFrame` object is _split_ into groups based on one or more specified _keys_. The splitting is performed on a particular _axis_ of the object. For example, a `pandas.DataFrame` can be grouped on its rows (`axis=0`) or its columns (`axis=1`).\n",
        "\n",
        "**Apply:**\n",
        "Once the split has been accomplished, a function is _applied_ to each group, producing a new value. \n",
        "\n",
        "**Combine:**\n",
        "Finally, the results of all those function applications are _combined_ into a result object. The form of the resulting object will usually depend on what's being done to the data.\n",
        "\n",
        "In general, the grouping key can take many forms and the keys do not have to be all of the same type. Frequently, the grouping information is found in the same `pandas.DataFrame` as the data you want to work on, so the key is usually a _column name_. For example let's create a simple `pandas.DataFrame` as follows:"
      ]
    },
    {
      "cell_type": "code",
      "execution_count": 68,
      "metadata": {
        "colab": {
          "base_uri": "https://localhost:8080/",
          "height": 206
        },
        "id": "22BoSzmRimiD",
        "outputId": "f65e762c-b2e4-4008-9bff-a646e4f6cae1"
      },
      "outputs": [
        {
          "data": {
            "text/html": [
              "<div>\n",
              "<style scoped>\n",
              "    .dataframe tbody tr th:only-of-type {\n",
              "        vertical-align: middle;\n",
              "    }\n",
              "\n",
              "    .dataframe tbody tr th {\n",
              "        vertical-align: top;\n",
              "    }\n",
              "\n",
              "    .dataframe thead th {\n",
              "        text-align: right;\n",
              "    }\n",
              "</style>\n",
              "<table border=\"1\" class=\"dataframe\">\n",
              "  <thead>\n",
              "    <tr style=\"text-align: right;\">\n",
              "      <th></th>\n",
              "      <th>key1</th>\n",
              "      <th>key2</th>\n",
              "      <th>data1</th>\n",
              "      <th>data2</th>\n",
              "    </tr>\n",
              "  </thead>\n",
              "  <tbody>\n",
              "    <tr>\n",
              "      <th>0</th>\n",
              "      <td>a</td>\n",
              "      <td>one</td>\n",
              "      <td>0.401634</td>\n",
              "      <td>1.056610</td>\n",
              "    </tr>\n",
              "    <tr>\n",
              "      <th>1</th>\n",
              "      <td>a</td>\n",
              "      <td>two</td>\n",
              "      <td>0.099236</td>\n",
              "      <td>1.427293</td>\n",
              "    </tr>\n",
              "    <tr>\n",
              "      <th>2</th>\n",
              "      <td>b</td>\n",
              "      <td>one</td>\n",
              "      <td>0.825173</td>\n",
              "      <td>0.141903</td>\n",
              "    </tr>\n",
              "    <tr>\n",
              "      <th>3</th>\n",
              "      <td>b</td>\n",
              "      <td>two</td>\n",
              "      <td>-0.337135</td>\n",
              "      <td>0.520449</td>\n",
              "    </tr>\n",
              "    <tr>\n",
              "      <th>4</th>\n",
              "      <td>a</td>\n",
              "      <td>one</td>\n",
              "      <td>-1.415750</td>\n",
              "      <td>-2.139792</td>\n",
              "    </tr>\n",
              "  </tbody>\n",
              "</table>\n",
              "</div>"
            ],
            "text/plain": [
              "  key1 key2     data1     data2\n",
              "0    a  one  0.401634  1.056610\n",
              "1    a  two  0.099236  1.427293\n",
              "2    b  one  0.825173  0.141903\n",
              "3    b  two -0.337135  0.520449\n",
              "4    a  one -1.415750 -2.139792"
            ]
          },
          "execution_count": 68,
          "metadata": {},
          "output_type": "execute_result"
        }
      ],
      "source": [
        "df_foo = pd.DataFrame(\n",
        "    {\n",
        "        \"key1\": [\"a\", \"a\", \"b\", \"b\", \"a\"],\n",
        "        \"key2\": [\"one\", \"two\", \"one\", \"two\", \"one\"],\n",
        "        \"data1\": np.random.randn(5),\n",
        "        \"data2\": np.random.randn(5),\n",
        "    }\n",
        ")\n",
        "df_foo"
      ]
    },
    {
      "cell_type": "markdown",
      "metadata": {
        "id": "hvrPGQr3imiD"
      },
      "source": [
        "We can then use the column names as the group keys:"
      ]
    },
    {
      "cell_type": "code",
      "execution_count": 69,
      "metadata": {
        "colab": {
          "base_uri": "https://localhost:8080/"
        },
        "id": "qyeYkRUTimiD",
        "outputId": "f02788a0-0685-4501-9b9d-9a7434434198"
      },
      "outputs": [
        {
          "data": {
            "text/plain": [
              "<pandas.core.groupby.generic.DataFrameGroupBy object at 0x000001DD36654A30>"
            ]
          },
          "execution_count": 69,
          "metadata": {},
          "output_type": "execute_result"
        }
      ],
      "source": [
        "grouped = df_foo.groupby('key1'); grouped"
      ]
    },
    {
      "cell_type": "markdown",
      "metadata": {
        "id": "KkYE68yEimiD"
      },
      "source": [
        "This `grouped` variable is now a _GroupBy_ object. It has not actually calculated anything yet except for some intermediate data about the group key `df_foo['key1']`. The main idea is that this object has all of the information needed to then apply some operation to each of the groups. For example, we can get the mean per group as follows:"
      ]
    },
    {
      "cell_type": "code",
      "execution_count": 70,
      "metadata": {
        "colab": {
          "base_uri": "https://localhost:8080/",
          "height": 143
        },
        "id": "m2mFxozwimiD",
        "outputId": "8c4a083f-09db-46e7-f49b-bf3c2d5fd03b"
      },
      "outputs": [
        {
          "data": {
            "text/html": [
              "<div>\n",
              "<style scoped>\n",
              "    .dataframe tbody tr th:only-of-type {\n",
              "        vertical-align: middle;\n",
              "    }\n",
              "\n",
              "    .dataframe tbody tr th {\n",
              "        vertical-align: top;\n",
              "    }\n",
              "\n",
              "    .dataframe thead th {\n",
              "        text-align: right;\n",
              "    }\n",
              "</style>\n",
              "<table border=\"1\" class=\"dataframe\">\n",
              "  <thead>\n",
              "    <tr style=\"text-align: right;\">\n",
              "      <th></th>\n",
              "      <th>data1</th>\n",
              "      <th>data2</th>\n",
              "    </tr>\n",
              "    <tr>\n",
              "      <th>key1</th>\n",
              "      <th></th>\n",
              "      <th></th>\n",
              "    </tr>\n",
              "  </thead>\n",
              "  <tbody>\n",
              "    <tr>\n",
              "      <th>a</th>\n",
              "      <td>-0.304960</td>\n",
              "      <td>0.114704</td>\n",
              "    </tr>\n",
              "    <tr>\n",
              "      <th>b</th>\n",
              "      <td>0.244019</td>\n",
              "      <td>0.331176</td>\n",
              "    </tr>\n",
              "  </tbody>\n",
              "</table>\n",
              "</div>"
            ],
            "text/plain": [
              "         data1     data2\n",
              "key1                    \n",
              "a    -0.304960  0.114704\n",
              "b     0.244019  0.331176"
            ]
          },
          "execution_count": 70,
          "metadata": {},
          "output_type": "execute_result"
        }
      ],
      "source": [
        "df_grouped = grouped.mean(); df_grouped"
      ]
    },
    {
      "cell_type": "markdown",
      "metadata": {
        "id": "Ub8CtubRimiE"
      },
      "source": [
        "---\n",
        "\n",
        "#### Exercise #5\n",
        "\n",
        "* Use the above `DataFrame.groupby()` techniques to find the top 10 cities which have the most expensive houses on average. Look up some of the names on the web - do the results make sense?\n",
        "* Use the `DataFrame.loc[]` method to filter out the houses with the capped values of over $500,000. Repeat the same step as above. "
      ]
    },
    {
      "cell_type": "code",
      "execution_count": 96,
      "metadata": {},
      "outputs": [
        {
          "data": {
            "text/html": [
              "<div>\n",
              "<style scoped>\n",
              "    .dataframe tbody tr th:only-of-type {\n",
              "        vertical-align: middle;\n",
              "    }\n",
              "\n",
              "    .dataframe tbody tr th {\n",
              "        vertical-align: top;\n",
              "    }\n",
              "\n",
              "    .dataframe thead th {\n",
              "        text-align: right;\n",
              "    }\n",
              "</style>\n",
              "<table border=\"1\" class=\"dataframe\">\n",
              "  <thead>\n",
              "    <tr style=\"text-align: right;\">\n",
              "      <th></th>\n",
              "      <th>median_house_value</th>\n",
              "    </tr>\n",
              "    <tr>\n",
              "      <th>city</th>\n",
              "      <th></th>\n",
              "    </tr>\n",
              "  </thead>\n",
              "  <tbody>\n",
              "    <tr>\n",
              "      <th>Bell Canyon</th>\n",
              "      <td>500001.0</td>\n",
              "    </tr>\n",
              "    <tr>\n",
              "      <th>Bradbury</th>\n",
              "      <td>500001.0</td>\n",
              "    </tr>\n",
              "    <tr>\n",
              "      <th>Calabasas</th>\n",
              "      <td>500001.0</td>\n",
              "    </tr>\n",
              "    <tr>\n",
              "      <th>Hidden Hills</th>\n",
              "      <td>500001.0</td>\n",
              "    </tr>\n",
              "    <tr>\n",
              "      <th>Hillsborough</th>\n",
              "      <td>500001.0</td>\n",
              "    </tr>\n",
              "    <tr>\n",
              "      <th>Los Altos Hills</th>\n",
              "      <td>500001.0</td>\n",
              "    </tr>\n",
              "    <tr>\n",
              "      <th>Palos Verdes Estates</th>\n",
              "      <td>500001.0</td>\n",
              "    </tr>\n",
              "    <tr>\n",
              "      <th>Rolling Hills</th>\n",
              "      <td>500001.0</td>\n",
              "    </tr>\n",
              "    <tr>\n",
              "      <th>Ross</th>\n",
              "      <td>500001.0</td>\n",
              "    </tr>\n",
              "    <tr>\n",
              "      <th>Summerland</th>\n",
              "      <td>500001.0</td>\n",
              "    </tr>\n",
              "  </tbody>\n",
              "</table>\n",
              "</div>"
            ],
            "text/plain": [
              "                      median_house_value\n",
              "city                                    \n",
              "Bell Canyon                     500001.0\n",
              "Bradbury                        500001.0\n",
              "Calabasas                       500001.0\n",
              "Hidden Hills                    500001.0\n",
              "Hillsborough                    500001.0\n",
              "Los Altos Hills                 500001.0\n",
              "Palos Verdes Estates            500001.0\n",
              "Rolling Hills                   500001.0\n",
              "Ross                            500001.0\n",
              "Summerland                      500001.0"
            ]
          },
          "execution_count": 96,
          "metadata": {},
          "output_type": "execute_result"
        }
      ],
      "source": [
        "#top 10: expensice houses on average\n",
        "df5_1 = housing_merged.groupby(\"city\").agg({\"median_house_value\": \"mean\"}).nlargest(10, \"median_house_value\").reset_index()\n",
        "df5_1"
      ]
    },
    {
      "cell_type": "code",
      "execution_count": 97,
      "metadata": {},
      "outputs": [
        {
          "data": {
            "text/html": [
              "<div>\n",
              "<style scoped>\n",
              "    .dataframe tbody tr th:only-of-type {\n",
              "        vertical-align: middle;\n",
              "    }\n",
              "\n",
              "    .dataframe tbody tr th {\n",
              "        vertical-align: top;\n",
              "    }\n",
              "\n",
              "    .dataframe thead th {\n",
              "        text-align: right;\n",
              "    }\n",
              "</style>\n",
              "<table border=\"1\" class=\"dataframe\">\n",
              "  <thead>\n",
              "    <tr style=\"text-align: right;\">\n",
              "      <th></th>\n",
              "      <th>city</th>\n",
              "      <th>median_house_value</th>\n",
              "    </tr>\n",
              "  </thead>\n",
              "  <tbody>\n",
              "    <tr>\n",
              "      <th>0</th>\n",
              "      <td>Emerald Hills</td>\n",
              "      <td>495900.000000</td>\n",
              "    </tr>\n",
              "    <tr>\n",
              "      <th>1</th>\n",
              "      <td>Montecito</td>\n",
              "      <td>463800.000000</td>\n",
              "    </tr>\n",
              "    <tr>\n",
              "      <th>2</th>\n",
              "      <td>Manhattan Beach</td>\n",
              "      <td>462200.000000</td>\n",
              "    </tr>\n",
              "    <tr>\n",
              "      <th>3</th>\n",
              "      <td>San Gregorio</td>\n",
              "      <td>456300.000000</td>\n",
              "    </tr>\n",
              "    <tr>\n",
              "      <th>4</th>\n",
              "      <td>Belvedere</td>\n",
              "      <td>441100.000000</td>\n",
              "    </tr>\n",
              "    <tr>\n",
              "      <th>5</th>\n",
              "      <td>Alamo</td>\n",
              "      <td>439060.000000</td>\n",
              "    </tr>\n",
              "    <tr>\n",
              "      <th>6</th>\n",
              "      <td>Topanga</td>\n",
              "      <td>437428.571429</td>\n",
              "    </tr>\n",
              "    <tr>\n",
              "      <th>7</th>\n",
              "      <td>Coto de Caza</td>\n",
              "      <td>436800.000000</td>\n",
              "    </tr>\n",
              "    <tr>\n",
              "      <th>8</th>\n",
              "      <td>Monte Sereno</td>\n",
              "      <td>432100.000000</td>\n",
              "    </tr>\n",
              "    <tr>\n",
              "      <th>9</th>\n",
              "      <td>Nicasio</td>\n",
              "      <td>430000.000000</td>\n",
              "    </tr>\n",
              "  </tbody>\n",
              "</table>\n",
              "</div>"
            ],
            "text/plain": [
              "              city  median_house_value\n",
              "0    Emerald Hills       495900.000000\n",
              "1        Montecito       463800.000000\n",
              "2  Manhattan Beach       462200.000000\n",
              "3     San Gregorio       456300.000000\n",
              "4        Belvedere       441100.000000\n",
              "5            Alamo       439060.000000\n",
              "6          Topanga       437428.571429\n",
              "7     Coto de Caza       436800.000000\n",
              "8     Monte Sereno       432100.000000\n",
              "9          Nicasio       430000.000000"
            ]
          },
          "execution_count": 97,
          "metadata": {},
          "output_type": "execute_result"
        }
      ],
      "source": [
        "housing_merged.loc[housing_merged[\"median_house_value\"] < 500000].groupby(\"city\").agg({\"median_house_value\": \"mean\"}).nlargest(10, \"median_house_value\").reset_index()"
      ]
    }
  ],
  "metadata": {
    "colab": {
      "collapsed_sections": [
        "gCKzlM_dimh1",
        "yBxOOw-himh4",
        "_joLGLR2imh7"
      ],
      "name": "lesson02_exploratory-data-analysis.ipynb",
      "provenance": [],
      "toc_visible": true
    },
    "kernelspec": {
      "display_name": "Python 3 (ipykernel)",
      "language": "python",
      "name": "python3"
    },
    "language_info": {
      "codemirror_mode": {
        "name": "ipython",
        "version": 3
      },
      "file_extension": ".py",
      "mimetype": "text/x-python",
      "name": "python",
      "nbconvert_exporter": "python",
      "pygments_lexer": "ipython3",
      "version": "3.9.5"
    },
    "orig_nbformat": 4
  },
  "nbformat": 4,
  "nbformat_minor": 0
}
