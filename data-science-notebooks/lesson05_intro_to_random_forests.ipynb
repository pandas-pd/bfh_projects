{
  "cells": [
    {
      "cell_type": "markdown",
      "metadata": {
        "id": "BMVVrmyXpbJl"
      },
      "source": [
        "# Lesson 5 - Random Forests Intro\n",
        "\n",
        "> How to train a Random Forest model to predict housing prices and evaluate the quality of the model's predictions."
      ]
    },
    {
      "cell_type": "markdown",
      "metadata": {
        "id": "C5NJQ8XZpbJp"
      },
      "source": [
        "## Learning objectives"
      ]
    },
    {
      "cell_type": "markdown",
      "metadata": {
        "id": "nDKp4HkCpbJq"
      },
      "source": [
        "* Understand the main steps involved in training a machine learning model\n",
        "* Gain an introduction to Python's machine learning library scikit-learn\n",
        "* Understand the need to generate a training and validation set"
      ]
    },
    {
      "cell_type": "markdown",
      "metadata": {
        "id": "12kc7Cr6pbJs"
      },
      "source": [
        "## References"
      ]
    },
    {
      "cell_type": "markdown",
      "metadata": {
        "id": "TW2Dq6UspbJt"
      },
      "source": [
        "This lesson is adapted from Jeremy Howard's online course [_Introduction to Machine Learning for Coders_](https://course18.fast.ai/ml), in particular:\n",
        "\n",
        "* [1 - Introduction to Random Forests](https://course18.fast.ai/lessonsml1/lesson1.html)\n",
        "\n",
        "You may also find the following textbook chapters and blog posts useful:\n",
        "\n",
        "* Chapters 2 & 5 of _Hands-On Machine Learning with Scikit-Learn and TensorFlow_ by Aurèlien Geron\n",
        "* [About Train, Validation and Test Sets in Machine Learning](https://towardsdatascience.com/train-validation-and-test-sets-72cb40cba9e7)"
      ]
    },
    {
      "cell_type": "markdown",
      "metadata": {
        "id": "j9jhCBmHpbJu"
      },
      "source": [
        "## Homework\n",
        "\n",
        "* Revisit the exercises included in this notebook\n",
        "* Read chapters 6 and 7 of _Hands-On Machine Learning with Scikit-Learn and TensorFlow_ by Aurèlien Geron and the above references to gain an overview of decision tree and random forest algorithms"
      ]
    },
    {
      "cell_type": "markdown",
      "metadata": {
        "id": "tdSaThX-pbJv"
      },
      "source": [
        "## The data"
      ]
    },
    {
      "cell_type": "markdown",
      "metadata": {
        "id": "lzZUyM2IpbJw"
      },
      "source": [
        "In this lesson we will analyse the preprocessed table of clean housing data and their addresses that we prepared in lesson 3:\n",
        "\n",
        "* `housing_processed.csv`"
      ]
    },
    {
      "cell_type": "markdown",
      "metadata": {
        "id": "vPMiqscTpbJx"
      },
      "source": [
        "## What is a machine learning model?"
      ]
    },
    {
      "cell_type": "markdown",
      "metadata": {
        "id": "1sW0-KpipbJy"
      },
      "source": [
        "[Tom Mitchell](https://en.wikipedia.org/wiki/Tom_M._Mitchell), one of the pioneers of machine learning, proposed this definition:\n",
        "\n",
        "> A computer program is said to learn from experience $E$ with respect to some class of tasks $T$ and performance measure $P$ if its performance at tasks in $T$, as measured by $P$, improves with experience $E$.\n",
        "\n",
        "Framed in our example to predict housing prices in California (task $T$), we can run a Random Forest algorithm on data about past housing prices (experience $E$) and, if it has successfully \"learned\", it will then do better at predicting future housing prices (performance measure $P$)."
      ]
    },
    {
      "cell_type": "markdown",
      "metadata": {
        "id": "GDwRAhhKpbJz"
      },
      "source": [
        "## Import libraries"
      ]
    },
    {
      "cell_type": "code",
      "execution_count": 2,
      "metadata": {
        "id": "3uIv923KpbJ1"
      },
      "outputs": [],
      "source": [
        "# data wrangling\n",
        "import pandas as pd\n",
        "import numpy as np\n",
        "\n",
        "# data viz\n",
        "import matplotlib.pyplot as plt\n",
        "import seaborn as sns\n",
        "%matplotlib inline\n",
        "\n",
        "sns.set(color_codes=True)\n",
        "sns.set_palette(sns.color_palette(\"muted\"))\n",
        "\n",
        "# machine learning\n",
        "from sklearn.model_selection import train_test_split\n",
        "from sklearn.metrics import mean_squared_error, r2_score"
      ]
    },
    {
      "cell_type": "markdown",
      "metadata": {
        "id": "AFU85NYjpbJ1"
      },
      "source": [
        "## Load the data"
      ]
    },
    {
      "cell_type": "code",
      "execution_count": 3,
      "metadata": {
        "colab": {
          "base_uri": "https://localhost:8080/",
          "height": 288
        },
        "id": "E0fIZ4CzpbJ4",
        "outputId": "b33fd92e-bbf6-48ac-c075-3794d2802333"
      },
      "outputs": [
        {
          "data": {
            "text/html": [
              "<div>\n",
              "<style scoped>\n",
              "    .dataframe tbody tr th:only-of-type {\n",
              "        vertical-align: middle;\n",
              "    }\n",
              "\n",
              "    .dataframe tbody tr th {\n",
              "        vertical-align: top;\n",
              "    }\n",
              "\n",
              "    .dataframe thead th {\n",
              "        text-align: right;\n",
              "    }\n",
              "</style>\n",
              "<table border=\"1\" class=\"dataframe\">\n",
              "  <thead>\n",
              "    <tr style=\"text-align: right;\">\n",
              "      <th></th>\n",
              "      <th>longitude</th>\n",
              "      <th>latitude</th>\n",
              "      <th>housing_median_age</th>\n",
              "      <th>total_rooms</th>\n",
              "      <th>total_bedrooms</th>\n",
              "      <th>population</th>\n",
              "      <th>households</th>\n",
              "      <th>median_income</th>\n",
              "      <th>median_house_value</th>\n",
              "      <th>city</th>\n",
              "      <th>rooms_per_household</th>\n",
              "      <th>bedrooms_per_household</th>\n",
              "      <th>bedrooms_per_room</th>\n",
              "      <th>population_per_household</th>\n",
              "      <th>ocean_proximity_INLAND</th>\n",
              "      <th>ocean_proximity_&lt;1H OCEAN</th>\n",
              "      <th>ocean_proximity_NEAR BAY</th>\n",
              "      <th>ocean_proximity_NEAR OCEAN</th>\n",
              "      <th>ocean_proximity_ISLAND</th>\n",
              "    </tr>\n",
              "  </thead>\n",
              "  <tbody>\n",
              "    <tr>\n",
              "      <th>0</th>\n",
              "      <td>-122.23</td>\n",
              "      <td>37.88</td>\n",
              "      <td>41.0</td>\n",
              "      <td>880.0</td>\n",
              "      <td>129.0</td>\n",
              "      <td>322.0</td>\n",
              "      <td>126.0</td>\n",
              "      <td>8.3252</td>\n",
              "      <td>452600.0</td>\n",
              "      <td>69</td>\n",
              "      <td>6.984127</td>\n",
              "      <td>1.023810</td>\n",
              "      <td>0.146591</td>\n",
              "      <td>2.555556</td>\n",
              "      <td>0</td>\n",
              "      <td>0</td>\n",
              "      <td>1</td>\n",
              "      <td>0</td>\n",
              "      <td>0</td>\n",
              "    </tr>\n",
              "    <tr>\n",
              "      <th>1</th>\n",
              "      <td>-122.22</td>\n",
              "      <td>37.86</td>\n",
              "      <td>21.0</td>\n",
              "      <td>7099.0</td>\n",
              "      <td>1106.0</td>\n",
              "      <td>2401.0</td>\n",
              "      <td>1138.0</td>\n",
              "      <td>8.3014</td>\n",
              "      <td>358500.0</td>\n",
              "      <td>620</td>\n",
              "      <td>6.238137</td>\n",
              "      <td>0.971880</td>\n",
              "      <td>0.155797</td>\n",
              "      <td>2.109842</td>\n",
              "      <td>0</td>\n",
              "      <td>0</td>\n",
              "      <td>1</td>\n",
              "      <td>0</td>\n",
              "      <td>0</td>\n",
              "    </tr>\n",
              "    <tr>\n",
              "      <th>2</th>\n",
              "      <td>-122.24</td>\n",
              "      <td>37.85</td>\n",
              "      <td>52.0</td>\n",
              "      <td>1467.0</td>\n",
              "      <td>190.0</td>\n",
              "      <td>496.0</td>\n",
              "      <td>177.0</td>\n",
              "      <td>7.2574</td>\n",
              "      <td>352100.0</td>\n",
              "      <td>620</td>\n",
              "      <td>8.288136</td>\n",
              "      <td>1.073446</td>\n",
              "      <td>0.129516</td>\n",
              "      <td>2.802260</td>\n",
              "      <td>0</td>\n",
              "      <td>0</td>\n",
              "      <td>1</td>\n",
              "      <td>0</td>\n",
              "      <td>0</td>\n",
              "    </tr>\n",
              "    <tr>\n",
              "      <th>3</th>\n",
              "      <td>-122.25</td>\n",
              "      <td>37.85</td>\n",
              "      <td>52.0</td>\n",
              "      <td>1274.0</td>\n",
              "      <td>235.0</td>\n",
              "      <td>558.0</td>\n",
              "      <td>219.0</td>\n",
              "      <td>5.6431</td>\n",
              "      <td>341300.0</td>\n",
              "      <td>620</td>\n",
              "      <td>5.817352</td>\n",
              "      <td>1.073059</td>\n",
              "      <td>0.184458</td>\n",
              "      <td>2.547945</td>\n",
              "      <td>0</td>\n",
              "      <td>0</td>\n",
              "      <td>1</td>\n",
              "      <td>0</td>\n",
              "      <td>0</td>\n",
              "    </tr>\n",
              "    <tr>\n",
              "      <th>4</th>\n",
              "      <td>-122.25</td>\n",
              "      <td>37.85</td>\n",
              "      <td>52.0</td>\n",
              "      <td>1627.0</td>\n",
              "      <td>280.0</td>\n",
              "      <td>565.0</td>\n",
              "      <td>259.0</td>\n",
              "      <td>3.8462</td>\n",
              "      <td>342200.0</td>\n",
              "      <td>620</td>\n",
              "      <td>6.281853</td>\n",
              "      <td>1.081081</td>\n",
              "      <td>0.172096</td>\n",
              "      <td>2.181467</td>\n",
              "      <td>0</td>\n",
              "      <td>0</td>\n",
              "      <td>1</td>\n",
              "      <td>0</td>\n",
              "      <td>0</td>\n",
              "    </tr>\n",
              "  </tbody>\n",
              "</table>\n",
              "</div>"
            ],
            "text/plain": [
              "   longitude  latitude  housing_median_age  total_rooms  total_bedrooms  \\\n",
              "0    -122.23     37.88                41.0        880.0           129.0   \n",
              "1    -122.22     37.86                21.0       7099.0          1106.0   \n",
              "2    -122.24     37.85                52.0       1467.0           190.0   \n",
              "3    -122.25     37.85                52.0       1274.0           235.0   \n",
              "4    -122.25     37.85                52.0       1627.0           280.0   \n",
              "\n",
              "   population  households  median_income  median_house_value  city  \\\n",
              "0       322.0       126.0         8.3252            452600.0    69   \n",
              "1      2401.0      1138.0         8.3014            358500.0   620   \n",
              "2       496.0       177.0         7.2574            352100.0   620   \n",
              "3       558.0       219.0         5.6431            341300.0   620   \n",
              "4       565.0       259.0         3.8462            342200.0   620   \n",
              "\n",
              "   rooms_per_household  bedrooms_per_household  bedrooms_per_room  \\\n",
              "0             6.984127                1.023810           0.146591   \n",
              "1             6.238137                0.971880           0.155797   \n",
              "2             8.288136                1.073446           0.129516   \n",
              "3             5.817352                1.073059           0.184458   \n",
              "4             6.281853                1.081081           0.172096   \n",
              "\n",
              "   population_per_household  ocean_proximity_INLAND  \\\n",
              "0                  2.555556                       0   \n",
              "1                  2.109842                       0   \n",
              "2                  2.802260                       0   \n",
              "3                  2.547945                       0   \n",
              "4                  2.181467                       0   \n",
              "\n",
              "   ocean_proximity_<1H OCEAN  ocean_proximity_NEAR BAY  \\\n",
              "0                          0                         1   \n",
              "1                          0                         1   \n",
              "2                          0                         1   \n",
              "3                          0                         1   \n",
              "4                          0                         1   \n",
              "\n",
              "   ocean_proximity_NEAR OCEAN  ocean_proximity_ISLAND  \n",
              "0                           0                       0  \n",
              "1                           0                       0  \n",
              "2                           0                       0  \n",
              "3                           0                       0  \n",
              "4                           0                       0  "
            ]
          },
          "execution_count": 3,
          "metadata": {},
          "output_type": "execute_result"
        }
      ],
      "source": [
        "housing_data = pd.read_csv('housing_processed.csv'); housing_data.head()"
      ]
    },
    {
      "cell_type": "markdown",
      "metadata": {
        "id": "95fwe-gapbJ4"
      },
      "source": [
        "> Tip: We often use `DataFrame.head()` to peek at the first 5 rows of a `pandas.DataFrame`. When you have a lot of columns, you may find it is simpler to peek at the _transpose_ with `DataFrame.head().T`"
      ]
    },
    {
      "cell_type": "code",
      "execution_count": 4,
      "metadata": {
        "colab": {
          "base_uri": "https://localhost:8080/",
          "height": 677
        },
        "id": "snPYcx5zpbJ5",
        "outputId": "17705b4c-46ed-4072-a165-4748e0800aac"
      },
      "outputs": [
        {
          "data": {
            "text/html": [
              "<div>\n",
              "<style scoped>\n",
              "    .dataframe tbody tr th:only-of-type {\n",
              "        vertical-align: middle;\n",
              "    }\n",
              "\n",
              "    .dataframe tbody tr th {\n",
              "        vertical-align: top;\n",
              "    }\n",
              "\n",
              "    .dataframe thead th {\n",
              "        text-align: right;\n",
              "    }\n",
              "</style>\n",
              "<table border=\"1\" class=\"dataframe\">\n",
              "  <thead>\n",
              "    <tr style=\"text-align: right;\">\n",
              "      <th></th>\n",
              "      <th>0</th>\n",
              "      <th>1</th>\n",
              "      <th>2</th>\n",
              "      <th>3</th>\n",
              "      <th>4</th>\n",
              "    </tr>\n",
              "  </thead>\n",
              "  <tbody>\n",
              "    <tr>\n",
              "      <th>longitude</th>\n",
              "      <td>-122.230000</td>\n",
              "      <td>-122.220000</td>\n",
              "      <td>-122.240000</td>\n",
              "      <td>-122.250000</td>\n",
              "      <td>-122.250000</td>\n",
              "    </tr>\n",
              "    <tr>\n",
              "      <th>latitude</th>\n",
              "      <td>37.880000</td>\n",
              "      <td>37.860000</td>\n",
              "      <td>37.850000</td>\n",
              "      <td>37.850000</td>\n",
              "      <td>37.850000</td>\n",
              "    </tr>\n",
              "    <tr>\n",
              "      <th>housing_median_age</th>\n",
              "      <td>41.000000</td>\n",
              "      <td>21.000000</td>\n",
              "      <td>52.000000</td>\n",
              "      <td>52.000000</td>\n",
              "      <td>52.000000</td>\n",
              "    </tr>\n",
              "    <tr>\n",
              "      <th>total_rooms</th>\n",
              "      <td>880.000000</td>\n",
              "      <td>7099.000000</td>\n",
              "      <td>1467.000000</td>\n",
              "      <td>1274.000000</td>\n",
              "      <td>1627.000000</td>\n",
              "    </tr>\n",
              "    <tr>\n",
              "      <th>total_bedrooms</th>\n",
              "      <td>129.000000</td>\n",
              "      <td>1106.000000</td>\n",
              "      <td>190.000000</td>\n",
              "      <td>235.000000</td>\n",
              "      <td>280.000000</td>\n",
              "    </tr>\n",
              "    <tr>\n",
              "      <th>population</th>\n",
              "      <td>322.000000</td>\n",
              "      <td>2401.000000</td>\n",
              "      <td>496.000000</td>\n",
              "      <td>558.000000</td>\n",
              "      <td>565.000000</td>\n",
              "    </tr>\n",
              "    <tr>\n",
              "      <th>households</th>\n",
              "      <td>126.000000</td>\n",
              "      <td>1138.000000</td>\n",
              "      <td>177.000000</td>\n",
              "      <td>219.000000</td>\n",
              "      <td>259.000000</td>\n",
              "    </tr>\n",
              "    <tr>\n",
              "      <th>median_income</th>\n",
              "      <td>8.325200</td>\n",
              "      <td>8.301400</td>\n",
              "      <td>7.257400</td>\n",
              "      <td>5.643100</td>\n",
              "      <td>3.846200</td>\n",
              "    </tr>\n",
              "    <tr>\n",
              "      <th>median_house_value</th>\n",
              "      <td>452600.000000</td>\n",
              "      <td>358500.000000</td>\n",
              "      <td>352100.000000</td>\n",
              "      <td>341300.000000</td>\n",
              "      <td>342200.000000</td>\n",
              "    </tr>\n",
              "    <tr>\n",
              "      <th>city</th>\n",
              "      <td>69.000000</td>\n",
              "      <td>620.000000</td>\n",
              "      <td>620.000000</td>\n",
              "      <td>620.000000</td>\n",
              "      <td>620.000000</td>\n",
              "    </tr>\n",
              "    <tr>\n",
              "      <th>rooms_per_household</th>\n",
              "      <td>6.984127</td>\n",
              "      <td>6.238137</td>\n",
              "      <td>8.288136</td>\n",
              "      <td>5.817352</td>\n",
              "      <td>6.281853</td>\n",
              "    </tr>\n",
              "    <tr>\n",
              "      <th>bedrooms_per_household</th>\n",
              "      <td>1.023810</td>\n",
              "      <td>0.971880</td>\n",
              "      <td>1.073446</td>\n",
              "      <td>1.073059</td>\n",
              "      <td>1.081081</td>\n",
              "    </tr>\n",
              "    <tr>\n",
              "      <th>bedrooms_per_room</th>\n",
              "      <td>0.146591</td>\n",
              "      <td>0.155797</td>\n",
              "      <td>0.129516</td>\n",
              "      <td>0.184458</td>\n",
              "      <td>0.172096</td>\n",
              "    </tr>\n",
              "    <tr>\n",
              "      <th>population_per_household</th>\n",
              "      <td>2.555556</td>\n",
              "      <td>2.109842</td>\n",
              "      <td>2.802260</td>\n",
              "      <td>2.547945</td>\n",
              "      <td>2.181467</td>\n",
              "    </tr>\n",
              "    <tr>\n",
              "      <th>ocean_proximity_INLAND</th>\n",
              "      <td>0.000000</td>\n",
              "      <td>0.000000</td>\n",
              "      <td>0.000000</td>\n",
              "      <td>0.000000</td>\n",
              "      <td>0.000000</td>\n",
              "    </tr>\n",
              "    <tr>\n",
              "      <th>ocean_proximity_&lt;1H OCEAN</th>\n",
              "      <td>0.000000</td>\n",
              "      <td>0.000000</td>\n",
              "      <td>0.000000</td>\n",
              "      <td>0.000000</td>\n",
              "      <td>0.000000</td>\n",
              "    </tr>\n",
              "    <tr>\n",
              "      <th>ocean_proximity_NEAR BAY</th>\n",
              "      <td>1.000000</td>\n",
              "      <td>1.000000</td>\n",
              "      <td>1.000000</td>\n",
              "      <td>1.000000</td>\n",
              "      <td>1.000000</td>\n",
              "    </tr>\n",
              "    <tr>\n",
              "      <th>ocean_proximity_NEAR OCEAN</th>\n",
              "      <td>0.000000</td>\n",
              "      <td>0.000000</td>\n",
              "      <td>0.000000</td>\n",
              "      <td>0.000000</td>\n",
              "      <td>0.000000</td>\n",
              "    </tr>\n",
              "    <tr>\n",
              "      <th>ocean_proximity_ISLAND</th>\n",
              "      <td>0.000000</td>\n",
              "      <td>0.000000</td>\n",
              "      <td>0.000000</td>\n",
              "      <td>0.000000</td>\n",
              "      <td>0.000000</td>\n",
              "    </tr>\n",
              "  </tbody>\n",
              "</table>\n",
              "</div>"
            ],
            "text/plain": [
              "                                        0              1              2  \\\n",
              "longitude                     -122.230000    -122.220000    -122.240000   \n",
              "latitude                        37.880000      37.860000      37.850000   \n",
              "housing_median_age              41.000000      21.000000      52.000000   \n",
              "total_rooms                    880.000000    7099.000000    1467.000000   \n",
              "total_bedrooms                 129.000000    1106.000000     190.000000   \n",
              "population                     322.000000    2401.000000     496.000000   \n",
              "households                     126.000000    1138.000000     177.000000   \n",
              "median_income                    8.325200       8.301400       7.257400   \n",
              "median_house_value          452600.000000  358500.000000  352100.000000   \n",
              "city                            69.000000     620.000000     620.000000   \n",
              "rooms_per_household              6.984127       6.238137       8.288136   \n",
              "bedrooms_per_household           1.023810       0.971880       1.073446   \n",
              "bedrooms_per_room                0.146591       0.155797       0.129516   \n",
              "population_per_household         2.555556       2.109842       2.802260   \n",
              "ocean_proximity_INLAND           0.000000       0.000000       0.000000   \n",
              "ocean_proximity_<1H OCEAN        0.000000       0.000000       0.000000   \n",
              "ocean_proximity_NEAR BAY         1.000000       1.000000       1.000000   \n",
              "ocean_proximity_NEAR OCEAN       0.000000       0.000000       0.000000   \n",
              "ocean_proximity_ISLAND           0.000000       0.000000       0.000000   \n",
              "\n",
              "                                        3              4  \n",
              "longitude                     -122.250000    -122.250000  \n",
              "latitude                        37.850000      37.850000  \n",
              "housing_median_age              52.000000      52.000000  \n",
              "total_rooms                   1274.000000    1627.000000  \n",
              "total_bedrooms                 235.000000     280.000000  \n",
              "population                     558.000000     565.000000  \n",
              "households                     219.000000     259.000000  \n",
              "median_income                    5.643100       3.846200  \n",
              "median_house_value          341300.000000  342200.000000  \n",
              "city                           620.000000     620.000000  \n",
              "rooms_per_household              5.817352       6.281853  \n",
              "bedrooms_per_household           1.073059       1.081081  \n",
              "bedrooms_per_room                0.184458       0.172096  \n",
              "population_per_household         2.547945       2.181467  \n",
              "ocean_proximity_INLAND           0.000000       0.000000  \n",
              "ocean_proximity_<1H OCEAN        0.000000       0.000000  \n",
              "ocean_proximity_NEAR BAY         1.000000       1.000000  \n",
              "ocean_proximity_NEAR OCEAN       0.000000       0.000000  \n",
              "ocean_proximity_ISLAND           0.000000       0.000000  "
            ]
          },
          "execution_count": 4,
          "metadata": {},
          "output_type": "execute_result"
        }
      ],
      "source": [
        "housing_data.head().T"
      ]
    },
    {
      "cell_type": "markdown",
      "metadata": {
        "id": "oiPKBHoNpbJ5"
      },
      "source": [
        "---\n",
        "\n",
        "#### Exercise #1\n",
        "\n",
        "Even though you may be told a dataset has been cleaned and prepared for training a model, you should always perform some sanity checks! \n",
        "\n",
        "* Check that `housing_data` is free of missing values\n",
        "* Check that all columns are numerical\n",
        "\n",
        "---"
      ]
    },
    {
      "cell_type": "code",
      "execution_count": 7,
      "metadata": {},
      "outputs": [
        {
          "data": {
            "text/plain": [
              "0"
            ]
          },
          "execution_count": 7,
          "metadata": {},
          "output_type": "execute_result"
        }
      ],
      "source": [
        "housing_data.isna().sum().sum()"
      ]
    },
    {
      "cell_type": "markdown",
      "metadata": {
        "id": "tFYIccaXpbJ6"
      },
      "source": [
        "## Select a performance measure"
      ]
    },
    {
      "cell_type": "markdown",
      "metadata": {
        "id": "Y-lZsLG-pbJ6"
      },
      "source": [
        "Before we can train any model, we need to think about which performance measure we wish to optimise for. For regression problems the Root Mean Square Error (RMSE) is often used as it measures the (square root of the) mean squared error the model makes in its predictions and gives a higher weight to large errors."
      ]
    },
    {
      "cell_type": "markdown",
      "metadata": {
        "id": "vYHgxkuPpbJ6"
      },
      "source": [
        "> Note: In general, lower values of RMSE indicate a better fit to the data."
      ]
    },
    {
      "cell_type": "markdown",
      "metadata": {
        "id": "xNUJYf-ppbJ6"
      },
      "source": [
        "Mathematically, the formula for RMSE is:\n",
        "\n",
        "$$\\mathrm{RMSE} = \\sqrt{\\frac{1}{m}\\sum_{i=1}^m \\left(\\hat{y}_i - y_i\\right)^2}$$\n",
        "\n",
        "where $m$ is the number of instances in the dataset you are measuring the RMSE on, $\\hat{y}_i$ is the model's prediction for the $i^{th}$ instance, and $y_i$ is the actual label. Let's create a simple function that uses scitkit-learn's [mean_squared_error function](https://scikit-learn.org/stable/modules/generated/sklearn.metrics.mean_squared_error.html) (which is just RMSE$^2$):"
      ]
    },
    {
      "cell_type": "code",
      "execution_count": 8,
      "metadata": {
        "id": "p44ELtwMpbJ7"
      },
      "outputs": [],
      "source": [
        "def rmse(y, yhat):\n",
        "    \"\"\"A utility function to calculate the Root Mean Square Error (RMSE).\n",
        "    \n",
        "    Args:\n",
        "        y (array): Actual values for target.\n",
        "        yhat (array): Predicted values for target.\n",
        "        \n",
        "    Returns:\n",
        "        rmse (double): The RMSE.\n",
        "    \"\"\"\n",
        "    return np.sqrt(mean_squared_error(y, yhat))"
      ]
    },
    {
      "cell_type": "markdown",
      "metadata": {
        "id": "jhkajvsSpbJ7"
      },
      "source": [
        "---\n",
        "#### Exercise #2\n",
        "\n",
        "Whenever you create a Python function it is a good idea to test that it behaves as you expect on some dummy data. Given the two NumPy arrays:\n",
        "\n",
        "```python\n",
        "y_dummy = np.array([2,2,3])\n",
        "yhat_dummy = np.array([0,2,6])\n",
        "```\n",
        "Check that our `rmse` function matches what you would get by calculating the explicit formula for RMSE manually and comparing your result to the output from the `rmse` function.\n",
        "---"
      ]
    },
    {
      "cell_type": "code",
      "execution_count": 18,
      "metadata": {},
      "outputs": [
        {
          "name": "stdout",
          "output_type": "stream",
          "text": [
            "Function error:\t 2.0816659994661326\n",
            "    \n",
            "        .\n",
            "       ,O,\n",
            "      ,OOO,\n",
            "'oooooOOOOOooooo'\n",
            "  `OOOOOOOOOOO`\n",
            "    `OOOOOOO`\n",
            "    OOOO'OOOO\n",
            "   OOO'   'OOO\n",
            "  O'         'O\n",
            "\n"
          ]
        }
      ],
      "source": [
        "y_dummy = np.array([2,2,3]); yhat_dummy = np.array([0,2,6])\n",
        "error : int = rmse(y_dummy, yhat_dummy)\n",
        "print(\"Function error:\\t\", error)\n",
        "\n",
        "\n",
        "ascii_star : str = \"\"\"    \n",
        "        .\n",
        "       ,O,\n",
        "      ,OOO,\n",
        "'oooooOOOOOooooo'\n",
        "  `OOOOOOOOOOO`\n",
        "    `OOOOOOO`\n",
        "    OOOO'OOOO\n",
        "   OOO'   'OOO\n",
        "  O'         'O\n",
        "\"\"\"\n",
        "\n",
        "print(ascii_star)\n"
      ]
    },
    {
      "cell_type": "markdown",
      "metadata": {
        "id": "AKuSWOsxpbJ7"
      },
      "source": [
        "## Introducing scikit-learn"
      ]
    },
    {
      "cell_type": "markdown",
      "metadata": {
        "id": "prISBKxmpbJ7"
      },
      "source": [
        "Now that we've checked that the training data is clean and free from obvious anomalies, it's time to train our model! To do so, we will make use of the scikit-learn library.\n",
        "\n",
        "scikit-learn is one of the best known Python libraries for machine learning and provides efficient implementations of a large number of common algorithms. It has a uniform _Estimator API_ as well as excellent online documentation. The main benefit of its API is that once you understand the basic use and syntax of scikit-learn for one type of model, switching to a new model or algorithm is very easy.\n",
        "\n",
        "**Basics of the API**\n",
        "\n",
        "The most common steps one takes when building a model in scikit-learn are:\n",
        "1. Choose a class of model by importing the appropriate estimator class from scikit-learn.\n",
        "2. Choose model _hyperparameters_ by instantiating this class with the desired values.\n",
        "3. Arrange data into a feature matrix and target vector (see discussion below).\n",
        "4. Fit the model to your data by calling the `fit()` method.\n",
        "5. Evaluate the predictions of the model:\n",
        "    * For supervised learning we typically predict _labels_ for new data using the `predict()` method.\n",
        "    * For unsupervised learning, we often transform or infer properties of the data using the `transform()` or `predict()` methods.\n",
        "    \n",
        "Let's go through each of these steps to build a Random Forest regressor to predict California housing prices."
      ]
    },
    {
      "cell_type": "markdown",
      "metadata": {
        "id": "FhCdwYhYpbJ8"
      },
      "source": [
        "### Choose a model"
      ]
    },
    {
      "cell_type": "markdown",
      "metadata": {
        "id": "Ex3eZK_-pbJ8"
      },
      "source": [
        "In scikit-learn, every class of model is represented by a Python class. We want a Random Forest regressor, so looking at the online [docs](https://scikit-learn.org/stable/modules/generated/sklearn.ensemble.RandomForestRegressor.html#sklearn.ensemble.RandomForestRegressor) we should import the `RandomForestRegressor`:"
      ]
    },
    {
      "cell_type": "code",
      "execution_count": 19,
      "metadata": {
        "id": "XfR5jNtnpbJ8"
      },
      "outputs": [],
      "source": [
        "from sklearn.ensemble import RandomForestRegressor"
      ]
    },
    {
      "cell_type": "markdown",
      "metadata": {
        "id": "vOnyD9zwpbJ9"
      },
      "source": [
        "### Choose hyperparameters"
      ]
    },
    {
      "cell_type": "markdown",
      "metadata": {
        "id": "GWINKwSCpbJ9"
      },
      "source": [
        "Once we have chosen our model class, there are still some options open to us:\n",
        "\n",
        "* What is the maximum depth of the tree? The default is `None` which means the nodes are expanded until all leaves are pure.\n",
        "* Other parameters can be found in the [docs](https://scikit-learn.org/stable/modules/generated/sklearn.tree.DecisionTreeClassifier.html#sklearn.tree.DecisionTreeClassifier), but for now we take a simple model with just 10 trees.\n",
        "\n",
        "The above choices are often referred to as _hyperparameters_ or parameters that must be set before the model is fit to the data. We can instantiate the `RandomForestRegressor` class and specify the desired hyperparameters as follows:"
      ]
    },
    {
      "cell_type": "code",
      "execution_count": 20,
      "metadata": {
        "id": "WXL_nDyLpbJ9"
      },
      "outputs": [],
      "source": [
        "model = RandomForestRegressor(n_estimators=10, random_state=42)"
      ]
    },
    {
      "cell_type": "markdown",
      "metadata": {
        "id": "jfVut873pbJ-"
      },
      "source": [
        "> Note: You will often see the function argument `random_state` in scikit-learn and other libraries in the PyData stack. This parameter usually controls the random seed used to generate the function's output and setting it explicitly allows us to have reproducible results."
      ]
    },
    {
      "cell_type": "markdown",
      "metadata": {
        "id": "a1txYP3RpbJ-"
      },
      "source": [
        "### Arrange data into a feature matrix and target vector"
      ]
    },
    {
      "cell_type": "markdown",
      "metadata": {
        "id": "DglO8qIapbJ-"
      },
      "source": [
        "scikit-learn requires that the data be arranged into a two-dimensional feature matrix and a one-dimensional target array. By convention: \n",
        "\n",
        "* The feature matrix is often stored in a variable called `X`. This matrix is typically two-dimensional with shape `[n_samples, n_features]`, where `n_samples` refers to the number of row (i.e. housing districts in our example) and `n_features` refers to all columns except `median_house_value` which is our target.\n",
        "* The target or label array is usually denoted by `y`."
      ]
    },
    {
      "cell_type": "markdown",
      "metadata": {
        "id": "DqSaTvfYpbJ_"
      },
      "source": [
        "---\n",
        "#### Exercise #3\n",
        "\n",
        "Create the feature matrix `X` and target vector `y` from `housing_data`.\n",
        "\n",
        "---"
      ]
    },
    {
      "cell_type": "code",
      "execution_count": 26,
      "metadata": {},
      "outputs": [
        {
          "name": "stdout",
          "output_type": "stream",
          "text": [
            "(19443, 18)\n",
            "(19443,)\n"
          ]
        }
      ],
      "source": [
        "X = housing_data.drop(labels = \"median_house_value\", axis = 1)\n",
        "y = housing_data[\"median_house_value\"]\n",
        "\n",
        "print(X.shape)\n",
        "print(y.shape)"
      ]
    },
    {
      "cell_type": "markdown",
      "metadata": {
        "id": "45ez_c7spbJ_"
      },
      "source": [
        "### Fit the model to your data"
      ]
    },
    {
      "cell_type": "markdown",
      "metadata": {
        "id": "an4-L5WJpbJ_"
      },
      "source": [
        "Now it is time to apply our model to data! This can be done with the `fit()` method:"
      ]
    },
    {
      "cell_type": "code",
      "execution_count": 27,
      "metadata": {
        "colab": {
          "base_uri": "https://localhost:8080/"
        },
        "id": "axkwU_AgpbJ_",
        "outputId": "26993850-8ca5-4df3-85f8-0992d1252ddd"
      },
      "outputs": [
        {
          "data": {
            "text/plain": [
              "RandomForestRegressor(n_estimators=10, random_state=42)"
            ]
          },
          "execution_count": 27,
          "metadata": {},
          "output_type": "execute_result"
        }
      ],
      "source": [
        "model.fit(X, y)"
      ]
    },
    {
      "cell_type": "markdown",
      "metadata": {
        "id": "Unw4HdeYpbKA"
      },
      "source": [
        "### Evaluate the predictions"
      ]
    },
    {
      "cell_type": "markdown",
      "metadata": {
        "id": "ruZBB79GpbKA"
      },
      "source": [
        "The final step is to generate predictions and evaluate them with our chosen performance metric, in this case the RMSE."
      ]
    },
    {
      "cell_type": "code",
      "execution_count": 28,
      "metadata": {
        "id": "7sfblVcQpbKA"
      },
      "outputs": [],
      "source": [
        "yhat = model.predict(X)"
      ]
    },
    {
      "cell_type": "code",
      "execution_count": 29,
      "metadata": {
        "colab": {
          "base_uri": "https://localhost:8080/"
        },
        "id": "qsj0448hpbKB",
        "outputId": "e4949c50-7308-4db1-d197-ecea897d5515"
      },
      "outputs": [
        {
          "data": {
            "text/plain": [
              "19699.71938281614"
            ]
          },
          "execution_count": 29,
          "metadata": {},
          "output_type": "execute_result"
        }
      ],
      "source": [
        "rmse(y, yhat)"
      ]
    },
    {
      "cell_type": "markdown",
      "metadata": {
        "id": "E5uepee_w79E"
      },
      "source": [
        "---\n",
        "#### Exercise #4\n",
        "\n",
        "How do you interpret the resulting RMSE? What does it mean? What are the units? Is it a good result or a bad result?\n",
        "\n",
        "---"
      ]
    },
    {
      "cell_type": "markdown",
      "metadata": {},
      "source": [
        " - The unit of rmse is in USD, beacuse the predicted value is in USD as well\n",
        " - It means that the error, overall, should be quite low. To get a better metric, we could also express the Error in terms of percentage. So we could get a better idea of how much it diverges from the actual value"
      ]
    },
    {
      "cell_type": "markdown",
      "metadata": {
        "id": "AGPJ9K7_pbKD"
      },
      "source": [
        "> Warning: Evaluating our model's predictions on the same data it was trained on is usually a recipe for disaster! Why? The problem is that the model may memorise the structure of the data it sees and fail to provide good predictions when shown new data."
      ]
    },
    {
      "cell_type": "markdown",
      "metadata": {
        "id": "oIuR9V-QpbKD"
      },
      "source": [
        "## Better evaluation using training and validation splits"
      ]
    },
    {
      "cell_type": "markdown",
      "metadata": {
        "id": "9PB_e2GXpbKD"
      },
      "source": [
        "One way to measure how well a model will generalise to new cases is to split your data into two sets: the _**training set**_ and the _**validation set**_. As these names imply, you train your model using the training set and validate it using the validation set. The error rate on new cases is called the _**generalisation error**_ and by evaluating your model on the validation set, you get an estimation of this error.\n",
        "\n",
        "Creating a validation set is theoretically quite simple: just pick some instances randomly and set them aside (we set the random number generator's seed `random_state` so that is always generates the same shuffled indices):"
      ]
    },
    {
      "cell_type": "code",
      "execution_count": 31,
      "metadata": {
        "colab": {
          "base_uri": "https://localhost:8080/"
        },
        "id": "0nezFpQfpbKD",
        "outputId": "d6a9064d-7355-4a3b-8e69-368067446a65"
      },
      "outputs": [
        {
          "name": "stdout",
          "output_type": "stream",
          "text": [
            "15554 train rows + 3889 valid rows\n"
          ]
        }
      ],
      "source": [
        "X_train, X_valid, y_train, y_valid = train_test_split(X, y, test_size=0.2, random_state=42)\n",
        "\n",
        "print(f'{len(X_train)} train rows + {len(X_valid)} valid rows')"
      ]
    },
    {
      "cell_type": "markdown",
      "metadata": {
        "id": "DWmjxVD4pbKE"
      },
      "source": [
        "With these two datasets, we first fit on the training set and evaluate the prediction on the validation set:"
      ]
    },
    {
      "cell_type": "code",
      "execution_count": 33,
      "metadata": {
        "colab": {
          "base_uri": "https://localhost:8080/"
        },
        "id": "lU5v5PPbpbKE",
        "outputId": "00354c67-f060-44cf-da6d-9931914fd531"
      },
      "outputs": [
        {
          "data": {
            "text/plain": [
              "RandomForestRegressor(n_estimators=10, random_state=42)"
            ]
          },
          "execution_count": 33,
          "metadata": {},
          "output_type": "execute_result"
        }
      ],
      "source": [
        "model = RandomForestRegressor(n_estimators=10, random_state=42)\n",
        "model.fit(X_train, y_train)"
      ]
    },
    {
      "cell_type": "code",
      "execution_count": 34,
      "metadata": {
        "colab": {
          "base_uri": "https://localhost:8080/"
        },
        "id": "vtMgBmL5pbKF",
        "outputId": "2db29e21-b1ec-44e0-e8e6-6651c5fb6f2d"
      },
      "outputs": [
        {
          "data": {
            "text/plain": [
              "47406.61639092342"
            ]
          },
          "execution_count": 34,
          "metadata": {},
          "output_type": "execute_result"
        }
      ],
      "source": [
        "prediction = model.predict(X_valid)      # y_pred=pd.DataFrame(y_pred, columns=['predicted_value'])\n",
        "y_pred=pd.DataFrame(prediction, columns=['median_house_value'])\n",
        "\n",
        "rmse(y_valid, y_pred)"
      ]
    },
    {
      "cell_type": "code",
      "execution_count": 35,
      "metadata": {
        "id": "xlgMlFIfZCwh"
      },
      "outputs": [],
      "source": [
        "y_valid = y_valid.reset_index()\n",
        "y_valid.drop(['index'], axis=1, inplace=True)"
      ]
    },
    {
      "cell_type": "markdown",
      "metadata": {
        "id": "PUEE1RVrpbKF"
      },
      "source": [
        "## Visualising the model errors"
      ]
    },
    {
      "cell_type": "markdown",
      "metadata": {
        "id": "iUC7PdTapbKG"
      },
      "source": [
        "Although numerical scores are useful, deeper insights can often be gained by _visualising_ the errors the model makes. Let's look at two common ways to diagnose _regression_ models."
      ]
    },
    {
      "cell_type": "markdown",
      "metadata": {
        "id": "6SrckSt_pbKG"
      },
      "source": [
        "### Prediction errors"
      ]
    },
    {
      "cell_type": "markdown",
      "metadata": {
        "id": "tw2xmTXUpbKG"
      },
      "source": [
        "To get a sense of how often our model is predicting values that are close to the expected values, we'll plot the actual `median_house_value` labels from the validation dataset against the predicted value generated by our final model:"
      ]
    },
    {
      "cell_type": "code",
      "execution_count": 36,
      "metadata": {
        "colab": {
          "base_uri": "https://localhost:8080/",
          "height": 410
        },
        "id": "hfJfVa2DBvRd",
        "outputId": "dc4e2408-3e0f-4fdf-e26d-f3c5904bfa0a"
      },
      "outputs": [
        {
          "data": {
            "image/png": "[encoded data removed]",
            "text/plain": [
              "<Figure size 432x432 with 1 Axes>"
            ]
          },
          "metadata": {},
          "output_type": "display_data"
        }
      ],
      "source": [
        "plt.figure(figsize=(6, 6))\n",
        "plt.scatter(y_valid,y_pred)\n",
        "plt.xlabel(\"Actual Median House Price\")\n",
        "plt.ylabel(\"Predicted Median House Price\")\n",
        "plt.xlim([0,510000])\n",
        "plt.ylim([0,510000])\n",
        "plt.title(f\"Prediction Error for {model.__class__.__name__}\")\n",
        "plt.show()"
      ]
    },
    {
      "cell_type": "markdown",
      "metadata": {
        "id": "mJCTAHK9pbKI"
      },
      "source": [
        "What we’re looking for here is a clear, linear relationship between the predicted and actual values. The points indeed cluster along the 45-degree line. We can see that apart from a few outliers, the random forest performs fairly well. (In fact, those outliers can due to various reasons, e.g. they may be caused by data acquisition errors or be related to houses that are special for reasons not reflected in the data.)"
      ]
    },
    {
      "cell_type": "markdown",
      "metadata": {
        "id": "PmAfyi2epbKI"
      },
      "source": [
        "### Residual plots"
      ]
    },
    {
      "cell_type": "markdown",
      "metadata": {
        "id": "Yl4xouS3pbKJ"
      },
      "source": [
        "A residual is the difference between the labeled value and the predicted value for each instance in our dataset: \n",
        "\n",
        "$$ \\mathrm{residual} = y_\\mathrm{actual} - y_\\mathrm{predicted} $$\n",
        "\n",
        "We can plot residuals to visualize the extent to which our model has captured the behavior of the data. By plotting the residuals for a series of instances, we can check whether they’re consistent with random error; we should not be able to predict the error for any given instance. If the data points appear to be evenly (randomly) dispersed around the plotted line, our model is performing well. In some sense, the resulting plot is a rotated version of our prediction error one above:"
      ]
    },
    {
      "cell_type": "code",
      "execution_count": 38,
      "metadata": {
        "colab": {
          "base_uri": "https://localhost:8080/",
          "height": 410
        },
        "id": "9ugdJ-ayOKDO",
        "outputId": "4f1fdf85-69cf-423a-bd3d-962a05fd19eb"
      },
      "outputs": [
        {
          "data": {
            "image/png": "[encoded data removed]",
            "text/plain": [
              "<Figure size 432x432 with 1 Axes>"
            ]
          },
          "metadata": {},
          "output_type": "display_data"
        }
      ],
      "source": [
        "plt.figure(figsize=(6, 6))\n",
        "plt.scatter(y_pred, y_valid-y_pred)\n",
        "plt.xlabel(\"Predicted Median House Price\")\n",
        "plt.ylabel(\"Residuals\")\n",
        "plt.title(f\"Residuals for {model.__class__.__name__}\")\n",
        "plt.show()"
      ]
    },
    {
      "cell_type": "markdown",
      "metadata": {
        "id": "S-R5rJP3pbKK"
      },
      "source": [
        "What we’re looking for is a mostly symmetrical distribution with points that tend to cluster towards the middle of the plot, ideally around smaller numbers of the y-axis. If we observe some kind of structure that does not coincide with the plotted line, we have failed to capture the behavior of the data and should either consider some feature engineering, selecting a new model, or an exploration of the hyperparameters.\n",
        "\n",
        "In the case above, we see that again the outliers suggest some room for improvement with our Random Forest model."
      ]
    },
    {
      "cell_type": "markdown",
      "metadata": {
        "id": "RQEXLouapbKK"
      },
      "source": [
        "---\n",
        "\n",
        "#### Exercise #5\n",
        "\n",
        "Instead of using an ensemble of decision trees, scikit-learn also provides an estimator to train a _single_ decision tree on the data (see documentation [here](https://scikit-learn.org/stable/modules/generated/sklearn.tree.DecisionTreeRegressor.html#sklearn.tree.DecisionTreeRegressor)). Repeat the same 5 steps above for a decision tree regressor, using the default hyperparameters.\n",
        "\n",
        "---"
      ]
    },
    {
      "cell_type": "code",
      "execution_count": 39,
      "metadata": {},
      "outputs": [],
      "source": [
        "from sklearn.tree import DecisionTreeClassifier"
      ]
    },
    {
      "cell_type": "code",
      "execution_count": 57,
      "metadata": {},
      "outputs": [
        {
          "data": {
            "text/plain": [
              "DecisionTreeClassifier(max_depth=10, random_state=42)"
            ]
          },
          "execution_count": 57,
          "metadata": {},
          "output_type": "execute_result"
        }
      ],
      "source": [
        "X_train, X_valid, y_train, y_valid = train_test_split(X, y, test_size=0.2, random_state=42)\n",
        "dtc_model = DecisionTreeClassifier(max_depth = 10, random_state=42)\n",
        "dtc_model.fit(X_train, y_train)"
      ]
    },
    {
      "cell_type": "code",
      "execution_count": 58,
      "metadata": {},
      "outputs": [
        {
          "data": {
            "text/plain": [
              "85265.49297856433"
            ]
          },
          "execution_count": 58,
          "metadata": {},
          "output_type": "execute_result"
        }
      ],
      "source": [
        "prediction = dtc_model.predict(X_valid)      # y_pred=pd.DataFrame(y_pred, columns=['predicted_value'])\n",
        "y_pred=pd.DataFrame(prediction, columns=['median_house_value'])\n",
        "rmse(y_valid, y_pred)"
      ]
    },
    {
      "cell_type": "code",
      "execution_count": 53,
      "metadata": {},
      "outputs": [],
      "source": [
        "y_valid = y_valid.reset_index()\n",
        "y_valid.drop(['index'], axis=1, inplace=True)"
      ]
    },
    {
      "cell_type": "code",
      "execution_count": 46,
      "metadata": {},
      "outputs": [
        {
          "data": {
            "image/png": "[encoded data removed]",
            "text/plain": [
              "<Figure size 432x432 with 1 Axes>"
            ]
          },
          "metadata": {},
          "output_type": "display_data"
        }
      ],
      "source": [
        "plt.figure(figsize=(6, 6))\n",
        "plt.scatter(y_pred, y_valid-y_pred)\n",
        "plt.xlabel(\"Predicted Median House Price\")\n",
        "plt.ylabel(\"Residuals\")\n",
        "plt.title(f\"Residuals for {model.__class__.__name__}\")\n",
        "plt.show()"
      ]
    },
    {
      "cell_type": "code",
      "execution_count": 47,
      "metadata": {},
      "outputs": [
        {
          "data": {
            "image/png": "[encoded data removed]",
            "text/plain": [
              "<Figure size 432x432 with 1 Axes>"
            ]
          },
          "metadata": {},
          "output_type": "display_data"
        }
      ],
      "source": [
        "plt.figure(figsize=(6, 6))\n",
        "plt.scatter(y_pred, y_valid-y_pred)\n",
        "plt.xlabel(\"Predicted Median House Price\")\n",
        "plt.ylabel(\"Residuals\")\n",
        "plt.title(f\"Residuals for {model.__class__.__name__}\")\n",
        "plt.show()"
      ]
    },
    {
      "cell_type": "markdown",
      "metadata": {
        "id": "PD4-g-RKeIIc"
      },
      "source": [
        "There seems to be more scatter (higher rmse, i.e. lower prediction accuracy) if we predict the house values with the decision tree model."
      ]
    },
    {
      "cell_type": "markdown",
      "metadata": {
        "id": "Y4r5TJ3Nu0Fd"
      },
      "source": [
        "## Now let's get back to work on our group projects.."
      ]
    }
  ],
  "metadata": {
    "colab": {
      "collapsed_sections": [],
      "name": "lesson05_intro-to-random-forests.ipynb",
      "provenance": []
    },
    "kernelspec": {
      "display_name": "Python 3",
      "language": "python",
      "name": "python3"
    },
    "language_info": {
      "codemirror_mode": {
        "name": "ipython",
        "version": 3
      },
      "file_extension": ".py",
      "mimetype": "text/x-python",
      "name": "python",
      "nbconvert_exporter": "python",
      "pygments_lexer": "ipython3",
      "version": "3.9.5"
    }
  },
  "nbformat": 4,
  "nbformat_minor": 0
}
