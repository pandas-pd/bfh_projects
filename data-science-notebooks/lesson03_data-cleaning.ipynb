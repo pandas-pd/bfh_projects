{
  "cells": [
    {
      "cell_type": "markdown",
      "metadata": {
        "id": "B-wfG4myLQ4W"
      },
      "source": [
        "# Lesson 3 - Data Clearning and Feature Engineering\n",
        "\n",
        "> How to prepare data for machine learning algorithms and create new, informative features"
      ]
    },
    {
      "cell_type": "markdown",
      "metadata": {
        "id": "hppqsgdsLQ4Y"
      },
      "source": [
        "## Learning objectives"
      ]
    },
    {
      "cell_type": "markdown",
      "metadata": {
        "id": "G8aeXpdFLQ4Y"
      },
      "source": [
        "* Understand the main steps involved in preparing data for machine learning algorithms\n",
        "* Learn how to treat missing values \n",
        "* Get to know categorical variables and one-hot encoding\n",
        "* Gain an introduction to matplotlib's functionality for combining multiple plots in the same figure"
      ]
    },
    {
      "cell_type": "markdown",
      "metadata": {
        "id": "EJJOzVaVLQ4Z"
      },
      "source": [
        "## References"
      ]
    },
    {
      "cell_type": "markdown",
      "metadata": {
        "id": "6sN4iV6ZLQ4Z"
      },
      "source": [
        "This lesson draws heavily on the following textbook chapter:\n",
        "\n",
        "* Chapter 2 of _Hands-On Machine Learning with Scikit-Learn and TensorFlow_ by Aurèlien Geron\n",
        "\n",
        "You may also find the following blog posts useful:\n",
        "\n",
        "* [Machine Learning with Kaggle: Feature Engineering\n",
        "](https://www.datacamp.com/community/tutorials/feature-engineering-kaggle)\n",
        "* Sections 2 and 3 of [Intermediate Machine Learning](https://www.kaggle.com/learn/intermediate-machine-learning) on Kaggle Learn\n",
        "* [Effectively Using Matplotlib](https://pbpython.com/effective-matplotlib.html) by C. Moffitt"
      ]
    },
    {
      "cell_type": "markdown",
      "metadata": {
        "id": "R-Qibg2lLQ4a"
      },
      "source": [
        "## Homework\n",
        "\n",
        "* Revisit the exercises included in this notebook\n",
        "* Read chapter 3 of _Data Science for Business_ by Provost & Fawcett"
      ]
    },
    {
      "cell_type": "markdown",
      "metadata": {
        "id": "xmlptYg9LQ4a"
      },
      "source": [
        "## What is data cleaning?"
      ]
    },
    {
      "cell_type": "markdown",
      "metadata": {
        "id": "cOrY3JxXLQ4a"
      },
      "source": [
        "When you receive a new dataset at the beginning of a project, the first task usually involves some form of data cleaning. \n",
        "\n",
        "To solve the task at hand, you might need data from multiple sources which you need to combine into one unified table. However, this is usually a tricky task; the different data sources might have different naming conventions, some of them might be human-generated, while others are automatic system reports. A list of things you usually have to go through are the following:\n",
        "\n",
        "* Merge multiple sources into one table\n",
        "* Remove duplicate entries\n",
        "* Clean corrupted entries\n",
        "* Handle missing data\n",
        "\n",
        "In lesson 2, we examined how to merge the table of housing data with their addresses; in this lesson we will focus on the remaining three steps.\n",
        "\n",
        "Although building algorithms that are able to classify data or estimate outcomes is arguably the most interesting part of data science, data cleaning is the one that takes up most of the time. According to a study by [CrowdFlower](https://www.forbes.com/sites/gilpress/2016/03/23/data-preparation-most-time-consuming-least-enjoyable-data-science-task-survey-says/#67beee196f63), data scientists spend about 60-80% of their time preparing datasets for machine learning algorithms.\n"
      ]
    },
    {
      "cell_type": "markdown",
      "metadata": {
        "id": "GOPvqFzILQ4b"
      },
      "source": [
        "## The data"
      ]
    },
    {
      "cell_type": "markdown",
      "metadata": {
        "id": "5R8EXxgkLQ4c"
      },
      "source": [
        "In this lesson we will analyse the unified table of housing data and their addresses that we created in lesson 2:\n",
        "\n",
        "* `housing_merged.csv`"
      ]
    },
    {
      "cell_type": "markdown",
      "metadata": {
        "id": "ixd-cY9ZLQ4c"
      },
      "source": [
        "## Import libraries"
      ]
    },
    {
      "cell_type": "markdown",
      "metadata": {
        "id": "WgnY9m4pLQ4c"
      },
      "source": [
        "As in previous lessons, we will be making use of the pandas and seaborn libraries."
      ]
    },
    {
      "cell_type": "code",
      "execution_count": 123,
      "metadata": {
        "id": "O91Cz8MMLQ4d"
      },
      "outputs": [],
      "source": [
        "# data wrangling\n",
        "import pandas as pd\n",
        "import numpy as np\n",
        "\n",
        "# data viz\n",
        "import seaborn as sns\n",
        "import matplotlib.pyplot as plt\n",
        "import matplotlib.image as mpimg\n",
        "%matplotlib inline\n",
        "\n",
        "# these commands define the color scheme\n",
        "sns.set(color_codes=True)\n",
        "sns.set_palette(sns.color_palette('muted'))"
      ]
    },
    {
      "cell_type": "markdown",
      "metadata": {
        "id": "E9peRDdbLQ4e"
      },
      "source": [
        "## Load the data"
      ]
    },
    {
      "cell_type": "code",
      "execution_count": 124,
      "metadata": {
        "colab": {
          "base_uri": "https://localhost:8080/",
          "height": 288
        },
        "id": "KPvU_IRDLQ4h",
        "outputId": "90df1f60-4e22-4223-99b5-5bc201964eff"
      },
      "outputs": [
        {
          "data": {
            "text/html": [
              "<div>\n",
              "<style scoped>\n",
              "    .dataframe tbody tr th:only-of-type {\n",
              "        vertical-align: middle;\n",
              "    }\n",
              "\n",
              "    .dataframe tbody tr th {\n",
              "        vertical-align: top;\n",
              "    }\n",
              "\n",
              "    .dataframe thead th {\n",
              "        text-align: right;\n",
              "    }\n",
              "</style>\n",
              "<table border=\"1\" class=\"dataframe\">\n",
              "  <thead>\n",
              "    <tr style=\"text-align: right;\">\n",
              "      <th></th>\n",
              "      <th>longitude</th>\n",
              "      <th>latitude</th>\n",
              "      <th>housing_median_age</th>\n",
              "      <th>total_rooms</th>\n",
              "      <th>total_bedrooms</th>\n",
              "      <th>population</th>\n",
              "      <th>households</th>\n",
              "      <th>median_income</th>\n",
              "      <th>median_house_value</th>\n",
              "      <th>ocean_proximity</th>\n",
              "      <th>street_number</th>\n",
              "      <th>street_name</th>\n",
              "      <th>city</th>\n",
              "      <th>postal_code</th>\n",
              "    </tr>\n",
              "  </thead>\n",
              "  <tbody>\n",
              "    <tr>\n",
              "      <th>0</th>\n",
              "      <td>-122.23</td>\n",
              "      <td>37.88</td>\n",
              "      <td>41.0</td>\n",
              "      <td>880.0</td>\n",
              "      <td>129.0</td>\n",
              "      <td>322.0</td>\n",
              "      <td>126.0</td>\n",
              "      <td>8.3252</td>\n",
              "      <td>452600.0</td>\n",
              "      <td>NEAR BAY</td>\n",
              "      <td>3130</td>\n",
              "      <td>Grizzly Peak Boulevard</td>\n",
              "      <td>Berkeley</td>\n",
              "      <td>94705.0</td>\n",
              "    </tr>\n",
              "    <tr>\n",
              "      <th>1</th>\n",
              "      <td>-122.22</td>\n",
              "      <td>37.86</td>\n",
              "      <td>21.0</td>\n",
              "      <td>7099.0</td>\n",
              "      <td>1106.0</td>\n",
              "      <td>2401.0</td>\n",
              "      <td>1138.0</td>\n",
              "      <td>8.3014</td>\n",
              "      <td>358500.0</td>\n",
              "      <td>NEAR BAY</td>\n",
              "      <td>2005</td>\n",
              "      <td>Tunnel Road</td>\n",
              "      <td>Oakland</td>\n",
              "      <td>94611.0</td>\n",
              "    </tr>\n",
              "    <tr>\n",
              "      <th>2</th>\n",
              "      <td>-122.24</td>\n",
              "      <td>37.85</td>\n",
              "      <td>52.0</td>\n",
              "      <td>1467.0</td>\n",
              "      <td>190.0</td>\n",
              "      <td>496.0</td>\n",
              "      <td>177.0</td>\n",
              "      <td>7.2574</td>\n",
              "      <td>352100.0</td>\n",
              "      <td>NEAR BAY</td>\n",
              "      <td>6886</td>\n",
              "      <td>Chabot Road</td>\n",
              "      <td>Oakland</td>\n",
              "      <td>94618.0</td>\n",
              "    </tr>\n",
              "    <tr>\n",
              "      <th>3</th>\n",
              "      <td>-122.25</td>\n",
              "      <td>37.85</td>\n",
              "      <td>52.0</td>\n",
              "      <td>1274.0</td>\n",
              "      <td>235.0</td>\n",
              "      <td>558.0</td>\n",
              "      <td>219.0</td>\n",
              "      <td>5.6431</td>\n",
              "      <td>341300.0</td>\n",
              "      <td>NEAR BAY</td>\n",
              "      <td>6365</td>\n",
              "      <td>Florio Street</td>\n",
              "      <td>Oakland</td>\n",
              "      <td>94618.0</td>\n",
              "    </tr>\n",
              "    <tr>\n",
              "      <th>4</th>\n",
              "      <td>-122.25</td>\n",
              "      <td>37.85</td>\n",
              "      <td>52.0</td>\n",
              "      <td>1627.0</td>\n",
              "      <td>280.0</td>\n",
              "      <td>565.0</td>\n",
              "      <td>259.0</td>\n",
              "      <td>3.8462</td>\n",
              "      <td>342200.0</td>\n",
              "      <td>NEAR BAY</td>\n",
              "      <td>6365</td>\n",
              "      <td>Florio Street</td>\n",
              "      <td>Oakland</td>\n",
              "      <td>94618.0</td>\n",
              "    </tr>\n",
              "  </tbody>\n",
              "</table>\n",
              "</div>"
            ],
            "text/plain": [
              "   longitude  latitude  housing_median_age  total_rooms  total_bedrooms  \\\n",
              "0    -122.23     37.88                41.0        880.0           129.0   \n",
              "1    -122.22     37.86                21.0       7099.0          1106.0   \n",
              "2    -122.24     37.85                52.0       1467.0           190.0   \n",
              "3    -122.25     37.85                52.0       1274.0           235.0   \n",
              "4    -122.25     37.85                52.0       1627.0           280.0   \n",
              "\n",
              "   population  households  median_income  median_house_value ocean_proximity  \\\n",
              "0       322.0       126.0         8.3252            452600.0        NEAR BAY   \n",
              "1      2401.0      1138.0         8.3014            358500.0        NEAR BAY   \n",
              "2       496.0       177.0         7.2574            352100.0        NEAR BAY   \n",
              "3       558.0       219.0         5.6431            341300.0        NEAR BAY   \n",
              "4       565.0       259.0         3.8462            342200.0        NEAR BAY   \n",
              "\n",
              "  street_number             street_name      city  postal_code  \n",
              "0          3130  Grizzly Peak Boulevard  Berkeley      94705.0  \n",
              "1          2005             Tunnel Road   Oakland      94611.0  \n",
              "2          6886             Chabot Road   Oakland      94618.0  \n",
              "3          6365           Florio Street   Oakland      94618.0  \n",
              "4          6365           Florio Street   Oakland      94618.0  "
            ]
          },
          "execution_count": 124,
          "metadata": {},
          "output_type": "execute_result"
        }
      ],
      "source": [
        "housing_data = pd.read_csv('housing_merged.csv'); housing_data.head()"
      ]
    },
    {
      "cell_type": "markdown",
      "metadata": {
        "id": "H8szvKRSLQ4h"
      },
      "source": [
        "## Feature engineering"
      ]
    },
    {
      "cell_type": "markdown",
      "metadata": {
        "id": "V5pE3puyLQ4i"
      },
      "source": [
        "Before we prepare the data for training machine learning models, it is useful to experiment with creating new _**features**_ (i.e. columns) that may provide more information than the raw data alone. For example the column `total_rooms` refers to the total number of rooms in a housing district, and thus it is more useful to know the number of rooms per household. In pandas, we can create this new column as follows:"
      ]
    },
    {
      "cell_type": "code",
      "execution_count": 125,
      "metadata": {
        "colab": {
          "base_uri": "https://localhost:8080/",
          "height": 162
        },
        "id": "KK3CchhhLQ4i",
        "outputId": "f6301cd1-ee50-445f-b508-f6c8987d2b32"
      },
      "outputs": [
        {
          "data": {
            "text/html": [
              "<div>\n",
              "<style scoped>\n",
              "    .dataframe tbody tr th:only-of-type {\n",
              "        vertical-align: middle;\n",
              "    }\n",
              "\n",
              "    .dataframe tbody tr th {\n",
              "        vertical-align: top;\n",
              "    }\n",
              "\n",
              "    .dataframe thead th {\n",
              "        text-align: right;\n",
              "    }\n",
              "</style>\n",
              "<table border=\"1\" class=\"dataframe\">\n",
              "  <thead>\n",
              "    <tr style=\"text-align: right;\">\n",
              "      <th></th>\n",
              "      <th>longitude</th>\n",
              "      <th>latitude</th>\n",
              "      <th>housing_median_age</th>\n",
              "      <th>total_rooms</th>\n",
              "      <th>total_bedrooms</th>\n",
              "      <th>population</th>\n",
              "      <th>households</th>\n",
              "      <th>median_income</th>\n",
              "      <th>median_house_value</th>\n",
              "      <th>ocean_proximity</th>\n",
              "      <th>street_number</th>\n",
              "      <th>street_name</th>\n",
              "      <th>city</th>\n",
              "      <th>postal_code</th>\n",
              "      <th>rooms_per_household</th>\n",
              "    </tr>\n",
              "  </thead>\n",
              "  <tbody>\n",
              "    <tr>\n",
              "      <th>0</th>\n",
              "      <td>-122.23</td>\n",
              "      <td>37.88</td>\n",
              "      <td>41.0</td>\n",
              "      <td>880.0</td>\n",
              "      <td>129.0</td>\n",
              "      <td>322.0</td>\n",
              "      <td>126.0</td>\n",
              "      <td>8.3252</td>\n",
              "      <td>452600.0</td>\n",
              "      <td>NEAR BAY</td>\n",
              "      <td>3130</td>\n",
              "      <td>Grizzly Peak Boulevard</td>\n",
              "      <td>Berkeley</td>\n",
              "      <td>94705.0</td>\n",
              "      <td>6.984127</td>\n",
              "    </tr>\n",
              "  </tbody>\n",
              "</table>\n",
              "</div>"
            ],
            "text/plain": [
              "   longitude  latitude  housing_median_age  total_rooms  total_bedrooms  \\\n",
              "0    -122.23     37.88                41.0        880.0           129.0   \n",
              "\n",
              "   population  households  median_income  median_house_value ocean_proximity  \\\n",
              "0       322.0       126.0         8.3252            452600.0        NEAR BAY   \n",
              "\n",
              "  street_number             street_name      city  postal_code  \\\n",
              "0          3130  Grizzly Peak Boulevard  Berkeley      94705.0   \n",
              "\n",
              "   rooms_per_household  \n",
              "0             6.984127  "
            ]
          },
          "execution_count": 125,
          "metadata": {},
          "output_type": "execute_result"
        }
      ],
      "source": [
        "housing_data['rooms_per_household'] = housing_data['total_rooms'] / housing_data['households']\n",
        "# check we have added the column\n",
        "housing_data.head(1)"
      ]
    },
    {
      "cell_type": "markdown",
      "metadata": {
        "id": "f2uMNHS7LQ4i"
      },
      "source": [
        "---\n",
        "\n",
        "#### Exercise #1\n",
        "\n",
        "* Create a new feature called `bedrooms_per_household` from the `total_bedrooms` and `households` features\n",
        "* Create a new feature called `bedrooms_per_room` from the `total_bedrooms` and `total_rooms` features\n",
        "* Create a new feature called `population_per_household` from the `population` and `households` features\n",
        "* Recalculate the correlation matrix from lesson 1 - what can you conclude about the correlation of the new features with the median house value?\n",
        "\n",
        "---"
      ]
    },
    {
      "cell_type": "code",
      "execution_count": 126,
      "metadata": {},
      "outputs": [
        {
          "data": {
            "text/html": [
              "<div>\n",
              "<style scoped>\n",
              "    .dataframe tbody tr th:only-of-type {\n",
              "        vertical-align: middle;\n",
              "    }\n",
              "\n",
              "    .dataframe tbody tr th {\n",
              "        vertical-align: top;\n",
              "    }\n",
              "\n",
              "    .dataframe thead th {\n",
              "        text-align: right;\n",
              "    }\n",
              "</style>\n",
              "<table border=\"1\" class=\"dataframe\">\n",
              "  <thead>\n",
              "    <tr style=\"text-align: right;\">\n",
              "      <th></th>\n",
              "      <th>longitude</th>\n",
              "      <th>latitude</th>\n",
              "      <th>housing_median_age</th>\n",
              "      <th>total_rooms</th>\n",
              "      <th>total_bedrooms</th>\n",
              "      <th>population</th>\n",
              "      <th>households</th>\n",
              "      <th>median_income</th>\n",
              "      <th>median_house_value</th>\n",
              "      <th>ocean_proximity</th>\n",
              "      <th>street_number</th>\n",
              "      <th>street_name</th>\n",
              "      <th>city</th>\n",
              "      <th>postal_code</th>\n",
              "      <th>rooms_per_household</th>\n",
              "      <th>bedrooms_per_household</th>\n",
              "      <th>bedrooms_per_room</th>\n",
              "      <th>population_per_household</th>\n",
              "    </tr>\n",
              "  </thead>\n",
              "  <tbody>\n",
              "    <tr>\n",
              "      <th>0</th>\n",
              "      <td>-122.23</td>\n",
              "      <td>37.88</td>\n",
              "      <td>41.0</td>\n",
              "      <td>880.0</td>\n",
              "      <td>129.0</td>\n",
              "      <td>322.0</td>\n",
              "      <td>126.0</td>\n",
              "      <td>8.3252</td>\n",
              "      <td>452600.0</td>\n",
              "      <td>NEAR BAY</td>\n",
              "      <td>3130</td>\n",
              "      <td>Grizzly Peak Boulevard</td>\n",
              "      <td>Berkeley</td>\n",
              "      <td>94705.0</td>\n",
              "      <td>6.984127</td>\n",
              "      <td>1.023810</td>\n",
              "      <td>0.146591</td>\n",
              "      <td>2.555556</td>\n",
              "    </tr>\n",
              "    <tr>\n",
              "      <th>1</th>\n",
              "      <td>-122.22</td>\n",
              "      <td>37.86</td>\n",
              "      <td>21.0</td>\n",
              "      <td>7099.0</td>\n",
              "      <td>1106.0</td>\n",
              "      <td>2401.0</td>\n",
              "      <td>1138.0</td>\n",
              "      <td>8.3014</td>\n",
              "      <td>358500.0</td>\n",
              "      <td>NEAR BAY</td>\n",
              "      <td>2005</td>\n",
              "      <td>Tunnel Road</td>\n",
              "      <td>Oakland</td>\n",
              "      <td>94611.0</td>\n",
              "      <td>6.238137</td>\n",
              "      <td>0.971880</td>\n",
              "      <td>0.155797</td>\n",
              "      <td>2.109842</td>\n",
              "    </tr>\n",
              "    <tr>\n",
              "      <th>2</th>\n",
              "      <td>-122.24</td>\n",
              "      <td>37.85</td>\n",
              "      <td>52.0</td>\n",
              "      <td>1467.0</td>\n",
              "      <td>190.0</td>\n",
              "      <td>496.0</td>\n",
              "      <td>177.0</td>\n",
              "      <td>7.2574</td>\n",
              "      <td>352100.0</td>\n",
              "      <td>NEAR BAY</td>\n",
              "      <td>6886</td>\n",
              "      <td>Chabot Road</td>\n",
              "      <td>Oakland</td>\n",
              "      <td>94618.0</td>\n",
              "      <td>8.288136</td>\n",
              "      <td>1.073446</td>\n",
              "      <td>0.129516</td>\n",
              "      <td>2.802260</td>\n",
              "    </tr>\n",
              "    <tr>\n",
              "      <th>3</th>\n",
              "      <td>-122.25</td>\n",
              "      <td>37.85</td>\n",
              "      <td>52.0</td>\n",
              "      <td>1274.0</td>\n",
              "      <td>235.0</td>\n",
              "      <td>558.0</td>\n",
              "      <td>219.0</td>\n",
              "      <td>5.6431</td>\n",
              "      <td>341300.0</td>\n",
              "      <td>NEAR BAY</td>\n",
              "      <td>6365</td>\n",
              "      <td>Florio Street</td>\n",
              "      <td>Oakland</td>\n",
              "      <td>94618.0</td>\n",
              "      <td>5.817352</td>\n",
              "      <td>1.073059</td>\n",
              "      <td>0.184458</td>\n",
              "      <td>2.547945</td>\n",
              "    </tr>\n",
              "    <tr>\n",
              "      <th>4</th>\n",
              "      <td>-122.25</td>\n",
              "      <td>37.85</td>\n",
              "      <td>52.0</td>\n",
              "      <td>1627.0</td>\n",
              "      <td>280.0</td>\n",
              "      <td>565.0</td>\n",
              "      <td>259.0</td>\n",
              "      <td>3.8462</td>\n",
              "      <td>342200.0</td>\n",
              "      <td>NEAR BAY</td>\n",
              "      <td>6365</td>\n",
              "      <td>Florio Street</td>\n",
              "      <td>Oakland</td>\n",
              "      <td>94618.0</td>\n",
              "      <td>6.281853</td>\n",
              "      <td>1.081081</td>\n",
              "      <td>0.172096</td>\n",
              "      <td>2.181467</td>\n",
              "    </tr>\n",
              "  </tbody>\n",
              "</table>\n",
              "</div>"
            ],
            "text/plain": [
              "   longitude  latitude  housing_median_age  total_rooms  total_bedrooms  \\\n",
              "0    -122.23     37.88                41.0        880.0           129.0   \n",
              "1    -122.22     37.86                21.0       7099.0          1106.0   \n",
              "2    -122.24     37.85                52.0       1467.0           190.0   \n",
              "3    -122.25     37.85                52.0       1274.0           235.0   \n",
              "4    -122.25     37.85                52.0       1627.0           280.0   \n",
              "\n",
              "   population  households  median_income  median_house_value ocean_proximity  \\\n",
              "0       322.0       126.0         8.3252            452600.0        NEAR BAY   \n",
              "1      2401.0      1138.0         8.3014            358500.0        NEAR BAY   \n",
              "2       496.0       177.0         7.2574            352100.0        NEAR BAY   \n",
              "3       558.0       219.0         5.6431            341300.0        NEAR BAY   \n",
              "4       565.0       259.0         3.8462            342200.0        NEAR BAY   \n",
              "\n",
              "  street_number             street_name      city  postal_code  \\\n",
              "0          3130  Grizzly Peak Boulevard  Berkeley      94705.0   \n",
              "1          2005             Tunnel Road   Oakland      94611.0   \n",
              "2          6886             Chabot Road   Oakland      94618.0   \n",
              "3          6365           Florio Street   Oakland      94618.0   \n",
              "4          6365           Florio Street   Oakland      94618.0   \n",
              "\n",
              "   rooms_per_household  bedrooms_per_household  bedrooms_per_room  \\\n",
              "0             6.984127                1.023810           0.146591   \n",
              "1             6.238137                0.971880           0.155797   \n",
              "2             8.288136                1.073446           0.129516   \n",
              "3             5.817352                1.073059           0.184458   \n",
              "4             6.281853                1.081081           0.172096   \n",
              "\n",
              "   population_per_household  \n",
              "0                  2.555556  \n",
              "1                  2.109842  \n",
              "2                  2.802260  \n",
              "3                  2.547945  \n",
              "4                  2.181467  "
            ]
          },
          "execution_count": 126,
          "metadata": {},
          "output_type": "execute_result"
        }
      ],
      "source": [
        "housing_data[\"bedrooms_per_household\"] = housing_data[\"total_bedrooms\"] / housing_data[\"households\"]\n",
        "housing_data[\"bedrooms_per_room\"] = housing_data[\"total_bedrooms\"] / housing_data[\"total_rooms\"]\n",
        "housing_data[\"population_per_household\"] = housing_data[\"population\"] / housing_data[\"households\"]\n",
        "\n",
        "housing_data.head()"
      ]
    },
    {
      "cell_type": "code",
      "execution_count": 127,
      "metadata": {},
      "outputs": [
        {
          "data": {
            "image/png": "[encoded data removed]",
            "text/plain": [
              "<Figure size 432x288 with 2 Axes>"
            ]
          },
          "metadata": {},
          "output_type": "display_data"
        }
      ],
      "source": [
        "corr = housing_data.corr()\n",
        "sns.heatmap(corr, annot=True, fmt='.2f', linewidth = 2)\n",
        "sns.set(rc = {'figure.figsize':(15,15)})"
      ]
    },
    {
      "cell_type": "markdown",
      "metadata": {
        "id": "hqoRCnrKLQ4i"
      },
      "source": [
        "## Remove the housing price cap"
      ]
    },
    {
      "cell_type": "markdown",
      "metadata": {
        "id": "c3QvVdCYLQ4j"
      },
      "source": [
        "Recall from lesson 1 that the quantity we wish to predict (median house value) has a cap around $500,000:"
      ]
    },
    {
      "cell_type": "code",
      "execution_count": 128,
      "metadata": {
        "colab": {
          "base_uri": "https://localhost:8080/",
          "height": 297
        },
        "id": "d5YIolRiLQ4j",
        "outputId": "2501fb77-ec13-419a-a8dd-41815ba54e23"
      },
      "outputs": [
        {
          "data": {
            "image/png": "[encoded data removed]",
            "text/plain": [
              "<Figure size 504x288 with 2 Axes>"
            ]
          },
          "metadata": {},
          "output_type": "display_data"
        }
      ],
      "source": [
        "fig, (ax0, ax1) = plt.subplots(nrows=1, ncols=2, figsize=(7, 4)) # use plt.subplots() to create multiple plots\n",
        "sns.histplot(housing_data[\"median_house_value\"], kde=False, ax=ax0) # put one plot on axis ax0\n",
        "sns.scatterplot(x=\"median_income\", y=\"median_house_value\", data=housing_data, ax=ax1) # put second plot on axis ax1\n",
        "fig.tight_layout() # tight_layout() fixes spacing between plots"
      ]
    },
    {
      "cell_type": "markdown",
      "metadata": {
        "id": "vQsC-MKmLQ4j"
      },
      "source": [
        "> Tip: Up until now, we have always made individual plots to visualise the data. The example above shows how matplotlib can be used to show two plots on the same figure! See the _Effectively Using Matplotlib_ link in the references for more information."
      ]
    },
    {
      "cell_type": "markdown",
      "metadata": {
        "id": "XLhqwtdqLQ4j"
      },
      "source": [
        "The presence of this cap is potentially problematic since our machine learning algorithms may learn that the housing prices never go beyond that limit. Let's assume that we want to predict housing prices above $500,000, in which case we should remove these districts from the dataset."
      ]
    },
    {
      "cell_type": "markdown",
      "metadata": {
        "id": "ZJF7Aa7fLQ4k"
      },
      "source": [
        "---\n",
        "\n",
        "#### Exercise #2\n",
        "\n",
        "* Store the number of rows in `housing_data` in a variable called `n_rows_raw`\n",
        "* Use the `DataFrame.loc[]` method to remove all rows where `median_house_value` is greater than or equal to $500,000\n",
        "* Calculate the fraction of data that has been removed by this filter.\n",
        "* Create new histogram and scatter plots to make sure you have removed the capped values correctly.\n",
        "\n",
        "---"
      ]
    },
    {
      "cell_type": "code",
      "execution_count": 129,
      "metadata": {},
      "outputs": [
        {
          "name": "stdout",
          "output_type": "stream",
          "text": [
            "0.951937984496124\n"
          ]
        }
      ],
      "source": [
        "n_rows_raw : int = housing_data.shape[0]\n",
        "\n",
        "housing_data = housing_data.loc[housing_data[\"median_house_value\"] < 500000]\n",
        "n_rows_filtered : int = housing_data.shape[0]\n",
        "\n",
        "print(n_rows_filtered/n_rows_raw)"
      ]
    },
    {
      "cell_type": "markdown",
      "metadata": {
        "id": "iyZI4mFNLQ4k"
      },
      "source": [
        "## Convert strings to categories"
      ]
    },
    {
      "cell_type": "markdown",
      "metadata": {
        "id": "uS-PCjhSLQ4k"
      },
      "source": [
        "If we inspect the data types associated with our housing `pandas.DataFrame`"
      ]
    },
    {
      "cell_type": "code",
      "execution_count": 130,
      "metadata": {
        "colab": {
          "base_uri": "https://localhost:8080/"
        },
        "id": "TGeENO_vLQ4k",
        "outputId": "e8c41336-15c1-4ac0-b419-99b5221855cf"
      },
      "outputs": [
        {
          "data": {
            "text/plain": [
              "longitude                   float64\n",
              "latitude                    float64\n",
              "housing_median_age          float64\n",
              "total_rooms                 float64\n",
              "total_bedrooms              float64\n",
              "population                  float64\n",
              "households                  float64\n",
              "median_income               float64\n",
              "median_house_value          float64\n",
              "ocean_proximity              object\n",
              "street_number                object\n",
              "street_name                  object\n",
              "city                         object\n",
              "postal_code                 float64\n",
              "rooms_per_household         float64\n",
              "bedrooms_per_household      float64\n",
              "bedrooms_per_room           float64\n",
              "population_per_household    float64\n",
              "dtype: object"
            ]
          },
          "execution_count": 130,
          "metadata": {},
          "output_type": "execute_result"
        }
      ],
      "source": [
        "housing_data.dtypes"
      ]
    },
    {
      "cell_type": "markdown",
      "metadata": {
        "id": "5bRdcZGmLQ4k"
      },
      "source": [
        "we see that in addition to numerical features, we have features of `object` data type, which pandas denotes with the string `O`:"
      ]
    },
    {
      "cell_type": "code",
      "execution_count": 131,
      "metadata": {
        "colab": {
          "base_uri": "https://localhost:8080/"
        },
        "id": "l9Kb16kYLQ4k",
        "outputId": "62594841-262b-4295-cde1-2deaa5e955fa"
      },
      "outputs": [
        {
          "data": {
            "text/plain": [
              "dtype('O')"
            ]
          },
          "execution_count": 131,
          "metadata": {},
          "output_type": "execute_result"
        }
      ],
      "source": [
        "housing_data['ocean_proximity'].dtype"
      ]
    },
    {
      "cell_type": "code",
      "execution_count": 132,
      "metadata": {
        "colab": {
          "base_uri": "https://localhost:8080/"
        },
        "id": "UeCEBSQjLQ4l",
        "outputId": "e0d2c56a-c01e-4664-cb16-2d75ccae3e61"
      },
      "outputs": [
        {
          "data": {
            "text/plain": [
              "dtype('float64')"
            ]
          },
          "execution_count": 132,
          "metadata": {},
          "output_type": "execute_result"
        }
      ],
      "source": [
        "# compare against numerical column\n",
        "housing_data['median_house_value'].dtype"
      ]
    },
    {
      "cell_type": "markdown",
      "metadata": {
        "id": "If9GnHmDLQ4l"
      },
      "source": [
        "pandas has a handy set of functions to test the data type of each column. For example, to check whether a column is of object or numeric type we can import the following functions"
      ]
    },
    {
      "cell_type": "code",
      "execution_count": 133,
      "metadata": {
        "id": "Bca_WgNKLQ4l"
      },
      "outputs": [],
      "source": [
        "from pandas.api.types import is_object_dtype, is_numeric_dtype"
      ]
    },
    {
      "cell_type": "markdown",
      "metadata": {
        "id": "aHJXL9lQLQ4l"
      },
      "source": [
        "and then test them against some columns:"
      ]
    },
    {
      "cell_type": "code",
      "execution_count": 134,
      "metadata": {
        "colab": {
          "base_uri": "https://localhost:8080/"
        },
        "id": "byu_l7E0LQ4l",
        "outputId": "ffce38f6-7e0f-4036-eeb3-0e5b638caf80"
      },
      "outputs": [
        {
          "data": {
            "text/plain": [
              "True"
            ]
          },
          "execution_count": 134,
          "metadata": {},
          "output_type": "execute_result"
        }
      ],
      "source": [
        "is_object_dtype(housing_data['ocean_proximity'])"
      ]
    },
    {
      "cell_type": "code",
      "execution_count": 135,
      "metadata": {
        "colab": {
          "base_uri": "https://localhost:8080/"
        },
        "id": "9JLLRDIcLQ4m",
        "outputId": "6e2b9685-ff4c-4e65-cbeb-6ea675505705"
      },
      "outputs": [
        {
          "data": {
            "text/plain": [
              "False"
            ]
          },
          "execution_count": 135,
          "metadata": {},
          "output_type": "execute_result"
        }
      ],
      "source": [
        "is_numeric_dtype(housing_data['ocean_proximity'])"
      ]
    },
    {
      "cell_type": "code",
      "execution_count": 136,
      "metadata": {
        "colab": {
          "base_uri": "https://localhost:8080/"
        },
        "id": "rM3gOaodLQ4m",
        "outputId": "4f6c7d4d-43c1-416c-e18d-4887cf709388"
      },
      "outputs": [
        {
          "data": {
            "text/plain": [
              "True"
            ]
          },
          "execution_count": 136,
          "metadata": {},
          "output_type": "execute_result"
        }
      ],
      "source": [
        "is_numeric_dtype(housing_data['median_house_value'])"
      ]
    },
    {
      "cell_type": "markdown",
      "metadata": {
        "id": "Xrb0fEk-LQ4m"
      },
      "source": [
        "In this case, we know that those object-type columns are _strings_ and some step is needed to convert them to numerical form because most machine learning algorithms are best suited for doing computations on arrays of numbers, not strings.\n",
        "\n",
        "pandas has a special `Categorical` type for holding data that uses the integer-based categorical representation or **_encoding_**. For example `housing_data['ocean_proximity']` is a `pandas.Series` of Python string objects `['NEAR BAY', '<1H OCEAN', 'INLAND', 'NEAR OCEAN', 'ISLAND']`. We can convert a `pandas.DataFrame` column to categorical as follows:"
      ]
    },
    {
      "cell_type": "code",
      "execution_count": 137,
      "metadata": {
        "id": "T29Pecv9LQ4m"
      },
      "outputs": [],
      "source": [
        "housing_data['ocean_proximity'] = housing_data['ocean_proximity'].astype('category')"
      ]
    },
    {
      "cell_type": "markdown",
      "metadata": {
        "id": "4pK9zhf0LQ4m"
      },
      "source": [
        "The resulting `Categorical` object has `categories` and `codes` attributes that can be accessed as follows:"
      ]
    },
    {
      "cell_type": "code",
      "execution_count": 138,
      "metadata": {
        "colab": {
          "base_uri": "https://localhost:8080/"
        },
        "id": "_o0mSQcRLQ4n",
        "outputId": "afad76d4-852d-4be1-f19c-7c76c14cbe87"
      },
      "outputs": [
        {
          "data": {
            "text/plain": [
              "Index(['<1H OCEAN', 'INLAND', 'ISLAND', 'NEAR BAY', 'NEAR OCEAN'], dtype='object')"
            ]
          },
          "execution_count": 138,
          "metadata": {},
          "output_type": "execute_result"
        }
      ],
      "source": [
        "housing_data['ocean_proximity'].cat.categories"
      ]
    },
    {
      "cell_type": "code",
      "execution_count": 139,
      "metadata": {
        "colab": {
          "base_uri": "https://localhost:8080/"
        },
        "id": "PzCnFaYrLQ4n",
        "outputId": "bcee3882-2758-4482-b61e-357ffd9ca350"
      },
      "outputs": [
        {
          "data": {
            "text/plain": [
              "0        3\n",
              "1        3\n",
              "2        3\n",
              "3        3\n",
              "4        3\n",
              "        ..\n",
              "20635    1\n",
              "20636    1\n",
              "20637    1\n",
              "20638    1\n",
              "20639    1\n",
              "Length: 19648, dtype: int8"
            ]
          },
          "execution_count": 139,
          "metadata": {},
          "output_type": "execute_result"
        }
      ],
      "source": [
        "housing_data['ocean_proximity'].cat.codes\n",
        "#housing_data['ocean_proximity']"
      ]
    },
    {
      "cell_type": "markdown",
      "metadata": {
        "id": "GB79a-KfLQ4n"
      },
      "source": [
        "Sometimes we may want to reorder by hand the categorical variables. For example, with our `ocean_proximity` feature, it makes more sense to order the categories by distance to the ocean:"
      ]
    },
    {
      "cell_type": "code",
      "execution_count": 140,
      "metadata": {
        "colab": {
          "base_uri": "https://localhost:8080/"
        },
        "id": "_L_cwJMsLQ4n",
        "outputId": "bc036eb7-7e5c-4e09-8c48-fde27f2bc7bf"
      },
      "outputs": [],
      "source": [
        "housing_data[\"ocean_proximity\"].cat.set_categories(\n",
        "    [\"INLAND\", \"<1H OCEAN\", \"NEAR BAY\", \"NEAR OCEAN\", \"ISLAND\"], ordered=True, inplace=True\n",
        ")"
      ]
    },
    {
      "cell_type": "markdown",
      "metadata": {
        "id": "4TPd3URwLQ4n"
      },
      "source": [
        "> Tip: Instead of doing each data cleaning step manually, it is a good idea to write functions that automate the process. The main benefits from doing so is that you will be able to reproduce your results at a later date and can reuse the functions in future projects. The exercise below is desiged to help you create your first data cleaning function!"
      ]
    },
    {
      "cell_type": "markdown",
      "metadata": {
        "id": "aaAzdQ0BLQ4o"
      },
      "source": [
        "---\n",
        "\n",
        "#### Exercise #3\n",
        "\n",
        "* Convert all other columns which are of `object` type into `Categorical`.\n",
        "* Check that the transformed `housing_data` has the expected data types.\n",
        "\n",
        "---"
      ]
    },
    {
      "cell_type": "code",
      "execution_count": 141,
      "metadata": {
        "colab": {
          "base_uri": "https://localhost:8080/"
        },
        "id": "yIcxwb0DnNq-",
        "outputId": "03cd4ab4-26bb-40f6-e70b-1b69c1d56a30"
      },
      "outputs": [
        {
          "data": {
            "text/plain": [
              "longitude                    float64\n",
              "latitude                     float64\n",
              "housing_median_age           float64\n",
              "total_rooms                  float64\n",
              "total_bedrooms               float64\n",
              "population                   float64\n",
              "households                   float64\n",
              "median_income                float64\n",
              "median_house_value           float64\n",
              "ocean_proximity             category\n",
              "street_number                 object\n",
              "street_name                   object\n",
              "city                          object\n",
              "postal_code                  float64\n",
              "rooms_per_household          float64\n",
              "bedrooms_per_household       float64\n",
              "bedrooms_per_room            float64\n",
              "population_per_household     float64\n",
              "dtype: object"
            ]
          },
          "execution_count": 141,
          "metadata": {},
          "output_type": "execute_result"
        }
      ],
      "source": [
        "housing_data.dtypes# check which columns are of 'object' type"
      ]
    },
    {
      "cell_type": "code",
      "execution_count": 142,
      "metadata": {
        "colab": {
          "base_uri": "https://localhost:8080/"
        },
        "id": "BAk7K7rHnzHg",
        "outputId": "b12b90f3-40a9-4764-bf83-4093a81fbe01"
      },
      "outputs": [
        {
          "data": {
            "text/plain": [
              "longitude                    float64\n",
              "latitude                     float64\n",
              "housing_median_age           float64\n",
              "total_rooms                  float64\n",
              "total_bedrooms               float64\n",
              "population                   float64\n",
              "households                   float64\n",
              "median_income                float64\n",
              "median_house_value           float64\n",
              "ocean_proximity             category\n",
              "street_number               category\n",
              "street_name                 category\n",
              "city                        category\n",
              "postal_code                  float64\n",
              "rooms_per_household          float64\n",
              "bedrooms_per_household       float64\n",
              "bedrooms_per_room            float64\n",
              "population_per_household     float64\n",
              "dtype: object"
            ]
          },
          "execution_count": 142,
          "metadata": {},
          "output_type": "execute_result"
        }
      ],
      "source": [
        "housing_data['street_number'] = housing_data['street_number'].astype('category')\n",
        "housing_data['street_name'] = housing_data['street_name'].astype('category')\n",
        "housing_data['city'] = housing_data['city'].astype('category')\n",
        "housing_data.dtypes # check which columns are of 'object' type"
      ]
    },
    {
      "cell_type": "code",
      "execution_count": 143,
      "metadata": {},
      "outputs": [],
      "source": [
        "import custom_methods\n",
        "df = custom_methods.dtype_as_category(housing_data)\n"
      ]
    },
    {
      "cell_type": "markdown",
      "metadata": {
        "id": "LEAuz3ytLQ4o"
      },
      "source": [
        "## Dealing with missing values"
      ]
    },
    {
      "cell_type": "markdown",
      "metadata": {
        "id": "OHHzNe01LQ4o"
      },
      "source": [
        "In general, machine learning algorithms will fail to work with missing data, and in general you have three options to handle them:\n",
        "\n",
        "* Get rid of the corresponding rows\n",
        "* Get rid of the whole feature or column\n",
        "* Replace the missing values with some value like zero or the mean, median of the column.\n",
        "\n",
        "A quick way to check if there's any missing data is to run the pandas `DataFrame.isna()` or `DataFrame.info()` methods:"
      ]
    },
    {
      "cell_type": "code",
      "execution_count": 144,
      "metadata": {
        "colab": {
          "base_uri": "https://localhost:8080/"
        },
        "id": "-OQZlgjSLQ4o",
        "outputId": "be2c707b-66f8-413b-cfb3-0f696754d61b"
      },
      "outputs": [
        {
          "name": "stdout",
          "output_type": "stream",
          "text": [
            "<class 'pandas.core.frame.DataFrame'>\n",
            "Int64Index: 19648 entries, 0 to 20639\n",
            "Data columns (total 18 columns):\n",
            " #   Column                    Non-Null Count  Dtype   \n",
            "---  ------                    --------------  -----   \n",
            " 0   longitude                 19648 non-null  float64 \n",
            " 1   latitude                  19648 non-null  float64 \n",
            " 2   housing_median_age        19648 non-null  float64 \n",
            " 3   total_rooms               19648 non-null  float64 \n",
            " 4   total_bedrooms            19448 non-null  float64 \n",
            " 5   population                19648 non-null  float64 \n",
            " 6   households                19648 non-null  float64 \n",
            " 7   median_income             19648 non-null  float64 \n",
            " 8   median_house_value        19648 non-null  float64 \n",
            " 9   ocean_proximity           19648 non-null  category\n",
            " 10  street_number             18112 non-null  category\n",
            " 11  street_name               19144 non-null  category\n",
            " 12  city                      19488 non-null  category\n",
            " 13  postal_code               19492 non-null  float64 \n",
            " 14  rooms_per_household       19648 non-null  float64 \n",
            " 15  bedrooms_per_household    19448 non-null  float64 \n",
            " 16  bedrooms_per_room         19448 non-null  float64 \n",
            " 17  population_per_household  19648 non-null  float64 \n",
            "dtypes: category(4), float64(14)\n",
            "memory usage: 3.0 MB\n"
          ]
        },
        {
          "data": {
            "text/plain": [
              "2956"
            ]
          },
          "execution_count": 144,
          "metadata": {},
          "output_type": "execute_result"
        }
      ],
      "source": [
        "housing_data.info()\n",
        "housing_data.isna().sum().sum() # count the missing values"
      ]
    },
    {
      "cell_type": "markdown",
      "metadata": {
        "id": "qcu0BFpWue5o"
      },
      "source": [
        "Find the columns with missing values. You can see the columns that have missing values in the output from `housing_data.info()` or when using `isna()`:\n",
        "\n"
      ]
    },
    {
      "cell_type": "code",
      "execution_count": 145,
      "metadata": {},
      "outputs": [
        {
          "data": {
            "text/plain": [
              "Index(['longitude', 'latitude', 'housing_median_age', 'total_rooms',\n",
              "       'total_bedrooms', 'population', 'households', 'median_income',\n",
              "       'median_house_value', 'ocean_proximity', 'street_number', 'street_name',\n",
              "       'city', 'postal_code', 'rooms_per_household', 'bedrooms_per_household',\n",
              "       'bedrooms_per_room', 'population_per_household'],\n",
              "      dtype='object')"
            ]
          },
          "execution_count": 145,
          "metadata": {},
          "output_type": "execute_result"
        }
      ],
      "source": [
        "housing_data.columns"
      ]
    },
    {
      "cell_type": "code",
      "execution_count": 146,
      "metadata": {
        "colab": {
          "base_uri": "https://localhost:8080/"
        },
        "id": "ifdreBG3p2U4",
        "outputId": "d05f4bb0-2f17-43e3-abae-6f4e14fd249c"
      },
      "outputs": [
        {
          "data": {
            "text/plain": [
              "longitude                   False\n",
              "latitude                    False\n",
              "housing_median_age          False\n",
              "total_rooms                 False\n",
              "total_bedrooms               True\n",
              "population                  False\n",
              "households                  False\n",
              "median_income               False\n",
              "median_house_value          False\n",
              "ocean_proximity             False\n",
              "street_number                True\n",
              "street_name                  True\n",
              "city                         True\n",
              "postal_code                  True\n",
              "rooms_per_household         False\n",
              "bedrooms_per_household       True\n",
              "bedrooms_per_room            True\n",
              "population_per_household    False\n",
              "dtype: bool"
            ]
          },
          "execution_count": 146,
          "metadata": {},
          "output_type": "execute_result"
        }
      ],
      "source": [
        "housing_data.isna().any() #isna() acts on columns, any() returns TRUE if any element is TRUE"
      ]
    },
    {
      "cell_type": "markdown",
      "metadata": {
        "id": "f_93vo1JLQ4o"
      },
      "source": [
        "We can see that the following columns contain missing values:\n",
        "\n",
        "* `total_bedrooms`\n",
        "* `street_number`\n",
        "* `street_name`\n",
        "* `city`\n",
        "* `postal_code`\n",
        "* `bedrooms_per_household`\n",
        "* `bedrooms_per_room`"
      ]
    },
    {
      "cell_type": "markdown",
      "metadata": {
        "id": "YMcCRhmVLQ4o"
      },
      "source": [
        "An alternative way to verify this is to apply the `DataFrame.isnull()` method and calculate the sum of missing values in `housing_data`:"
      ]
    },
    {
      "cell_type": "code",
      "execution_count": 147,
      "metadata": {
        "colab": {
          "base_uri": "https://localhost:8080/"
        },
        "id": "tAvpBflELQ4p",
        "outputId": "df26d382-aad2-4a01-9f07-922aa74cb2a5"
      },
      "outputs": [
        {
          "data": {
            "text/plain": [
              "longitude                      0\n",
              "latitude                       0\n",
              "housing_median_age             0\n",
              "total_rooms                    0\n",
              "total_bedrooms               200\n",
              "population                     0\n",
              "households                     0\n",
              "median_income                  0\n",
              "median_house_value             0\n",
              "ocean_proximity                0\n",
              "street_number               1536\n",
              "street_name                  504\n",
              "city                         160\n",
              "postal_code                  156\n",
              "rooms_per_household            0\n",
              "bedrooms_per_household       200\n",
              "bedrooms_per_room            200\n",
              "population_per_household       0\n",
              "dtype: int64"
            ]
          },
          "execution_count": 147,
          "metadata": {},
          "output_type": "execute_result"
        }
      ],
      "source": [
        "housing_data.isnull().sum()"
      ]
    },
    {
      "cell_type": "markdown",
      "metadata": {
        "id": "E2a0DBKNLQ4p"
      },
      "source": [
        "---\n",
        "\n",
        "#### Exercise #4\n",
        "\n",
        "It is often more informative to know the fraction or percentage of missing values in a `pandas.DataFrame`. Calculate the _fraction_ of missing values in `housing_data` and sort them in descending order.\n",
        "\n",
        "\n",
        "---"
      ]
    },
    {
      "cell_type": "code",
      "execution_count": 148,
      "metadata": {
        "colab": {
          "base_uri": "https://localhost:8080/"
        },
        "id": "iB_Y-JMgyCEf",
        "outputId": "a5ada96f-8997-40c1-94fe-581fdf18fc59"
      },
      "outputs": [
        {
          "data": {
            "text/plain": [
              "0.84"
            ]
          },
          "execution_count": 148,
          "metadata": {},
          "output_type": "execute_result"
        }
      ],
      "source": [
        "na_frac= housing_data.isna().sum().sum() / (housing_data.shape[0]*housing_data.shape[1])\n",
        "round(na_frac*100,2) # Fraction in %"
      ]
    },
    {
      "cell_type": "code",
      "execution_count": 149,
      "metadata": {
        "colab": {
          "base_uri": "https://localhost:8080/"
        },
        "id": "yO2dxFTCziqe",
        "outputId": "4e6e2d23-1c9e-4c43-d907-4c04e2c72eeb"
      },
      "outputs": [
        {
          "data": {
            "text/plain": [
              "longitude                   0.00\n",
              "latitude                    0.00\n",
              "housing_median_age          0.00\n",
              "total_rooms                 0.00\n",
              "total_bedrooms              1.02\n",
              "population                  0.00\n",
              "households                  0.00\n",
              "median_income               0.00\n",
              "median_house_value          0.00\n",
              "ocean_proximity             0.00\n",
              "street_number               7.82\n",
              "street_name                 2.57\n",
              "city                        0.81\n",
              "postal_code                 0.79\n",
              "rooms_per_household         0.00\n",
              "bedrooms_per_household      1.02\n",
              "bedrooms_per_room           1.02\n",
              "population_per_household    0.00\n",
              "dtype: float64"
            ]
          },
          "execution_count": 149,
          "metadata": {},
          "output_type": "execute_result"
        }
      ],
      "source": [
        "round(housing_data.isnull().sum()/housing_data.shape[0]*100,2) #fractions in % "
      ]
    },
    {
      "cell_type": "markdown",
      "metadata": {
        "id": "BmZDZpklLQ4p"
      },
      "source": [
        "### Getting rid of rows"
      ]
    },
    {
      "cell_type": "markdown",
      "metadata": {
        "id": "hvMfOYvzLQ4p"
      },
      "source": [
        "Let's look at our first option to handle missing data: getting rid of rows. One candidate for this is the `city` column since dropping the 188 rows amounts to less than 1% of the total dataset. To achieve this we can use the `DataFrame.dropna()` method as follows:"
      ]
    },
    {
      "cell_type": "code",
      "execution_count": 150,
      "metadata": {
        "colab": {
          "base_uri": "https://localhost:8080/"
        },
        "id": "xjEW-qSGLQ4p",
        "outputId": "e61bba63-5eba-47e6-a9ba-169a6baee6fc"
      },
      "outputs": [
        {
          "data": {
            "text/plain": [
              "0"
            ]
          },
          "execution_count": 150,
          "metadata": {},
          "output_type": "execute_result"
        }
      ],
      "source": [
        "housing_data.dropna(subset=['city'], inplace=True)\n",
        "# check city has no missing values\n",
        "housing_data['city'].isnull().sum()"
      ]
    },
    {
      "cell_type": "markdown",
      "metadata": {
        "id": "tSJGjA_wLQ4p"
      },
      "source": [
        "---\n",
        "\n",
        "#### Exercise #5\n",
        "\n",
        "* Use the same technique as above to remove the rows where the `postal_code` values are missing\n",
        "* Use the `Series.astype()` method to convert the `postal_code` to `int` type\n",
        "\n",
        "---"
      ]
    },
    {
      "cell_type": "code",
      "execution_count": 151,
      "metadata": {},
      "outputs": [
        {
          "data": {
            "text/plain": [
              "0"
            ]
          },
          "execution_count": 151,
          "metadata": {},
          "output_type": "execute_result"
        }
      ],
      "source": [
        "housing_data.dropna(subset=[\"postal_code\"], inplace = True)\n",
        "housing_data[\"postal_code\"].isnull().sum()"
      ]
    },
    {
      "cell_type": "code",
      "execution_count": 152,
      "metadata": {},
      "outputs": [],
      "source": [
        "housing_data[\"postal_code\"] = housing_data[\"postal_code\"].astype(int)"
      ]
    },
    {
      "cell_type": "markdown",
      "metadata": {
        "id": "crA7pYu7LQ4q"
      },
      "source": [
        "### Getting rid of whole features"
      ]
    },
    {
      "cell_type": "markdown",
      "metadata": {
        "id": "1iYQeIfXLQ4q"
      },
      "source": [
        "We still have missing values for the categorical features `street_number` and `street_name`. For such data one simple approach is to replace the missing values with the _most frequent entry_. However, for these specific attributes it does not make much sense to replace e.g. the missing street names with the most common ones in some other city.\n",
        "\n",
        "To that end, we will drop the `street_number` and `street_name` columns."
      ]
    },
    {
      "cell_type": "code",
      "execution_count": null,
      "metadata": {},
      "outputs": [],
      "source": []
    },
    {
      "cell_type": "markdown",
      "metadata": {
        "id": "JAkuqGmKLQ4q"
      },
      "source": [
        "---\n",
        "\n",
        "#### Exercise #6\n",
        "\n",
        "Drop the `street_number`, `street_name` and `postal_code` columns from `housing_data`\n",
        "\n",
        "---"
      ]
    },
    {
      "cell_type": "code",
      "execution_count": 153,
      "metadata": {},
      "outputs": [
        {
          "name": "stdout",
          "output_type": "stream",
          "text": [
            "Removed:\t\t street_number\n",
            "Removed:\t\t street_name\n",
            "Removed:\t\t postal_code\n"
          ]
        }
      ],
      "source": [
        "for column in [\"street_number\", \"street_name\", \"postal_code\"]:\n",
        "    try:        housing_data.drop(labels = column, axis = 1, inplace = True);print(\"Removed:\\t\\t\", column)\n",
        "    except:     print(\"No column named:\\t\", column)\n"
      ]
    },
    {
      "cell_type": "markdown",
      "metadata": {
        "id": "KPkMT3s2LQ4q"
      },
      "source": [
        "### Fill missing values"
      ]
    },
    {
      "cell_type": "markdown",
      "metadata": {
        "id": "v7yJaUtaLQ4q"
      },
      "source": [
        "For the numerical columns, let's replace the missing values by the median. "
      ]
    },
    {
      "cell_type": "markdown",
      "metadata": {
        "id": "Vj5HfZrKLQ4q"
      },
      "source": [
        "> Note: We choose the median since it is more robust to outliers than the mean, but in general one should experiment with different combinations."
      ]
    },
    {
      "cell_type": "markdown",
      "metadata": {
        "id": "sG0S5-gOLQ4q"
      },
      "source": [
        "For example, with `total_bedrooms` this might look like the following:"
      ]
    },
    {
      "cell_type": "code",
      "execution_count": 154,
      "metadata": {
        "colab": {
          "base_uri": "https://localhost:8080/"
        },
        "id": "_ddXFucLLQ4r",
        "outputId": "09bb7c20-97bd-4315-a7de-056c86096f4b"
      },
      "outputs": [
        {
          "data": {
            "text/plain": [
              "0"
            ]
          },
          "execution_count": 154,
          "metadata": {},
          "output_type": "execute_result"
        }
      ],
      "source": [
        "total_bedrooms_median = housing_data['total_bedrooms'].median() # calculate median total number of bedrooms\n",
        "housing_data['total_bedrooms'].fillna(total_bedrooms_median, inplace=True) # use inplace=True to make replacement in place\n",
        "housing_data['total_bedrooms'].isnull().sum() # check replacement worked"
      ]
    },
    {
      "cell_type": "markdown",
      "metadata": {
        "id": "fFsLd3RULQ4r"
      },
      "source": [
        "Although doing this replacement manually for each numerical column is feasible for this small dataset, it would be much better to have a function that automates this process."
      ]
    },
    {
      "cell_type": "markdown",
      "metadata": {
        "id": "TZeDyXPXLQ4r"
      },
      "source": [
        "---\n",
        "\n",
        "#### Exercise #7\n",
        "\n",
        "Check if all missing values have been filled in the `housing_data` dataframe.\n",
        "\n",
        "---"
      ]
    },
    {
      "cell_type": "code",
      "execution_count": 155,
      "metadata": {},
      "outputs": [],
      "source": [
        "import custom_methods\n",
        "\n",
        "housing_data = custom_methods.fill_numeric_na(housing_data, method=\"median\")"
      ]
    },
    {
      "cell_type": "code",
      "execution_count": 156,
      "metadata": {
        "colab": {
          "base_uri": "https://localhost:8080/"
        },
        "id": "2aNqbSOffI9E",
        "outputId": "6f6cc5c8-0fd8-4a02-b3ca-be909472b0bd"
      },
      "outputs": [
        {
          "data": {
            "text/plain": [
              "longitude                   0\n",
              "latitude                    0\n",
              "housing_median_age          0\n",
              "total_rooms                 0\n",
              "total_bedrooms              0\n",
              "population                  0\n",
              "households                  0\n",
              "median_income               0\n",
              "median_house_value          0\n",
              "ocean_proximity             0\n",
              "city                        0\n",
              "rooms_per_household         0\n",
              "bedrooms_per_household      0\n",
              "bedrooms_per_room           0\n",
              "population_per_household    0\n",
              "dtype: int64"
            ]
          },
          "execution_count": 156,
          "metadata": {},
          "output_type": "execute_result"
        }
      ],
      "source": [
        "housing_data.isnull().sum()"
      ]
    },
    {
      "cell_type": "markdown",
      "metadata": {
        "id": "1aLvEFJrLQ4r"
      },
      "source": [
        "## Convert categories to numbers"
      ]
    },
    {
      "cell_type": "markdown",
      "metadata": {
        "id": "z2A-uSI-LQ4r"
      },
      "source": [
        "We've now reached the stage where we have a cleaned `pandas.DataFrame` and the final step is to convert our categorical columns to numerical form. For example, we can make the `city` column numerical by replacing the categories with their corresponding codes: "
      ]
    },
    {
      "cell_type": "code",
      "execution_count": 157,
      "metadata": {
        "colab": {
          "base_uri": "https://localhost:8080/"
        },
        "id": "flPW4Anxlv7W",
        "outputId": "0bb3fd3d-6174-4f19-9262-0ad54f5e1d95"
      },
      "outputs": [
        {
          "name": "stdout",
          "output_type": "stream",
          "text": [
            "0            Berkeley\n",
            "1             Oakland\n",
            "2             Oakland\n",
            "3             Oakland\n",
            "4             Oakland\n",
            "             ...     \n",
            "20634      Marysville\n",
            "20635    Camptonville\n",
            "20637         Dobbins\n",
            "20638        Rackerby\n",
            "20639    Oregon House\n",
            "Name: city, Length: 19443, dtype: category\n",
            "Categories (977, object): ['Acampo', 'Acton', 'Adelanto', 'Adin', ..., 'Yuba City', 'Yucaipa', 'Yucca Valley', 'Zenia'] 0         68\n",
            "1        619\n",
            "2        619\n",
            "3        619\n",
            "4        619\n",
            "        ... \n",
            "20634    529\n",
            "20635    133\n",
            "20637    238\n",
            "20638    715\n",
            "20639    636\n",
            "Length: 19443, dtype: int16\n"
          ]
        }
      ],
      "source": [
        "print(housing_data['city'], housing_data['city'].cat.codes)  # The city names have associated category numbers "
      ]
    },
    {
      "cell_type": "code",
      "execution_count": 158,
      "metadata": {
        "colab": {
          "base_uri": "https://localhost:8080/",
          "height": 462
        },
        "id": "HvAW4BpPLQ4r",
        "outputId": "0d6e320e-5571-4591-9091-d590c42ceec5"
      },
      "outputs": [
        {
          "data": {
            "text/html": [
              "<div>\n",
              "<style scoped>\n",
              "    .dataframe tbody tr th:only-of-type {\n",
              "        vertical-align: middle;\n",
              "    }\n",
              "\n",
              "    .dataframe tbody tr th {\n",
              "        vertical-align: top;\n",
              "    }\n",
              "\n",
              "    .dataframe thead th {\n",
              "        text-align: right;\n",
              "    }\n",
              "</style>\n",
              "<table border=\"1\" class=\"dataframe\">\n",
              "  <thead>\n",
              "    <tr style=\"text-align: right;\">\n",
              "      <th></th>\n",
              "      <th>longitude</th>\n",
              "      <th>latitude</th>\n",
              "      <th>housing_median_age</th>\n",
              "      <th>total_rooms</th>\n",
              "      <th>total_bedrooms</th>\n",
              "      <th>population</th>\n",
              "      <th>households</th>\n",
              "      <th>median_income</th>\n",
              "      <th>median_house_value</th>\n",
              "      <th>ocean_proximity</th>\n",
              "      <th>city</th>\n",
              "      <th>rooms_per_household</th>\n",
              "      <th>bedrooms_per_household</th>\n",
              "      <th>bedrooms_per_room</th>\n",
              "      <th>population_per_household</th>\n",
              "    </tr>\n",
              "  </thead>\n",
              "  <tbody>\n",
              "    <tr>\n",
              "      <th>0</th>\n",
              "      <td>-122.23</td>\n",
              "      <td>37.88</td>\n",
              "      <td>41.0</td>\n",
              "      <td>880.0</td>\n",
              "      <td>129.0</td>\n",
              "      <td>322.0</td>\n",
              "      <td>126.0</td>\n",
              "      <td>8.3252</td>\n",
              "      <td>452600.0</td>\n",
              "      <td>NEAR BAY</td>\n",
              "      <td>69</td>\n",
              "      <td>6.984127</td>\n",
              "      <td>1.023810</td>\n",
              "      <td>0.146591</td>\n",
              "      <td>2.555556</td>\n",
              "    </tr>\n",
              "    <tr>\n",
              "      <th>1</th>\n",
              "      <td>-122.22</td>\n",
              "      <td>37.86</td>\n",
              "      <td>21.0</td>\n",
              "      <td>7099.0</td>\n",
              "      <td>1106.0</td>\n",
              "      <td>2401.0</td>\n",
              "      <td>1138.0</td>\n",
              "      <td>8.3014</td>\n",
              "      <td>358500.0</td>\n",
              "      <td>NEAR BAY</td>\n",
              "      <td>620</td>\n",
              "      <td>6.238137</td>\n",
              "      <td>0.971880</td>\n",
              "      <td>0.155797</td>\n",
              "      <td>2.109842</td>\n",
              "    </tr>\n",
              "    <tr>\n",
              "      <th>2</th>\n",
              "      <td>-122.24</td>\n",
              "      <td>37.85</td>\n",
              "      <td>52.0</td>\n",
              "      <td>1467.0</td>\n",
              "      <td>190.0</td>\n",
              "      <td>496.0</td>\n",
              "      <td>177.0</td>\n",
              "      <td>7.2574</td>\n",
              "      <td>352100.0</td>\n",
              "      <td>NEAR BAY</td>\n",
              "      <td>620</td>\n",
              "      <td>8.288136</td>\n",
              "      <td>1.073446</td>\n",
              "      <td>0.129516</td>\n",
              "      <td>2.802260</td>\n",
              "    </tr>\n",
              "    <tr>\n",
              "      <th>3</th>\n",
              "      <td>-122.25</td>\n",
              "      <td>37.85</td>\n",
              "      <td>52.0</td>\n",
              "      <td>1274.0</td>\n",
              "      <td>235.0</td>\n",
              "      <td>558.0</td>\n",
              "      <td>219.0</td>\n",
              "      <td>5.6431</td>\n",
              "      <td>341300.0</td>\n",
              "      <td>NEAR BAY</td>\n",
              "      <td>620</td>\n",
              "      <td>5.817352</td>\n",
              "      <td>1.073059</td>\n",
              "      <td>0.184458</td>\n",
              "      <td>2.547945</td>\n",
              "    </tr>\n",
              "    <tr>\n",
              "      <th>4</th>\n",
              "      <td>-122.25</td>\n",
              "      <td>37.85</td>\n",
              "      <td>52.0</td>\n",
              "      <td>1627.0</td>\n",
              "      <td>280.0</td>\n",
              "      <td>565.0</td>\n",
              "      <td>259.0</td>\n",
              "      <td>3.8462</td>\n",
              "      <td>342200.0</td>\n",
              "      <td>NEAR BAY</td>\n",
              "      <td>620</td>\n",
              "      <td>6.281853</td>\n",
              "      <td>1.081081</td>\n",
              "      <td>0.172096</td>\n",
              "      <td>2.181467</td>\n",
              "    </tr>\n",
              "    <tr>\n",
              "      <th>5</th>\n",
              "      <td>-122.25</td>\n",
              "      <td>37.85</td>\n",
              "      <td>52.0</td>\n",
              "      <td>919.0</td>\n",
              "      <td>213.0</td>\n",
              "      <td>413.0</td>\n",
              "      <td>193.0</td>\n",
              "      <td>4.0368</td>\n",
              "      <td>269700.0</td>\n",
              "      <td>NEAR BAY</td>\n",
              "      <td>620</td>\n",
              "      <td>4.761658</td>\n",
              "      <td>1.103627</td>\n",
              "      <td>0.231774</td>\n",
              "      <td>2.139896</td>\n",
              "    </tr>\n",
              "    <tr>\n",
              "      <th>6</th>\n",
              "      <td>-122.25</td>\n",
              "      <td>37.84</td>\n",
              "      <td>52.0</td>\n",
              "      <td>2535.0</td>\n",
              "      <td>489.0</td>\n",
              "      <td>1094.0</td>\n",
              "      <td>514.0</td>\n",
              "      <td>3.6591</td>\n",
              "      <td>299200.0</td>\n",
              "      <td>NEAR BAY</td>\n",
              "      <td>620</td>\n",
              "      <td>4.931907</td>\n",
              "      <td>0.951362</td>\n",
              "      <td>0.192899</td>\n",
              "      <td>2.128405</td>\n",
              "    </tr>\n",
              "    <tr>\n",
              "      <th>7</th>\n",
              "      <td>-122.25</td>\n",
              "      <td>37.84</td>\n",
              "      <td>52.0</td>\n",
              "      <td>3104.0</td>\n",
              "      <td>687.0</td>\n",
              "      <td>1157.0</td>\n",
              "      <td>647.0</td>\n",
              "      <td>3.1200</td>\n",
              "      <td>241400.0</td>\n",
              "      <td>NEAR BAY</td>\n",
              "      <td>620</td>\n",
              "      <td>4.797527</td>\n",
              "      <td>1.061824</td>\n",
              "      <td>0.221327</td>\n",
              "      <td>1.788253</td>\n",
              "    </tr>\n",
              "    <tr>\n",
              "      <th>8</th>\n",
              "      <td>-122.26</td>\n",
              "      <td>37.84</td>\n",
              "      <td>42.0</td>\n",
              "      <td>2555.0</td>\n",
              "      <td>665.0</td>\n",
              "      <td>1206.0</td>\n",
              "      <td>595.0</td>\n",
              "      <td>2.0804</td>\n",
              "      <td>226700.0</td>\n",
              "      <td>NEAR BAY</td>\n",
              "      <td>620</td>\n",
              "      <td>4.294118</td>\n",
              "      <td>1.117647</td>\n",
              "      <td>0.260274</td>\n",
              "      <td>2.026891</td>\n",
              "    </tr>\n",
              "    <tr>\n",
              "      <th>9</th>\n",
              "      <td>-122.25</td>\n",
              "      <td>37.84</td>\n",
              "      <td>52.0</td>\n",
              "      <td>3549.0</td>\n",
              "      <td>707.0</td>\n",
              "      <td>1551.0</td>\n",
              "      <td>714.0</td>\n",
              "      <td>3.6912</td>\n",
              "      <td>261100.0</td>\n",
              "      <td>NEAR BAY</td>\n",
              "      <td>620</td>\n",
              "      <td>4.970588</td>\n",
              "      <td>0.990196</td>\n",
              "      <td>0.199211</td>\n",
              "      <td>2.172269</td>\n",
              "    </tr>\n",
              "  </tbody>\n",
              "</table>\n",
              "</div>"
            ],
            "text/plain": [
              "   longitude  latitude  housing_median_age  total_rooms  total_bedrooms  \\\n",
              "0    -122.23     37.88                41.0        880.0           129.0   \n",
              "1    -122.22     37.86                21.0       7099.0          1106.0   \n",
              "2    -122.24     37.85                52.0       1467.0           190.0   \n",
              "3    -122.25     37.85                52.0       1274.0           235.0   \n",
              "4    -122.25     37.85                52.0       1627.0           280.0   \n",
              "5    -122.25     37.85                52.0        919.0           213.0   \n",
              "6    -122.25     37.84                52.0       2535.0           489.0   \n",
              "7    -122.25     37.84                52.0       3104.0           687.0   \n",
              "8    -122.26     37.84                42.0       2555.0           665.0   \n",
              "9    -122.25     37.84                52.0       3549.0           707.0   \n",
              "\n",
              "   population  households  median_income  median_house_value ocean_proximity  \\\n",
              "0       322.0       126.0         8.3252            452600.0        NEAR BAY   \n",
              "1      2401.0      1138.0         8.3014            358500.0        NEAR BAY   \n",
              "2       496.0       177.0         7.2574            352100.0        NEAR BAY   \n",
              "3       558.0       219.0         5.6431            341300.0        NEAR BAY   \n",
              "4       565.0       259.0         3.8462            342200.0        NEAR BAY   \n",
              "5       413.0       193.0         4.0368            269700.0        NEAR BAY   \n",
              "6      1094.0       514.0         3.6591            299200.0        NEAR BAY   \n",
              "7      1157.0       647.0         3.1200            241400.0        NEAR BAY   \n",
              "8      1206.0       595.0         2.0804            226700.0        NEAR BAY   \n",
              "9      1551.0       714.0         3.6912            261100.0        NEAR BAY   \n",
              "\n",
              "   city  rooms_per_household  bedrooms_per_household  bedrooms_per_room  \\\n",
              "0    69             6.984127                1.023810           0.146591   \n",
              "1   620             6.238137                0.971880           0.155797   \n",
              "2   620             8.288136                1.073446           0.129516   \n",
              "3   620             5.817352                1.073059           0.184458   \n",
              "4   620             6.281853                1.081081           0.172096   \n",
              "5   620             4.761658                1.103627           0.231774   \n",
              "6   620             4.931907                0.951362           0.192899   \n",
              "7   620             4.797527                1.061824           0.221327   \n",
              "8   620             4.294118                1.117647           0.260274   \n",
              "9   620             4.970588                0.990196           0.199211   \n",
              "\n",
              "   population_per_household  \n",
              "0                  2.555556  \n",
              "1                  2.109842  \n",
              "2                  2.802260  \n",
              "3                  2.547945  \n",
              "4                  2.181467  \n",
              "5                  2.139896  \n",
              "6                  2.128405  \n",
              "7                  1.788253  \n",
              "8                  2.026891  \n",
              "9                  2.172269  "
            ]
          },
          "execution_count": 158,
          "metadata": {},
          "output_type": "execute_result"
        }
      ],
      "source": [
        "housing_data['city'] = housing_data['city'].cat.codes + 1 # replaces city names by \"category codes + 1\" (start from 1)\n",
        "housing_data.head(10) # check output"
      ]
    },
    {
      "cell_type": "markdown",
      "metadata": {
        "id": "HvEOfqZcLQ4s"
      },
      "source": [
        "One potential problem with the above representation is that machine learning algorithms will treat two cities that are numerically close to each other as being similar. Thus an alternative approach is to apply a technique known as _one-hot encoding_, where we create a binary feature per category. In pandas we can do this by simply running `pandas.get_dummies()`:"
      ]
    },
    {
      "cell_type": "code",
      "execution_count": 159,
      "metadata": {
        "colab": {
          "base_uri": "https://localhost:8080/",
          "height": 288
        },
        "id": "hWuX4QhQnQS-",
        "outputId": "1b3176e2-c202-4851-d4ce-be2db67bff28"
      },
      "outputs": [
        {
          "data": {
            "text/html": [
              "<div>\n",
              "<style scoped>\n",
              "    .dataframe tbody tr th:only-of-type {\n",
              "        vertical-align: middle;\n",
              "    }\n",
              "\n",
              "    .dataframe tbody tr th {\n",
              "        vertical-align: top;\n",
              "    }\n",
              "\n",
              "    .dataframe thead th {\n",
              "        text-align: right;\n",
              "    }\n",
              "</style>\n",
              "<table border=\"1\" class=\"dataframe\">\n",
              "  <thead>\n",
              "    <tr style=\"text-align: right;\">\n",
              "      <th></th>\n",
              "      <th>longitude</th>\n",
              "      <th>latitude</th>\n",
              "      <th>housing_median_age</th>\n",
              "      <th>total_rooms</th>\n",
              "      <th>total_bedrooms</th>\n",
              "      <th>population</th>\n",
              "      <th>households</th>\n",
              "      <th>median_income</th>\n",
              "      <th>median_house_value</th>\n",
              "      <th>ocean_proximity</th>\n",
              "      <th>city</th>\n",
              "      <th>rooms_per_household</th>\n",
              "      <th>bedrooms_per_household</th>\n",
              "      <th>bedrooms_per_room</th>\n",
              "      <th>population_per_household</th>\n",
              "    </tr>\n",
              "  </thead>\n",
              "  <tbody>\n",
              "    <tr>\n",
              "      <th>0</th>\n",
              "      <td>-122.23</td>\n",
              "      <td>37.88</td>\n",
              "      <td>41.0</td>\n",
              "      <td>880.0</td>\n",
              "      <td>129.0</td>\n",
              "      <td>322.0</td>\n",
              "      <td>126.0</td>\n",
              "      <td>8.3252</td>\n",
              "      <td>452600.0</td>\n",
              "      <td>NEAR BAY</td>\n",
              "      <td>69</td>\n",
              "      <td>6.984127</td>\n",
              "      <td>1.023810</td>\n",
              "      <td>0.146591</td>\n",
              "      <td>2.555556</td>\n",
              "    </tr>\n",
              "    <tr>\n",
              "      <th>1</th>\n",
              "      <td>-122.22</td>\n",
              "      <td>37.86</td>\n",
              "      <td>21.0</td>\n",
              "      <td>7099.0</td>\n",
              "      <td>1106.0</td>\n",
              "      <td>2401.0</td>\n",
              "      <td>1138.0</td>\n",
              "      <td>8.3014</td>\n",
              "      <td>358500.0</td>\n",
              "      <td>NEAR BAY</td>\n",
              "      <td>620</td>\n",
              "      <td>6.238137</td>\n",
              "      <td>0.971880</td>\n",
              "      <td>0.155797</td>\n",
              "      <td>2.109842</td>\n",
              "    </tr>\n",
              "    <tr>\n",
              "      <th>2</th>\n",
              "      <td>-122.24</td>\n",
              "      <td>37.85</td>\n",
              "      <td>52.0</td>\n",
              "      <td>1467.0</td>\n",
              "      <td>190.0</td>\n",
              "      <td>496.0</td>\n",
              "      <td>177.0</td>\n",
              "      <td>7.2574</td>\n",
              "      <td>352100.0</td>\n",
              "      <td>NEAR BAY</td>\n",
              "      <td>620</td>\n",
              "      <td>8.288136</td>\n",
              "      <td>1.073446</td>\n",
              "      <td>0.129516</td>\n",
              "      <td>2.802260</td>\n",
              "    </tr>\n",
              "    <tr>\n",
              "      <th>3</th>\n",
              "      <td>-122.25</td>\n",
              "      <td>37.85</td>\n",
              "      <td>52.0</td>\n",
              "      <td>1274.0</td>\n",
              "      <td>235.0</td>\n",
              "      <td>558.0</td>\n",
              "      <td>219.0</td>\n",
              "      <td>5.6431</td>\n",
              "      <td>341300.0</td>\n",
              "      <td>NEAR BAY</td>\n",
              "      <td>620</td>\n",
              "      <td>5.817352</td>\n",
              "      <td>1.073059</td>\n",
              "      <td>0.184458</td>\n",
              "      <td>2.547945</td>\n",
              "    </tr>\n",
              "    <tr>\n",
              "      <th>4</th>\n",
              "      <td>-122.25</td>\n",
              "      <td>37.85</td>\n",
              "      <td>52.0</td>\n",
              "      <td>1627.0</td>\n",
              "      <td>280.0</td>\n",
              "      <td>565.0</td>\n",
              "      <td>259.0</td>\n",
              "      <td>3.8462</td>\n",
              "      <td>342200.0</td>\n",
              "      <td>NEAR BAY</td>\n",
              "      <td>620</td>\n",
              "      <td>6.281853</td>\n",
              "      <td>1.081081</td>\n",
              "      <td>0.172096</td>\n",
              "      <td>2.181467</td>\n",
              "    </tr>\n",
              "  </tbody>\n",
              "</table>\n",
              "</div>"
            ],
            "text/plain": [
              "   longitude  latitude  housing_median_age  total_rooms  total_bedrooms  \\\n",
              "0    -122.23     37.88                41.0        880.0           129.0   \n",
              "1    -122.22     37.86                21.0       7099.0          1106.0   \n",
              "2    -122.24     37.85                52.0       1467.0           190.0   \n",
              "3    -122.25     37.85                52.0       1274.0           235.0   \n",
              "4    -122.25     37.85                52.0       1627.0           280.0   \n",
              "\n",
              "   population  households  median_income  median_house_value ocean_proximity  \\\n",
              "0       322.0       126.0         8.3252            452600.0        NEAR BAY   \n",
              "1      2401.0      1138.0         8.3014            358500.0        NEAR BAY   \n",
              "2       496.0       177.0         7.2574            352100.0        NEAR BAY   \n",
              "3       558.0       219.0         5.6431            341300.0        NEAR BAY   \n",
              "4       565.0       259.0         3.8462            342200.0        NEAR BAY   \n",
              "\n",
              "   city  rooms_per_household  bedrooms_per_household  bedrooms_per_room  \\\n",
              "0    69             6.984127                1.023810           0.146591   \n",
              "1   620             6.238137                0.971880           0.155797   \n",
              "2   620             8.288136                1.073446           0.129516   \n",
              "3   620             5.817352                1.073059           0.184458   \n",
              "4   620             6.281853                1.081081           0.172096   \n",
              "\n",
              "   population_per_household  \n",
              "0                  2.555556  \n",
              "1                  2.109842  \n",
              "2                  2.802260  \n",
              "3                  2.547945  \n",
              "4                  2.181467  "
            ]
          },
          "execution_count": 159,
          "metadata": {},
          "output_type": "execute_result"
        }
      ],
      "source": [
        "# Let's take a look at our dataset before the one-hot encoding:\n",
        "housing_data.head()"
      ]
    },
    {
      "cell_type": "code",
      "execution_count": 160,
      "metadata": {
        "colab": {
          "base_uri": "https://localhost:8080/",
          "height": 317
        },
        "id": "GAG168zYLQ4s",
        "outputId": "46af3f6d-1164-48bd-c2e9-d5217be7e4dd"
      },
      "outputs": [
        {
          "data": {
            "text/html": [
              "<div>\n",
              "<style scoped>\n",
              "    .dataframe tbody tr th:only-of-type {\n",
              "        vertical-align: middle;\n",
              "    }\n",
              "\n",
              "    .dataframe tbody tr th {\n",
              "        vertical-align: top;\n",
              "    }\n",
              "\n",
              "    .dataframe thead th {\n",
              "        text-align: right;\n",
              "    }\n",
              "</style>\n",
              "<table border=\"1\" class=\"dataframe\">\n",
              "  <thead>\n",
              "    <tr style=\"text-align: right;\">\n",
              "      <th></th>\n",
              "      <th>longitude</th>\n",
              "      <th>latitude</th>\n",
              "      <th>housing_median_age</th>\n",
              "      <th>total_rooms</th>\n",
              "      <th>total_bedrooms</th>\n",
              "      <th>population</th>\n",
              "      <th>households</th>\n",
              "      <th>median_income</th>\n",
              "      <th>median_house_value</th>\n",
              "      <th>city</th>\n",
              "      <th>rooms_per_household</th>\n",
              "      <th>bedrooms_per_household</th>\n",
              "      <th>bedrooms_per_room</th>\n",
              "      <th>population_per_household</th>\n",
              "      <th>ocean_proximity_INLAND</th>\n",
              "      <th>ocean_proximity_&lt;1H OCEAN</th>\n",
              "      <th>ocean_proximity_NEAR BAY</th>\n",
              "      <th>ocean_proximity_NEAR OCEAN</th>\n",
              "      <th>ocean_proximity_ISLAND</th>\n",
              "    </tr>\n",
              "  </thead>\n",
              "  <tbody>\n",
              "    <tr>\n",
              "      <th>0</th>\n",
              "      <td>-122.23</td>\n",
              "      <td>37.88</td>\n",
              "      <td>41.0</td>\n",
              "      <td>880.0</td>\n",
              "      <td>129.0</td>\n",
              "      <td>322.0</td>\n",
              "      <td>126.0</td>\n",
              "      <td>8.3252</td>\n",
              "      <td>452600.0</td>\n",
              "      <td>69</td>\n",
              "      <td>6.984127</td>\n",
              "      <td>1.023810</td>\n",
              "      <td>0.146591</td>\n",
              "      <td>2.555556</td>\n",
              "      <td>0</td>\n",
              "      <td>0</td>\n",
              "      <td>1</td>\n",
              "      <td>0</td>\n",
              "      <td>0</td>\n",
              "    </tr>\n",
              "    <tr>\n",
              "      <th>1</th>\n",
              "      <td>-122.22</td>\n",
              "      <td>37.86</td>\n",
              "      <td>21.0</td>\n",
              "      <td>7099.0</td>\n",
              "      <td>1106.0</td>\n",
              "      <td>2401.0</td>\n",
              "      <td>1138.0</td>\n",
              "      <td>8.3014</td>\n",
              "      <td>358500.0</td>\n",
              "      <td>620</td>\n",
              "      <td>6.238137</td>\n",
              "      <td>0.971880</td>\n",
              "      <td>0.155797</td>\n",
              "      <td>2.109842</td>\n",
              "      <td>0</td>\n",
              "      <td>0</td>\n",
              "      <td>1</td>\n",
              "      <td>0</td>\n",
              "      <td>0</td>\n",
              "    </tr>\n",
              "    <tr>\n",
              "      <th>2</th>\n",
              "      <td>-122.24</td>\n",
              "      <td>37.85</td>\n",
              "      <td>52.0</td>\n",
              "      <td>1467.0</td>\n",
              "      <td>190.0</td>\n",
              "      <td>496.0</td>\n",
              "      <td>177.0</td>\n",
              "      <td>7.2574</td>\n",
              "      <td>352100.0</td>\n",
              "      <td>620</td>\n",
              "      <td>8.288136</td>\n",
              "      <td>1.073446</td>\n",
              "      <td>0.129516</td>\n",
              "      <td>2.802260</td>\n",
              "      <td>0</td>\n",
              "      <td>0</td>\n",
              "      <td>1</td>\n",
              "      <td>0</td>\n",
              "      <td>0</td>\n",
              "    </tr>\n",
              "    <tr>\n",
              "      <th>3</th>\n",
              "      <td>-122.25</td>\n",
              "      <td>37.85</td>\n",
              "      <td>52.0</td>\n",
              "      <td>1274.0</td>\n",
              "      <td>235.0</td>\n",
              "      <td>558.0</td>\n",
              "      <td>219.0</td>\n",
              "      <td>5.6431</td>\n",
              "      <td>341300.0</td>\n",
              "      <td>620</td>\n",
              "      <td>5.817352</td>\n",
              "      <td>1.073059</td>\n",
              "      <td>0.184458</td>\n",
              "      <td>2.547945</td>\n",
              "      <td>0</td>\n",
              "      <td>0</td>\n",
              "      <td>1</td>\n",
              "      <td>0</td>\n",
              "      <td>0</td>\n",
              "    </tr>\n",
              "    <tr>\n",
              "      <th>4</th>\n",
              "      <td>-122.25</td>\n",
              "      <td>37.85</td>\n",
              "      <td>52.0</td>\n",
              "      <td>1627.0</td>\n",
              "      <td>280.0</td>\n",
              "      <td>565.0</td>\n",
              "      <td>259.0</td>\n",
              "      <td>3.8462</td>\n",
              "      <td>342200.0</td>\n",
              "      <td>620</td>\n",
              "      <td>6.281853</td>\n",
              "      <td>1.081081</td>\n",
              "      <td>0.172096</td>\n",
              "      <td>2.181467</td>\n",
              "      <td>0</td>\n",
              "      <td>0</td>\n",
              "      <td>1</td>\n",
              "      <td>0</td>\n",
              "      <td>0</td>\n",
              "    </tr>\n",
              "  </tbody>\n",
              "</table>\n",
              "</div>"
            ],
            "text/plain": [
              "   longitude  latitude  housing_median_age  total_rooms  total_bedrooms  \\\n",
              "0    -122.23     37.88                41.0        880.0           129.0   \n",
              "1    -122.22     37.86                21.0       7099.0          1106.0   \n",
              "2    -122.24     37.85                52.0       1467.0           190.0   \n",
              "3    -122.25     37.85                52.0       1274.0           235.0   \n",
              "4    -122.25     37.85                52.0       1627.0           280.0   \n",
              "\n",
              "   population  households  median_income  median_house_value  city  \\\n",
              "0       322.0       126.0         8.3252            452600.0    69   \n",
              "1      2401.0      1138.0         8.3014            358500.0   620   \n",
              "2       496.0       177.0         7.2574            352100.0   620   \n",
              "3       558.0       219.0         5.6431            341300.0   620   \n",
              "4       565.0       259.0         3.8462            342200.0   620   \n",
              "\n",
              "   rooms_per_household  bedrooms_per_household  bedrooms_per_room  \\\n",
              "0             6.984127                1.023810           0.146591   \n",
              "1             6.238137                0.971880           0.155797   \n",
              "2             8.288136                1.073446           0.129516   \n",
              "3             5.817352                1.073059           0.184458   \n",
              "4             6.281853                1.081081           0.172096   \n",
              "\n",
              "   population_per_household  ocean_proximity_INLAND  \\\n",
              "0                  2.555556                       0   \n",
              "1                  2.109842                       0   \n",
              "2                  2.802260                       0   \n",
              "3                  2.547945                       0   \n",
              "4                  2.181467                       0   \n",
              "\n",
              "   ocean_proximity_<1H OCEAN  ocean_proximity_NEAR BAY  \\\n",
              "0                          0                         1   \n",
              "1                          0                         1   \n",
              "2                          0                         1   \n",
              "3                          0                         1   \n",
              "4                          0                         1   \n",
              "\n",
              "   ocean_proximity_NEAR OCEAN  ocean_proximity_ISLAND  \n",
              "0                           0                       0  \n",
              "1                           0                       0  \n",
              "2                           0                       0  \n",
              "3                           0                       0  \n",
              "4                           0                       0  "
            ]
          },
          "execution_count": 160,
          "metadata": {},
          "output_type": "execute_result"
        }
      ],
      "source": [
        "housing_data = pd.get_dummies(housing_data)\n",
        "housing_data.head()"
      ]
    },
    {
      "cell_type": "markdown",
      "metadata": {
        "id": "vj9IPmMjLQ4s"
      },
      "source": [
        "Note that the above has converted our `ocean_proximity` column into one new column per category!"
      ]
    },
    {
      "cell_type": "markdown",
      "metadata": {
        "id": "VgYdpgNlLQ4s"
      },
      "source": [
        "> Note: For columns with hundreds or thousands of categories, one-hot encoding may not be ideal as it will create a large number of columns and slow down the training phase of your analysis. For this reason we did not one-hot encode the `city` or `post_code` columns, even though they are strictly categorical. (We converted the category type of 'city' to numerical type to prevent a one-hot encoding of 'city' when calling the 'get_dummies()' method above.)"
      ]
    },
    {
      "cell_type": "code",
      "execution_count": 161,
      "metadata": {
        "colab": {
          "base_uri": "https://localhost:8080/"
        },
        "id": "0-rp7pWPLQ4s",
        "outputId": "1826f27d-2dd4-402f-959f-7ece1485c15e"
      },
      "outputs": [
        {
          "name": "stdout",
          "output_type": "stream",
          "text": [
            "<class 'pandas.core.frame.DataFrame'>\n",
            "Int64Index: 19443 entries, 0 to 20639\n",
            "Data columns (total 19 columns):\n",
            " #   Column                      Non-Null Count  Dtype  \n",
            "---  ------                      --------------  -----  \n",
            " 0   longitude                   19443 non-null  float64\n",
            " 1   latitude                    19443 non-null  float64\n",
            " 2   housing_median_age          19443 non-null  float64\n",
            " 3   total_rooms                 19443 non-null  float64\n",
            " 4   total_bedrooms              19443 non-null  float64\n",
            " 5   population                  19443 non-null  float64\n",
            " 6   households                  19443 non-null  float64\n",
            " 7   median_income               19443 non-null  float64\n",
            " 8   median_house_value          19443 non-null  float64\n",
            " 9   city                        19443 non-null  int16  \n",
            " 10  rooms_per_household         19443 non-null  float64\n",
            " 11  bedrooms_per_household      19443 non-null  float64\n",
            " 12  bedrooms_per_room           19443 non-null  float64\n",
            " 13  population_per_household    19443 non-null  float64\n",
            " 14  ocean_proximity_INLAND      19443 non-null  uint8  \n",
            " 15  ocean_proximity_<1H OCEAN   19443 non-null  uint8  \n",
            " 16  ocean_proximity_NEAR BAY    19443 non-null  uint8  \n",
            " 17  ocean_proximity_NEAR OCEAN  19443 non-null  uint8  \n",
            " 18  ocean_proximity_ISLAND      19443 non-null  uint8  \n",
            "dtypes: float64(13), int16(1), uint8(5)\n",
            "memory usage: 2.2 MB\n"
          ]
        }
      ],
      "source": [
        "# sanity check\n",
        "housing_data.info()"
      ]
    },
    {
      "cell_type": "markdown",
      "metadata": {
        "id": "K7vCBeKRLQ4s"
      },
      "source": [
        "## Save processed data to disk"
      ]
    },
    {
      "cell_type": "code",
      "execution_count": 164,
      "metadata": {
        "id": "64IZQvEVLQ4s"
      },
      "outputs": [],
      "source": [
        "housing_data.to_csv('housing_processed.csv', index=False) # MY/PATH/'housing_processed.csv'"
      ]
    }
  ],
  "metadata": {
    "colab": {
      "collapsed_sections": [],
      "name": "lesson03_data_cleaning.ipynb",
      "provenance": []
    },
    "kernelspec": {
      "display_name": "Python 3 (ipykernel)",
      "language": "python",
      "name": "python3"
    },
    "language_info": {
      "codemirror_mode": {
        "name": "ipython",
        "version": 3
      },
      "file_extension": ".py",
      "mimetype": "text/x-python",
      "name": "python",
      "nbconvert_exporter": "python",
      "pygments_lexer": "ipython3",
      "version": "3.9.5"
    },
    "orig_nbformat": 4
  },
  "nbformat": 4,
  "nbformat_minor": 0
}
