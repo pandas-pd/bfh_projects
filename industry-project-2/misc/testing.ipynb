{
 "cells": [
  {
   "cell_type": "markdown",
   "metadata": {},
   "source": [
    "# 0. Data collecting"
   ]
  },
  {
   "cell_type": "markdown",
   "metadata": {},
   "source": [
    "## 0.1 ERA5 Reaanalysis data"
   ]
  },
  {
   "cell_type": "code",
   "execution_count": null,
   "metadata": {},
   "outputs": [],
   "source": [
    "#api request for automated dowdload of data\n",
    "\n",
    "\n"
   ]
  },
  {
   "cell_type": "code",
   "execution_count": 11,
   "metadata": {},
   "outputs": [
    {
     "name": "stderr",
     "output_type": "stream",
     "text": [
      "2023-03-01 10:37:08,037 INFO Welcome to the CDS\n",
      "2023-03-01 10:37:08,038 INFO Sending request to https://cds.climate.copernicus.eu/api/v2/resources/reanalysis-era5-single-levels\n",
      "2023-03-01 10:37:08,098 INFO Request is queued\n",
      "2023-03-01 10:37:10,688 INFO Request is failed\n",
      "2023-03-01 10:37:10,689 ERROR Message: the request you have submitted is not valid\n",
      "2023-03-01 10:37:10,689 ERROR Reason:  Request too large. Requesting 455832 items, limit is 120000\n",
      "2023-03-01 10:37:10,690 ERROR   Traceback (most recent call last):\n",
      "2023-03-01 10:37:10,691 ERROR     File \"/opt/cds/cdsinf/python/lib/cdsinf/runner/dispatcher.py\", line 163, in _consume\n",
      "2023-03-01 10:37:10,692 ERROR       result = handle_locally()\n",
      "2023-03-01 10:37:10,693 ERROR     File \"/opt/cds/cdsinf/python/lib/cdsinf/runner/dispatcher.py\", line 252, in <lambda>\n",
      "2023-03-01 10:37:10,695 ERROR       lambda: self.handle_exception(context, e),\n",
      "2023-03-01 10:37:10,696 ERROR     File \"/opt/cds/cdsinf/python/lib/cdsinf/runner/dispatcher.py\", line 383, in handle_exception\n",
      "2023-03-01 10:37:10,698 ERROR       raise exception\n",
      "2023-03-01 10:37:10,698 ERROR     File \"/opt/cds/cdsinf/python/lib/cdsinf/runner/dispatcher.py\", line 163, in _consume\n",
      "2023-03-01 10:37:10,699 ERROR       result = handle_locally()\n",
      "2023-03-01 10:37:10,700 ERROR     File \"/opt/cds/cdsinf/python/lib/cdsinf/runner/dispatcher.py\", line 252, in <lambda>\n",
      "2023-03-01 10:37:10,701 ERROR       lambda: self.handle_exception(context, e),\n",
      "2023-03-01 10:37:10,701 ERROR     File \"/opt/cds/cdsinf/python/lib/cdsinf/runner/dispatcher.py\", line 365, in handle_exception\n",
      "2023-03-01 10:37:10,702 ERROR       raise exception\n",
      "2023-03-01 10:37:10,702 ERROR     File \"/opt/cds/cdsinf/python/lib/cdsinf/runner/dispatcher.py\", line 163, in _consume\n",
      "2023-03-01 10:37:10,704 ERROR       result = handle_locally()\n",
      "2023-03-01 10:37:10,704 ERROR     File \"/opt/cds/cdsinf/python/lib/cdsinf/runner/dispatcher.py\", line 252, in <lambda>\n",
      "2023-03-01 10:37:10,705 ERROR       lambda: self.handle_exception(context, e),\n",
      "2023-03-01 10:37:10,706 ERROR     File \"/opt/cds/cdsinf/python/lib/cdsinf/runner/dispatcher.py\", line 406, in handle_exception\n",
      "2023-03-01 10:37:10,706 ERROR       raise exception\n",
      "2023-03-01 10:37:10,707 ERROR     File \"/opt/cds/cdsinf/python/lib/cdsinf/runner/dispatcher.py\", line 163, in _consume\n",
      "2023-03-01 10:37:10,708 ERROR       result = handle_locally()\n",
      "2023-03-01 10:37:10,709 ERROR     File \"/opt/cds/cdsinf/python/lib/cdsinf/runner/dispatcher.py\", line 252, in <lambda>\n",
      "2023-03-01 10:37:10,710 ERROR       lambda: self.handle_exception(context, e),\n",
      "2023-03-01 10:37:10,711 ERROR     File \"/opt/cds/cdsinf/python/lib/cdsinf/runner/dispatcher.py\", line 132, in handle_exception\n",
      "2023-03-01 10:37:10,711 ERROR       raise exception\n",
      "2023-03-01 10:37:10,712 ERROR     File \"/opt/cds/cdsinf/python/lib/cdsinf/runner/dispatcher.py\", line 163, in _consume\n",
      "2023-03-01 10:37:10,712 ERROR       result = handle_locally()\n",
      "2023-03-01 10:37:10,713 ERROR     File \"/opt/cds/cdsinf/python/lib/cdsinf/runner/dispatcher.py\", line 252, in <lambda>\n",
      "2023-03-01 10:37:10,715 ERROR       lambda: self.handle_exception(context, e),\n",
      "2023-03-01 10:37:10,715 ERROR     File \"/opt/cds/cdsinf/python/lib/cdsinf/runner/dispatcher.py\", line 132, in handle_exception\n",
      "2023-03-01 10:37:10,716 ERROR       raise exception\n",
      "2023-03-01 10:37:10,716 ERROR     File \"/opt/cds/cdsinf/python/lib/cdsinf/runner/dispatcher.py\", line 163, in _consume\n",
      "2023-03-01 10:37:10,717 ERROR       result = handle_locally()\n",
      "2023-03-01 10:37:10,717 ERROR     File \"/opt/cds/cdsinf/python/lib/cdsinf/runner/dispatcher.py\", line 252, in <lambda>\n",
      "2023-03-01 10:37:10,718 ERROR       lambda: self.handle_exception(context, e),\n",
      "2023-03-01 10:37:10,719 ERROR     File \"/opt/cds/cdsinf/python/lib/cdsinf/runner/dispatcher.py\", line 132, in handle_exception\n",
      "2023-03-01 10:37:10,720 ERROR       raise exception\n",
      "2023-03-01 10:37:10,720 ERROR     File \"/opt/cds/cdsinf/python/lib/cdsinf/runner/dispatcher.py\", line 163, in _consume\n",
      "2023-03-01 10:37:10,721 ERROR       result = handle_locally()\n",
      "2023-03-01 10:37:10,722 ERROR     File \"/opt/cds/cdsinf/python/lib/cdsinf/runner/dispatcher.py\", line 252, in <lambda>\n",
      "2023-03-01 10:37:10,722 ERROR       lambda: self.handle_exception(context, e),\n",
      "2023-03-01 10:37:10,723 ERROR     File \"/opt/cds/cdsinf/python/lib/cdsinf/runner/dispatcher.py\", line 132, in handle_exception\n",
      "2023-03-01 10:37:10,724 ERROR       raise exception\n",
      "2023-03-01 10:37:10,725 ERROR     File \"/opt/cds/cdsinf/python/lib/cdsinf/runner/dispatcher.py\", line 163, in _consume\n",
      "2023-03-01 10:37:10,726 ERROR       result = handle_locally()\n",
      "2023-03-01 10:37:10,727 ERROR     File \"/opt/cds/cdsinf/python/lib/cdsinf/runner/dispatcher.py\", line 252, in <lambda>\n",
      "2023-03-01 10:37:10,729 ERROR       lambda: self.handle_exception(context, e),\n",
      "2023-03-01 10:37:10,729 ERROR     File \"/opt/cds/cdsinf/python/lib/cdsinf/runner/dispatcher.py\", line 132, in handle_exception\n",
      "2023-03-01 10:37:10,730 ERROR       raise exception\n",
      "2023-03-01 10:37:10,731 ERROR     File \"/opt/cds/cdsinf/python/lib/cdsinf/runner/dispatcher.py\", line 163, in _consume\n",
      "2023-03-01 10:37:10,731 ERROR       result = handle_locally()\n",
      "2023-03-01 10:37:10,732 ERROR     File \"/opt/cds/cdsinf/python/lib/cdsinf/runner/dispatcher.py\", line 210, in <lambda>\n",
      "2023-03-01 10:37:10,732 ERROR       lambda: self.handle_request(context, request_data),\n",
      "2023-03-01 10:37:10,733 ERROR     File \"/opt/cds/cdsinf/python/lib/cdsinf/runner/mappingprocessor.py\", line 50, in handle_request\n",
      "2023-03-01 10:37:10,734 ERROR       return self.mapping_engine.run(cdsinf, request_data)\n",
      "2023-03-01 10:37:10,735 ERROR     File \"/opt/cdstoolbox/cdscompute/cdscompute/cdshandlers/services/mapping.py\", line 339, in run\n",
      "2023-03-01 10:37:10,736 ERROR       request['specific'] = apply_mapping(specific, mapping)\n",
      "2023-03-01 10:37:10,736 ERROR     File \"/opt/cdstoolbox/cdscompute/cdscompute/cdshandlers/services/mapping.py\", line 320, in apply_mapping\n",
      "2023-03-01 10:37:10,737 ERROR       raise BadRequestException(\"Request too large. Requesting %s items, limit is %s\" % (count, selection_limit), '')\n",
      "2023-03-01 10:37:10,737 ERROR   cdsinf.exceptions.BadRequestException: Request too large. Requesting 455832 items, limit is 120000\n"
     ]
    },
    {
     "ename": "Exception",
     "evalue": "the request you have submitted is not valid. Request too large. Requesting 455832 items, limit is 120000.",
     "output_type": "error",
     "traceback": [
      "\u001b[1;31m---------------------------------------------------------------------------\u001b[0m",
      "\u001b[1;31mException\u001b[0m                                 Traceback (most recent call last)",
      "\u001b[1;32mc:\\Users\\joelt\\Desktop\\Projects\\bthe\\main_0.ipynb Cell 4'\u001b[0m in \u001b[0;36m<module>\u001b[1;34m\u001b[0m\n\u001b[0;32m      <a href='vscode-notebook-cell:/c%3A/Users/joelt/Desktop/Projects/bthe/main_0.ipynb#ch0000000?line=0'>1</a>\u001b[0m \u001b[39mimport\u001b[39;00m \u001b[39mcdsapi\u001b[39;00m\n\u001b[0;32m      <a href='vscode-notebook-cell:/c%3A/Users/joelt/Desktop/Projects/bthe/main_0.ipynb#ch0000000?line=2'>3</a>\u001b[0m c \u001b[39m=\u001b[39m cdsapi\u001b[39m.\u001b[39mClient()\n\u001b[1;32m----> <a href='vscode-notebook-cell:/c%3A/Users/joelt/Desktop/Projects/bthe/main_0.ipynb#ch0000000?line=4'>5</a>\u001b[0m request \u001b[39m=\u001b[39m c\u001b[39m.\u001b[39;49mretrieve(\n\u001b[0;32m      <a href='vscode-notebook-cell:/c%3A/Users/joelt/Desktop/Projects/bthe/main_0.ipynb#ch0000000?line=5'>6</a>\u001b[0m     \u001b[39m'\u001b[39;49m\u001b[39mreanalysis-era5-single-levels\u001b[39;49m\u001b[39m'\u001b[39;49m,\n\u001b[0;32m      <a href='vscode-notebook-cell:/c%3A/Users/joelt/Desktop/Projects/bthe/main_0.ipynb#ch0000000?line=6'>7</a>\u001b[0m     {\n\u001b[0;32m      <a href='vscode-notebook-cell:/c%3A/Users/joelt/Desktop/Projects/bthe/main_0.ipynb#ch0000000?line=7'>8</a>\u001b[0m         \u001b[39m'\u001b[39;49m\u001b[39mproduct_type\u001b[39;49m\u001b[39m'\u001b[39;49m: \u001b[39m'\u001b[39;49m\u001b[39mreanalysis\u001b[39;49m\u001b[39m'\u001b[39;49m,\n\u001b[0;32m      <a href='vscode-notebook-cell:/c%3A/Users/joelt/Desktop/Projects/bthe/main_0.ipynb#ch0000000?line=8'>9</a>\u001b[0m         \u001b[39m'\u001b[39;49m\u001b[39mvariable\u001b[39;49m\u001b[39m'\u001b[39;49m: [\u001b[39m'\u001b[39;49m\u001b[39m2m_temperature\u001b[39;49m\u001b[39m'\u001b[39;49m],\n\u001b[0;32m     <a href='vscode-notebook-cell:/c%3A/Users/joelt/Desktop/Projects/bthe/main_0.ipynb#ch0000000?line=9'>10</a>\u001b[0m         \u001b[39m'\u001b[39;49m\u001b[39myear\u001b[39;49m\u001b[39m'\u001b[39;49m: [\u001b[39m'\u001b[39;49m\u001b[39m1970\u001b[39;49m\u001b[39m'\u001b[39;49m, \u001b[39m'\u001b[39;49m\u001b[39m1971\u001b[39;49m\u001b[39m'\u001b[39;49m, \u001b[39m'\u001b[39;49m\u001b[39m1972\u001b[39;49m\u001b[39m'\u001b[39;49m, \u001b[39m'\u001b[39;49m\u001b[39m1973\u001b[39;49m\u001b[39m'\u001b[39;49m, \u001b[39m'\u001b[39;49m\u001b[39m1974\u001b[39;49m\u001b[39m'\u001b[39;49m, \u001b[39m'\u001b[39;49m\u001b[39m1975\u001b[39;49m\u001b[39m'\u001b[39;49m, \u001b[39m'\u001b[39;49m\u001b[39m1976\u001b[39;49m\u001b[39m'\u001b[39;49m, \u001b[39m'\u001b[39;49m\u001b[39m1977\u001b[39;49m\u001b[39m'\u001b[39;49m, \u001b[39m'\u001b[39;49m\u001b[39m1978\u001b[39;49m\u001b[39m'\u001b[39;49m, \u001b[39m'\u001b[39;49m\u001b[39m1979\u001b[39;49m\u001b[39m'\u001b[39;49m, \u001b[39m'\u001b[39;49m\u001b[39m1980\u001b[39;49m\u001b[39m'\u001b[39;49m, \u001b[39m'\u001b[39;49m\u001b[39m1981\u001b[39;49m\u001b[39m'\u001b[39;49m, \u001b[39m'\u001b[39;49m\u001b[39m1982\u001b[39;49m\u001b[39m'\u001b[39;49m, \u001b[39m'\u001b[39;49m\u001b[39m1983\u001b[39;49m\u001b[39m'\u001b[39;49m, \u001b[39m'\u001b[39;49m\u001b[39m1984\u001b[39;49m\u001b[39m'\u001b[39;49m, \u001b[39m'\u001b[39;49m\u001b[39m1985\u001b[39;49m\u001b[39m'\u001b[39;49m, \u001b[39m'\u001b[39;49m\u001b[39m1986\u001b[39;49m\u001b[39m'\u001b[39;49m, \u001b[39m'\u001b[39;49m\u001b[39m1987\u001b[39;49m\u001b[39m'\u001b[39;49m, \u001b[39m'\u001b[39;49m\u001b[39m1988\u001b[39;49m\u001b[39m'\u001b[39;49m, \u001b[39m'\u001b[39;49m\u001b[39m1989\u001b[39;49m\u001b[39m'\u001b[39;49m, \u001b[39m'\u001b[39;49m\u001b[39m1990\u001b[39;49m\u001b[39m'\u001b[39;49m, \u001b[39m'\u001b[39;49m\u001b[39m1991\u001b[39;49m\u001b[39m'\u001b[39;49m, \u001b[39m'\u001b[39;49m\u001b[39m1992\u001b[39;49m\u001b[39m'\u001b[39;49m, \u001b[39m'\u001b[39;49m\u001b[39m1993\u001b[39;49m\u001b[39m'\u001b[39;49m, \u001b[39m'\u001b[39;49m\u001b[39m1994\u001b[39;49m\u001b[39m'\u001b[39;49m, \u001b[39m'\u001b[39;49m\u001b[39m1995\u001b[39;49m\u001b[39m'\u001b[39;49m, \u001b[39m'\u001b[39;49m\u001b[39m1996\u001b[39;49m\u001b[39m'\u001b[39;49m, \u001b[39m'\u001b[39;49m\u001b[39m1997\u001b[39;49m\u001b[39m'\u001b[39;49m, \u001b[39m'\u001b[39;49m\u001b[39m1998\u001b[39;49m\u001b[39m'\u001b[39;49m, \u001b[39m'\u001b[39;49m\u001b[39m1999\u001b[39;49m\u001b[39m'\u001b[39;49m, \u001b[39m'\u001b[39;49m\u001b[39m2000\u001b[39;49m\u001b[39m'\u001b[39;49m, \u001b[39m'\u001b[39;49m\u001b[39m2001\u001b[39;49m\u001b[39m'\u001b[39;49m, \u001b[39m'\u001b[39;49m\u001b[39m2002\u001b[39;49m\u001b[39m'\u001b[39;49m, \u001b[39m'\u001b[39;49m\u001b[39m2003\u001b[39;49m\u001b[39m'\u001b[39;49m, \u001b[39m'\u001b[39;49m\u001b[39m2004\u001b[39;49m\u001b[39m'\u001b[39;49m, \u001b[39m'\u001b[39;49m\u001b[39m2005\u001b[39;49m\u001b[39m'\u001b[39;49m, \u001b[39m'\u001b[39;49m\u001b[39m2006\u001b[39;49m\u001b[39m'\u001b[39;49m, \u001b[39m'\u001b[39;49m\u001b[39m2007\u001b[39;49m\u001b[39m'\u001b[39;49m, \u001b[39m'\u001b[39;49m\u001b[39m2008\u001b[39;49m\u001b[39m'\u001b[39;49m, \u001b[39m'\u001b[39;49m\u001b[39m2009\u001b[39;49m\u001b[39m'\u001b[39;49m, \u001b[39m'\u001b[39;49m\u001b[39m2010\u001b[39;49m\u001b[39m'\u001b[39;49m, \u001b[39m'\u001b[39;49m\u001b[39m2011\u001b[39;49m\u001b[39m'\u001b[39;49m, \u001b[39m'\u001b[39;49m\u001b[39m2012\u001b[39;49m\u001b[39m'\u001b[39;49m, \u001b[39m'\u001b[39;49m\u001b[39m2013\u001b[39;49m\u001b[39m'\u001b[39;49m, \u001b[39m'\u001b[39;49m\u001b[39m2014\u001b[39;49m\u001b[39m'\u001b[39;49m, \u001b[39m'\u001b[39;49m\u001b[39m2015\u001b[39;49m\u001b[39m'\u001b[39;49m, \u001b[39m'\u001b[39;49m\u001b[39m2016\u001b[39;49m\u001b[39m'\u001b[39;49m, \u001b[39m'\u001b[39;49m\u001b[39m2017\u001b[39;49m\u001b[39m'\u001b[39;49m, \u001b[39m'\u001b[39;49m\u001b[39m2018\u001b[39;49m\u001b[39m'\u001b[39;49m, \u001b[39m'\u001b[39;49m\u001b[39m2019\u001b[39;49m\u001b[39m'\u001b[39;49m, \u001b[39m'\u001b[39;49m\u001b[39m2020\u001b[39;49m\u001b[39m'\u001b[39;49m, \u001b[39m'\u001b[39;49m\u001b[39m2021\u001b[39;49m\u001b[39m'\u001b[39;49m],\n\u001b[0;32m     <a href='vscode-notebook-cell:/c%3A/Users/joelt/Desktop/Projects/bthe/main_0.ipynb#ch0000000?line=10'>11</a>\u001b[0m         \u001b[39m'\u001b[39;49m\u001b[39mmonth\u001b[39;49m\u001b[39m'\u001b[39;49m: [\n\u001b[0;32m     <a href='vscode-notebook-cell:/c%3A/Users/joelt/Desktop/Projects/bthe/main_0.ipynb#ch0000000?line=11'>12</a>\u001b[0m                     \u001b[39m'\u001b[39;49m\u001b[39m01\u001b[39;49m\u001b[39m'\u001b[39;49m, \u001b[39m'\u001b[39;49m\u001b[39m02\u001b[39;49m\u001b[39m'\u001b[39;49m, \u001b[39m'\u001b[39;49m\u001b[39m03\u001b[39;49m\u001b[39m'\u001b[39;49m,\n\u001b[0;32m     <a href='vscode-notebook-cell:/c%3A/Users/joelt/Desktop/Projects/bthe/main_0.ipynb#ch0000000?line=12'>13</a>\u001b[0m                     \u001b[39m'\u001b[39;49m\u001b[39m04\u001b[39;49m\u001b[39m'\u001b[39;49m, \u001b[39m'\u001b[39;49m\u001b[39m05\u001b[39;49m\u001b[39m'\u001b[39;49m, \u001b[39m'\u001b[39;49m\u001b[39m06\u001b[39;49m\u001b[39m'\u001b[39;49m,\n\u001b[0;32m     <a href='vscode-notebook-cell:/c%3A/Users/joelt/Desktop/Projects/bthe/main_0.ipynb#ch0000000?line=13'>14</a>\u001b[0m                     \u001b[39m'\u001b[39;49m\u001b[39m07\u001b[39;49m\u001b[39m'\u001b[39;49m, \u001b[39m'\u001b[39;49m\u001b[39m08\u001b[39;49m\u001b[39m'\u001b[39;49m, \u001b[39m'\u001b[39;49m\u001b[39m09\u001b[39;49m\u001b[39m'\u001b[39;49m,\n\u001b[0;32m     <a href='vscode-notebook-cell:/c%3A/Users/joelt/Desktop/Projects/bthe/main_0.ipynb#ch0000000?line=14'>15</a>\u001b[0m                     \u001b[39m'\u001b[39;49m\u001b[39m10\u001b[39;49m\u001b[39m'\u001b[39;49m, \u001b[39m'\u001b[39;49m\u001b[39m11\u001b[39;49m\u001b[39m'\u001b[39;49m, \u001b[39m'\u001b[39;49m\u001b[39m12\u001b[39;49m\u001b[39m'\u001b[39;49m,\n\u001b[0;32m     <a href='vscode-notebook-cell:/c%3A/Users/joelt/Desktop/Projects/bthe/main_0.ipynb#ch0000000?line=15'>16</a>\u001b[0m                 ],\n\u001b[0;32m     <a href='vscode-notebook-cell:/c%3A/Users/joelt/Desktop/Projects/bthe/main_0.ipynb#ch0000000?line=16'>17</a>\u001b[0m         \u001b[39m'\u001b[39;49m\u001b[39mday\u001b[39;49m\u001b[39m'\u001b[39;49m: [\n\u001b[0;32m     <a href='vscode-notebook-cell:/c%3A/Users/joelt/Desktop/Projects/bthe/main_0.ipynb#ch0000000?line=17'>18</a>\u001b[0m             \u001b[39m'\u001b[39;49m\u001b[39m01\u001b[39;49m\u001b[39m'\u001b[39;49m, \u001b[39m'\u001b[39;49m\u001b[39m02\u001b[39;49m\u001b[39m'\u001b[39;49m, \u001b[39m'\u001b[39;49m\u001b[39m03\u001b[39;49m\u001b[39m'\u001b[39;49m,\n\u001b[0;32m     <a href='vscode-notebook-cell:/c%3A/Users/joelt/Desktop/Projects/bthe/main_0.ipynb#ch0000000?line=18'>19</a>\u001b[0m             \u001b[39m'\u001b[39;49m\u001b[39m04\u001b[39;49m\u001b[39m'\u001b[39;49m, \u001b[39m'\u001b[39;49m\u001b[39m05\u001b[39;49m\u001b[39m'\u001b[39;49m, \u001b[39m'\u001b[39;49m\u001b[39m06\u001b[39;49m\u001b[39m'\u001b[39;49m,\n\u001b[0;32m     <a href='vscode-notebook-cell:/c%3A/Users/joelt/Desktop/Projects/bthe/main_0.ipynb#ch0000000?line=19'>20</a>\u001b[0m             \u001b[39m'\u001b[39;49m\u001b[39m07\u001b[39;49m\u001b[39m'\u001b[39;49m, \u001b[39m'\u001b[39;49m\u001b[39m08\u001b[39;49m\u001b[39m'\u001b[39;49m, \u001b[39m'\u001b[39;49m\u001b[39m09\u001b[39;49m\u001b[39m'\u001b[39;49m,\n\u001b[0;32m     <a href='vscode-notebook-cell:/c%3A/Users/joelt/Desktop/Projects/bthe/main_0.ipynb#ch0000000?line=20'>21</a>\u001b[0m             \u001b[39m'\u001b[39;49m\u001b[39m10\u001b[39;49m\u001b[39m'\u001b[39;49m, \u001b[39m'\u001b[39;49m\u001b[39m11\u001b[39;49m\u001b[39m'\u001b[39;49m, \u001b[39m'\u001b[39;49m\u001b[39m12\u001b[39;49m\u001b[39m'\u001b[39;49m,\n\u001b[0;32m     <a href='vscode-notebook-cell:/c%3A/Users/joelt/Desktop/Projects/bthe/main_0.ipynb#ch0000000?line=21'>22</a>\u001b[0m             \u001b[39m'\u001b[39;49m\u001b[39m13\u001b[39;49m\u001b[39m'\u001b[39;49m, \u001b[39m'\u001b[39;49m\u001b[39m14\u001b[39;49m\u001b[39m'\u001b[39;49m, \u001b[39m'\u001b[39;49m\u001b[39m15\u001b[39;49m\u001b[39m'\u001b[39;49m,\n\u001b[0;32m     <a href='vscode-notebook-cell:/c%3A/Users/joelt/Desktop/Projects/bthe/main_0.ipynb#ch0000000?line=22'>23</a>\u001b[0m             \u001b[39m'\u001b[39;49m\u001b[39m16\u001b[39;49m\u001b[39m'\u001b[39;49m, \u001b[39m'\u001b[39;49m\u001b[39m17\u001b[39;49m\u001b[39m'\u001b[39;49m, \u001b[39m'\u001b[39;49m\u001b[39m18\u001b[39;49m\u001b[39m'\u001b[39;49m,\n\u001b[0;32m     <a href='vscode-notebook-cell:/c%3A/Users/joelt/Desktop/Projects/bthe/main_0.ipynb#ch0000000?line=23'>24</a>\u001b[0m             \u001b[39m'\u001b[39;49m\u001b[39m19\u001b[39;49m\u001b[39m'\u001b[39;49m, \u001b[39m'\u001b[39;49m\u001b[39m20\u001b[39;49m\u001b[39m'\u001b[39;49m, \u001b[39m'\u001b[39;49m\u001b[39m21\u001b[39;49m\u001b[39m'\u001b[39;49m,\n\u001b[0;32m     <a href='vscode-notebook-cell:/c%3A/Users/joelt/Desktop/Projects/bthe/main_0.ipynb#ch0000000?line=24'>25</a>\u001b[0m             \u001b[39m'\u001b[39;49m\u001b[39m22\u001b[39;49m\u001b[39m'\u001b[39;49m, \u001b[39m'\u001b[39;49m\u001b[39m23\u001b[39;49m\u001b[39m'\u001b[39;49m, \u001b[39m'\u001b[39;49m\u001b[39m24\u001b[39;49m\u001b[39m'\u001b[39;49m,\n\u001b[0;32m     <a href='vscode-notebook-cell:/c%3A/Users/joelt/Desktop/Projects/bthe/main_0.ipynb#ch0000000?line=25'>26</a>\u001b[0m             \u001b[39m'\u001b[39;49m\u001b[39m25\u001b[39;49m\u001b[39m'\u001b[39;49m, \u001b[39m'\u001b[39;49m\u001b[39m26\u001b[39;49m\u001b[39m'\u001b[39;49m, \u001b[39m'\u001b[39;49m\u001b[39m27\u001b[39;49m\u001b[39m'\u001b[39;49m,\n\u001b[0;32m     <a href='vscode-notebook-cell:/c%3A/Users/joelt/Desktop/Projects/bthe/main_0.ipynb#ch0000000?line=26'>27</a>\u001b[0m             \u001b[39m'\u001b[39;49m\u001b[39m28\u001b[39;49m\u001b[39m'\u001b[39;49m, \u001b[39m'\u001b[39;49m\u001b[39m29\u001b[39;49m\u001b[39m'\u001b[39;49m, \u001b[39m'\u001b[39;49m\u001b[39m30\u001b[39;49m\u001b[39m'\u001b[39;49m,\n\u001b[0;32m     <a href='vscode-notebook-cell:/c%3A/Users/joelt/Desktop/Projects/bthe/main_0.ipynb#ch0000000?line=27'>28</a>\u001b[0m             \u001b[39m'\u001b[39;49m\u001b[39m31\u001b[39;49m\u001b[39m'\u001b[39;49m,\n\u001b[0;32m     <a href='vscode-notebook-cell:/c%3A/Users/joelt/Desktop/Projects/bthe/main_0.ipynb#ch0000000?line=28'>29</a>\u001b[0m         ],\n\u001b[0;32m     <a href='vscode-notebook-cell:/c%3A/Users/joelt/Desktop/Projects/bthe/main_0.ipynb#ch0000000?line=29'>30</a>\u001b[0m         \u001b[39m'\u001b[39;49m\u001b[39mtime\u001b[39;49m\u001b[39m'\u001b[39;49m: [\n\u001b[0;32m     <a href='vscode-notebook-cell:/c%3A/Users/joelt/Desktop/Projects/bthe/main_0.ipynb#ch0000000?line=30'>31</a>\u001b[0m             \u001b[39m'\u001b[39;49m\u001b[39m00:00\u001b[39;49m\u001b[39m'\u001b[39;49m, \u001b[39m'\u001b[39;49m\u001b[39m01:00\u001b[39;49m\u001b[39m'\u001b[39;49m, \u001b[39m'\u001b[39;49m\u001b[39m02:00\u001b[39;49m\u001b[39m'\u001b[39;49m,\n\u001b[0;32m     <a href='vscode-notebook-cell:/c%3A/Users/joelt/Desktop/Projects/bthe/main_0.ipynb#ch0000000?line=31'>32</a>\u001b[0m             \u001b[39m'\u001b[39;49m\u001b[39m03:00\u001b[39;49m\u001b[39m'\u001b[39;49m, \u001b[39m'\u001b[39;49m\u001b[39m04:00\u001b[39;49m\u001b[39m'\u001b[39;49m, \u001b[39m'\u001b[39;49m\u001b[39m05:00\u001b[39;49m\u001b[39m'\u001b[39;49m,\n\u001b[0;32m     <a href='vscode-notebook-cell:/c%3A/Users/joelt/Desktop/Projects/bthe/main_0.ipynb#ch0000000?line=32'>33</a>\u001b[0m             \u001b[39m'\u001b[39;49m\u001b[39m06:00\u001b[39;49m\u001b[39m'\u001b[39;49m, \u001b[39m'\u001b[39;49m\u001b[39m07:00\u001b[39;49m\u001b[39m'\u001b[39;49m, \u001b[39m'\u001b[39;49m\u001b[39m08:00\u001b[39;49m\u001b[39m'\u001b[39;49m,\n\u001b[0;32m     <a href='vscode-notebook-cell:/c%3A/Users/joelt/Desktop/Projects/bthe/main_0.ipynb#ch0000000?line=33'>34</a>\u001b[0m             \u001b[39m'\u001b[39;49m\u001b[39m09:00\u001b[39;49m\u001b[39m'\u001b[39;49m, \u001b[39m'\u001b[39;49m\u001b[39m10:00\u001b[39;49m\u001b[39m'\u001b[39;49m, \u001b[39m'\u001b[39;49m\u001b[39m11:00\u001b[39;49m\u001b[39m'\u001b[39;49m,\n\u001b[0;32m     <a href='vscode-notebook-cell:/c%3A/Users/joelt/Desktop/Projects/bthe/main_0.ipynb#ch0000000?line=34'>35</a>\u001b[0m             \u001b[39m'\u001b[39;49m\u001b[39m12:00\u001b[39;49m\u001b[39m'\u001b[39;49m, \u001b[39m'\u001b[39;49m\u001b[39m13:00\u001b[39;49m\u001b[39m'\u001b[39;49m, \u001b[39m'\u001b[39;49m\u001b[39m14:00\u001b[39;49m\u001b[39m'\u001b[39;49m,\n\u001b[0;32m     <a href='vscode-notebook-cell:/c%3A/Users/joelt/Desktop/Projects/bthe/main_0.ipynb#ch0000000?line=35'>36</a>\u001b[0m             \u001b[39m'\u001b[39;49m\u001b[39m15:00\u001b[39;49m\u001b[39m'\u001b[39;49m, \u001b[39m'\u001b[39;49m\u001b[39m16:00\u001b[39;49m\u001b[39m'\u001b[39;49m, \u001b[39m'\u001b[39;49m\u001b[39m17:00\u001b[39;49m\u001b[39m'\u001b[39;49m,\n\u001b[0;32m     <a href='vscode-notebook-cell:/c%3A/Users/joelt/Desktop/Projects/bthe/main_0.ipynb#ch0000000?line=36'>37</a>\u001b[0m             \u001b[39m'\u001b[39;49m\u001b[39m18:00\u001b[39;49m\u001b[39m'\u001b[39;49m, \u001b[39m'\u001b[39;49m\u001b[39m19:00\u001b[39;49m\u001b[39m'\u001b[39;49m, \u001b[39m'\u001b[39;49m\u001b[39m20:00\u001b[39;49m\u001b[39m'\u001b[39;49m,\n\u001b[0;32m     <a href='vscode-notebook-cell:/c%3A/Users/joelt/Desktop/Projects/bthe/main_0.ipynb#ch0000000?line=37'>38</a>\u001b[0m             \u001b[39m'\u001b[39;49m\u001b[39m21:00\u001b[39;49m\u001b[39m'\u001b[39;49m, \u001b[39m'\u001b[39;49m\u001b[39m22:00\u001b[39;49m\u001b[39m'\u001b[39;49m, \u001b[39m'\u001b[39;49m\u001b[39m23:00\u001b[39;49m\u001b[39m'\u001b[39;49m,\n\u001b[0;32m     <a href='vscode-notebook-cell:/c%3A/Users/joelt/Desktop/Projects/bthe/main_0.ipynb#ch0000000?line=38'>39</a>\u001b[0m         ],\n\u001b[0;32m     <a href='vscode-notebook-cell:/c%3A/Users/joelt/Desktop/Projects/bthe/main_0.ipynb#ch0000000?line=39'>40</a>\u001b[0m         \u001b[39m'\u001b[39;49m\u001b[39marea\u001b[39;49m\u001b[39m'\u001b[39;49m: [\n\u001b[0;32m     <a href='vscode-notebook-cell:/c%3A/Users/joelt/Desktop/Projects/bthe/main_0.ipynb#ch0000000?line=40'>41</a>\u001b[0m             \u001b[39m48\u001b[39;49m, \u001b[39m5.8\u001b[39;49m, \u001b[39m45.7\u001b[39;49m,\n\u001b[0;32m     <a href='vscode-notebook-cell:/c%3A/Users/joelt/Desktop/Projects/bthe/main_0.ipynb#ch0000000?line=41'>42</a>\u001b[0m             \u001b[39m11\u001b[39;49m,\n\u001b[0;32m     <a href='vscode-notebook-cell:/c%3A/Users/joelt/Desktop/Projects/bthe/main_0.ipynb#ch0000000?line=42'>43</a>\u001b[0m         ],\n\u001b[0;32m     <a href='vscode-notebook-cell:/c%3A/Users/joelt/Desktop/Projects/bthe/main_0.ipynb#ch0000000?line=43'>44</a>\u001b[0m         \u001b[39m'\u001b[39;49m\u001b[39mformat\u001b[39;49m\u001b[39m'\u001b[39;49m: \u001b[39m'\u001b[39;49m\u001b[39mnetcdf\u001b[39;49m\u001b[39m'\u001b[39;49m,\n\u001b[0;32m     <a href='vscode-notebook-cell:/c%3A/Users/joelt/Desktop/Projects/bthe/main_0.ipynb#ch0000000?line=44'>45</a>\u001b[0m     },\n\u001b[0;32m     <a href='vscode-notebook-cell:/c%3A/Users/joelt/Desktop/Projects/bthe/main_0.ipynb#ch0000000?line=45'>46</a>\u001b[0m     \u001b[39m'\u001b[39;49m\u001b[39mdownload.nc\u001b[39;49m\u001b[39m'\u001b[39;49m)\n",
      "File \u001b[1;32m~\\AppData\\Local\\Programs\\Python\\Python39\\lib\\site-packages\\cdsapi\\api.py:348\u001b[0m, in \u001b[0;36mClient.retrieve\u001b[1;34m(self, name, request, target)\u001b[0m\n\u001b[0;32m    <a href='file:///~/AppData/Local/Programs/Python/Python39/lib/site-packages/cdsapi/api.py?line=346'>347</a>\u001b[0m \u001b[39mdef\u001b[39;00m \u001b[39mretrieve\u001b[39m(\u001b[39mself\u001b[39m, name, request, target\u001b[39m=\u001b[39m\u001b[39mNone\u001b[39;00m):\n\u001b[1;32m--> <a href='file:///~/AppData/Local/Programs/Python/Python39/lib/site-packages/cdsapi/api.py?line=347'>348</a>\u001b[0m     result \u001b[39m=\u001b[39m \u001b[39mself\u001b[39;49m\u001b[39m.\u001b[39;49m_api(\u001b[39m\"\u001b[39;49m\u001b[39m%s\u001b[39;49;00m\u001b[39m/resources/\u001b[39;49m\u001b[39m%s\u001b[39;49;00m\u001b[39m\"\u001b[39;49m \u001b[39m%\u001b[39;49m (\u001b[39mself\u001b[39;49m\u001b[39m.\u001b[39;49murl, name), request, \u001b[39m\"\u001b[39;49m\u001b[39mPOST\u001b[39;49m\u001b[39m\"\u001b[39;49m)\n\u001b[0;32m    <a href='file:///~/AppData/Local/Programs/Python/Python39/lib/site-packages/cdsapi/api.py?line=348'>349</a>\u001b[0m     \u001b[39mif\u001b[39;00m target \u001b[39mis\u001b[39;00m \u001b[39mnot\u001b[39;00m \u001b[39mNone\u001b[39;00m:\n\u001b[0;32m    <a href='file:///~/AppData/Local/Programs/Python/Python39/lib/site-packages/cdsapi/api.py?line=349'>350</a>\u001b[0m         result\u001b[39m.\u001b[39mdownload(target)\n",
      "File \u001b[1;32m~\\AppData\\Local\\Programs\\Python\\Python39\\lib\\site-packages\\cdsapi\\api.py:506\u001b[0m, in \u001b[0;36mClient._api\u001b[1;34m(self, url, request, method)\u001b[0m\n\u001b[0;32m    <a href='file:///~/AppData/Local/Programs/Python/Python39/lib/site-packages/cdsapi/api.py?line=503'>504</a>\u001b[0m             \u001b[39mbreak\u001b[39;00m\n\u001b[0;32m    <a href='file:///~/AppData/Local/Programs/Python/Python39/lib/site-packages/cdsapi/api.py?line=504'>505</a>\u001b[0m         \u001b[39mself\u001b[39m\u001b[39m.\u001b[39merror(\u001b[39m\"\u001b[39m\u001b[39m  \u001b[39m\u001b[39m%s\u001b[39;00m\u001b[39m\"\u001b[39m, n)\n\u001b[1;32m--> <a href='file:///~/AppData/Local/Programs/Python/Python39/lib/site-packages/cdsapi/api.py?line=505'>506</a>\u001b[0m     \u001b[39mraise\u001b[39;00m \u001b[39mException\u001b[39;00m(\n\u001b[0;32m    <a href='file:///~/AppData/Local/Programs/Python/Python39/lib/site-packages/cdsapi/api.py?line=506'>507</a>\u001b[0m         \u001b[39m\"\u001b[39m\u001b[39m%s\u001b[39;00m\u001b[39m. \u001b[39m\u001b[39m%s\u001b[39;00m\u001b[39m.\u001b[39m\u001b[39m\"\u001b[39m\n\u001b[0;32m    <a href='file:///~/AppData/Local/Programs/Python/Python39/lib/site-packages/cdsapi/api.py?line=507'>508</a>\u001b[0m         \u001b[39m%\u001b[39m (reply[\u001b[39m\"\u001b[39m\u001b[39merror\u001b[39m\u001b[39m\"\u001b[39m]\u001b[39m.\u001b[39mget(\u001b[39m\"\u001b[39m\u001b[39mmessage\u001b[39m\u001b[39m\"\u001b[39m), reply[\u001b[39m\"\u001b[39m\u001b[39merror\u001b[39m\u001b[39m\"\u001b[39m]\u001b[39m.\u001b[39mget(\u001b[39m\"\u001b[39m\u001b[39mreason\u001b[39m\u001b[39m\"\u001b[39m))\n\u001b[0;32m    <a href='file:///~/AppData/Local/Programs/Python/Python39/lib/site-packages/cdsapi/api.py?line=508'>509</a>\u001b[0m     )\n\u001b[0;32m    <a href='file:///~/AppData/Local/Programs/Python/Python39/lib/site-packages/cdsapi/api.py?line=510'>511</a>\u001b[0m \u001b[39mraise\u001b[39;00m \u001b[39mException\u001b[39;00m(\u001b[39m\"\u001b[39m\u001b[39mUnknown API state [\u001b[39m\u001b[39m%s\u001b[39;00m\u001b[39m]\u001b[39m\u001b[39m\"\u001b[39m \u001b[39m%\u001b[39m (reply[\u001b[39m\"\u001b[39m\u001b[39mstate\u001b[39m\u001b[39m\"\u001b[39m],))\n",
      "\u001b[1;31mException\u001b[0m: the request you have submitted is not valid. Request too large. Requesting 455832 items, limit is 120000."
     ]
    }
   ],
   "source": [
    "import cdsapi\n",
    "\n",
    "c = cdsapi.Client()\n",
    "\n",
    "request = c.retrieve(\n",
    "    'reanalysis-era5-single-levels',\n",
    "    {\n",
    "        'product_type': 'reanalysis',\n",
    "        'variable': ['2m_temperature'],\n",
    "        'year': ['1970', '1971', '1972', '1973', '1974', '1975', '1976', '1977', '1978', '1979', '1980', '1981', '1982', '1983', '1984', '1985', '1986', '1987', '1988', '1989', '1990', '1991', '1992', '1993', '1994', '1995', '1996', '1997', '1998', '1999', '2000', '2001', '2002', '2003', '2004', '2005', '2006', '2007', '2008', '2009', '2010', '2011', '2012', '2013', '2014', '2015', '2016', '2017', '2018', '2019', '2020', '2021'],\n",
    "        'month': [\n",
    "                    '01', '02', '03',\n",
    "                    '04', '05', '06',\n",
    "                    '07', '08', '09',\n",
    "                    '10', '11', '12',\n",
    "                ],\n",
    "        'day': [\n",
    "            '01', '02', '03',\n",
    "            '04', '05', '06',\n",
    "            '07', '08', '09',\n",
    "            '10', '11', '12',\n",
    "            '13', '14', '15',\n",
    "            '16', '17', '18',\n",
    "            '19', '20', '21',\n",
    "            '22', '23', '24',\n",
    "            '25', '26', '27',\n",
    "            '28', '29', '30',\n",
    "            '31',\n",
    "        ],\n",
    "        'time': [\n",
    "            '00:00', '01:00', '02:00',\n",
    "            '03:00', '04:00', '05:00',\n",
    "            '06:00', '07:00', '08:00',\n",
    "            '09:00', '10:00', '11:00',\n",
    "            '12:00', '13:00', '14:00',\n",
    "            '15:00', '16:00', '17:00',\n",
    "            '18:00', '19:00', '20:00',\n",
    "            '21:00', '22:00', '23:00',\n",
    "        ],\n",
    "        'area': [\n",
    "            48, 5.8, 45.7,\n",
    "            11,\n",
    "        ],\n",
    "        'format': 'netcdf',\n",
    "    },\n",
    "    'download.nc')"
   ]
  },
  {
   "cell_type": "code",
   "execution_count": 14,
   "metadata": {},
   "outputs": [
    {
     "name": "stdout",
     "output_type": "stream",
     "text": [
      "https://download-0015-clone.copernicus-climate.eu/cache-compute-0015/cache/data2/adaptor.mars.internal-1677663129.1478262-32199-3-5f2224af-9082-46f2-9b4c-a92bf287dfea.nc\n"
     ]
    }
   ],
   "source": [
    "result = str(request)\n",
    "link_start : int    = result.index(\"location=\") + len (\"location=\")\n",
    "result_link : str   = result[link_start:-1]\n",
    "\n",
    "print(result_link)"
   ]
  },
  {
   "cell_type": "code",
   "execution_count": 16,
   "metadata": {},
   "outputs": [
    {
     "data": {
      "text/plain": [
       "316652"
      ]
     },
     "execution_count": 16,
     "metadata": {},
     "output_type": "execute_result"
    }
   ],
   "source": [
    "# 1. Import the requests library\n",
    "import requests\n",
    "\n",
    "url = result_link\n",
    "response = requests.get(url)\n",
    "\n",
    "# 3. Open the response into a new file called instagram.ico\n",
    "open(\"name.nc\", \"wb\").write(response.content)"
   ]
  },
  {
   "cell_type": "code",
   "execution_count": 20,
   "metadata": {},
   "outputs": [
    {
     "data": {
      "text/html": [
       "<div>\n",
       "<style scoped>\n",
       "    .dataframe tbody tr th:only-of-type {\n",
       "        vertical-align: middle;\n",
       "    }\n",
       "\n",
       "    .dataframe tbody tr th {\n",
       "        vertical-align: top;\n",
       "    }\n",
       "\n",
       "    .dataframe thead th {\n",
       "        text-align: right;\n",
       "    }\n",
       "</style>\n",
       "<table border=\"1\" class=\"dataframe\">\n",
       "  <thead>\n",
       "    <tr style=\"text-align: right;\">\n",
       "      <th></th>\n",
       "      <th></th>\n",
       "      <th></th>\n",
       "      <th>t2m</th>\n",
       "    </tr>\n",
       "    <tr>\n",
       "      <th>longitude</th>\n",
       "      <th>latitude</th>\n",
       "      <th>time</th>\n",
       "      <th></th>\n",
       "    </tr>\n",
       "  </thead>\n",
       "  <tbody>\n",
       "    <tr>\n",
       "      <th rowspan=\"5\" valign=\"top\">5.8</th>\n",
       "      <th rowspan=\"5\" valign=\"top\">47.950001</th>\n",
       "      <th>2023-01-01 00:00:00</th>\n",
       "      <td>285.772217</td>\n",
       "    </tr>\n",
       "    <tr>\n",
       "      <th>2023-01-01 01:00:00</th>\n",
       "      <td>285.576355</td>\n",
       "    </tr>\n",
       "    <tr>\n",
       "      <th>2023-01-01 02:00:00</th>\n",
       "      <td>285.486694</td>\n",
       "    </tr>\n",
       "    <tr>\n",
       "      <th>2023-01-01 03:00:00</th>\n",
       "      <td>285.488068</td>\n",
       "    </tr>\n",
       "    <tr>\n",
       "      <th>2023-01-01 04:00:00</th>\n",
       "      <td>285.306702</td>\n",
       "    </tr>\n",
       "  </tbody>\n",
       "</table>\n",
       "</div>"
      ],
      "text/plain": [
       "                                                t2m\n",
       "longitude latitude  time                           \n",
       "5.8       47.950001 2023-01-01 00:00:00  285.772217\n",
       "                    2023-01-01 01:00:00  285.576355\n",
       "                    2023-01-01 02:00:00  285.486694\n",
       "                    2023-01-01 03:00:00  285.488068\n",
       "                    2023-01-01 04:00:00  285.306702"
      ]
     },
     "execution_count": 20,
     "metadata": {},
     "output_type": "execute_result"
    }
   ],
   "source": [
    "import xarray as xr\n",
    "\n",
    "#open .nc as df\n",
    "ds = xr.open_dataset('name.nc')\n",
    "df = ds.to_dataframe()\n",
    "\n",
    "#round data lon and lat\n",
    "\n",
    "#save df\n",
    "df.to_csv(\"some_test.csv\")\n",
    "df.head()\n"
   ]
  }
 ],
 "metadata": {
  "interpreter": {
   "hash": "f6bbfc4e4f578cb9f7c85fe350d2fab0be0faacc19ccc874c1f1be2572a1188f"
  },
  "kernelspec": {
   "display_name": "Python 3.9.5 64-bit",
   "language": "python",
   "name": "python3"
  },
  "language_info": {
   "codemirror_mode": {
    "name": "ipython",
    "version": 3
   },
   "file_extension": ".py",
   "mimetype": "text/x-python",
   "name": "python",
   "nbconvert_exporter": "python",
   "pygments_lexer": "ipython3",
   "version": "3.9.5"
  },
  "orig_nbformat": 4
 },
 "nbformat": 4,
 "nbformat_minor": 2
}
