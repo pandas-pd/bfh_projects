{
 "cells": [
  {
   "attachments": {},
   "cell_type": "markdown",
   "metadata": {},
   "source": [
    "# 7. Gas price and temperature correlations"
   ]
  },
  {
   "cell_type": "code",
   "execution_count": null,
   "metadata": {},
   "outputs": [],
   "source": [
    "#imports\n",
    "import pandas as pd\n",
    "import os\n",
    "import numpy as np\n",
    "import plotly.graph_objects as go\n",
    "import plotly.express as px\n",
    "from datetime import datetime\n",
    "from datetime import timedelta\n",
    "\n",
    "#folders\n",
    "data_folder = \"data\"\n",
    "\n",
    "#warnings\n",
    "import warnings\n",
    "warnings.filterwarnings('ignore')"
   ]
  },
  {
   "cell_type": "code",
   "execution_count": null,
   "metadata": {},
   "outputs": [],
   "source": [
    "#plot styles\n",
    "plt_style_c = px.colors.sequential.haline #complex\n",
    "plt_style_s = px.colors.diverging.Portland #simple\n",
    "\n",
    "#defualt plot size \n",
    "size = {\n",
    "    \"width\" : 1500 ,\n",
    "    \"height\" : 750 ,\n",
    "}\n",
    "\n",
    "#function for plotting\n",
    "def scale_show(fig):\n",
    "\n",
    "    #set font\n",
    "    fig.update_layout(\n",
    "        font = dict(size=16),\n",
    "        title_font = dict(size=20),\n",
    "        xaxis_title_font = dict(size=18),\n",
    "        yaxis_title_font = dict(size=18),\n",
    "    )\n",
    "\n",
    "    #set size\n",
    "    fig.update_layout(\n",
    "        width=1500,\n",
    "        height=750,\n",
    "    )\n",
    "\n",
    "    #show\n",
    "    fig.show()\n",
    "\n",
    "    return"
   ]
  },
  {
   "attachments": {},
   "cell_type": "markdown",
   "metadata": {},
   "source": [
    "## 7.1 Data understanding (gathering, cleaning)\n",
    "- source: https://www.eia.gov/dnav/ng/hist/rngwhhdD.htm"
   ]
  },
  {
   "cell_type": "code",
   "execution_count": null,
   "metadata": {},
   "outputs": [],
   "source": [
    "df = pd.read_csv(os.path.join(data_folder, \"df_main.csv\"))\n",
    "df = df[[\"date\", \"t2m\", \"t2m_t1_cat\"]]\n",
    "df.head()"
   ]
  },
  {
   "cell_type": "code",
   "execution_count": null,
   "metadata": {},
   "outputs": [],
   "source": [
    "df_gas_raw = pd.read_csv(os.path.join(data_folder, \"raw_gas\", \"raw_download.csv\"))\n",
    "df_gas_raw.tail()"
   ]
  },
  {
   "cell_type": "code",
   "execution_count": null,
   "metadata": {},
   "outputs": [],
   "source": [
    "df_gas = df_gas_raw\n",
    "df_gas.isna().sum()"
   ]
  },
  {
   "cell_type": "code",
   "execution_count": null,
   "metadata": {},
   "outputs": [],
   "source": [
    "df_gas[\"gas_usd_spot\"].interpolate(inplace = True, method = \"linear\")"
   ]
  },
  {
   "cell_type": "code",
   "execution_count": null,
   "metadata": {},
   "outputs": [],
   "source": [
    "df_gas = df_gas_raw\n",
    "df_gas.isna().sum()"
   ]
  },
  {
   "cell_type": "code",
   "execution_count": null,
   "metadata": {},
   "outputs": [],
   "source": [
    "fig = px.line(\n",
    "    data_frame= df_gas,\n",
    "    x = \"date\",\n",
    "    y = \"gas_usd_spot\",\n",
    "    title = \"Natural gas price, spot (USD per Million Btu)\",\n",
    "    color_discrete_sequence = plt_style_s,\n",
    ")\n",
    "\n",
    "scale_show(fig)"
   ]
  },
  {
   "cell_type": "code",
   "execution_count": null,
   "metadata": {},
   "outputs": [],
   "source": [
    "df = pd.merge(right=df, left = df_gas, on = \"date\", how = \"inner\")\n",
    "df"
   ]
  },
  {
   "attachments": {},
   "cell_type": "markdown",
   "metadata": {},
   "source": [
    "## 7.2 Data preparation"
   ]
  },
  {
   "cell_type": "code",
   "execution_count": null,
   "metadata": {},
   "outputs": [],
   "source": [
    "#calculate percentual change\n",
    "df[\"t2m_change\"] = (((df[\"t2m\"] - df[\"t2m\"].shift(1)) / df[\"t2m\"].shift(1)) * 100).round(2)\n",
    "df[\"gas_usd_spot_change\"] = (((df[\"gas_usd_spot\"] - df[\"gas_usd_spot\"].shift(1)) / df[\"gas_usd_spot\"].shift(1)) * 100).round(2)\n",
    "df[\"date\"] = pd.to_datetime(df[\"date\"], format = \"%Y-%m-%d\")\n",
    "\n",
    "df.dropna(inplace = True)\n",
    "df"
   ]
  },
  {
   "cell_type": "code",
   "execution_count": null,
   "metadata": {},
   "outputs": [],
   "source": [
    "#standardize values to make them compareable\n",
    "for col in [\"gas_usd_spot\", \"t2m\", \"t2m_change\", \"gas_usd_spot_change\"]:\n",
    "    df[col] = (df[col] - df[col].mean()) / df[col].std()"
   ]
  },
  {
   "cell_type": "code",
   "execution_count": null,
   "metadata": {},
   "outputs": [],
   "source": [
    "fig = px.scatter(\n",
    "    data_frame = df,\n",
    "    x = \"t2m_change\",\n",
    "    y = \"gas_usd_spot_change\",\n",
    "    color_discrete_sequence = plt_style_s,\n",
    "    title = \"Gas price change and temperature change comparison\",\n",
    "    trendline = \"ols\",\n",
    "    trendline_color_override = \"red\",\n",
    ")\n",
    "\n",
    "scale_show(fig)"
   ]
  },
  {
   "cell_type": "code",
   "execution_count": null,
   "metadata": {},
   "outputs": [],
   "source": [
    "fig = px.scatter(\n",
    "    data_frame = df,\n",
    "    x = \"t2m\",\n",
    "    y = \"gas_usd_spot\",\n",
    "    color_discrete_sequence = plt_style_s,\n",
    "    title = \"Gas price change and temperature change comparison\",\n",
    "    trendline = \"ols\",\n",
    "    trendline_color_override = \"red\",\n",
    ")\n",
    "\n",
    "scale_show(fig)"
   ]
  },
  {
   "cell_type": "code",
   "execution_count": null,
   "metadata": {},
   "outputs": [],
   "source": [
    "fig = px.scatter(\n",
    "    data_frame = df.loc[df[\"date\"].dt.month.isin([10,11,12,1,2,3])],\n",
    "    x = \"t2m\",\n",
    "    y = \"gas_usd_spot\",\n",
    "    color_discrete_sequence= plt_style_s,\n",
    "    title = \"Gas price change and temperature change comparison\",\n",
    "    trendline = \"ols\",\n",
    "    trendline_color_override = \"red\",\n",
    "    facet_col = \"t2m_t1_cat\",\n",
    ")\n",
    "\n",
    "scale_show(fig)"
   ]
  },
  {
   "cell_type": "code",
   "execution_count": null,
   "metadata": {},
   "outputs": [],
   "source": [
    "fig = px.scatter(\n",
    "    data_frame = df.loc[df[\"date\"].dt.month.isin([10,11,12,1,2,3])],\n",
    "    x = \"t2m_change\",\n",
    "    y = \"gas_usd_spot_change\",\n",
    "    color_discrete_sequence = plt_style_s,\n",
    "    title = \"Gas price change and temperature change comparison\",\n",
    "    trendline = \"ols\",\n",
    "    trendline_color_override = \"red\",\n",
    "    facet_col = \"t2m_t1_cat\",\n",
    ")\n",
    "\n",
    "scale_show(fig)"
   ]
  },
  {
   "cell_type": "code",
   "execution_count": null,
   "metadata": {},
   "outputs": [],
   "source": [
    "fig = px.line(\n",
    "    data_frame = df.iloc[-200:],\n",
    "    x = \"date\",\n",
    "    y = [\"t2m_change\", \"gas_usd_spot_change\"],\n",
    "    title = \"Change over time\",\n",
    "    color_discrete_sequence = plt_style_s,\n",
    ")\n",
    "\n",
    "scale_show(fig)"
   ]
  },
  {
   "cell_type": "code",
   "execution_count": null,
   "metadata": {},
   "outputs": [],
   "source": [
    "fig = px.line(\n",
    "    data_frame = df.iloc[-40000:],\n",
    "    x = \"date\",\n",
    "    y = [\"t2m\", \"gas_usd_spot\"],\n",
    "    title = \"Stanardized values over time\",\n",
    "    color_discrete_sequence = plt_style_s,\n",
    ")\n",
    "\n",
    "scale_show(fig)"
   ]
  },
  {
   "cell_type": "code",
   "execution_count": null,
   "metadata": {},
   "outputs": [],
   "source": [
    "#apply z score peaks\n",
    "#source: https://stackoverflow.com/questions/22583391/peak-signal-detection-in-realtime-timeseries-data/43512887#43512887\n",
    "\n",
    "def thresholding_algo(y, lag, threshold, influence):\n",
    "    \"\"\"Robust peak detection algorithm (using z-scores)\n",
    "\n",
    "    Args:\n",
    "        y (_type_): y_vector / time series\n",
    "        lag (_type_): the lag of the moving window\n",
    "        threshold (_type_): the z-score at which the algorithm signals\n",
    "        influence (_type_): the influence (between 0 and 1) of new signals on the mean and\n",
    "\n",
    "    Returns:\n",
    "        _type_: dict {\n",
    "            singals\n",
    "            avgFilter\n",
    "            stdFilter\n",
    "        }\n",
    "    \"\"\"\n",
    "\n",
    "    signals = np.zeros(len(y))\n",
    "    filteredY = np.array(y)\n",
    "    avgFilter = [0]*len(y)\n",
    "    stdFilter = [0]*len(y)\n",
    "\n",
    "    avgFilter[lag - 1] = np.mean(y[0:lag])\n",
    "    stdFilter[lag - 1] = np.std(y[0:lag])\n",
    "\n",
    "    for i in range(lag, len(y)):\n",
    "        if abs(y[i] - avgFilter[i-1]) > threshold * stdFilter [i-1]:\n",
    "            if y[i] > avgFilter[i-1]:\n",
    "                signals[i] = 1\n",
    "            else:\n",
    "                signals[i] = -1\n",
    "\n",
    "            filteredY[i] = influence * y[i] + (1 - influence) * filteredY[i-1]\n",
    "            avgFilter[i] = np.mean(filteredY[(i-lag+1):i+1])\n",
    "            stdFilter[i] = np.std(filteredY[(i-lag+1):i+1])\n",
    "        else:\n",
    "            signals[i] = 0\n",
    "            filteredY[i] = y[i]\n",
    "            avgFilter[i] = np.mean(filteredY[(i-lag+1):i+1])\n",
    "            stdFilter[i] = np.std(filteredY[(i-lag+1):i+1])\n",
    "\n",
    "    return dict(signals = np.asarray(signals),\n",
    "                avgFilter = np.asarray(avgFilter),\n",
    "                stdFilter = np.asarray(stdFilter))"
   ]
  },
  {
   "cell_type": "code",
   "execution_count": null,
   "metadata": {},
   "outputs": [],
   "source": [
    "#get score\n",
    "for col in [\"t2m\", \"gas_usd_spot\"]:\n",
    "\n",
    "\n",
    "    df[f\"{col}_zscore\"] = thresholding_algo(y = df[col], lag = 360, threshold = 2.5, influence = 0.1)[\"signals\"]\n",
    "\n",
    "    #get peak spots for plotting\n",
    "    df[f\"{col}_zscore\"] = (df[col] * df[f\"{col}_zscore\"]) * df[f\"{col}_zscore\"]\n",
    "\n",
    "    #set others to NaN to for plotting as scatter\n",
    "    df.loc[df[f\"{col}_zscore\"] == 0, f\"{col}_zscore\"] = None\n"
   ]
  },
  {
   "cell_type": "code",
   "execution_count": null,
   "metadata": {},
   "outputs": [],
   "source": [
    "fig = px.line(\n",
    "    data_frame = df.iloc[-10000:],\n",
    "    x = \"date\",\n",
    "    y = \"t2m\",\n",
    "    title = \"Stanardized values over time\",\n",
    "    color_discrete_sequence = plt_style_s,\n",
    ")\n",
    "\n",
    "fig.add_scatter(\n",
    "    x = df[\"date\"],\n",
    "    y = df[\"t2m_zscore\"],\n",
    "    mode = \"markers\",\n",
    "    name = \"local z score peaks t2m\",\n",
    "    marker = {\"size\" : 10},\n",
    "    \n",
    ")\n",
    "\n",
    "scale_show(fig)"
   ]
  },
  {
   "cell_type": "code",
   "execution_count": null,
   "metadata": {},
   "outputs": [],
   "source": [
    "def fixed_lower_th(y, th = -2.4):\n",
    "\n",
    "    signal = (y <= th).astype(int)\n",
    "    signal = signal * -1\n",
    "\n",
    "    return signal"
   ]
  },
  {
   "cell_type": "code",
   "execution_count": null,
   "metadata": {},
   "outputs": [],
   "source": [
    "#get score\n",
    "for col in [\"t2m\", \"gas_usd_spot\"]:\n",
    "\n",
    "    df[f\"{col}_th\"] = fixed_lower_th(y = df[col], th = -2.4)\n",
    "\n",
    "    #get peak spots for plotting\n",
    "    df[f\"{col}_th\"] = (df[col] * df[f\"{col}_th\"]) * df[f\"{col}_th\"]\n",
    "\n",
    "    #set others to NaN to for plotting as scatter\n",
    "    df.loc[df[f\"{col}_th\"] == 0, f\"{col}_th\"] = None"
   ]
  },
  {
   "cell_type": "code",
   "execution_count": null,
   "metadata": {},
   "outputs": [],
   "source": [
    "fig = px.line(\n",
    "    data_frame = df.iloc[-10000:],\n",
    "    x = \"date\",\n",
    "    y = \"t2m\",\n",
    "    title = \"Stanardized values over time\",\n",
    "    color_discrete_sequence = plt_style_s,\n",
    ")\n",
    "\n",
    "fig.add_scatter(\n",
    "    x = df[\"date\"],\n",
    "    y = df[\"t2m_th\"],\n",
    "    mode = \"markers\",\n",
    "    name = \"local z score peaks t2m\",\n",
    "    marker = {\"size\" : 10},\n",
    "    \n",
    ")\n",
    "\n",
    "scale_show(fig)"
   ]
  },
  {
   "cell_type": "code",
   "execution_count": null,
   "metadata": {},
   "outputs": [],
   "source": [
    "df[\"t2m_zscore\"] = thresholding_algo(y = df[\"t2m\"], lag = 60, threshold = 3.5, influence = 0.5)[\"signals\"]"
   ]
  },
  {
   "cell_type": "code",
   "execution_count": null,
   "metadata": {},
   "outputs": [],
   "source": [
    "df.loc[df[\"t2m_th\"].isna() == False, \"t2m_th\"] = 10\n",
    "df.loc[df[\"t2m_th\"].isna() == True, \"t2m_th\"] = -10\n",
    "\n",
    "df[\"t2m_zscore\"] = df[\"t2m_zscore\"].abs() * 20 - 10"
   ]
  },
  {
   "cell_type": "code",
   "execution_count": null,
   "metadata": {},
   "outputs": [],
   "source": [
    "fig = px.line(\n",
    "    data_frame = df,\n",
    "    x = \"date\",\n",
    "    y = [\"gas_usd_spot\", \"t2m_th\", \"t2m_zscore\"],\n",
    "    title = \"Gas price\",\n",
    "    color_discrete_sequence = plt_style_s,\n",
    "    \n",
    ")\n",
    "\n",
    "fig.update_layout(yaxis_range=[-3.5, 10])\n",
    "\n",
    "scale_show(fig)"
   ]
  },
  {
   "cell_type": "code",
   "execution_count": null,
   "metadata": {},
   "outputs": [],
   "source": [
    "fig = px.line(\n",
    "    data_frame = df,\n",
    "    x = \"date\",\n",
    "    y = [\"gas_usd_spot\", \"t2m_zscore\",],\n",
    "    title = \"Gas price\",\n",
    "    color_discrete_sequence = plt_style_s,\n",
    "    \n",
    ")\n",
    "\n",
    "fig.update_layout(yaxis_range=[-3.5, 10])\n",
    "\n",
    "scale_show(fig)"
   ]
  },
  {
   "cell_type": "code",
   "execution_count": null,
   "metadata": {},
   "outputs": [],
   "source": [
    "fig = px.scatter(\n",
    "    data_frame = df,\n",
    "    x = \"date\",\n",
    "    y = \"gas_usd_spot\",\n",
    "    color = \"t2m_t1_cat\",\n",
    "    title = \"Gas price\",\n",
    "    color_continuous_scale = plt_style_s,\n",
    ")\n",
    "\n",
    "scale_show(fig)"
   ]
  }
 ],
 "metadata": {
  "kernelspec": {
   "display_name": "Python 3",
   "language": "python",
   "name": "python3"
  },
  "language_info": {
   "codemirror_mode": {
    "name": "ipython",
    "version": 3
   },
   "file_extension": ".py",
   "mimetype": "text/x-python",
   "name": "python",
   "nbconvert_exporter": "python",
   "pygments_lexer": "ipython3",
   "version": "3.10.8"
  },
  "orig_nbformat": 4
 },
 "nbformat": 4,
 "nbformat_minor": 2
}
