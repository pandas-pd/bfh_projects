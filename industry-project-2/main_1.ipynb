{
 "cells": [
  {
   "attachments": {},
   "cell_type": "markdown",
   "metadata": {},
   "source": [
    "# 1. Data exploration"
   ]
  },
  {
   "cell_type": "code",
   "execution_count": null,
   "metadata": {},
   "outputs": [],
   "source": [
    "#imports\n",
    "import pandas as pd\n",
    "import os\n",
    "import numpy as np\n",
    "import plotly.graph_objects as go\n",
    "import plotly.express as px\n",
    "from datetime import datetime\n",
    "\n",
    "#folders\n",
    "data_folder = \"data\""
   ]
  },
  {
   "cell_type": "code",
   "execution_count": null,
   "metadata": {},
   "outputs": [],
   "source": [
    "#plot styles\n",
    "plt_style_c = px.colors.sequential.haline #complex\n",
    "plt_style_s = px.colors.diverging.Portland #simple\n",
    "\n",
    "#defualt plot size \n",
    "size = {\n",
    "    \"width\" : 1500 ,\n",
    "    \"height\" : 750 ,\n",
    "}\n",
    "\n",
    "#function for plotting\n",
    "def scale_show(fig):\n",
    "\n",
    "    #set font\n",
    "    fig.update_layout(\n",
    "        font = dict(size=16),\n",
    "        title_font = dict(size=20),\n",
    "        xaxis_title_font = dict(size=18),\n",
    "        yaxis_title_font = dict(size=18),\n",
    "    )\n",
    "\n",
    "    #set size\n",
    "    fig.update_layout(\n",
    "        width=1500,\n",
    "        height=750,\n",
    "    )\n",
    "\n",
    "    #show\n",
    "    fig.show()\n",
    "\n",
    "    return"
   ]
  },
  {
   "cell_type": "code",
   "execution_count": null,
   "metadata": {},
   "outputs": [],
   "source": [
    "import warnings\n",
    "warnings.filterwarnings('ignore')"
   ]
  },
  {
   "attachments": {},
   "cell_type": "markdown",
   "metadata": {},
   "source": [
    "## 1.0 General"
   ]
  },
  {
   "cell_type": "code",
   "execution_count": null,
   "metadata": {},
   "outputs": [],
   "source": [
    "df = pd.read_csv(os.path.join(data_folder, \"df.csv\"))\n",
    "#df_pv = pd.read_csv(os.path.join(data_folder, \"df_pv.csv\"))"
   ]
  },
  {
   "cell_type": "code",
   "execution_count": null,
   "metadata": {},
   "outputs": [],
   "source": [
    "df[\"date\"] = pd.to_datetime(df[\"date\"])"
   ]
  },
  {
   "cell_type": "code",
   "execution_count": null,
   "metadata": {},
   "outputs": [],
   "source": [
    "df.shape"
   ]
  },
  {
   "cell_type": "code",
   "execution_count": null,
   "metadata": {},
   "outputs": [],
   "source": [
    "df.head(5)"
   ]
  },
  {
   "cell_type": "code",
   "execution_count": null,
   "metadata": {},
   "outputs": [],
   "source": [
    "#df_pv.head()"
   ]
  },
  {
   "cell_type": "code",
   "execution_count": null,
   "metadata": {},
   "outputs": [],
   "source": [
    "df.describe()"
   ]
  },
  {
   "cell_type": "code",
   "execution_count": null,
   "metadata": {},
   "outputs": [],
   "source": [
    "#df_pv.describe()"
   ]
  },
  {
   "cell_type": "code",
   "execution_count": null,
   "metadata": {},
   "outputs": [],
   "source": [
    "df.isna().sum()"
   ]
  },
  {
   "cell_type": "code",
   "execution_count": null,
   "metadata": {},
   "outputs": [],
   "source": [
    "#df_pv.isna().sum()"
   ]
  },
  {
   "cell_type": "code",
   "execution_count": null,
   "metadata": {},
   "outputs": [],
   "source": [
    "# Correlation\n",
    "df_corr = df.corr().round(1)\n",
    "\n",
    "# Mask to matrix\n",
    "mask = np.zeros_like(df_corr, dtype=bool)\n",
    "mask[np.triu_indices_from(mask)] = True\n",
    "\n",
    "# Viz\n",
    "df_corr_viz = df_corr.mask(mask).dropna(how='all').dropna('columns', how='all')\n",
    "\n",
    "fig = px.imshow(\n",
    "\n",
    "    df_corr_viz,\n",
    "    text_auto=True,\n",
    "    color_continuous_scale = plt_style_c,\n",
    "\n",
    "    title = \"Correlation matrix\",\n",
    "    width = 700,\n",
    "    height = 700,\n",
    "    )\n",
    "\n",
    "fig.show()"
   ]
  },
  {
   "attachments": {},
   "cell_type": "markdown",
   "metadata": {},
   "source": [
    "## 1.1 Temperature, pressure, wind speeds"
   ]
  },
  {
   "cell_type": "code",
   "execution_count": null,
   "metadata": {},
   "outputs": [],
   "source": [
    "fig = px.box(\n",
    "    data_frame = df,\n",
    "    x = \"month\",\n",
    "    y = \"u10\",\n",
    "\n",
    "    title = \"Wind speed: u10\",\n",
    "    labels = {\"u10\" :\"u10 [m/s]\"},\n",
    "    \n",
    "    color_discrete_sequence = plt_style_s\n",
    ")\n",
    "\n",
    "scale_show(fig)"
   ]
  },
  {
   "cell_type": "code",
   "execution_count": null,
   "metadata": {},
   "outputs": [],
   "source": [
    "fig = px.box(\n",
    "    data_frame = df,\n",
    "    x = \"month\",\n",
    "    y = \"v10\",\n",
    "\n",
    "    title = \"Wind speed: v10\",\n",
    "    labels = {\"v10\" :\"v10 [m/s]\"},\n",
    "    \n",
    "    color_discrete_sequence = plt_style_s\n",
    ")\n",
    "\n",
    "scale_show(fig)"
   ]
  },
  {
   "cell_type": "code",
   "execution_count": null,
   "metadata": {},
   "outputs": [],
   "source": [
    "fig = px.histogram(\n",
    "    data_frame = df,\n",
    "    x = [\"v10\", \"u10\"],\n",
    "    histnorm = \"probability density\",\n",
    "    title = \"Distribution: v10\",\n",
    " \n",
    "    barmode = \"overlay\",\n",
    "    opacity = 0.9,\n",
    "\n",
    "    color_discrete_sequence = plt_style_s,\n",
    ")\n",
    "\n",
    "scale_show(fig)"
   ]
  },
  {
   "cell_type": "code",
   "execution_count": null,
   "metadata": {},
   "outputs": [],
   "source": [
    "fig = px.box(\n",
    "    data_frame = df,\n",
    "    x = \"month\",\n",
    "    y = \"t2m\",\n",
    "\n",
    "    title = \"Temperature\",\n",
    "    labels = {\"t2m\" :\"t2m [°k]\"},\n",
    "    \n",
    "    color_discrete_sequence = plt_style_s\n",
    ")\n",
    "\n",
    "scale_show(fig)"
   ]
  },
  {
   "cell_type": "code",
   "execution_count": null,
   "metadata": {},
   "outputs": [],
   "source": [
    "fig = px.box(\n",
    "    data_frame = df,\n",
    "    x = \"year\",\n",
    "    y = \"t2m\",\n",
    "\n",
    "    title = \"Temperature\",\n",
    "    labels = {\"t2m\" :\"t2m [°k]\"},\n",
    "    \n",
    "    color_discrete_sequence = plt_style_s\n",
    ")\n",
    "\n",
    "scale_show(fig)"
   ]
  },
  {
   "cell_type": "code",
   "execution_count": null,
   "metadata": {},
   "outputs": [],
   "source": [
    "fig = px.line(\n",
    "    data_frame = df.iloc[::10],\n",
    "    x = \"date\",\n",
    "    y = \"t2m\",\n",
    "\n",
    "    title = \"Temperature\",\n",
    "    labels = {\"t2m\" :\"t2m [k]\"},\n",
    "\n",
    "    color_discrete_sequence = plt_style_s\n",
    ")\n",
    "\n",
    "scale_show(fig)"
   ]
  },
  {
   "cell_type": "code",
   "execution_count": null,
   "metadata": {},
   "outputs": [],
   "source": [
    "fig = px.scatter(\n",
    "    data_frame = df.iloc[::2],\n",
    "    x = \"date\",\n",
    "    y = \"t2m\",\n",
    "\n",
    "    title = \"Temperature\",\n",
    "    labels = {\"t2m\" :\"t2m [k]\"},\n",
    "\n",
    "    color_discrete_sequence = plt_style_c,\n",
    "    trendline = \"ols\",\n",
    "    trendline_color_override = \"red\",\n",
    "\n",
    ")\n",
    "\n",
    "scale_show(fig)"
   ]
  },
  {
   "cell_type": "code",
   "execution_count": null,
   "metadata": {},
   "outputs": [],
   "source": [
    "fig = px.histogram(\n",
    "    data_frame = df,\n",
    "    x = \"t2m\",\n",
    "    histnorm = \"probability density\",\n",
    "    title = \"Distribution: t2m\",\n",
    " \n",
    "    color = \"month\",\n",
    "    barmode = \"stack\",\n",
    "    opacity = 1,\n",
    "\n",
    "    nbins = 200,\n",
    "\n",
    "    labels = {\"t2m\" : \"t2m [°k]\"},\n",
    "\n",
    "    color_discrete_sequence = plt_style_c,\n",
    ")\n",
    "\n",
    "scale_show(fig)"
   ]
  },
  {
   "cell_type": "code",
   "execution_count": null,
   "metadata": {},
   "outputs": [],
   "source": [
    "fig = px.line(\n",
    "    data_frame = df.iloc[15000:],\n",
    "    x = \"date\",\n",
    "    y = \"cdir\",\n",
    "\n",
    "    title = \"Clear sky solar iradiation\",\n",
    "    labels = {\"cdir\" :\"cdir [j/m^2]\"},\n",
    "\n",
    "    color_discrete_sequence = plt_style_s\n",
    ")\n",
    "\n",
    "scale_show(fig)"
   ]
  },
  {
   "cell_type": "code",
   "execution_count": null,
   "metadata": {},
   "outputs": [],
   "source": [
    "fig = px.box(\n",
    "    data_frame = df,\n",
    "    x = \"month\",\n",
    "    y = \"cdir\",\n",
    "\n",
    "    title = \"Clear sky solar iradiation\",\n",
    "    labels = {\"cdir\" :\"cdir [j/m^2]\"},\n",
    "\n",
    "    color_discrete_sequence = plt_style_s\n",
    ")\n",
    "\n",
    "scale_show(fig)"
   ]
  },
  {
   "cell_type": "code",
   "execution_count": null,
   "metadata": {},
   "outputs": [],
   "source": [
    "fig = px.line(\n",
    "    data_frame = df.iloc[15000:],\n",
    "    x = \"date\",\n",
    "    y = \"sp\",\n",
    "\n",
    "    title = \"Surface pressure\",\n",
    "    labels = {\"sp\" :\"sp [hpa]\"},\n",
    "\n",
    "    color_discrete_sequence = plt_style_s\n",
    ")\n",
    "\n",
    "scale_show(fig)"
   ]
  },
  {
   "cell_type": "code",
   "execution_count": null,
   "metadata": {},
   "outputs": [],
   "source": [
    "fig = px.box(\n",
    "    data_frame = df,\n",
    "    x = \"month\",\n",
    "    y = \"sp\",\n",
    "\n",
    "    title = \"Surface pressure\",\n",
    "    labels = {\"sp\" :\"sp [hpa]\"},\n",
    "\n",
    "    color_discrete_sequence = plt_style_s\n",
    ")\n",
    "\n",
    "scale_show(fig)"
   ]
  },
  {
   "attachments": {},
   "cell_type": "markdown",
   "metadata": {},
   "source": [
    "## 1.2 ENSO / SOI"
   ]
  },
  {
   "cell_type": "code",
   "execution_count": null,
   "metadata": {},
   "outputs": [],
   "source": [
    "#some code\n",
    "\n",
    "fig = px.line(\n",
    "    data_frame = df.loc[15000:],\n",
    "    x = \"date\",\n",
    "    y = \"soi\",\n",
    "    \n",
    "    title = \"SOI\",\n",
    "    color_discrete_sequence = plt_style_s,\n",
    ")\n",
    "\n",
    "fig.add_hline(\n",
    "    y = 0,\n",
    "    line_color=\"red\",\n",
    ")\n",
    "\n",
    "scale_show(fig)"
   ]
  },
  {
   "attachments": {},
   "cell_type": "markdown",
   "metadata": {},
   "source": [
    "## 1.3 MJO"
   ]
  },
  {
   "cell_type": "code",
   "execution_count": null,
   "metadata": {},
   "outputs": [],
   "source": [
    "#some code\n",
    "#mjo_rmm1, mjo_rmm2, mjo_phase, mjo_amplitude\n",
    "\n",
    "fig = px.line(\n",
    "    data_frame = df.loc[::2],\n",
    "    x = \"date\",\n",
    "    y = \"mjo_amplitude\",\n",
    "\n",
    "    title = \"MJO amplitude\",\n",
    "    color_discrete_sequence = plt_style_s,\n",
    ")\n",
    "\n",
    "scale_show(fig)"
   ]
  },
  {
   "cell_type": "code",
   "execution_count": null,
   "metadata": {},
   "outputs": [],
   "source": [
    "#some code\n",
    "#mjo_rmm1, mjo_rmm2, mjo_phase, mjo_amplitude\n",
    "\n",
    "fig = px.line(\n",
    "    data_frame = df.loc[15000:],\n",
    "    x = \"date\",\n",
    "    y = \"mjo_amplitude\",\n",
    "\n",
    "    title = \"MJO amplitude\",\n",
    "    color_discrete_sequence = plt_style_s,\n",
    ")\n",
    "\n",
    "scale_show(fig)"
   ]
  },
  {
   "cell_type": "code",
   "execution_count": null,
   "metadata": {},
   "outputs": [],
   "source": [
    "fig = px.scatter(\n",
    "    data_frame = df.iloc[300:5000],\n",
    "    x = \"mjo_rmm1\",\n",
    "    y = \"mjo_rmm2\",\n",
    "    color = \"mjo_phase\",\n",
    "\n",
    "    title = \"MJO with pahse\",\n",
    "    color_discrete_sequence = plt_style_s,\n",
    "\n",
    "    width = 700,\n",
    "    height = 700,\n",
    "\n",
    "    range_x = [-3,3],\n",
    "    range_y = [-3,3],\n",
    ")\n",
    "\n",
    "fig.show()"
   ]
  },
  {
   "cell_type": "code",
   "execution_count": null,
   "metadata": {},
   "outputs": [],
   "source": [
    "fig = px.line(\n",
    "    data_frame = df.iloc[1000:1100],\n",
    "    x = \"mjo_rmm1\",\n",
    "    y = \"mjo_rmm2\",\n",
    "\n",
    "    title = \"MJO with pahse\",\n",
    "    color_discrete_sequence = plt_style_s,\n",
    "\n",
    "    width = 700,\n",
    "    height = 700,\n",
    "\n",
    "    range_x = [-3,3],\n",
    "    range_y = [-3,3],\n",
    ")\n",
    "\n",
    "fig.show()"
   ]
  },
  {
   "cell_type": "code",
   "execution_count": null,
   "metadata": {},
   "outputs": [],
   "source": [
    "fig = px.histogram(\n",
    "    data_frame = df,\n",
    "    x = \"mjo_amplitude\",\n",
    "\n",
    "    histfunc = \"count\",\n",
    "    histnorm = \"probability\",\n",
    "\n",
    "    title = \"MJO amplitude distribution\",\n",
    "    color_discrete_sequence = plt_style_c,\n",
    "    barmode = \"stack\",\n",
    ")\n",
    "\n",
    "scale_show(fig)"
   ]
  },
  {
   "cell_type": "code",
   "execution_count": null,
   "metadata": {},
   "outputs": [],
   "source": [
    "fig = px.box(\n",
    "    data_frame = df,\n",
    "    x = \"month\",\n",
    "    y = \"mjo_amplitude\",\n",
    "    title = \"MJO amplitude distribution\",\n",
    "    color_discrete_sequence = plt_style_s,\n",
    ")\n",
    "\n",
    "scale_show(fig)"
   ]
  },
  {
   "attachments": {},
   "cell_type": "markdown",
   "metadata": {},
   "source": [
    "## 1.4 AO"
   ]
  },
  {
   "cell_type": "code",
   "execution_count": null,
   "metadata": {},
   "outputs": [],
   "source": [
    "#some code\n",
    "fig = px.line(\n",
    "    data_frame = df.iloc[14000:],\n",
    "    y = \"ao\",\n",
    "    x = \"date\",\n",
    "\n",
    "    title = \"AO\",\n",
    "    color_discrete_sequence = plt_style_s,\n",
    ")\n",
    "\n",
    "scale_show(fig)"
   ]
  },
  {
   "cell_type": "code",
   "execution_count": null,
   "metadata": {},
   "outputs": [],
   "source": [
    "fig = px.histogram(\n",
    "    data_frame = df,\n",
    "    x = \"ao\",\n",
    "\n",
    "    histfunc = \"count\",\n",
    "    histnorm = \"probability\",\n",
    "\n",
    "    title = \"AO distribution\",\n",
    "    color_discrete_sequence = plt_style_c,\n",
    "    barmode = \"stack\",\n",
    ")\n",
    "\n",
    "scale_show(fig)"
   ]
  },
  {
   "cell_type": "code",
   "execution_count": null,
   "metadata": {},
   "outputs": [],
   "source": [
    "fig = px.box(\n",
    "    data_frame = df,\n",
    "    x = \"month\",\n",
    "    y = \"ao\",\n",
    "    title = \"AO distribution\",\n",
    "    color_discrete_sequence = plt_style_s,\n",
    ")\n",
    "\n",
    "scale_show(fig)"
   ]
  },
  {
   "attachments": {},
   "cell_type": "markdown",
   "metadata": {},
   "source": [
    "## 1.5 NAO"
   ]
  },
  {
   "cell_type": "code",
   "execution_count": null,
   "metadata": {},
   "outputs": [],
   "source": [
    "#some code\n",
    "fig = px.line(\n",
    "    data_frame = df.iloc[14000:],\n",
    "    y = \"nao\",\n",
    "    x = \"date\",\n",
    "\n",
    "    title = \"NAO\",\n",
    "    color_discrete_sequence = plt_style_s,\n",
    ")\n",
    "\n",
    "scale_show(fig)"
   ]
  },
  {
   "cell_type": "code",
   "execution_count": null,
   "metadata": {},
   "outputs": [],
   "source": [
    "fig = px.histogram(\n",
    "    data_frame = df,\n",
    "    x = \"nao\",\n",
    "\n",
    "    histfunc = \"count\",\n",
    "    histnorm = \"probability\",\n",
    "\n",
    "    title = \"NAO distribution\",\n",
    "    color_discrete_sequence = plt_style_c,\n",
    "    barmode = \"stack\",\n",
    ")\n",
    "\n",
    "scale_show(fig)"
   ]
  },
  {
   "cell_type": "code",
   "execution_count": null,
   "metadata": {},
   "outputs": [],
   "source": [
    "fig = px.box(\n",
    "    data_frame = df,\n",
    "    x = \"month\",\n",
    "    y = \"nao\",\n",
    "    title = \"NAO  distribution\",\n",
    "    color_discrete_sequence = plt_style_s,\n",
    ")\n",
    "\n",
    "scale_show(fig)"
   ]
  },
  {
   "attachments": {},
   "cell_type": "markdown",
   "metadata": {},
   "source": [
    "## 1.6 Variouse"
   ]
  },
  {
   "cell_type": "code",
   "execution_count": null,
   "metadata": {},
   "outputs": [],
   "source": [
    "#some code\n",
    "fig = px.line(\n",
    "    data_frame = df.iloc[14000:],\n",
    "    y = [df[\"ao\"].iloc[14000:], df[\"mjo_amplitude\"].iloc[14000:], df[\"soi\"].iloc[14000:]],\n",
    "    x = \"date\",\n",
    "\n",
    "    title = \"Climate oscilation indexes\",\n",
    "    color_discrete_sequence = plt_style_s,\n",
    ")\n",
    "\n",
    "scale_show(fig) "
   ]
  },
  {
   "attachments": {},
   "cell_type": "markdown",
   "metadata": {},
   "source": [
    "## 1.6 PV"
   ]
  },
  {
   "cell_type": "code",
   "execution_count": null,
   "metadata": {},
   "outputs": [],
   "source": [
    "#some code\n",
    "df = pd.read_csv(os.path.join(data_folder, \"df_pv.csv\"))\n",
    "df[\"size\"] = 1"
   ]
  },
  {
   "cell_type": "code",
   "execution_count": null,
   "metadata": {},
   "outputs": [],
   "source": [
    "df.head(10)"
   ]
  },
  {
   "cell_type": "code",
   "execution_count": null,
   "metadata": {},
   "outputs": [],
   "source": [
    "fig = px.scatter_geo(\n",
    "    df.loc[(df[\"date\"] >= \"1979-01-01\") & (df[\"date\"] <= \"1979-02-01\") & (df[\"level\"] == 100)],\n",
    "    lat=\"latitude\",\n",
    "    lon=\"longitude\",\n",
    "    color=\"speed\",\n",
    "    size = \"size\",\n",
    "    color_continuous_scale = plt_style_s,\n",
    "    size_max=7,\n",
    "    opacity = 0.75,\n",
    "    animation_frame = \"date\",\n",
    "    labels = {\"speed\" : \"wind speed [m/s]\"},\n",
    "    title = \"Polar vortex\"\n",
    "    #zoom=10,\n",
    "    )\n",
    "\n",
    "\n",
    "#adjust view\n",
    "fig.update_layout(\n",
    "    margin ={'l':0,'t':0,'b':0,'r':0},\n",
    "    mapbox = {\n",
    "        'center': {'lon': 8.4, 'lat': 60},\n",
    "        'style': \"carto-positron\",\n",
    "        #'zoom': 3,\n",
    "        #\"projection\": \"albers usa\",\n",
    "    }\n",
    ")\n",
    "\n",
    "#fig.update_geos(projection_type=\"natural earth\")\n",
    "\n",
    "#update markers\n",
    "\n",
    "scale_show(fig)"
   ]
  },
  {
   "cell_type": "code",
   "execution_count": null,
   "metadata": {},
   "outputs": [],
   "source": [
    "fig = px.scatter_mapbox(\n",
    "    df.loc[(df[\"date\"] >= \"1979-01-01\") & (df[\"date\"] <= \"1979-02-01\")],\n",
    "    lat=\"latitude\",\n",
    "    lon=\"longitude\",\n",
    "    color=\"speed\",\n",
    "    size = \"size\",\n",
    "    color_continuous_scale = plt_style_s,\n",
    "    size_max=10,\n",
    "    opacity = 0.5,\n",
    "    animation_frame = \"date\",\n",
    "\n",
    "    labels = {\"speed\" : \"wind speed [m/s]\"},\n",
    "    )\n",
    "\n",
    "\n",
    "#adjust view\n",
    "fig.update_layout(\n",
    "    margin ={'l':0,'t':0,'b':0,'r':0},\n",
    "    mapbox = {\n",
    "        'center': {'lon': 8.4, 'lat': 60},\n",
    "        'style': \"carto-positron\",\n",
    "        'zoom': 3,\n",
    "        #\"projection\": \"albers usa\",\n",
    "    }\n",
    ")\n",
    "\n",
    "#fig.update_geos(projection_type=\"natural earth\")\n",
    "\n",
    "#update markers\n",
    "\n",
    "scale_show(fig)"
   ]
  },
  {
   "cell_type": "code",
   "execution_count": null,
   "metadata": {},
   "outputs": [],
   "source": [
    "plot_scaler = 15\n",
    "fig = px.scatter(\n",
    "    data_frame = df.loc[(df[\"date\"] >= \"1979-01-01\") & (df[\"date\"] <= \"1979-01-07\")],\n",
    "    x = \"longitude\",\n",
    "    y = \"latitude\",\n",
    "    color = \"speed\",\n",
    "    size = \"size\",\n",
    "    size_max = 1 * plot_scaler - 3,\n",
    "    opacity = 1,\n",
    "    facet_col = \"date\",\n",
    "    #animation_frame = \"date\",\n",
    "\n",
    "    height = 45 * plot_scaler,\n",
    "    width = (15) * plot_scaler * 6,\n",
    "    color_continuous_scale  = plt_style_s,\n",
    "\n",
    "    title = \"Polar vortex wind speed\",\n",
    "\n",
    "    labels = {\"speed\" : \"speed [m/s]\"},\n",
    ")\n",
    "\n",
    "\n",
    "fig.update_traces(\n",
    "    marker=dict(symbol=\"square\",),\n",
    "    selector=dict(mode='markers')\n",
    ")\n",
    "\n",
    "fig.show()"
   ]
  },
  {
   "cell_type": "code",
   "execution_count": null,
   "metadata": {},
   "outputs": [],
   "source": [
    "plot_scaler = 15\n",
    "fig = px.scatter(\n",
    "    data_frame = df.loc[(df[\"date\"] >= \"1979-01-01\") & (df[\"date\"] <= \"1979-01-07\")],\n",
    "    x = \"longitude\",\n",
    "    y = \"latitude\",\n",
    "    color = \"t\",\n",
    "    size = \"size\",\n",
    "    size_max = 1 * plot_scaler -3,\n",
    "    opacity = 1,\n",
    "    facet_col = \"date\",\n",
    "    #animation_frame = \"date\",\n",
    "\n",
    "    height = 45 * plot_scaler,\n",
    "    width = (13 + 2) * plot_scaler * 6,\n",
    "    color_continuous_scale  = plt_style_s,\n",
    "\n",
    "    title = \"Polar vortex temperatures\",\n",
    "\n",
    "    labels = {\"t\" : \"t [°k]\"},\n",
    ")\n",
    "\n",
    "\n",
    "fig.update_traces(\n",
    "    marker=dict(symbol=\"square\",),\n",
    "    selector=dict(mode='markers')\n",
    ")\n",
    "\n",
    "fig.show()"
   ]
  },
  {
   "cell_type": "code",
   "execution_count": null,
   "metadata": {},
   "outputs": [],
   "source": [
    "plot_scaler = 15\n",
    "fig = px.scatter(\n",
    "    data_frame = df.loc[(df[\"date\"] >= \"2019-03-01\") & (df[\"date\"] <= \"2019-03-04\")],\n",
    "    y = \"level\",\n",
    "    x = \"latitude\",\n",
    "    color = \"speed\",\n",
    "    size = \"size\",\n",
    "    size_max = 1 * plot_scaler - 3,\n",
    "    opacity = 1,\n",
    "    facet_row = \"date\",\n",
    "    #animation_frame = \"date\",\n",
    "\n",
    "    height = (15 * 4)  * plot_scaler,\n",
    "    width = 60 * plot_scaler,\n",
    "    color_continuous_scale =  plt_style_s,\n",
    "\n",
    "    title = \"Polar vortex wind speed\",\n",
    "\n",
    "    labels = {\"speed\" : \"speed [m/s]\"},\n",
    ")\n",
    "\n",
    "fig['layout']['yaxis']['autorange'] = \"reversed\"\n",
    "\n",
    "fig.update_traces(\n",
    "    marker=dict(symbol=\"square\",),\n",
    "    selector=dict(mode='markers')\n",
    ")\n",
    "\n",
    "fig.show()"
   ]
  },
  {
   "cell_type": "code",
   "execution_count": null,
   "metadata": {},
   "outputs": [],
   "source": [
    "plot_scaler = 15\n",
    "fig = px.scatter(\n",
    "    data_frame = df.loc[(df[\"date\"] >= \"2019-03-01\") & (df[\"date\"] <= \"2019-03-04\")],\n",
    "    y = \"level\",\n",
    "    x = \"latitude\",\n",
    "    color = \"t\",\n",
    "    size = \"size\",\n",
    "    size_max = 1 * plot_scaler - 3,\n",
    "    opacity = 1,\n",
    "    facet_row = \"date\",\n",
    "    #animation_frame = \"date\",\n",
    "\n",
    "    height = (15 * 4)  * plot_scaler,\n",
    "    width = 60 * plot_scaler,\n",
    "    color_continuous_scale =  plt_style_s,\n",
    "\n",
    "    title = \"Polar vortex temperature\",\n",
    "\n",
    "    labels = {\"t\" : \"t [°k]\"},\n",
    ")\n",
    "\n",
    "fig['layout']['yaxis']['autorange'] = \"reversed\"\n",
    "\n",
    "fig.update_traces(\n",
    "    marker=dict(symbol=\"square\",),\n",
    "    selector=dict(mode='markers')\n",
    ")\n",
    "\n",
    "fig.show()"
   ]
  },
  {
   "cell_type": "code",
   "execution_count": null,
   "metadata": {},
   "outputs": [],
   "source": [
    "del df"
   ]
  }
 ],
 "metadata": {
  "interpreter": {
   "hash": "f6bbfc4e4f578cb9f7c85fe350d2fab0be0faacc19ccc874c1f1be2572a1188f"
  },
  "kernelspec": {
   "display_name": "Python 3.9.5 64-bit",
   "language": "python",
   "name": "python3"
  },
  "language_info": {
   "codemirror_mode": {
    "name": "ipython",
    "version": 3
   },
   "file_extension": ".py",
   "mimetype": "text/x-python",
   "name": "python",
   "nbconvert_exporter": "python",
   "pygments_lexer": "ipython3",
   "version": "3.9.5"
  },
  "orig_nbformat": 4
 },
 "nbformat": 4,
 "nbformat_minor": 2
}
