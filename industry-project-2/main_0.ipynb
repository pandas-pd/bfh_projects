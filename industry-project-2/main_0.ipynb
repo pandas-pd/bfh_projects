{
 "cells": [
  {
   "cell_type": "markdown",
   "metadata": {},
   "source": [
    "# 0. Data collcetion and preprocessing\n",
    "- Create unifrom data resolution, format and index to join the data\n",
    "- Suggeted columns:\n",
    "    - index : str = year-month\n",
    "    - col_0 : int = year\n",
    "    - col_1 : int = momth\n",
    "- Aggregate everything down to monthly intervalls if needed:\n",
    "    - calculate mean\n",
    "    - calculate std"
   ]
  },
  {
   "cell_type": "code",
   "execution_count": 1,
   "metadata": {},
   "outputs": [],
   "source": [
    "import pandas as pd\n",
    "import os\n",
    "import numpy as np\n",
    "import statistics as st\n",
    "import plotly.graph_objects as go\n",
    "import plotly.express as px\n",
    "\n",
    "#plot styles\n",
    "plt_style_c = px.colors.sequential.haline #complex\n",
    "plt_style_s = px.colors.diverging.Portland #simple\n",
    "\n",
    "#data folder\n",
    "data_folder : str = \"data\"\n",
    "\n",
    "#decide what to execute from chapter 0.1\n",
    "t2_run_era5_download : bool     = False     #ca. 550 minuntes\n",
    "t2_compile_nc : bool            = False     #ca. 5 minutes\n",
    "t2_compile_df : bool            = False     #ca. 2 minutes\n",
    "t2_csv_clean_up : bool          = False     #ca. 1 minutes\n",
    "\n",
    "#decide what to execute from chapter 0.2, 0.3, 0.5\n",
    "save_data : bool                = False\n",
    "\n",
    "#decide what to execute from chapter 0.4\n",
    "pv_run_era5_download : bool     = False     #ca. 550 minuntes\n",
    "pv_compile_nc : bool            = False     #ca. 5 minutes\n",
    "pv_compile_df : bool            = False     #ca. 2 minutes\n",
    "pv_csv_clean_up : bool          = False     #ca. 1 minutes\n"
   ]
  },
  {
   "cell_type": "markdown",
   "metadata": {},
   "source": [
    "## 0.1 ERA5 data (temp)\n",
    "- Source: https://cds.climate.copernicus.eu/cdsapp#!/dataset/reanalysis-era5-single-levels?tab=overview\n",
    "- Note: The data was downloaded using the era5_download.py script. The code can also be found in the cell below.\n",
    "- Range: 1973 - 2023"
   ]
  },
  {
   "cell_type": "code",
   "execution_count": 2,
   "metadata": {},
   "outputs": [],
   "source": [
    "#if the data needs to pe processed by the api, the exectuion is aprrox. 10 minute per year(550 min total)\n",
    "\n",
    "#copy from era5_download_t2.py\n",
    "try:\n",
    "    from unittest import result\n",
    "    import cdsapi #additional file needed to run. See docu\n",
    "    import os\n",
    "    import requests\n",
    "    from datetime import datetime\n",
    "    import xarray as xr\n",
    "except:\n",
    "    pass\n",
    "\n",
    "#add the .cdsapi file to you user folder\n",
    "#data source: https://cds.climate.copernicus.eu/cdsapp#!/home\n",
    "\n",
    "\n",
    "class Wrapper():\n",
    "\n",
    "    def main():\n",
    "\n",
    "        start_year : int        = 1979\n",
    "        end_year : int          = 2024\n",
    "        all_vars : bool         = False\n",
    "\n",
    "        years : list            = Wrapper.generate_year_list(start = start_year, end = end_year)\n",
    "        variables : list        = Wrapper.generate_var_list(all = all_vars)\n",
    "\n",
    "        #main loop for downloading data\n",
    "        Wrapper.log(f\"Downloading startet for range: {start_year} - {end_year}\")\n",
    "\n",
    "        for year in years:\n",
    "            \n",
    "            print(f\"Processing {year}\")\n",
    "            result : str = Wrapper.request(year, variables)\n",
    "            Wrapper.download_data(result = result, year = year, all_vars = all_vars)\n",
    "\n",
    "        #tranforms and saves data as a csv for later processing in pandas\n",
    "        Wrapper.generate_df()\n",
    "\n",
    "        return\n",
    "\n",
    "    def generate_year_list(start:int, end:int):\n",
    "\n",
    "        year_list_str : list = [str(year) for year in range(start,end)]\n",
    "        return year_list_str\n",
    "\n",
    "    def generate_var_list( all : bool):\n",
    "\n",
    "        if all == True:\n",
    "            return ['10m_u_component_of_wind', '10m_v_component_of_wind', '2m_temperature', 'surface_pressure']\n",
    "        else:\n",
    "            return ['2m_temperature']\n",
    "\n",
    "    def generate_df():\n",
    "\n",
    "        downloads = Wrapper.download_path()\n",
    "        files = os.listdir(downloads)\n",
    "\n",
    "        for file in files:\n",
    "\n",
    "            #open .nc files\n",
    "            file = os.path.join(downloads,file)\n",
    "            ds = xr.open_dataset(file)\n",
    "            df = ds.to_dataframe()\n",
    "\n",
    "            #save df\n",
    "            name = f\"{file[-3]}.csv\"\n",
    "            df.to_csv(name)\n",
    "\n",
    "    def download_data(result:str, year:str, all_vars:bool):\n",
    "\n",
    "        #genearte download and saving path\n",
    "        path : str          = Wrapper.download_path()\n",
    "        file_name : str     = f\"era5_{year}_allvars{all_vars}.nc\" #type nasCat data\n",
    "        file_path :str      = os.path.join(path,file_name)\n",
    "        print(file_path)\n",
    "        \n",
    "        #get download link\n",
    "        try:\n",
    "            link_start : int    = result.index(\"location=\") + len (\"location=\")\n",
    "            url : str           = result[link_start:-1]\n",
    "        except:\n",
    "            Wrapper.log(f\"{year}: The api response does not contain a  download link\")\n",
    "            return\n",
    "\n",
    "        #retrieve data from web page and save it\n",
    "        try:\n",
    "            response = requests.get(url)\n",
    "        except:\n",
    "            Wrapper.log(f\"{year}: The download url is not valid\")\n",
    "            return\n",
    "\n",
    "        open(file_path, \"wb\").write(response.content)\n",
    "\n",
    "        return\n",
    "\n",
    "    def download_path():\n",
    "\n",
    "        folder_name = \"era5_downloads_t2\"\n",
    "\n",
    "        if os.path.isdir(folder_name) == False:\n",
    "            os.makedirs(folder_name)\n",
    "\n",
    "        download_path = os.path.join(os.path.dirname(os.path.abspath(__file__)), folder_name)\n",
    "\n",
    "        return download_path\n",
    "\n",
    "    def log(message : str):\n",
    "\n",
    "        #create log entry\n",
    "        log_time : str = datetime.now()\n",
    "        message = f\"{log_time},{message}\\n\"\n",
    "\n",
    "        #write log entry\n",
    "        file_object = open('era5_log.txt', 'a')\n",
    "        file_object.write(message)\n",
    "        file_object.close()\n",
    "\n",
    "        return\n",
    "\n",
    "    def request(year:list, variable:list):\n",
    "        # see: https://www.latlong.net/\n",
    "\n",
    "        c = cdsapi.Client()\n",
    "\n",
    "        request = c.retrieve(\n",
    "            'reanalysis-era5-single-levels',\n",
    "            {\n",
    "                'product_type': 'reanalysis',\n",
    "                'variable': variable,\n",
    "                'year': year,\n",
    "                'month': [\n",
    "                    '01', '02', '03',\n",
    "                    '04', '05', '06',\n",
    "                    '07', '08', '09',\n",
    "                    '10', '11', '12',\n",
    "                ],\n",
    "                'day': [\n",
    "                    '01', '02', '03',\n",
    "                    '04', '05', '06',\n",
    "                    '07', '08', '09',\n",
    "                    '10', '11', '12',\n",
    "                    '13', '14', '15',\n",
    "                    '16', '17', '18',\n",
    "                    '19', '20', '21',\n",
    "                    '22', '23', '24',\n",
    "                    '25', '26', '27',\n",
    "                    '28', '29', '30',\n",
    "                    '31',\n",
    "                ],\n",
    "                'time': [\n",
    "                    '00:00', '01:00', '02:00',\n",
    "                    '03:00', '04:00', '05:00',\n",
    "                    '06:00', '07:00', '08:00',\n",
    "                    '09:00', '10:00', '11:00',\n",
    "                    '12:00', '13:00', '14:00',\n",
    "                    '15:00', '16:00', '17:00',\n",
    "                    '18:00', '19:00', '20:00',\n",
    "                    '21:00', '22:00', '23:00',\n",
    "                ],\n",
    "                'area': [\n",
    "                    48, 5.8, 45.7,\n",
    "                    11,\n",
    "                ],\n",
    "                'format': 'netcdf',\n",
    "            },\n",
    "            'download.nc'\n",
    "        )\n",
    "\n",
    "        return str(request)\n",
    "\n",
    "if t2_run_era5_download is True:\n",
    "    Wrapper.main()"
   ]
  },
  {
   "cell_type": "code",
   "execution_count": 3,
   "metadata": {},
   "outputs": [],
   "source": [
    "#create csv files from .nc files\n",
    "era5_data = os.path.join(\"data\",\"era5_downloads_t2\")\n",
    "\n",
    "try:\n",
    "    import xarray as xr\n",
    "except:\n",
    "    pass\n",
    "\n",
    "#ds = xr.open_dataset('/path/to/netcdf')\n",
    "#df = ds.to_dataframe()\n",
    "\n",
    "def compile_nc_data():\n",
    "\n",
    "    for file in os.listdir(era5_data):\n",
    "\n",
    "        if file[-3:] != \".nc\":\n",
    "            continue\n",
    "\n",
    "        file_df = file\n",
    "        file_df = file_df.replace(\".nc\", \".csv\")\n",
    "        print(file_df)\n",
    "\n",
    "        ds = xr.open_dataarray(os.path.join(era5_data,file))\n",
    "        df = ds.to_dataframe()\n",
    "        df.to_csv(os.path.join(era5_data,file_df))\n",
    "\n",
    "if t2_compile_nc is True:\n",
    "    compile_nc_data()"
   ]
  },
  {
   "cell_type": "code",
   "execution_count": 4,
   "metadata": {},
   "outputs": [
    {
     "data": {
      "application/vnd.plotly.v1+json": {
       "config": {
        "plotlyServerURL": "https://plot.ly"
       },
       "data": [
        {
         "lat": [
          45.7,
          48,
          48,
          45.7,
          45.7
         ],
         "lon": [
          5.8,
          5.8,
          11,
          11,
          5.8
         ],
         "marker": {
          "size": 10
         },
         "mode": "markers+lines",
         "type": "scattermapbox"
        }
       ],
       "layout": {
        "mapbox": {
         "center": {
          "lat": 46.85,
          "lon": 8.4
         },
         "style": "carto-positron",
         "zoom": 5
        },
        "margin": {
         "b": 0,
         "l": 0,
         "r": 0,
         "t": 0
        },
        "template": {
         "data": {
          "bar": [
           {
            "error_x": {
             "color": "#2a3f5f"
            },
            "error_y": {
             "color": "#2a3f5f"
            },
            "marker": {
             "line": {
              "color": "#E5ECF6",
              "width": 0.5
             },
             "pattern": {
              "fillmode": "overlay",
              "size": 10,
              "solidity": 0.2
             }
            },
            "type": "bar"
           }
          ],
          "barpolar": [
           {
            "marker": {
             "line": {
              "color": "#E5ECF6",
              "width": 0.5
             },
             "pattern": {
              "fillmode": "overlay",
              "size": 10,
              "solidity": 0.2
             }
            },
            "type": "barpolar"
           }
          ],
          "carpet": [
           {
            "aaxis": {
             "endlinecolor": "#2a3f5f",
             "gridcolor": "white",
             "linecolor": "white",
             "minorgridcolor": "white",
             "startlinecolor": "#2a3f5f"
            },
            "baxis": {
             "endlinecolor": "#2a3f5f",
             "gridcolor": "white",
             "linecolor": "white",
             "minorgridcolor": "white",
             "startlinecolor": "#2a3f5f"
            },
            "type": "carpet"
           }
          ],
          "choropleth": [
           {
            "colorbar": {
             "outlinewidth": 0,
             "ticks": ""
            },
            "type": "choropleth"
           }
          ],
          "contour": [
           {
            "colorbar": {
             "outlinewidth": 0,
             "ticks": ""
            },
            "colorscale": [
             [
              0,
              "#0d0887"
             ],
             [
              0.1111111111111111,
              "#46039f"
             ],
             [
              0.2222222222222222,
              "#7201a8"
             ],
             [
              0.3333333333333333,
              "#9c179e"
             ],
             [
              0.4444444444444444,
              "#bd3786"
             ],
             [
              0.5555555555555556,
              "#d8576b"
             ],
             [
              0.6666666666666666,
              "#ed7953"
             ],
             [
              0.7777777777777778,
              "#fb9f3a"
             ],
             [
              0.8888888888888888,
              "#fdca26"
             ],
             [
              1,
              "#f0f921"
             ]
            ],
            "type": "contour"
           }
          ],
          "contourcarpet": [
           {
            "colorbar": {
             "outlinewidth": 0,
             "ticks": ""
            },
            "type": "contourcarpet"
           }
          ],
          "heatmap": [
           {
            "colorbar": {
             "outlinewidth": 0,
             "ticks": ""
            },
            "colorscale": [
             [
              0,
              "#0d0887"
             ],
             [
              0.1111111111111111,
              "#46039f"
             ],
             [
              0.2222222222222222,
              "#7201a8"
             ],
             [
              0.3333333333333333,
              "#9c179e"
             ],
             [
              0.4444444444444444,
              "#bd3786"
             ],
             [
              0.5555555555555556,
              "#d8576b"
             ],
             [
              0.6666666666666666,
              "#ed7953"
             ],
             [
              0.7777777777777778,
              "#fb9f3a"
             ],
             [
              0.8888888888888888,
              "#fdca26"
             ],
             [
              1,
              "#f0f921"
             ]
            ],
            "type": "heatmap"
           }
          ],
          "heatmapgl": [
           {
            "colorbar": {
             "outlinewidth": 0,
             "ticks": ""
            },
            "colorscale": [
             [
              0,
              "#0d0887"
             ],
             [
              0.1111111111111111,
              "#46039f"
             ],
             [
              0.2222222222222222,
              "#7201a8"
             ],
             [
              0.3333333333333333,
              "#9c179e"
             ],
             [
              0.4444444444444444,
              "#bd3786"
             ],
             [
              0.5555555555555556,
              "#d8576b"
             ],
             [
              0.6666666666666666,
              "#ed7953"
             ],
             [
              0.7777777777777778,
              "#fb9f3a"
             ],
             [
              0.8888888888888888,
              "#fdca26"
             ],
             [
              1,
              "#f0f921"
             ]
            ],
            "type": "heatmapgl"
           }
          ],
          "histogram": [
           {
            "marker": {
             "pattern": {
              "fillmode": "overlay",
              "size": 10,
              "solidity": 0.2
             }
            },
            "type": "histogram"
           }
          ],
          "histogram2d": [
           {
            "colorbar": {
             "outlinewidth": 0,
             "ticks": ""
            },
            "colorscale": [
             [
              0,
              "#0d0887"
             ],
             [
              0.1111111111111111,
              "#46039f"
             ],
             [
              0.2222222222222222,
              "#7201a8"
             ],
             [
              0.3333333333333333,
              "#9c179e"
             ],
             [
              0.4444444444444444,
              "#bd3786"
             ],
             [
              0.5555555555555556,
              "#d8576b"
             ],
             [
              0.6666666666666666,
              "#ed7953"
             ],
             [
              0.7777777777777778,
              "#fb9f3a"
             ],
             [
              0.8888888888888888,
              "#fdca26"
             ],
             [
              1,
              "#f0f921"
             ]
            ],
            "type": "histogram2d"
           }
          ],
          "histogram2dcontour": [
           {
            "colorbar": {
             "outlinewidth": 0,
             "ticks": ""
            },
            "colorscale": [
             [
              0,
              "#0d0887"
             ],
             [
              0.1111111111111111,
              "#46039f"
             ],
             [
              0.2222222222222222,
              "#7201a8"
             ],
             [
              0.3333333333333333,
              "#9c179e"
             ],
             [
              0.4444444444444444,
              "#bd3786"
             ],
             [
              0.5555555555555556,
              "#d8576b"
             ],
             [
              0.6666666666666666,
              "#ed7953"
             ],
             [
              0.7777777777777778,
              "#fb9f3a"
             ],
             [
              0.8888888888888888,
              "#fdca26"
             ],
             [
              1,
              "#f0f921"
             ]
            ],
            "type": "histogram2dcontour"
           }
          ],
          "mesh3d": [
           {
            "colorbar": {
             "outlinewidth": 0,
             "ticks": ""
            },
            "type": "mesh3d"
           }
          ],
          "parcoords": [
           {
            "line": {
             "colorbar": {
              "outlinewidth": 0,
              "ticks": ""
             }
            },
            "type": "parcoords"
           }
          ],
          "pie": [
           {
            "automargin": true,
            "type": "pie"
           }
          ],
          "scatter": [
           {
            "fillpattern": {
             "fillmode": "overlay",
             "size": 10,
             "solidity": 0.2
            },
            "type": "scatter"
           }
          ],
          "scatter3d": [
           {
            "line": {
             "colorbar": {
              "outlinewidth": 0,
              "ticks": ""
             }
            },
            "marker": {
             "colorbar": {
              "outlinewidth": 0,
              "ticks": ""
             }
            },
            "type": "scatter3d"
           }
          ],
          "scattercarpet": [
           {
            "marker": {
             "colorbar": {
              "outlinewidth": 0,
              "ticks": ""
             }
            },
            "type": "scattercarpet"
           }
          ],
          "scattergeo": [
           {
            "marker": {
             "colorbar": {
              "outlinewidth": 0,
              "ticks": ""
             }
            },
            "type": "scattergeo"
           }
          ],
          "scattergl": [
           {
            "marker": {
             "colorbar": {
              "outlinewidth": 0,
              "ticks": ""
             }
            },
            "type": "scattergl"
           }
          ],
          "scattermapbox": [
           {
            "marker": {
             "colorbar": {
              "outlinewidth": 0,
              "ticks": ""
             }
            },
            "type": "scattermapbox"
           }
          ],
          "scatterpolar": [
           {
            "marker": {
             "colorbar": {
              "outlinewidth": 0,
              "ticks": ""
             }
            },
            "type": "scatterpolar"
           }
          ],
          "scatterpolargl": [
           {
            "marker": {
             "colorbar": {
              "outlinewidth": 0,
              "ticks": ""
             }
            },
            "type": "scatterpolargl"
           }
          ],
          "scatterternary": [
           {
            "marker": {
             "colorbar": {
              "outlinewidth": 0,
              "ticks": ""
             }
            },
            "type": "scatterternary"
           }
          ],
          "surface": [
           {
            "colorbar": {
             "outlinewidth": 0,
             "ticks": ""
            },
            "colorscale": [
             [
              0,
              "#0d0887"
             ],
             [
              0.1111111111111111,
              "#46039f"
             ],
             [
              0.2222222222222222,
              "#7201a8"
             ],
             [
              0.3333333333333333,
              "#9c179e"
             ],
             [
              0.4444444444444444,
              "#bd3786"
             ],
             [
              0.5555555555555556,
              "#d8576b"
             ],
             [
              0.6666666666666666,
              "#ed7953"
             ],
             [
              0.7777777777777778,
              "#fb9f3a"
             ],
             [
              0.8888888888888888,
              "#fdca26"
             ],
             [
              1,
              "#f0f921"
             ]
            ],
            "type": "surface"
           }
          ],
          "table": [
           {
            "cells": {
             "fill": {
              "color": "#EBF0F8"
             },
             "line": {
              "color": "white"
             }
            },
            "header": {
             "fill": {
              "color": "#C8D4E3"
             },
             "line": {
              "color": "white"
             }
            },
            "type": "table"
           }
          ]
         },
         "layout": {
          "annotationdefaults": {
           "arrowcolor": "#2a3f5f",
           "arrowhead": 0,
           "arrowwidth": 1
          },
          "autotypenumbers": "strict",
          "coloraxis": {
           "colorbar": {
            "outlinewidth": 0,
            "ticks": ""
           }
          },
          "colorscale": {
           "diverging": [
            [
             0,
             "#8e0152"
            ],
            [
             0.1,
             "#c51b7d"
            ],
            [
             0.2,
             "#de77ae"
            ],
            [
             0.3,
             "#f1b6da"
            ],
            [
             0.4,
             "#fde0ef"
            ],
            [
             0.5,
             "#f7f7f7"
            ],
            [
             0.6,
             "#e6f5d0"
            ],
            [
             0.7,
             "#b8e186"
            ],
            [
             0.8,
             "#7fbc41"
            ],
            [
             0.9,
             "#4d9221"
            ],
            [
             1,
             "#276419"
            ]
           ],
           "sequential": [
            [
             0,
             "#0d0887"
            ],
            [
             0.1111111111111111,
             "#46039f"
            ],
            [
             0.2222222222222222,
             "#7201a8"
            ],
            [
             0.3333333333333333,
             "#9c179e"
            ],
            [
             0.4444444444444444,
             "#bd3786"
            ],
            [
             0.5555555555555556,
             "#d8576b"
            ],
            [
             0.6666666666666666,
             "#ed7953"
            ],
            [
             0.7777777777777778,
             "#fb9f3a"
            ],
            [
             0.8888888888888888,
             "#fdca26"
            ],
            [
             1,
             "#f0f921"
            ]
           ],
           "sequentialminus": [
            [
             0,
             "#0d0887"
            ],
            [
             0.1111111111111111,
             "#46039f"
            ],
            [
             0.2222222222222222,
             "#7201a8"
            ],
            [
             0.3333333333333333,
             "#9c179e"
            ],
            [
             0.4444444444444444,
             "#bd3786"
            ],
            [
             0.5555555555555556,
             "#d8576b"
            ],
            [
             0.6666666666666666,
             "#ed7953"
            ],
            [
             0.7777777777777778,
             "#fb9f3a"
            ],
            [
             0.8888888888888888,
             "#fdca26"
            ],
            [
             1,
             "#f0f921"
            ]
           ]
          },
          "colorway": [
           "#636efa",
           "#EF553B",
           "#00cc96",
           "#ab63fa",
           "#FFA15A",
           "#19d3f3",
           "#FF6692",
           "#B6E880",
           "#FF97FF",
           "#FECB52"
          ],
          "font": {
           "color": "#2a3f5f"
          },
          "geo": {
           "bgcolor": "white",
           "lakecolor": "white",
           "landcolor": "#E5ECF6",
           "showlakes": true,
           "showland": true,
           "subunitcolor": "white"
          },
          "hoverlabel": {
           "align": "left"
          },
          "hovermode": "closest",
          "mapbox": {
           "style": "light"
          },
          "paper_bgcolor": "white",
          "plot_bgcolor": "#E5ECF6",
          "polar": {
           "angularaxis": {
            "gridcolor": "white",
            "linecolor": "white",
            "ticks": ""
           },
           "bgcolor": "#E5ECF6",
           "radialaxis": {
            "gridcolor": "white",
            "linecolor": "white",
            "ticks": ""
           }
          },
          "scene": {
           "xaxis": {
            "backgroundcolor": "#E5ECF6",
            "gridcolor": "white",
            "gridwidth": 2,
            "linecolor": "white",
            "showbackground": true,
            "ticks": "",
            "zerolinecolor": "white"
           },
           "yaxis": {
            "backgroundcolor": "#E5ECF6",
            "gridcolor": "white",
            "gridwidth": 2,
            "linecolor": "white",
            "showbackground": true,
            "ticks": "",
            "zerolinecolor": "white"
           },
           "zaxis": {
            "backgroundcolor": "#E5ECF6",
            "gridcolor": "white",
            "gridwidth": 2,
            "linecolor": "white",
            "showbackground": true,
            "ticks": "",
            "zerolinecolor": "white"
           }
          },
          "shapedefaults": {
           "line": {
            "color": "#2a3f5f"
           }
          },
          "ternary": {
           "aaxis": {
            "gridcolor": "white",
            "linecolor": "white",
            "ticks": ""
           },
           "baxis": {
            "gridcolor": "white",
            "linecolor": "white",
            "ticks": ""
           },
           "bgcolor": "#E5ECF6",
           "caxis": {
            "gridcolor": "white",
            "linecolor": "white",
            "ticks": ""
           }
          },
          "title": {
           "x": 0.05
          },
          "xaxis": {
           "automargin": true,
           "gridcolor": "white",
           "linecolor": "white",
           "ticks": "",
           "title": {
            "standoff": 15
           },
           "zerolinecolor": "white",
           "zerolinewidth": 2
          },
          "yaxis": {
           "automargin": true,
           "gridcolor": "white",
           "linecolor": "white",
           "ticks": "",
           "title": {
            "standoff": 15
           },
           "zerolinecolor": "white",
           "zerolinewidth": 2
          }
         }
        }
       }
      }
     },
     "metadata": {},
     "output_type": "display_data"
    }
   ],
   "source": [
    "#define borders\n",
    "lons = [5.8,5.8,11,11,5.8]\n",
    "lats = [45.7,48.0,48.0,45.7,45.7]\n",
    "\n",
    "#create plot \n",
    "fig = go.Figure(go.Scattermapbox(\n",
    "    mode = \"markers+lines\",\n",
    "    lon = lons,\n",
    "    lat = lats,\n",
    "    marker = {'size': 10})\n",
    ")\n",
    "\n",
    "#adjust view\n",
    "fig.update_layout(\n",
    "    margin ={'l':0,'t':0,'b':0,'r':0},\n",
    "    mapbox = {\n",
    "        'center': {'lon': 8.4, 'lat': 46.85},\n",
    "        'style': \"carto-positron\",\n",
    "        'zoom': 5})\n",
    "\n",
    "\n",
    "fig.show()"
   ]
  },
  {
   "cell_type": "markdown",
   "metadata": {},
   "source": [
    "Process of averaging the temperature data:\n",
    "- Calculate average grouped by the hourly time stamps (eradicate the coordinates and create and hourly average of switzerland)\n",
    "- Calculate average and std grouped by by month for each csv\n",
    "- Creat an all encompassing dataframe with the whole time periode"
   ]
  },
  {
   "cell_type": "code",
   "execution_count": 5,
   "metadata": {},
   "outputs": [],
   "source": [
    "class Avg_era5:\n",
    "\n",
    "    era5_data = os.path.join(\"data\",\"era5_downloads_t2\")\n",
    "    data = \"data\"\n",
    "\n",
    "    def main(data_folder):\n",
    "\n",
    "        files : list        = os.listdir(Avg_era5.era5_data)\n",
    "        csv_files : list    = [file for file in files if file[-4:] == \".csv\"]\n",
    "\n",
    "        dfs : list          = []\n",
    "\n",
    "        for csv in csv_files:\n",
    "\n",
    "            print(f\"Processing: {csv}\", end = \"\\r\")\n",
    "\n",
    "            df = Avg_era5.lonlat_mean(csv = csv)\n",
    "            df = Avg_era5.month_mean_std(df)\n",
    "            df = Avg_era5.format(df)\n",
    "\n",
    "            dfs.append(df)\n",
    "\n",
    "        Avg_era5.merge_and_save(dfs, data_folder)\n",
    "        print(\"Aggregaed all data\")\n",
    "\n",
    "    def lonlat_mean(csv : str):\n",
    "\n",
    "        #average over lon and lattitude\n",
    "        df = pd.read_csv(os.path.join(Avg_era5.era5_data, csv))\n",
    "        df = df[[\"time\", \"t2m\"]]\n",
    "        df_avg_lon_lat = df.groupby(\"time\").mean(\"t2m\")\n",
    "\n",
    "        del df #free up memory\n",
    "        return df_avg_lon_lat\n",
    "\n",
    "    def month_mean_std(df):\n",
    "\n",
    "        #create col for grouping\n",
    "        df[\"month\"] = pd.DatetimeIndex(df.index).month\n",
    "        df[\"year\"] = pd.DatetimeIndex(df.index).year\n",
    "\n",
    "        df.reset_index(drop = True, inplace = True)\n",
    "\n",
    "        #aggregate for mean and std\n",
    "        df_mean_std = df.groupby([\"year\", \"month\"], as_index=False).agg(\n",
    "            t2m_mean    = (\"t2m\", \"mean\"),\n",
    "            t2m_std     = (\"t2m\", \"std\"),\n",
    "        )\n",
    "\n",
    "        del df #free up memory\n",
    "        return df_mean_std\n",
    "\n",
    "    def format(df):\n",
    "\n",
    "        #format\n",
    "        df[\"index\"] = df[\"year\"].astype(str) + \"-\" + df[\"month\"].astype(str)\n",
    "        df.set_index(keys = \"index\", inplace = True, drop = True)\n",
    "\n",
    "        #drop unneeded cols\n",
    "        df.drop(labels = [\"year\", \"month\"], axis = 1, inplace = True)\n",
    "\n",
    "        #save\n",
    "        #df.to_csv(os.path.join(Avg_era5.era5_data_agg,csv))\n",
    "\n",
    "        return df\n",
    "\n",
    "    def merge_and_save(dfs, data_folder):\n",
    "\n",
    "        df = pd.concat(dfs)\n",
    "        df.to_csv(os.path.join(data_folder, \"df_era5_t2.csv\"))\n",
    "\n",
    "if t2_compile_df is True:\n",
    "    Avg_era5.main(data_folder)"
   ]
  },
  {
   "cell_type": "code",
   "execution_count": 6,
   "metadata": {},
   "outputs": [],
   "source": [
    "# clean up unnecessary csv\n",
    "\n",
    "def clean_up_csv():\n",
    "\n",
    "    era5_data = os.path.join(\"data\",\"era5_downloads_t2\")\n",
    "\n",
    "    files : list        = os.listdir(era5_data)\n",
    "    csv_files : list    = [file for file in files if file[-4:] == \".csv\"]\n",
    "\n",
    "    for csv in csv_files:\n",
    "        os.remove(os.path.join(era5_data, csv))\n",
    "\n",
    "if t2_csv_clean_up is True:\n",
    "    clean_up_csv()"
   ]
  },
  {
   "cell_type": "markdown",
   "metadata": {},
   "source": [
    "## 0.2 ENSO data\n",
    "- Source: https://psl.noaa.gov/enso/mei/\n",
    "- Note: The data was downloaded and prepared manually as a .csv file (reformating)\n",
    "- Range: 1979 - 2023"
   ]
  },
  {
   "cell_type": "code",
   "execution_count": 7,
   "metadata": {},
   "outputs": [
    {
     "data": {
      "text/html": [
       "<div>\n",
       "<style scoped>\n",
       "    .dataframe tbody tr th:only-of-type {\n",
       "        vertical-align: middle;\n",
       "    }\n",
       "\n",
       "    .dataframe tbody tr th {\n",
       "        vertical-align: top;\n",
       "    }\n",
       "\n",
       "    .dataframe thead th {\n",
       "        text-align: right;\n",
       "    }\n",
       "</style>\n",
       "<table border=\"1\" class=\"dataframe\">\n",
       "  <thead>\n",
       "    <tr style=\"text-align: right;\">\n",
       "      <th></th>\n",
       "      <th>year</th>\n",
       "      <th>1</th>\n",
       "      <th>2</th>\n",
       "      <th>3</th>\n",
       "      <th>4</th>\n",
       "      <th>5</th>\n",
       "      <th>6</th>\n",
       "      <th>7</th>\n",
       "      <th>8</th>\n",
       "      <th>9</th>\n",
       "      <th>10</th>\n",
       "      <th>11</th>\n",
       "      <th>12</th>\n",
       "    </tr>\n",
       "  </thead>\n",
       "  <tbody>\n",
       "    <tr>\n",
       "      <th>0</th>\n",
       "      <td>1979</td>\n",
       "      <td>0.47</td>\n",
       "      <td>0.26</td>\n",
       "      <td>-0.08</td>\n",
       "      <td>0.20</td>\n",
       "      <td>0.27</td>\n",
       "      <td>-0.15</td>\n",
       "      <td>-0.14</td>\n",
       "      <td>0.44</td>\n",
       "      <td>0.38</td>\n",
       "      <td>0.24</td>\n",
       "      <td>0.52</td>\n",
       "      <td>0.65</td>\n",
       "    </tr>\n",
       "    <tr>\n",
       "      <th>1</th>\n",
       "      <td>1980</td>\n",
       "      <td>0.35</td>\n",
       "      <td>0.19</td>\n",
       "      <td>0.41</td>\n",
       "      <td>0.59</td>\n",
       "      <td>0.55</td>\n",
       "      <td>0.62</td>\n",
       "      <td>0.62</td>\n",
       "      <td>0.15</td>\n",
       "      <td>0.20</td>\n",
       "      <td>0.09</td>\n",
       "      <td>-0.03</td>\n",
       "      <td>-0.06</td>\n",
       "    </tr>\n",
       "    <tr>\n",
       "      <th>2</th>\n",
       "      <td>1981</td>\n",
       "      <td>-0.33</td>\n",
       "      <td>-0.24</td>\n",
       "      <td>0.33</td>\n",
       "      <td>0.41</td>\n",
       "      <td>-0.27</td>\n",
       "      <td>-0.60</td>\n",
       "      <td>-0.51</td>\n",
       "      <td>-0.31</td>\n",
       "      <td>-0.01</td>\n",
       "      <td>-0.10</td>\n",
       "      <td>-0.22</td>\n",
       "      <td>-0.16</td>\n",
       "    </tr>\n",
       "    <tr>\n",
       "      <th>3</th>\n",
       "      <td>1982</td>\n",
       "      <td>-0.38</td>\n",
       "      <td>-0.47</td>\n",
       "      <td>-0.28</td>\n",
       "      <td>-0.34</td>\n",
       "      <td>-0.03</td>\n",
       "      <td>0.78</td>\n",
       "      <td>1.79</td>\n",
       "      <td>2.02</td>\n",
       "      <td>1.81</td>\n",
       "      <td>1.93</td>\n",
       "      <td>2.28</td>\n",
       "      <td>2.48</td>\n",
       "    </tr>\n",
       "    <tr>\n",
       "      <th>4</th>\n",
       "      <td>1983</td>\n",
       "      <td>2.57</td>\n",
       "      <td>2.74</td>\n",
       "      <td>2.68</td>\n",
       "      <td>2.79</td>\n",
       "      <td>2.89</td>\n",
       "      <td>2.02</td>\n",
       "      <td>0.75</td>\n",
       "      <td>-0.11</td>\n",
       "      <td>-0.41</td>\n",
       "      <td>-0.43</td>\n",
       "      <td>-0.43</td>\n",
       "      <td>-0.43</td>\n",
       "    </tr>\n",
       "  </tbody>\n",
       "</table>\n",
       "</div>"
      ],
      "text/plain": [
       "   year     1     2     3     4     5     6     7     8     9    10    11  \\\n",
       "0  1979  0.47  0.26 -0.08  0.20  0.27 -0.15 -0.14  0.44  0.38  0.24  0.52   \n",
       "1  1980  0.35  0.19  0.41  0.59  0.55  0.62  0.62  0.15  0.20  0.09 -0.03   \n",
       "2  1981 -0.33 -0.24  0.33  0.41 -0.27 -0.60 -0.51 -0.31 -0.01 -0.10 -0.22   \n",
       "3  1982 -0.38 -0.47 -0.28 -0.34 -0.03  0.78  1.79  2.02  1.81  1.93  2.28   \n",
       "4  1983  2.57  2.74  2.68  2.79  2.89  2.02  0.75 -0.11 -0.41 -0.43 -0.43   \n",
       "\n",
       "     12  \n",
       "0  0.65  \n",
       "1 -0.06  \n",
       "2 -0.16  \n",
       "3  2.48  \n",
       "4 -0.43  "
      ]
     },
     "execution_count": 7,
     "metadata": {},
     "output_type": "execute_result"
    }
   ],
   "source": [
    "df_enso_raw = pd.read_csv(os.path.join(data_folder, \"raw_enso.csv\"))\n",
    "df_enso_raw.head()"
   ]
  },
  {
   "cell_type": "code",
   "execution_count": 8,
   "metadata": {},
   "outputs": [
    {
     "data": {
      "text/html": [
       "<div>\n",
       "<style scoped>\n",
       "    .dataframe tbody tr th:only-of-type {\n",
       "        vertical-align: middle;\n",
       "    }\n",
       "\n",
       "    .dataframe tbody tr th {\n",
       "        vertical-align: top;\n",
       "    }\n",
       "\n",
       "    .dataframe thead th {\n",
       "        text-align: right;\n",
       "    }\n",
       "</style>\n",
       "<table border=\"1\" class=\"dataframe\">\n",
       "  <thead>\n",
       "    <tr style=\"text-align: right;\">\n",
       "      <th></th>\n",
       "      <th>year</th>\n",
       "      <th>month</th>\n",
       "      <th>enso</th>\n",
       "    </tr>\n",
       "    <tr>\n",
       "      <th>index</th>\n",
       "      <th></th>\n",
       "      <th></th>\n",
       "      <th></th>\n",
       "    </tr>\n",
       "  </thead>\n",
       "  <tbody>\n",
       "    <tr>\n",
       "      <th>1979-1</th>\n",
       "      <td>1979</td>\n",
       "      <td>1</td>\n",
       "      <td>0.47</td>\n",
       "    </tr>\n",
       "    <tr>\n",
       "      <th>1979-2</th>\n",
       "      <td>1979</td>\n",
       "      <td>2</td>\n",
       "      <td>0.26</td>\n",
       "    </tr>\n",
       "    <tr>\n",
       "      <th>1979-3</th>\n",
       "      <td>1979</td>\n",
       "      <td>3</td>\n",
       "      <td>-0.08</td>\n",
       "    </tr>\n",
       "    <tr>\n",
       "      <th>1979-4</th>\n",
       "      <td>1979</td>\n",
       "      <td>4</td>\n",
       "      <td>0.20</td>\n",
       "    </tr>\n",
       "    <tr>\n",
       "      <th>1979-5</th>\n",
       "      <td>1979</td>\n",
       "      <td>5</td>\n",
       "      <td>0.27</td>\n",
       "    </tr>\n",
       "  </tbody>\n",
       "</table>\n",
       "</div>"
      ],
      "text/plain": [
       "        year  month  enso\n",
       "index                    \n",
       "1979-1  1979      1  0.47\n",
       "1979-2  1979      2  0.26\n",
       "1979-3  1979      3 -0.08\n",
       "1979-4  1979      4  0.20\n",
       "1979-5  1979      5  0.27"
      ]
     },
     "execution_count": 8,
     "metadata": {},
     "output_type": "execute_result"
    }
   ],
   "source": [
    "#new columns\n",
    "\n",
    "enso_dict : dict = {\n",
    "    \"index\" : [],\n",
    "    \"year\" : [],\n",
    "    \"month\" : [],\n",
    "    \"enso\" : [],\n",
    "}\n",
    "\n",
    "#iterrate over df to retrieve values\n",
    "for year in df_enso_raw[\"year\"].to_list():\n",
    "    for month in df_enso_raw.columns.to_list()[1:]:\n",
    "\n",
    "        enso : float        = float(df_enso_raw.loc[df_enso_raw[\"year\"] == year][str(month)])\n",
    "        index : str =       f\"{year}-{month}\"\n",
    "\n",
    "        enso_dict[\"index\"].append(index)\n",
    "        enso_dict[\"year\"].append(int(year))\n",
    "        enso_dict[\"month\"].append(int(month))\n",
    "        enso_dict[\"enso\"].append(enso)\n",
    "\n",
    "#create new df\n",
    "df_enso = pd.DataFrame(data = enso_dict)\n",
    "df_enso.set_index(\"index\", drop = True, inplace = True)\n",
    "df_enso.head(5)"
   ]
  },
  {
   "cell_type": "code",
   "execution_count": 9,
   "metadata": {},
   "outputs": [
    {
     "data": {
      "text/html": [
       "<div>\n",
       "<style scoped>\n",
       "    .dataframe tbody tr th:only-of-type {\n",
       "        vertical-align: middle;\n",
       "    }\n",
       "\n",
       "    .dataframe tbody tr th {\n",
       "        vertical-align: top;\n",
       "    }\n",
       "\n",
       "    .dataframe thead th {\n",
       "        text-align: right;\n",
       "    }\n",
       "</style>\n",
       "<table border=\"1\" class=\"dataframe\">\n",
       "  <thead>\n",
       "    <tr style=\"text-align: right;\">\n",
       "      <th></th>\n",
       "      <th>enso</th>\n",
       "    </tr>\n",
       "    <tr>\n",
       "      <th>index</th>\n",
       "      <th></th>\n",
       "    </tr>\n",
       "  </thead>\n",
       "  <tbody>\n",
       "    <tr>\n",
       "      <th>2022-9</th>\n",
       "      <td>-1.78</td>\n",
       "    </tr>\n",
       "    <tr>\n",
       "      <th>2022-10</th>\n",
       "      <td>-1.75</td>\n",
       "    </tr>\n",
       "    <tr>\n",
       "      <th>2022-11</th>\n",
       "      <td>-1.53</td>\n",
       "    </tr>\n",
       "    <tr>\n",
       "      <th>2022-12</th>\n",
       "      <td>-1.26</td>\n",
       "    </tr>\n",
       "    <tr>\n",
       "      <th>2023-1</th>\n",
       "      <td>-1.12</td>\n",
       "    </tr>\n",
       "  </tbody>\n",
       "</table>\n",
       "</div>"
      ],
      "text/plain": [
       "         enso\n",
       "index        \n",
       "2022-9  -1.78\n",
       "2022-10 -1.75\n",
       "2022-11 -1.53\n",
       "2022-12 -1.26\n",
       "2023-1  -1.12"
      ]
     },
     "execution_count": 9,
     "metadata": {},
     "output_type": "execute_result"
    }
   ],
   "source": [
    "#delete unneeded and flase data\n",
    "df_enso = df_enso.loc[df_enso[\"enso\"] != -999.0]\n",
    "\n",
    "#create a df for later use\n",
    "df_index_value = df_enso.copy().drop(labels = \"enso\", axis = 1)\n",
    "\n",
    "if save_data is True:\n",
    "    df_index_value.to_csv(os.path.join(data_folder,\"df_index_value.csv\"))\n",
    "\n",
    "#drop unneeded data\n",
    "df_enso.drop(labels = [\"month\", \"year\"], inplace = True, axis = 1)\n",
    "df_enso.tail(5)"
   ]
  },
  {
   "cell_type": "code",
   "execution_count": 10,
   "metadata": {},
   "outputs": [],
   "source": [
    "if save_data is True:\n",
    "    df_enso.to_csv(os.path.join(data_folder,\"df_enso.csv\"))\n",
    "\n",
    "del df_enso_raw"
   ]
  },
  {
   "cell_type": "markdown",
   "metadata": {},
   "source": [
    "## 0.3 MJO data\n",
    "- Source: http://www.bom.gov.au/climate/mjo/\n",
    "- Note:\n",
    "    - The data was downloaded and prepared manually as a .csv file (reformating).\n",
    "    - The datapoint from the year 1978 are missing. A broken up date time series does not make sense. The enso also starts from the year 1979. Therefore the data from year < 1979 is being dropped\n",
    "    - The aggreagtion will be done in two ways:\n",
    "        - Values of the last day of month\n",
    "        - Aggregation:\n",
    "            - RMM1, RMM2, apmlitude: std, mean\n",
    "            - phase: mode\n",
    "- Range: 1979 - 2023"
   ]
  },
  {
   "cell_type": "code",
   "execution_count": 11,
   "metadata": {},
   "outputs": [
    {
     "data": {
      "text/html": [
       "<div>\n",
       "<style scoped>\n",
       "    .dataframe tbody tr th:only-of-type {\n",
       "        vertical-align: middle;\n",
       "    }\n",
       "\n",
       "    .dataframe tbody tr th {\n",
       "        vertical-align: top;\n",
       "    }\n",
       "\n",
       "    .dataframe thead th {\n",
       "        text-align: right;\n",
       "    }\n",
       "</style>\n",
       "<table border=\"1\" class=\"dataframe\">\n",
       "  <thead>\n",
       "    <tr style=\"text-align: right;\">\n",
       "      <th></th>\n",
       "      <th>Unnamed: 0</th>\n",
       "      <th>year</th>\n",
       "      <th>month</th>\n",
       "      <th>day</th>\n",
       "      <th>RMM1</th>\n",
       "      <th>RMM2</th>\n",
       "      <th>phase</th>\n",
       "      <th>amplitude</th>\n",
       "      <th>MissingValue=1.E36or999</th>\n",
       "      <th>unnamed</th>\n",
       "    </tr>\n",
       "  </thead>\n",
       "  <tbody>\n",
       "    <tr>\n",
       "      <th>0</th>\n",
       "      <td>NaN</td>\n",
       "      <td>1974</td>\n",
       "      <td>6</td>\n",
       "      <td>1</td>\n",
       "      <td>1.63447</td>\n",
       "      <td>1.20304</td>\n",
       "      <td>5</td>\n",
       "      <td>2.02948</td>\n",
       "      <td>Final_value:__OLR_&amp;_NCEP_winds</td>\n",
       "      <td>NaN</td>\n",
       "    </tr>\n",
       "    <tr>\n",
       "      <th>1</th>\n",
       "      <td>NaN</td>\n",
       "      <td>1974</td>\n",
       "      <td>6</td>\n",
       "      <td>2</td>\n",
       "      <td>1.60289</td>\n",
       "      <td>1.01512</td>\n",
       "      <td>5</td>\n",
       "      <td>1.89729</td>\n",
       "      <td>Final_value:__OLR_&amp;_NCEP_winds</td>\n",
       "      <td>NaN</td>\n",
       "    </tr>\n",
       "    <tr>\n",
       "      <th>2</th>\n",
       "      <td>NaN</td>\n",
       "      <td>1974</td>\n",
       "      <td>6</td>\n",
       "      <td>3</td>\n",
       "      <td>1.51625</td>\n",
       "      <td>1.08551</td>\n",
       "      <td>5</td>\n",
       "      <td>1.86476</td>\n",
       "      <td>Final_value:__OLR_&amp;_NCEP_winds</td>\n",
       "      <td>NaN</td>\n",
       "    </tr>\n",
       "    <tr>\n",
       "      <th>3</th>\n",
       "      <td>NaN</td>\n",
       "      <td>1974</td>\n",
       "      <td>6</td>\n",
       "      <td>4</td>\n",
       "      <td>1.50981</td>\n",
       "      <td>1.03573</td>\n",
       "      <td>5</td>\n",
       "      <td>1.83092</td>\n",
       "      <td>Final_value:__OLR_&amp;_NCEP_winds</td>\n",
       "      <td>NaN</td>\n",
       "    </tr>\n",
       "    <tr>\n",
       "      <th>4</th>\n",
       "      <td>NaN</td>\n",
       "      <td>1974</td>\n",
       "      <td>6</td>\n",
       "      <td>5</td>\n",
       "      <td>1.55906</td>\n",
       "      <td>1.30518</td>\n",
       "      <td>5</td>\n",
       "      <td>2.03326</td>\n",
       "      <td>Final_value:__OLR_&amp;_NCEP_winds</td>\n",
       "      <td>NaN</td>\n",
       "    </tr>\n",
       "  </tbody>\n",
       "</table>\n",
       "</div>"
      ],
      "text/plain": [
       "   Unnamed: 0  year  month  day     RMM1     RMM2  phase  amplitude  \\\n",
       "0         NaN  1974      6    1  1.63447  1.20304      5    2.02948   \n",
       "1         NaN  1974      6    2  1.60289  1.01512      5    1.89729   \n",
       "2         NaN  1974      6    3  1.51625  1.08551      5    1.86476   \n",
       "3         NaN  1974      6    4  1.50981  1.03573      5    1.83092   \n",
       "4         NaN  1974      6    5  1.55906  1.30518      5    2.03326   \n",
       "\n",
       "          MissingValue=1.E36or999  unnamed  \n",
       "0  Final_value:__OLR_&_NCEP_winds      NaN  \n",
       "1  Final_value:__OLR_&_NCEP_winds      NaN  \n",
       "2  Final_value:__OLR_&_NCEP_winds      NaN  \n",
       "3  Final_value:__OLR_&_NCEP_winds      NaN  \n",
       "4  Final_value:__OLR_&_NCEP_winds      NaN  "
      ]
     },
     "execution_count": 11,
     "metadata": {},
     "output_type": "execute_result"
    }
   ],
   "source": [
    "df_mjo_raw = pd.read_csv(os.path.join(data_folder,\"raw_mjo.csv\"))\n",
    "df_mjo_raw.head()"
   ]
  },
  {
   "cell_type": "code",
   "execution_count": 12,
   "metadata": {},
   "outputs": [
    {
     "data": {
      "application/vnd.plotly.v1+json": {
       "config": {
        "plotlyServerURL": "https://plot.ly"
       },
       "data": [
        {
         "hovertemplate": "month=4<br>RMM1=%{x}<br>RMM2=%{y}<extra></extra>",
         "legendgroup": "4",
         "line": {
          "color": "rgb(12,51,131)",
          "dash": "solid"
         },
         "marker": {
          "symbol": "circle"
         },
         "mode": "lines",
         "name": "4",
         "orientation": "v",
         "showlegend": true,
         "type": "scatter",
         "x": [
          -1.2643501,
          -1.09815,
          -0.84250998,
          -0.66240001,
          -0.65794998,
          -0.58406001,
          -0.31641001,
          -0.0339241996,
          0.27016899,
          0.67006302,
          1.33311,
          1.88192,
          2.0578001,
          2.17908,
          2.22366,
          2.24403,
          1.88205,
          1.54311,
          1.10077,
          0.46127799,
          -0.0506617017,
          -0.31604999,
          -0.49182999,
          -0.44264001
         ],
         "xaxis": "x",
         "y": [
          -0.0671676993,
          -0.48627001,
          -1.18366,
          -1.4598401,
          -1.5472701,
          -2.0250399,
          -2.3662701,
          -2.69172,
          -2.8252299,
          -2.47312,
          -2.1544099,
          -1.65794,
          -1.1721801,
          -0.73154998,
          -0.20938,
          0.30976799,
          0.88283801,
          1.04672,
          0.83877403,
          0.861274,
          0.92472798,
          0.838462,
          0.503842,
          0.177417
         ],
         "yaxis": "y"
        },
        {
         "hovertemplate": "month=5<br>RMM1=%{x}<br>RMM2=%{y}<extra></extra>",
         "legendgroup": "5",
         "line": {
          "color": "rgb(10,136,186)",
          "dash": "solid"
         },
         "marker": {
          "symbol": "circle"
         },
         "mode": "lines",
         "name": "5",
         "orientation": "v",
         "showlegend": true,
         "type": "scatter",
         "x": [
          -0.51411003,
          -0.44068,
          -0.50384003,
          -0.27851,
          -0.34733,
          -0.38306999,
          -0.14167,
          -0.062807098,
          -0.19451,
          -0.0220235009,
          -0.0819438994,
          -0.14179,
          -0.0300370995,
          0.0825615004,
          0.24927001,
          0.29898801,
          0.0255210008,
          -0.0788851976,
          -0.22872999,
          -0.54890001,
          -0.79933,
          -0.74673003,
          -0.60698998,
          -0.55742002,
          -0.66338003,
          -0.52266997,
          -0.33289,
          -0.41749999,
          -0.52021998,
          -0.51056999,
          -0.67028999
         ],
         "xaxis": "x",
         "y": [
          -0.0914644003,
          -0.4298,
          -0.63936001,
          -0.85404998,
          -0.96214002,
          -1.1084,
          -1.06822,
          -0.58036,
          -0.48482001,
          -0.36340001,
          -0.38753,
          -0.50716001,
          -0.42515999,
          -0.14576,
          -0.2746,
          -0.30814999,
          -0.12373,
          -0.0764074996,
          -0.10125,
          -0.37039,
          -0.37832001,
          -0.48262,
          -0.69967002,
          -1.0550801,
          -1.1690201,
          -1.00327,
          -0.51683003,
          -0.41312999,
          -0.20582999,
          0.0740977004,
          0.100024
         ],
         "yaxis": "y"
        },
        {
         "hovertemplate": "month=6<br>RMM1=%{x}<br>RMM2=%{y}<extra></extra>",
         "legendgroup": "6",
         "line": {
          "color": "rgb(242,211,56)",
          "dash": "solid"
         },
         "marker": {
          "symbol": "circle"
         },
         "mode": "lines",
         "name": "6",
         "orientation": "v",
         "showlegend": true,
         "type": "scatter",
         "x": [
          -0.80637997,
          -1.19013,
          -1.11652,
          -0.73707998,
          -0.18460999,
          0.0529439002,
          0.261154,
          0.307477,
          0.56679201,
          0.69480902,
          0.68821299,
          0.48801801,
          0.42914101,
          0.61851501,
          0.798733,
          1.00658,
          1.28269,
          1.74599,
          2.12992,
          2.0276899,
          1.85167,
          1.40116,
          1.4060301,
          1.75611,
          1.54757,
          0.935049
         ],
         "xaxis": "x",
         "y": [
          0.00893750042,
          -0.29730999,
          -0.79881001,
          -1.1811399,
          -1.23436,
          -1.00591,
          -0.88129997,
          -0.60602999,
          -0.6749,
          -0.42120001,
          -0.19068,
          -0.0318777002,
          -0.0746517032,
          -0.0133726001,
          -0.00793293025,
          -0.14038,
          -0.0936779007,
          -0.0733306035,
          0.28983599,
          0.68429101,
          0.82911599,
          1.24376,
          1.57154,
          1.83921,
          1.46718,
          1.3614399
         ],
         "yaxis": "y"
        }
       ],
       "layout": {
        "height": 500,
        "legend": {
         "title": {
          "text": "month"
         },
         "tracegroupgap": 0
        },
        "template": {
         "data": {
          "bar": [
           {
            "error_x": {
             "color": "#2a3f5f"
            },
            "error_y": {
             "color": "#2a3f5f"
            },
            "marker": {
             "line": {
              "color": "#E5ECF6",
              "width": 0.5
             },
             "pattern": {
              "fillmode": "overlay",
              "size": 10,
              "solidity": 0.2
             }
            },
            "type": "bar"
           }
          ],
          "barpolar": [
           {
            "marker": {
             "line": {
              "color": "#E5ECF6",
              "width": 0.5
             },
             "pattern": {
              "fillmode": "overlay",
              "size": 10,
              "solidity": 0.2
             }
            },
            "type": "barpolar"
           }
          ],
          "carpet": [
           {
            "aaxis": {
             "endlinecolor": "#2a3f5f",
             "gridcolor": "white",
             "linecolor": "white",
             "minorgridcolor": "white",
             "startlinecolor": "#2a3f5f"
            },
            "baxis": {
             "endlinecolor": "#2a3f5f",
             "gridcolor": "white",
             "linecolor": "white",
             "minorgridcolor": "white",
             "startlinecolor": "#2a3f5f"
            },
            "type": "carpet"
           }
          ],
          "choropleth": [
           {
            "colorbar": {
             "outlinewidth": 0,
             "ticks": ""
            },
            "type": "choropleth"
           }
          ],
          "contour": [
           {
            "colorbar": {
             "outlinewidth": 0,
             "ticks": ""
            },
            "colorscale": [
             [
              0,
              "#0d0887"
             ],
             [
              0.1111111111111111,
              "#46039f"
             ],
             [
              0.2222222222222222,
              "#7201a8"
             ],
             [
              0.3333333333333333,
              "#9c179e"
             ],
             [
              0.4444444444444444,
              "#bd3786"
             ],
             [
              0.5555555555555556,
              "#d8576b"
             ],
             [
              0.6666666666666666,
              "#ed7953"
             ],
             [
              0.7777777777777778,
              "#fb9f3a"
             ],
             [
              0.8888888888888888,
              "#fdca26"
             ],
             [
              1,
              "#f0f921"
             ]
            ],
            "type": "contour"
           }
          ],
          "contourcarpet": [
           {
            "colorbar": {
             "outlinewidth": 0,
             "ticks": ""
            },
            "type": "contourcarpet"
           }
          ],
          "heatmap": [
           {
            "colorbar": {
             "outlinewidth": 0,
             "ticks": ""
            },
            "colorscale": [
             [
              0,
              "#0d0887"
             ],
             [
              0.1111111111111111,
              "#46039f"
             ],
             [
              0.2222222222222222,
              "#7201a8"
             ],
             [
              0.3333333333333333,
              "#9c179e"
             ],
             [
              0.4444444444444444,
              "#bd3786"
             ],
             [
              0.5555555555555556,
              "#d8576b"
             ],
             [
              0.6666666666666666,
              "#ed7953"
             ],
             [
              0.7777777777777778,
              "#fb9f3a"
             ],
             [
              0.8888888888888888,
              "#fdca26"
             ],
             [
              1,
              "#f0f921"
             ]
            ],
            "type": "heatmap"
           }
          ],
          "heatmapgl": [
           {
            "colorbar": {
             "outlinewidth": 0,
             "ticks": ""
            },
            "colorscale": [
             [
              0,
              "#0d0887"
             ],
             [
              0.1111111111111111,
              "#46039f"
             ],
             [
              0.2222222222222222,
              "#7201a8"
             ],
             [
              0.3333333333333333,
              "#9c179e"
             ],
             [
              0.4444444444444444,
              "#bd3786"
             ],
             [
              0.5555555555555556,
              "#d8576b"
             ],
             [
              0.6666666666666666,
              "#ed7953"
             ],
             [
              0.7777777777777778,
              "#fb9f3a"
             ],
             [
              0.8888888888888888,
              "#fdca26"
             ],
             [
              1,
              "#f0f921"
             ]
            ],
            "type": "heatmapgl"
           }
          ],
          "histogram": [
           {
            "marker": {
             "pattern": {
              "fillmode": "overlay",
              "size": 10,
              "solidity": 0.2
             }
            },
            "type": "histogram"
           }
          ],
          "histogram2d": [
           {
            "colorbar": {
             "outlinewidth": 0,
             "ticks": ""
            },
            "colorscale": [
             [
              0,
              "#0d0887"
             ],
             [
              0.1111111111111111,
              "#46039f"
             ],
             [
              0.2222222222222222,
              "#7201a8"
             ],
             [
              0.3333333333333333,
              "#9c179e"
             ],
             [
              0.4444444444444444,
              "#bd3786"
             ],
             [
              0.5555555555555556,
              "#d8576b"
             ],
             [
              0.6666666666666666,
              "#ed7953"
             ],
             [
              0.7777777777777778,
              "#fb9f3a"
             ],
             [
              0.8888888888888888,
              "#fdca26"
             ],
             [
              1,
              "#f0f921"
             ]
            ],
            "type": "histogram2d"
           }
          ],
          "histogram2dcontour": [
           {
            "colorbar": {
             "outlinewidth": 0,
             "ticks": ""
            },
            "colorscale": [
             [
              0,
              "#0d0887"
             ],
             [
              0.1111111111111111,
              "#46039f"
             ],
             [
              0.2222222222222222,
              "#7201a8"
             ],
             [
              0.3333333333333333,
              "#9c179e"
             ],
             [
              0.4444444444444444,
              "#bd3786"
             ],
             [
              0.5555555555555556,
              "#d8576b"
             ],
             [
              0.6666666666666666,
              "#ed7953"
             ],
             [
              0.7777777777777778,
              "#fb9f3a"
             ],
             [
              0.8888888888888888,
              "#fdca26"
             ],
             [
              1,
              "#f0f921"
             ]
            ],
            "type": "histogram2dcontour"
           }
          ],
          "mesh3d": [
           {
            "colorbar": {
             "outlinewidth": 0,
             "ticks": ""
            },
            "type": "mesh3d"
           }
          ],
          "parcoords": [
           {
            "line": {
             "colorbar": {
              "outlinewidth": 0,
              "ticks": ""
             }
            },
            "type": "parcoords"
           }
          ],
          "pie": [
           {
            "automargin": true,
            "type": "pie"
           }
          ],
          "scatter": [
           {
            "fillpattern": {
             "fillmode": "overlay",
             "size": 10,
             "solidity": 0.2
            },
            "type": "scatter"
           }
          ],
          "scatter3d": [
           {
            "line": {
             "colorbar": {
              "outlinewidth": 0,
              "ticks": ""
             }
            },
            "marker": {
             "colorbar": {
              "outlinewidth": 0,
              "ticks": ""
             }
            },
            "type": "scatter3d"
           }
          ],
          "scattercarpet": [
           {
            "marker": {
             "colorbar": {
              "outlinewidth": 0,
              "ticks": ""
             }
            },
            "type": "scattercarpet"
           }
          ],
          "scattergeo": [
           {
            "marker": {
             "colorbar": {
              "outlinewidth": 0,
              "ticks": ""
             }
            },
            "type": "scattergeo"
           }
          ],
          "scattergl": [
           {
            "marker": {
             "colorbar": {
              "outlinewidth": 0,
              "ticks": ""
             }
            },
            "type": "scattergl"
           }
          ],
          "scattermapbox": [
           {
            "marker": {
             "colorbar": {
              "outlinewidth": 0,
              "ticks": ""
             }
            },
            "type": "scattermapbox"
           }
          ],
          "scatterpolar": [
           {
            "marker": {
             "colorbar": {
              "outlinewidth": 0,
              "ticks": ""
             }
            },
            "type": "scatterpolar"
           }
          ],
          "scatterpolargl": [
           {
            "marker": {
             "colorbar": {
              "outlinewidth": 0,
              "ticks": ""
             }
            },
            "type": "scatterpolargl"
           }
          ],
          "scatterternary": [
           {
            "marker": {
             "colorbar": {
              "outlinewidth": 0,
              "ticks": ""
             }
            },
            "type": "scatterternary"
           }
          ],
          "surface": [
           {
            "colorbar": {
             "outlinewidth": 0,
             "ticks": ""
            },
            "colorscale": [
             [
              0,
              "#0d0887"
             ],
             [
              0.1111111111111111,
              "#46039f"
             ],
             [
              0.2222222222222222,
              "#7201a8"
             ],
             [
              0.3333333333333333,
              "#9c179e"
             ],
             [
              0.4444444444444444,
              "#bd3786"
             ],
             [
              0.5555555555555556,
              "#d8576b"
             ],
             [
              0.6666666666666666,
              "#ed7953"
             ],
             [
              0.7777777777777778,
              "#fb9f3a"
             ],
             [
              0.8888888888888888,
              "#fdca26"
             ],
             [
              1,
              "#f0f921"
             ]
            ],
            "type": "surface"
           }
          ],
          "table": [
           {
            "cells": {
             "fill": {
              "color": "#EBF0F8"
             },
             "line": {
              "color": "white"
             }
            },
            "header": {
             "fill": {
              "color": "#C8D4E3"
             },
             "line": {
              "color": "white"
             }
            },
            "type": "table"
           }
          ]
         },
         "layout": {
          "annotationdefaults": {
           "arrowcolor": "#2a3f5f",
           "arrowhead": 0,
           "arrowwidth": 1
          },
          "autotypenumbers": "strict",
          "coloraxis": {
           "colorbar": {
            "outlinewidth": 0,
            "ticks": ""
           }
          },
          "colorscale": {
           "diverging": [
            [
             0,
             "#8e0152"
            ],
            [
             0.1,
             "#c51b7d"
            ],
            [
             0.2,
             "#de77ae"
            ],
            [
             0.3,
             "#f1b6da"
            ],
            [
             0.4,
             "#fde0ef"
            ],
            [
             0.5,
             "#f7f7f7"
            ],
            [
             0.6,
             "#e6f5d0"
            ],
            [
             0.7,
             "#b8e186"
            ],
            [
             0.8,
             "#7fbc41"
            ],
            [
             0.9,
             "#4d9221"
            ],
            [
             1,
             "#276419"
            ]
           ],
           "sequential": [
            [
             0,
             "#0d0887"
            ],
            [
             0.1111111111111111,
             "#46039f"
            ],
            [
             0.2222222222222222,
             "#7201a8"
            ],
            [
             0.3333333333333333,
             "#9c179e"
            ],
            [
             0.4444444444444444,
             "#bd3786"
            ],
            [
             0.5555555555555556,
             "#d8576b"
            ],
            [
             0.6666666666666666,
             "#ed7953"
            ],
            [
             0.7777777777777778,
             "#fb9f3a"
            ],
            [
             0.8888888888888888,
             "#fdca26"
            ],
            [
             1,
             "#f0f921"
            ]
           ],
           "sequentialminus": [
            [
             0,
             "#0d0887"
            ],
            [
             0.1111111111111111,
             "#46039f"
            ],
            [
             0.2222222222222222,
             "#7201a8"
            ],
            [
             0.3333333333333333,
             "#9c179e"
            ],
            [
             0.4444444444444444,
             "#bd3786"
            ],
            [
             0.5555555555555556,
             "#d8576b"
            ],
            [
             0.6666666666666666,
             "#ed7953"
            ],
            [
             0.7777777777777778,
             "#fb9f3a"
            ],
            [
             0.8888888888888888,
             "#fdca26"
            ],
            [
             1,
             "#f0f921"
            ]
           ]
          },
          "colorway": [
           "#636efa",
           "#EF553B",
           "#00cc96",
           "#ab63fa",
           "#FFA15A",
           "#19d3f3",
           "#FF6692",
           "#B6E880",
           "#FF97FF",
           "#FECB52"
          ],
          "font": {
           "color": "#2a3f5f"
          },
          "geo": {
           "bgcolor": "white",
           "lakecolor": "white",
           "landcolor": "#E5ECF6",
           "showlakes": true,
           "showland": true,
           "subunitcolor": "white"
          },
          "hoverlabel": {
           "align": "left"
          },
          "hovermode": "closest",
          "mapbox": {
           "style": "light"
          },
          "paper_bgcolor": "white",
          "plot_bgcolor": "#E5ECF6",
          "polar": {
           "angularaxis": {
            "gridcolor": "white",
            "linecolor": "white",
            "ticks": ""
           },
           "bgcolor": "#E5ECF6",
           "radialaxis": {
            "gridcolor": "white",
            "linecolor": "white",
            "ticks": ""
           }
          },
          "scene": {
           "xaxis": {
            "backgroundcolor": "#E5ECF6",
            "gridcolor": "white",
            "gridwidth": 2,
            "linecolor": "white",
            "showbackground": true,
            "ticks": "",
            "zerolinecolor": "white"
           },
           "yaxis": {
            "backgroundcolor": "#E5ECF6",
            "gridcolor": "white",
            "gridwidth": 2,
            "linecolor": "white",
            "showbackground": true,
            "ticks": "",
            "zerolinecolor": "white"
           },
           "zaxis": {
            "backgroundcolor": "#E5ECF6",
            "gridcolor": "white",
            "gridwidth": 2,
            "linecolor": "white",
            "showbackground": true,
            "ticks": "",
            "zerolinecolor": "white"
           }
          },
          "shapedefaults": {
           "line": {
            "color": "#2a3f5f"
           }
          },
          "ternary": {
           "aaxis": {
            "gridcolor": "white",
            "linecolor": "white",
            "ticks": ""
           },
           "baxis": {
            "gridcolor": "white",
            "linecolor": "white",
            "ticks": ""
           },
           "bgcolor": "#E5ECF6",
           "caxis": {
            "gridcolor": "white",
            "linecolor": "white",
            "ticks": ""
           }
          },
          "title": {
           "x": 0.05
          },
          "xaxis": {
           "automargin": true,
           "gridcolor": "white",
           "linecolor": "white",
           "ticks": "",
           "title": {
            "standoff": 15
           },
           "zerolinecolor": "white",
           "zerolinewidth": 2
          },
          "yaxis": {
           "automargin": true,
           "gridcolor": "white",
           "linecolor": "white",
           "ticks": "",
           "title": {
            "standoff": 15
           },
           "zerolinecolor": "white",
           "zerolinewidth": 2
          }
         }
        },
        "title": {
         "text": "mjo"
        },
        "width": 500,
        "xaxis": {
         "anchor": "y",
         "domain": [
          0,
          1
         ],
         "range": [
          3,
          -3
         ],
         "title": {
          "text": "RMM1"
         }
        },
        "yaxis": {
         "anchor": "x",
         "domain": [
          0,
          1
         ],
         "range": [
          3,
          -3
         ],
         "title": {
          "text": "RMM2"
         }
        }
       }
      }
     },
     "metadata": {},
     "output_type": "display_data"
    }
   ],
   "source": [
    "#understanding the mjo data\n",
    "fig = px.line(\n",
    "    data_frame = df_mjo_raw.loc[310:390],\n",
    "    x = \"RMM1\",\n",
    "    y = \"RMM2\",\n",
    "    color = \"month\",\n",
    "\n",
    "    title = \"mjo\",\n",
    "    color_discrete_sequence = plt_style_s,\n",
    "    width = 500,\n",
    "    height = 500,\n",
    "\n",
    "    range_x = (3,-3),\n",
    "    range_y = (3,-3),\n",
    ")\n",
    "\n",
    "fig.show()"
   ]
  },
  {
   "cell_type": "code",
   "execution_count": 13,
   "metadata": {},
   "outputs": [
    {
     "data": {
      "text/html": [
       "<div>\n",
       "<style scoped>\n",
       "    .dataframe tbody tr th:only-of-type {\n",
       "        vertical-align: middle;\n",
       "    }\n",
       "\n",
       "    .dataframe tbody tr th {\n",
       "        vertical-align: top;\n",
       "    }\n",
       "\n",
       "    .dataframe thead th {\n",
       "        text-align: right;\n",
       "    }\n",
       "</style>\n",
       "<table border=\"1\" class=\"dataframe\">\n",
       "  <thead>\n",
       "    <tr style=\"text-align: right;\">\n",
       "      <th></th>\n",
       "      <th>year</th>\n",
       "      <th>month</th>\n",
       "      <th>day</th>\n",
       "      <th>RMM1</th>\n",
       "      <th>RMM2</th>\n",
       "      <th>phase</th>\n",
       "      <th>amplitude</th>\n",
       "    </tr>\n",
       "  </thead>\n",
       "  <tbody>\n",
       "    <tr>\n",
       "      <th>1675</th>\n",
       "      <td>1979</td>\n",
       "      <td>1</td>\n",
       "      <td>1</td>\n",
       "      <td>0.142507</td>\n",
       "      <td>1.05047</td>\n",
       "      <td>6</td>\n",
       "      <td>1.06009</td>\n",
       "    </tr>\n",
       "    <tr>\n",
       "      <th>1676</th>\n",
       "      <td>1979</td>\n",
       "      <td>1</td>\n",
       "      <td>2</td>\n",
       "      <td>-0.204200</td>\n",
       "      <td>1.37361</td>\n",
       "      <td>7</td>\n",
       "      <td>1.38870</td>\n",
       "    </tr>\n",
       "    <tr>\n",
       "      <th>1677</th>\n",
       "      <td>1979</td>\n",
       "      <td>1</td>\n",
       "      <td>3</td>\n",
       "      <td>-0.158610</td>\n",
       "      <td>1.53943</td>\n",
       "      <td>7</td>\n",
       "      <td>1.54758</td>\n",
       "    </tr>\n",
       "    <tr>\n",
       "      <th>1678</th>\n",
       "      <td>1979</td>\n",
       "      <td>1</td>\n",
       "      <td>4</td>\n",
       "      <td>-0.182450</td>\n",
       "      <td>1.45972</td>\n",
       "      <td>7</td>\n",
       "      <td>1.47108</td>\n",
       "    </tr>\n",
       "    <tr>\n",
       "      <th>1679</th>\n",
       "      <td>1979</td>\n",
       "      <td>1</td>\n",
       "      <td>5</td>\n",
       "      <td>-0.320050</td>\n",
       "      <td>1.13680</td>\n",
       "      <td>7</td>\n",
       "      <td>1.18100</td>\n",
       "    </tr>\n",
       "  </tbody>\n",
       "</table>\n",
       "</div>"
      ],
      "text/plain": [
       "      year  month  day      RMM1     RMM2  phase  amplitude\n",
       "1675  1979      1    1  0.142507  1.05047      6    1.06009\n",
       "1676  1979      1    2 -0.204200  1.37361      7    1.38870\n",
       "1677  1979      1    3 -0.158610  1.53943      7    1.54758\n",
       "1678  1979      1    4 -0.182450  1.45972      7    1.47108\n",
       "1679  1979      1    5 -0.320050  1.13680      7    1.18100"
      ]
     },
     "execution_count": 13,
     "metadata": {},
     "output_type": "execute_result"
    }
   ],
   "source": [
    "#drop unneeded cols\n",
    "df_mjo_raw.drop(axis = 1, labels = [\"Unnamed: 0\",\"unnamed\", \"MissingValue=1.E36or999\"], inplace = True)\n",
    "df_mjo = df_mjo_raw.loc[df_mjo_raw[\"year\"] >= 1979]\n",
    "df_mjo.head()"
   ]
  },
  {
   "cell_type": "code",
   "execution_count": 14,
   "metadata": {},
   "outputs": [
    {
     "name": "stderr",
     "output_type": "stream",
     "text": [
      "C:\\Users\\Joël Tauss\\AppData\\Local\\Temp\\ipykernel_19472\\384175158.py:2: SettingWithCopyWarning:\n",
      "\n",
      "\n",
      "A value is trying to be set on a copy of a slice from a DataFrame.\n",
      "Try using .loc[row_indexer,col_indexer] = value instead\n",
      "\n",
      "See the caveats in the documentation: https://pandas.pydata.org/pandas-docs/stable/user_guide/indexing.html#returning-a-view-versus-a-copy\n",
      "\n"
     ]
    },
    {
     "data": {
      "text/html": [
       "<div>\n",
       "<style scoped>\n",
       "    .dataframe tbody tr th:only-of-type {\n",
       "        vertical-align: middle;\n",
       "    }\n",
       "\n",
       "    .dataframe tbody tr th {\n",
       "        vertical-align: top;\n",
       "    }\n",
       "\n",
       "    .dataframe thead th {\n",
       "        text-align: right;\n",
       "    }\n",
       "</style>\n",
       "<table border=\"1\" class=\"dataframe\">\n",
       "  <thead>\n",
       "    <tr style=\"text-align: right;\">\n",
       "      <th></th>\n",
       "      <th>year</th>\n",
       "      <th>month</th>\n",
       "      <th>day</th>\n",
       "      <th>RMM1</th>\n",
       "      <th>RMM2</th>\n",
       "      <th>phase</th>\n",
       "      <th>amplitude</th>\n",
       "    </tr>\n",
       "    <tr>\n",
       "      <th>index</th>\n",
       "      <th></th>\n",
       "      <th></th>\n",
       "      <th></th>\n",
       "      <th></th>\n",
       "      <th></th>\n",
       "      <th></th>\n",
       "      <th></th>\n",
       "    </tr>\n",
       "  </thead>\n",
       "  <tbody>\n",
       "    <tr>\n",
       "      <th>1979-1</th>\n",
       "      <td>1979</td>\n",
       "      <td>1</td>\n",
       "      <td>1</td>\n",
       "      <td>0.142507</td>\n",
       "      <td>1.05047</td>\n",
       "      <td>6</td>\n",
       "      <td>1.06009</td>\n",
       "    </tr>\n",
       "    <tr>\n",
       "      <th>1979-1</th>\n",
       "      <td>1979</td>\n",
       "      <td>1</td>\n",
       "      <td>2</td>\n",
       "      <td>-0.204200</td>\n",
       "      <td>1.37361</td>\n",
       "      <td>7</td>\n",
       "      <td>1.38870</td>\n",
       "    </tr>\n",
       "    <tr>\n",
       "      <th>1979-1</th>\n",
       "      <td>1979</td>\n",
       "      <td>1</td>\n",
       "      <td>3</td>\n",
       "      <td>-0.158610</td>\n",
       "      <td>1.53943</td>\n",
       "      <td>7</td>\n",
       "      <td>1.54758</td>\n",
       "    </tr>\n",
       "    <tr>\n",
       "      <th>1979-1</th>\n",
       "      <td>1979</td>\n",
       "      <td>1</td>\n",
       "      <td>4</td>\n",
       "      <td>-0.182450</td>\n",
       "      <td>1.45972</td>\n",
       "      <td>7</td>\n",
       "      <td>1.47108</td>\n",
       "    </tr>\n",
       "    <tr>\n",
       "      <th>1979-1</th>\n",
       "      <td>1979</td>\n",
       "      <td>1</td>\n",
       "      <td>5</td>\n",
       "      <td>-0.320050</td>\n",
       "      <td>1.13680</td>\n",
       "      <td>7</td>\n",
       "      <td>1.18100</td>\n",
       "    </tr>\n",
       "  </tbody>\n",
       "</table>\n",
       "</div>"
      ],
      "text/plain": [
       "        year  month  day      RMM1     RMM2  phase  amplitude\n",
       "index                                                        \n",
       "1979-1  1979      1    1  0.142507  1.05047      6    1.06009\n",
       "1979-1  1979      1    2 -0.204200  1.37361      7    1.38870\n",
       "1979-1  1979      1    3 -0.158610  1.53943      7    1.54758\n",
       "1979-1  1979      1    4 -0.182450  1.45972      7    1.47108\n",
       "1979-1  1979      1    5 -0.320050  1.13680      7    1.18100"
      ]
     },
     "execution_count": 14,
     "metadata": {},
     "output_type": "execute_result"
    }
   ],
   "source": [
    "#create new index for joining later\n",
    "df_mjo[\"index\"] = df_mjo[\"year\"].astype(str) + \"-\" + df_mjo[\"month\"].astype(str)\n",
    "df_mjo.set_index(keys = \"index\", drop = True, inplace= True)\n",
    "df_mjo.head()"
   ]
  },
  {
   "cell_type": "code",
   "execution_count": 15,
   "metadata": {},
   "outputs": [
    {
     "data": {
      "text/html": [
       "<div>\n",
       "<style scoped>\n",
       "    .dataframe tbody tr th:only-of-type {\n",
       "        vertical-align: middle;\n",
       "    }\n",
       "\n",
       "    .dataframe tbody tr th {\n",
       "        vertical-align: top;\n",
       "    }\n",
       "\n",
       "    .dataframe thead th {\n",
       "        text-align: right;\n",
       "    }\n",
       "</style>\n",
       "<table border=\"1\" class=\"dataframe\">\n",
       "  <thead>\n",
       "    <tr style=\"text-align: right;\">\n",
       "      <th></th>\n",
       "      <th>rmm1_last</th>\n",
       "      <th>rmm2_last</th>\n",
       "      <th>phase_last</th>\n",
       "      <th>amplitude_last</th>\n",
       "    </tr>\n",
       "    <tr>\n",
       "      <th>index</th>\n",
       "      <th></th>\n",
       "      <th></th>\n",
       "      <th></th>\n",
       "      <th></th>\n",
       "    </tr>\n",
       "  </thead>\n",
       "  <tbody>\n",
       "    <tr>\n",
       "      <th>1979-1</th>\n",
       "      <td>0.128084</td>\n",
       "      <td>-0.582400</td>\n",
       "      <td>3</td>\n",
       "      <td>0.596314</td>\n",
       "    </tr>\n",
       "    <tr>\n",
       "      <th>1979-2</th>\n",
       "      <td>0.891485</td>\n",
       "      <td>-0.655510</td>\n",
       "      <td>4</td>\n",
       "      <td>1.106540</td>\n",
       "    </tr>\n",
       "    <tr>\n",
       "      <th>1979-3</th>\n",
       "      <td>0.338955</td>\n",
       "      <td>-1.188820</td>\n",
       "      <td>3</td>\n",
       "      <td>1.236190</td>\n",
       "    </tr>\n",
       "    <tr>\n",
       "      <th>1979-4</th>\n",
       "      <td>-1.125560</td>\n",
       "      <td>-1.158010</td>\n",
       "      <td>2</td>\n",
       "      <td>1.614890</td>\n",
       "    </tr>\n",
       "    <tr>\n",
       "      <th>1979-5</th>\n",
       "      <td>-2.016050</td>\n",
       "      <td>0.075006</td>\n",
       "      <td>8</td>\n",
       "      <td>2.017440</td>\n",
       "    </tr>\n",
       "  </tbody>\n",
       "</table>\n",
       "</div>"
      ],
      "text/plain": [
       "        rmm1_last  rmm2_last  phase_last  amplitude_last\n",
       "index                                                   \n",
       "1979-1   0.128084  -0.582400           3        0.596314\n",
       "1979-2   0.891485  -0.655510           4        1.106540\n",
       "1979-3   0.338955  -1.188820           3        1.236190\n",
       "1979-4  -1.125560  -1.158010           2        1.614890\n",
       "1979-5  -2.016050   0.075006           8        2.017440"
      ]
     },
     "execution_count": 15,
     "metadata": {},
     "output_type": "execute_result"
    }
   ],
   "source": [
    "#create df aggregated with last values\n",
    "\n",
    "#empty dataframe with same structure\n",
    "df_mjo_last = df_mjo.iloc[0:0,:]\n",
    "\n",
    "indexes = list(set(df_mjo.index.to_list()))\n",
    "\n",
    "for index in indexes:\n",
    "    last = df_mjo.loc[df_mjo.index == index].query('day == day.max()')\n",
    "    df_mjo_last = pd.concat(objs = [df_mjo_last, last], axis = 0)\n",
    "\n",
    "#resort values\n",
    "df_mjo_last.sort_values(by = [\"year\",\"month\"], ascending = [True, True], axis = 0, inplace= True)\n",
    "\n",
    "#clean up\n",
    "df_mjo_last.drop(labels=[\"year\",\"month\",\"day\"], axis = 1, inplace= True)\n",
    "df_mjo_last = df_mjo_last.add_suffix(\"_last\")\n",
    "df_mjo_last.columns= df_mjo_last.columns.str.lower()\n",
    "\n",
    "df_mjo_last.head(5)\n"
   ]
  },
  {
   "cell_type": "code",
   "execution_count": 16,
   "metadata": {},
   "outputs": [],
   "source": [
    "if save_data is True:\n",
    "    df_mjo_last.to_csv(os.path.join(data_folder, \"df_mjo_last.csv\"))"
   ]
  },
  {
   "cell_type": "code",
   "execution_count": 17,
   "metadata": {},
   "outputs": [
    {
     "data": {
      "text/html": [
       "<div>\n",
       "<style scoped>\n",
       "    .dataframe tbody tr th:only-of-type {\n",
       "        vertical-align: middle;\n",
       "    }\n",
       "\n",
       "    .dataframe tbody tr th {\n",
       "        vertical-align: top;\n",
       "    }\n",
       "\n",
       "    .dataframe thead th {\n",
       "        text-align: right;\n",
       "    }\n",
       "</style>\n",
       "<table border=\"1\" class=\"dataframe\">\n",
       "  <thead>\n",
       "    <tr style=\"text-align: right;\">\n",
       "      <th></th>\n",
       "      <th>rmm1_mean</th>\n",
       "      <th>rmm2_mean</th>\n",
       "      <th>phase_mean</th>\n",
       "      <th>amplitude_mean</th>\n",
       "      <th>rmm1_std</th>\n",
       "      <th>rmm2_std</th>\n",
       "      <th>phase_std</th>\n",
       "      <th>amplitude_std</th>\n",
       "      <th>phase_mode</th>\n",
       "    </tr>\n",
       "    <tr>\n",
       "      <th>index</th>\n",
       "      <th></th>\n",
       "      <th></th>\n",
       "      <th></th>\n",
       "      <th></th>\n",
       "      <th></th>\n",
       "      <th></th>\n",
       "      <th></th>\n",
       "      <th></th>\n",
       "      <th></th>\n",
       "    </tr>\n",
       "  </thead>\n",
       "  <tbody>\n",
       "    <tr>\n",
       "      <th>1979-1</th>\n",
       "      <td>-0.750029</td>\n",
       "      <td>1.106029</td>\n",
       "      <td>5.774194</td>\n",
       "      <td>1.719532</td>\n",
       "      <td>0.795243</td>\n",
       "      <td>0.988432</td>\n",
       "      <td>2.390393</td>\n",
       "      <td>0.632004</td>\n",
       "      <td>7</td>\n",
       "    </tr>\n",
       "    <tr>\n",
       "      <th>1979-2</th>\n",
       "      <td>0.458212</td>\n",
       "      <td>-0.745376</td>\n",
       "      <td>3.285714</td>\n",
       "      <td>1.063415</td>\n",
       "      <td>0.490798</td>\n",
       "      <td>0.587141</td>\n",
       "      <td>1.049061</td>\n",
       "      <td>0.454729</td>\n",
       "      <td>3</td>\n",
       "    </tr>\n",
       "    <tr>\n",
       "      <th>1979-3</th>\n",
       "      <td>0.636508</td>\n",
       "      <td>-0.322627</td>\n",
       "      <td>4.000000</td>\n",
       "      <td>1.389601</td>\n",
       "      <td>1.202352</td>\n",
       "      <td>0.615136</td>\n",
       "      <td>1.788854</td>\n",
       "      <td>0.595723</td>\n",
       "      <td>4</td>\n",
       "    </tr>\n",
       "  </tbody>\n",
       "</table>\n",
       "</div>"
      ],
      "text/plain": [
       "        rmm1_mean  rmm2_mean  phase_mean  amplitude_mean  rmm1_std  rmm2_std  \\\n",
       "index                                                                          \n",
       "1979-1  -0.750029   1.106029    5.774194        1.719532  0.795243  0.988432   \n",
       "1979-2   0.458212  -0.745376    3.285714        1.063415  0.490798  0.587141   \n",
       "1979-3   0.636508  -0.322627    4.000000        1.389601  1.202352  0.615136   \n",
       "\n",
       "        phase_std  amplitude_std  phase_mode  \n",
       "index                                         \n",
       "1979-1   2.390393       0.632004           7  \n",
       "1979-2   1.049061       0.454729           3  \n",
       "1979-3   1.788854       0.595723           4  "
      ]
     },
     "execution_count": 17,
     "metadata": {},
     "output_type": "execute_result"
    }
   ],
   "source": [
    "#create df aggregated with last values\n",
    "\n",
    "#create clean df\n",
    "df_mjo_avg = df_mjo.copy()\n",
    "df_index_values = df_mjo_avg\n",
    "df_mjo_avg.drop(labels = [\"day\"], axis = 1, inplace = True)\n",
    "\n",
    "#aggregate\n",
    "df_mjo_avg = df_mjo_avg.groupby(\"index\").agg(\n",
    "\n",
    "    rmm1_mean        = (\"RMM1\", \"mean\"),\n",
    "    rmm2_mean        = (\"RMM2\", \"mean\"),\n",
    "    phase_mean       = (\"phase\", \"mean\"),\n",
    "    amplitude_mean   = (\"amplitude\", \"mean\"),\n",
    "\n",
    "    rmm1_std        = (\"RMM1\", \"std\"),\n",
    "    rmm2_std        = (\"RMM2\", \"std\"),\n",
    "    phase_std       = (\"phase\", \"std\"),\n",
    "    amplitude_std   = (\"amplitude\", \"std\"),\n",
    "\n",
    "    phase_mode      = (\"phase\", st.mode),\n",
    "    year            = (\"year\", st.mode), #used for sorting\n",
    "    month           = (\"month\", st.mode), #usd for sorting\n",
    ")\n",
    "\n",
    "df_mjo_avg.sort_values(by = [\"year\",\"month\"], ascending = [True, True], axis = 0, inplace= True)\n",
    "df_mjo_avg.drop(labels = [\"year\",\"month\"], axis = 1, inplace = True)\n",
    "\n",
    "\n",
    "df_mjo_avg.head(3)\n"
   ]
  },
  {
   "cell_type": "code",
   "execution_count": 18,
   "metadata": {},
   "outputs": [],
   "source": [
    "if save_data is True:\n",
    "    df_mjo_avg.to_csv(os.path.join(data_folder, \"df_mjo_avg.csv\"))"
   ]
  },
  {
   "cell_type": "code",
   "execution_count": 19,
   "metadata": {},
   "outputs": [],
   "source": [
    "del df_mjo_last, df_mjo_avg, df_mjo, df_mjo_raw, df_index_values"
   ]
  },
  {
   "cell_type": "markdown",
   "metadata": {},
   "source": [
    "## 0.4 Polar vortex\n",
    "- Source: https://cds.climate.copernicus.eu/cdsapp#!/dataset/reanalysis-era5-pressure-levels?tab=form\n",
    "- Note:\n",
    "    - The download was done over the api. The data aggregation has to be deinfed.\n",
    "    - Chosen Pressure level: 10 hPa (approximates to 25 km alltitude)\n",
    "    - Chose lon lat: Lat: 81 - 82 / Lon: 12 -13. The nroth pole would be 90.0000° N, 135.0000° W. But the winds at the eye of a vortex can be zero. The chosen point is offset from the north pole into the direction of siwtzerland.\n",
    "- Range: 1979 - 2023"
   ]
  },
  {
   "cell_type": "code",
   "execution_count": 20,
   "metadata": {},
   "outputs": [],
   "source": [
    "#pv_run_era5_download : bool     = True      #ca. 550 minuntes\n",
    "#pv_compile_nc : bool            = True     #ca. 5 minutes\n",
    "#pv_compile_df : bool            = True     #ca. 2 minutes\n",
    "#pv_csv_clean_up : bool          = True     #ca. 1 minutes"
   ]
  },
  {
   "cell_type": "code",
   "execution_count": 21,
   "metadata": {},
   "outputs": [],
   "source": [
    "from unittest import result\n",
    "import cdsapi\n",
    "import os\n",
    "import requests\n",
    "from datetime import datetime\n",
    "import xarray as xr\n",
    "\n",
    "class Wrapper():\n",
    "\n",
    "    def main():\n",
    "\n",
    "        start_year : int        = 1979\n",
    "        end_year : int          = 2024\n",
    "\n",
    "        years : list            = Wrapper.generate_year_list(start = start_year, end = end_year)\n",
    "        variables : list        = ['u_component_of_wind', 'v_component_of_wind', 'vertical_velocity',]\n",
    "\n",
    "        #main loop for downloading data\n",
    "        Wrapper.log(f\"Downloading startet for range: {start_year} - {end_year}\")\n",
    "\n",
    "        for year in years:\n",
    "            \n",
    "            print(f\"Processing {year}\")\n",
    "            result : str = Wrapper.request(year)\n",
    "            Wrapper.download_data(result = result, year = year)\n",
    "\n",
    "        #tranforms and saves data as a csv for later processing in pandas\n",
    "        Wrapper.generate_df()\n",
    "\n",
    "        return\n",
    "\n",
    "    def generate_year_list(start:int, end:int):\n",
    "\n",
    "        year_list_str : list = [str(year) for year in range(start,end)]\n",
    "        return year_list_str\n",
    "\n",
    "    def generate_df():\n",
    "\n",
    "        downloads = Wrapper.download_path()\n",
    "        files = os.listdir(downloads)\n",
    "\n",
    "        for file in files:\n",
    "\n",
    "            #open .nc files\n",
    "            file = os.path.join(downloads,file)\n",
    "            ds = xr.open_dataset(file)\n",
    "            df = ds.to_dataframe()\n",
    "\n",
    "            #save df\n",
    "            name = f\"{file[-3]}.csv\"\n",
    "            df.to_csv(name)\n",
    "\n",
    "    def download_data(result:str, year:str):\n",
    "\n",
    "        #genearte download and saving path\n",
    "        path : str          = Wrapper.download_path()\n",
    "        file_name : str     = f\"era5_{year}.nc\" #type nasCat data\n",
    "        file_path :str      = os.path.join(path,file_name)\n",
    "        print(file_path)\n",
    "        \n",
    "        #get download link\n",
    "        try:\n",
    "            link_start : int    = result.index(\"location=\") + len (\"location=\")\n",
    "            url : str           = result[link_start:-1]\n",
    "        except:\n",
    "            Wrapper.log(f\"{year}: The api response does not contain a download link\")\n",
    "            return\n",
    "\n",
    "        #retrieve data from web page and save it\n",
    "        try:\n",
    "            response = requests.get(url)\n",
    "        except:\n",
    "            Wrapper.log(f\"{year}: The download url is not valid\")\n",
    "            return\n",
    "\n",
    "        open(file_path, \"wb\").write(response.content)\n",
    "\n",
    "        return\n",
    "\n",
    "    def download_path():\n",
    "\n",
    "        folder_name = \"era5_downloads_pv\"\n",
    "\n",
    "        if os.path.isdir(folder_name) == False:\n",
    "            os.makedirs(folder_name)\n",
    "\n",
    "        download_path = os.path.join(os.path.dirname(os.path.abspath(__file__)), folder_name)\n",
    "\n",
    "        return download_path\n",
    "\n",
    "    def log(message : str):\n",
    "\n",
    "        #create log entry\n",
    "        log_time : str = datetime.now()\n",
    "        message = f\"{log_time},{message}\\n\"\n",
    "\n",
    "        #write log entry\n",
    "        file_object = open('era5_log.txt', 'a')\n",
    "        file_object.write(message)\n",
    "        file_object.close()\n",
    "\n",
    "        return\n",
    "\n",
    "    def request(year:list):\n",
    "        # see: https://www.latlong.net/\n",
    "\n",
    "        c = cdsapi.Client()\n",
    "\n",
    "        request = c.retrieve(\n",
    "            'reanalysis-era5-pressure-levels',\n",
    "            {\n",
    "                'product_type': 'reanalysis',\n",
    "                'format': 'netcdf',\n",
    "                'variable': [\n",
    "                    'u_component_of_wind', 'v_component_of_wind', 'vertical_velocity',\n",
    "                ],\n",
    "                'pressure_level': '10',\n",
    "                'year': year,\n",
    "                'month': [\n",
    "                    '01', '02', '03',\n",
    "                    '04', '05', '06',\n",
    "                    '07', '08', '09',\n",
    "                    '10', '11', '12',\n",
    "                ],\n",
    "                'day': [\n",
    "                    '01', '02', '03',\n",
    "                    '04', '05', '06',\n",
    "                    '07', '08', '09',\n",
    "                    '10', '11', '12',\n",
    "                    '13', '14', '15',\n",
    "                    '16', '17', '18',\n",
    "                    '19', '20', '21',\n",
    "                    '22', '23', '24',\n",
    "                    '25', '26', '27',\n",
    "                    '28', '29', '30',\n",
    "                    '31',\n",
    "                ],\n",
    "                'time': [\n",
    "                    '00:00', '01:00', '02:00',\n",
    "                    '03:00', '04:00', '05:00',\n",
    "                    '06:00', '07:00', '08:00',\n",
    "                    '09:00', '10:00', '11:00',\n",
    "                    '12:00', '13:00', '14:00',\n",
    "                    '15:00', '16:00', '17:00',\n",
    "                    '18:00', '19:00', '20:00',\n",
    "                    '21:00', '22:00', '23:00',\n",
    "                ],\n",
    "                'area': [\n",
    "                    82, 12, 81,\n",
    "                    13,\n",
    "                ],\n",
    "            },\n",
    "            'download.nc')\n",
    "\n",
    "        return str(request)\n",
    "\n",
    "if pv_run_era5_download is True:\n",
    "    Wrapper.main()"
   ]
  },
  {
   "cell_type": "code",
   "execution_count": 22,
   "metadata": {},
   "outputs": [
    {
     "data": {
      "application/vnd.plotly.v1+json": {
       "config": {
        "plotlyServerURL": "https://plot.ly"
       },
       "data": [
        {
         "lat": [
          81,
          82,
          82,
          81,
          81
         ],
         "lon": [
          12,
          12,
          13,
          13,
          12
         ],
         "marker": {
          "size": 10
         },
         "mode": "markers+lines",
         "type": "scattermapbox"
        }
       ],
       "layout": {
        "mapbox": {
         "center": {
          "lat": 81.5,
          "lon": 12.5
         },
         "style": "carto-positron",
         "zoom": 2
        },
        "margin": {
         "b": 0,
         "l": 0,
         "r": 0,
         "t": 0
        },
        "template": {
         "data": {
          "bar": [
           {
            "error_x": {
             "color": "#2a3f5f"
            },
            "error_y": {
             "color": "#2a3f5f"
            },
            "marker": {
             "line": {
              "color": "#E5ECF6",
              "width": 0.5
             },
             "pattern": {
              "fillmode": "overlay",
              "size": 10,
              "solidity": 0.2
             }
            },
            "type": "bar"
           }
          ],
          "barpolar": [
           {
            "marker": {
             "line": {
              "color": "#E5ECF6",
              "width": 0.5
             },
             "pattern": {
              "fillmode": "overlay",
              "size": 10,
              "solidity": 0.2
             }
            },
            "type": "barpolar"
           }
          ],
          "carpet": [
           {
            "aaxis": {
             "endlinecolor": "#2a3f5f",
             "gridcolor": "white",
             "linecolor": "white",
             "minorgridcolor": "white",
             "startlinecolor": "#2a3f5f"
            },
            "baxis": {
             "endlinecolor": "#2a3f5f",
             "gridcolor": "white",
             "linecolor": "white",
             "minorgridcolor": "white",
             "startlinecolor": "#2a3f5f"
            },
            "type": "carpet"
           }
          ],
          "choropleth": [
           {
            "colorbar": {
             "outlinewidth": 0,
             "ticks": ""
            },
            "type": "choropleth"
           }
          ],
          "contour": [
           {
            "colorbar": {
             "outlinewidth": 0,
             "ticks": ""
            },
            "colorscale": [
             [
              0,
              "#0d0887"
             ],
             [
              0.1111111111111111,
              "#46039f"
             ],
             [
              0.2222222222222222,
              "#7201a8"
             ],
             [
              0.3333333333333333,
              "#9c179e"
             ],
             [
              0.4444444444444444,
              "#bd3786"
             ],
             [
              0.5555555555555556,
              "#d8576b"
             ],
             [
              0.6666666666666666,
              "#ed7953"
             ],
             [
              0.7777777777777778,
              "#fb9f3a"
             ],
             [
              0.8888888888888888,
              "#fdca26"
             ],
             [
              1,
              "#f0f921"
             ]
            ],
            "type": "contour"
           }
          ],
          "contourcarpet": [
           {
            "colorbar": {
             "outlinewidth": 0,
             "ticks": ""
            },
            "type": "contourcarpet"
           }
          ],
          "heatmap": [
           {
            "colorbar": {
             "outlinewidth": 0,
             "ticks": ""
            },
            "colorscale": [
             [
              0,
              "#0d0887"
             ],
             [
              0.1111111111111111,
              "#46039f"
             ],
             [
              0.2222222222222222,
              "#7201a8"
             ],
             [
              0.3333333333333333,
              "#9c179e"
             ],
             [
              0.4444444444444444,
              "#bd3786"
             ],
             [
              0.5555555555555556,
              "#d8576b"
             ],
             [
              0.6666666666666666,
              "#ed7953"
             ],
             [
              0.7777777777777778,
              "#fb9f3a"
             ],
             [
              0.8888888888888888,
              "#fdca26"
             ],
             [
              1,
              "#f0f921"
             ]
            ],
            "type": "heatmap"
           }
          ],
          "heatmapgl": [
           {
            "colorbar": {
             "outlinewidth": 0,
             "ticks": ""
            },
            "colorscale": [
             [
              0,
              "#0d0887"
             ],
             [
              0.1111111111111111,
              "#46039f"
             ],
             [
              0.2222222222222222,
              "#7201a8"
             ],
             [
              0.3333333333333333,
              "#9c179e"
             ],
             [
              0.4444444444444444,
              "#bd3786"
             ],
             [
              0.5555555555555556,
              "#d8576b"
             ],
             [
              0.6666666666666666,
              "#ed7953"
             ],
             [
              0.7777777777777778,
              "#fb9f3a"
             ],
             [
              0.8888888888888888,
              "#fdca26"
             ],
             [
              1,
              "#f0f921"
             ]
            ],
            "type": "heatmapgl"
           }
          ],
          "histogram": [
           {
            "marker": {
             "pattern": {
              "fillmode": "overlay",
              "size": 10,
              "solidity": 0.2
             }
            },
            "type": "histogram"
           }
          ],
          "histogram2d": [
           {
            "colorbar": {
             "outlinewidth": 0,
             "ticks": ""
            },
            "colorscale": [
             [
              0,
              "#0d0887"
             ],
             [
              0.1111111111111111,
              "#46039f"
             ],
             [
              0.2222222222222222,
              "#7201a8"
             ],
             [
              0.3333333333333333,
              "#9c179e"
             ],
             [
              0.4444444444444444,
              "#bd3786"
             ],
             [
              0.5555555555555556,
              "#d8576b"
             ],
             [
              0.6666666666666666,
              "#ed7953"
             ],
             [
              0.7777777777777778,
              "#fb9f3a"
             ],
             [
              0.8888888888888888,
              "#fdca26"
             ],
             [
              1,
              "#f0f921"
             ]
            ],
            "type": "histogram2d"
           }
          ],
          "histogram2dcontour": [
           {
            "colorbar": {
             "outlinewidth": 0,
             "ticks": ""
            },
            "colorscale": [
             [
              0,
              "#0d0887"
             ],
             [
              0.1111111111111111,
              "#46039f"
             ],
             [
              0.2222222222222222,
              "#7201a8"
             ],
             [
              0.3333333333333333,
              "#9c179e"
             ],
             [
              0.4444444444444444,
              "#bd3786"
             ],
             [
              0.5555555555555556,
              "#d8576b"
             ],
             [
              0.6666666666666666,
              "#ed7953"
             ],
             [
              0.7777777777777778,
              "#fb9f3a"
             ],
             [
              0.8888888888888888,
              "#fdca26"
             ],
             [
              1,
              "#f0f921"
             ]
            ],
            "type": "histogram2dcontour"
           }
          ],
          "mesh3d": [
           {
            "colorbar": {
             "outlinewidth": 0,
             "ticks": ""
            },
            "type": "mesh3d"
           }
          ],
          "parcoords": [
           {
            "line": {
             "colorbar": {
              "outlinewidth": 0,
              "ticks": ""
             }
            },
            "type": "parcoords"
           }
          ],
          "pie": [
           {
            "automargin": true,
            "type": "pie"
           }
          ],
          "scatter": [
           {
            "fillpattern": {
             "fillmode": "overlay",
             "size": 10,
             "solidity": 0.2
            },
            "type": "scatter"
           }
          ],
          "scatter3d": [
           {
            "line": {
             "colorbar": {
              "outlinewidth": 0,
              "ticks": ""
             }
            },
            "marker": {
             "colorbar": {
              "outlinewidth": 0,
              "ticks": ""
             }
            },
            "type": "scatter3d"
           }
          ],
          "scattercarpet": [
           {
            "marker": {
             "colorbar": {
              "outlinewidth": 0,
              "ticks": ""
             }
            },
            "type": "scattercarpet"
           }
          ],
          "scattergeo": [
           {
            "marker": {
             "colorbar": {
              "outlinewidth": 0,
              "ticks": ""
             }
            },
            "type": "scattergeo"
           }
          ],
          "scattergl": [
           {
            "marker": {
             "colorbar": {
              "outlinewidth": 0,
              "ticks": ""
             }
            },
            "type": "scattergl"
           }
          ],
          "scattermapbox": [
           {
            "marker": {
             "colorbar": {
              "outlinewidth": 0,
              "ticks": ""
             }
            },
            "type": "scattermapbox"
           }
          ],
          "scatterpolar": [
           {
            "marker": {
             "colorbar": {
              "outlinewidth": 0,
              "ticks": ""
             }
            },
            "type": "scatterpolar"
           }
          ],
          "scatterpolargl": [
           {
            "marker": {
             "colorbar": {
              "outlinewidth": 0,
              "ticks": ""
             }
            },
            "type": "scatterpolargl"
           }
          ],
          "scatterternary": [
           {
            "marker": {
             "colorbar": {
              "outlinewidth": 0,
              "ticks": ""
             }
            },
            "type": "scatterternary"
           }
          ],
          "surface": [
           {
            "colorbar": {
             "outlinewidth": 0,
             "ticks": ""
            },
            "colorscale": [
             [
              0,
              "#0d0887"
             ],
             [
              0.1111111111111111,
              "#46039f"
             ],
             [
              0.2222222222222222,
              "#7201a8"
             ],
             [
              0.3333333333333333,
              "#9c179e"
             ],
             [
              0.4444444444444444,
              "#bd3786"
             ],
             [
              0.5555555555555556,
              "#d8576b"
             ],
             [
              0.6666666666666666,
              "#ed7953"
             ],
             [
              0.7777777777777778,
              "#fb9f3a"
             ],
             [
              0.8888888888888888,
              "#fdca26"
             ],
             [
              1,
              "#f0f921"
             ]
            ],
            "type": "surface"
           }
          ],
          "table": [
           {
            "cells": {
             "fill": {
              "color": "#EBF0F8"
             },
             "line": {
              "color": "white"
             }
            },
            "header": {
             "fill": {
              "color": "#C8D4E3"
             },
             "line": {
              "color": "white"
             }
            },
            "type": "table"
           }
          ]
         },
         "layout": {
          "annotationdefaults": {
           "arrowcolor": "#2a3f5f",
           "arrowhead": 0,
           "arrowwidth": 1
          },
          "autotypenumbers": "strict",
          "coloraxis": {
           "colorbar": {
            "outlinewidth": 0,
            "ticks": ""
           }
          },
          "colorscale": {
           "diverging": [
            [
             0,
             "#8e0152"
            ],
            [
             0.1,
             "#c51b7d"
            ],
            [
             0.2,
             "#de77ae"
            ],
            [
             0.3,
             "#f1b6da"
            ],
            [
             0.4,
             "#fde0ef"
            ],
            [
             0.5,
             "#f7f7f7"
            ],
            [
             0.6,
             "#e6f5d0"
            ],
            [
             0.7,
             "#b8e186"
            ],
            [
             0.8,
             "#7fbc41"
            ],
            [
             0.9,
             "#4d9221"
            ],
            [
             1,
             "#276419"
            ]
           ],
           "sequential": [
            [
             0,
             "#0d0887"
            ],
            [
             0.1111111111111111,
             "#46039f"
            ],
            [
             0.2222222222222222,
             "#7201a8"
            ],
            [
             0.3333333333333333,
             "#9c179e"
            ],
            [
             0.4444444444444444,
             "#bd3786"
            ],
            [
             0.5555555555555556,
             "#d8576b"
            ],
            [
             0.6666666666666666,
             "#ed7953"
            ],
            [
             0.7777777777777778,
             "#fb9f3a"
            ],
            [
             0.8888888888888888,
             "#fdca26"
            ],
            [
             1,
             "#f0f921"
            ]
           ],
           "sequentialminus": [
            [
             0,
             "#0d0887"
            ],
            [
             0.1111111111111111,
             "#46039f"
            ],
            [
             0.2222222222222222,
             "#7201a8"
            ],
            [
             0.3333333333333333,
             "#9c179e"
            ],
            [
             0.4444444444444444,
             "#bd3786"
            ],
            [
             0.5555555555555556,
             "#d8576b"
            ],
            [
             0.6666666666666666,
             "#ed7953"
            ],
            [
             0.7777777777777778,
             "#fb9f3a"
            ],
            [
             0.8888888888888888,
             "#fdca26"
            ],
            [
             1,
             "#f0f921"
            ]
           ]
          },
          "colorway": [
           "#636efa",
           "#EF553B",
           "#00cc96",
           "#ab63fa",
           "#FFA15A",
           "#19d3f3",
           "#FF6692",
           "#B6E880",
           "#FF97FF",
           "#FECB52"
          ],
          "font": {
           "color": "#2a3f5f"
          },
          "geo": {
           "bgcolor": "white",
           "lakecolor": "white",
           "landcolor": "#E5ECF6",
           "showlakes": true,
           "showland": true,
           "subunitcolor": "white"
          },
          "hoverlabel": {
           "align": "left"
          },
          "hovermode": "closest",
          "mapbox": {
           "style": "light"
          },
          "paper_bgcolor": "white",
          "plot_bgcolor": "#E5ECF6",
          "polar": {
           "angularaxis": {
            "gridcolor": "white",
            "linecolor": "white",
            "ticks": ""
           },
           "bgcolor": "#E5ECF6",
           "radialaxis": {
            "gridcolor": "white",
            "linecolor": "white",
            "ticks": ""
           }
          },
          "scene": {
           "xaxis": {
            "backgroundcolor": "#E5ECF6",
            "gridcolor": "white",
            "gridwidth": 2,
            "linecolor": "white",
            "showbackground": true,
            "ticks": "",
            "zerolinecolor": "white"
           },
           "yaxis": {
            "backgroundcolor": "#E5ECF6",
            "gridcolor": "white",
            "gridwidth": 2,
            "linecolor": "white",
            "showbackground": true,
            "ticks": "",
            "zerolinecolor": "white"
           },
           "zaxis": {
            "backgroundcolor": "#E5ECF6",
            "gridcolor": "white",
            "gridwidth": 2,
            "linecolor": "white",
            "showbackground": true,
            "ticks": "",
            "zerolinecolor": "white"
           }
          },
          "shapedefaults": {
           "line": {
            "color": "#2a3f5f"
           }
          },
          "ternary": {
           "aaxis": {
            "gridcolor": "white",
            "linecolor": "white",
            "ticks": ""
           },
           "baxis": {
            "gridcolor": "white",
            "linecolor": "white",
            "ticks": ""
           },
           "bgcolor": "#E5ECF6",
           "caxis": {
            "gridcolor": "white",
            "linecolor": "white",
            "ticks": ""
           }
          },
          "title": {
           "x": 0.05
          },
          "xaxis": {
           "automargin": true,
           "gridcolor": "white",
           "linecolor": "white",
           "ticks": "",
           "title": {
            "standoff": 15
           },
           "zerolinecolor": "white",
           "zerolinewidth": 2
          },
          "yaxis": {
           "automargin": true,
           "gridcolor": "white",
           "linecolor": "white",
           "ticks": "",
           "title": {
            "standoff": 15
           },
           "zerolinecolor": "white",
           "zerolinewidth": 2
          }
         }
        }
       }
      }
     },
     "metadata": {},
     "output_type": "display_data"
    }
   ],
   "source": [
    "#define borders\n",
    "lons = [12,12,13,13,12]\n",
    "lats = [81,82,82,81,81]\n",
    "\n",
    "#create map plot\n",
    "fig = go.Figure(go.Scattermapbox(\n",
    "    mode = \"markers+lines\",\n",
    "    lon = lons,\n",
    "    lat = lats,\n",
    "    marker = {'size': 10})\n",
    ")\n",
    "\n",
    "#adjust view\n",
    "fig.update_layout(\n",
    "    margin ={'l':0,'t':0,'b':0,'r':0},\n",
    "    mapbox = {\n",
    "        'center': {'lon': 12.5, 'lat': 81.5},\n",
    "        'style': \"carto-positron\",\n",
    "        'zoom': 2})\n",
    "\n",
    "\n",
    "fig.show()"
   ]
  },
  {
   "cell_type": "code",
   "execution_count": 23,
   "metadata": {},
   "outputs": [],
   "source": [
    "#steal code from 0.1\n",
    "#create csv files from .nc files\n",
    "era5_data = os.path.join(\"data\",\"era5_downloads_pv\")\n",
    "\n",
    "try:\n",
    "    import xarray as xr\n",
    "except:\n",
    "    pass\n",
    "\n",
    "#ds = xr.open_dataset('/path/to/netcdf')\n",
    "#df = ds.to_dataframe()\n",
    "\n",
    "def compile_nc_data():\n",
    "\n",
    "    for file in os.listdir(era5_data):\n",
    "\n",
    "        if file[-3:] != \".nc\":\n",
    "            continue\n",
    "\n",
    "        file_df = file\n",
    "        file_df = file_df.replace(\".nc\", \".csv\")\n",
    "        print(file_df)\n",
    "\n",
    "        ds = xr.open_dataset(os.path.join(era5_data,file))\n",
    "        df = ds.to_dataframe()\n",
    "        df.to_csv(os.path.join(era5_data,file_df))\n",
    "\n",
    "if pv_compile_nc is True:\n",
    "    compile_nc_data()"
   ]
  },
  {
   "cell_type": "code",
   "execution_count": 24,
   "metadata": {},
   "outputs": [],
   "source": [
    "class Avg_era5:\n",
    "\n",
    "    era5_data = os.path.join(\"data\",\"era5_downloads_pv\")\n",
    "    data = \"data\"\n",
    "\n",
    "    def main(data_folder):\n",
    "\n",
    "        files : list        = os.listdir(Avg_era5.era5_data)\n",
    "        csv_files : list    = [file for file in files if file[-4:] == \".csv\"]\n",
    "\n",
    "        dfs : list          = []\n",
    "\n",
    "        for csv in csv_files:\n",
    "\n",
    "            print(f\"Processing: {csv}\", end = \"\\r\")\n",
    "\n",
    "            df = Avg_era5.lonlat_mean(csv = csv)\n",
    "            df = Avg_era5.month_mean_std(df)\n",
    "            df = Avg_era5.format(df)\n",
    "\n",
    "            dfs.append(df)\n",
    "\n",
    "        Avg_era5.merge_and_save(dfs, data_folder)\n",
    "        print(\"Aggregaed all data\")\n",
    "\n",
    "    def lonlat_mean(csv : str):\n",
    "\n",
    "        df = pd.read_csv(os.path.join(Avg_era5.era5_data, csv))\n",
    "        df = df[[\"time\",\"u\",\"v\",\"w\"]]\n",
    "        df_avg_lon_lat = df.groupby(\"time\").mean()\n",
    "\n",
    "        del df #free up memory\n",
    "        return df_avg_lon_lat\n",
    "\n",
    "    def month_mean_std(df):\n",
    "\n",
    "        #create col for grouping\n",
    "        df[\"month\"] = pd.DatetimeIndex(df.index).month\n",
    "        df[\"year\"] = pd.DatetimeIndex(df.index).year\n",
    "\n",
    "        df.reset_index(drop = True, inplace = True)\n",
    "\n",
    "        #aggregate for mean and std\n",
    "        df_mean_std = df.groupby([\"year\", \"month\"], as_index=False).agg(\n",
    "\n",
    "            pv_u_mean      = (\"u\", \"mean\"),\n",
    "            pv_u_std       = (\"u\", \"std\"),\n",
    "            \n",
    "            pv_v_mean      = (\"v\", \"mean\"),\n",
    "            pv_v_std       = (\"v\", \"std\"),\n",
    "            \n",
    "            pv_w_mean      = (\"w\", \"mean\"),\n",
    "            pv_w_std       = (\"w\", \"std\")\n",
    "        )\n",
    "\n",
    "        del df #free up memory\n",
    "        return df_mean_std\n",
    "\n",
    "    def format(df):\n",
    "\n",
    "        #format\n",
    "        df[\"index\"] = df[\"year\"].astype(str) + \"-\" + df[\"month\"].astype(str)\n",
    "        df.set_index(keys = \"index\", inplace = True, drop = True)\n",
    "\n",
    "        #drop unneeded cols\n",
    "        df.drop(labels = [\"year\", \"month\"], axis = 1, inplace = True)\n",
    "\n",
    "        #save\n",
    "        #df.to_csv(os.path.join(Avg_era5.era5_data_agg,csv))\n",
    "\n",
    "        return df\n",
    "\n",
    "    def merge_and_save(dfs, data_folder):\n",
    "\n",
    "        df = pd.concat(dfs)\n",
    "        df.to_csv(os.path.join(data_folder, \"df_era5_pv.csv\"))\n",
    "\n",
    "if pv_compile_df is True:\n",
    "    Avg_era5.main(data_folder)"
   ]
  },
  {
   "cell_type": "code",
   "execution_count": 25,
   "metadata": {},
   "outputs": [],
   "source": [
    "# clean up unnecessary csv\n",
    "\n",
    "def clean_up_csv():\n",
    "\n",
    "    era5_data = os.path.join(\"data\",\"era5_downloads_pv\")\n",
    "\n",
    "    files : list        = os.listdir(era5_data)\n",
    "    csv_files : list    = [file for file in files if file[-4:] == \".csv\"]\n",
    "\n",
    "    for csv in csv_files:\n",
    "        os.remove(os.path.join(era5_data, csv))\n",
    "\n",
    "if pv_csv_clean_up is True:\n",
    "    clean_up_csv()"
   ]
  },
  {
   "attachments": {},
   "cell_type": "markdown",
   "metadata": {},
   "source": [
    "## 0.5 Merging"
   ]
  },
  {
   "cell_type": "code",
   "execution_count": 26,
   "metadata": {},
   "outputs": [
    {
     "data": {
      "text/html": [
       "<div>\n",
       "<style scoped>\n",
       "    .dataframe tbody tr th:only-of-type {\n",
       "        vertical-align: middle;\n",
       "    }\n",
       "\n",
       "    .dataframe tbody tr th {\n",
       "        vertical-align: top;\n",
       "    }\n",
       "\n",
       "    .dataframe thead th {\n",
       "        text-align: right;\n",
       "    }\n",
       "</style>\n",
       "<table border=\"1\" class=\"dataframe\">\n",
       "  <thead>\n",
       "    <tr style=\"text-align: right;\">\n",
       "      <th>index</th>\n",
       "      <th>1979-1</th>\n",
       "      <th>1979-2</th>\n",
       "      <th>1979-3</th>\n",
       "      <th>1979-4</th>\n",
       "      <th>1979-5</th>\n",
       "    </tr>\n",
       "  </thead>\n",
       "  <tbody>\n",
       "    <tr>\n",
       "      <th>year_x</th>\n",
       "      <td>1979.000000</td>\n",
       "      <td>1979.000000</td>\n",
       "      <td>1979.000000</td>\n",
       "      <td>1979.000000</td>\n",
       "      <td>1979.000000</td>\n",
       "    </tr>\n",
       "    <tr>\n",
       "      <th>month_x</th>\n",
       "      <td>1.000000</td>\n",
       "      <td>2.000000</td>\n",
       "      <td>3.000000</td>\n",
       "      <td>4.000000</td>\n",
       "      <td>5.000000</td>\n",
       "    </tr>\n",
       "    <tr>\n",
       "      <th>enso_x</th>\n",
       "      <td>0.470000</td>\n",
       "      <td>0.260000</td>\n",
       "      <td>-0.080000</td>\n",
       "      <td>0.200000</td>\n",
       "      <td>0.270000</td>\n",
       "    </tr>\n",
       "    <tr>\n",
       "      <th>pv_u_mean_x</th>\n",
       "      <td>-7.705095</td>\n",
       "      <td>-10.069668</td>\n",
       "      <td>0.974978</td>\n",
       "      <td>-2.369439</td>\n",
       "      <td>-2.055928</td>\n",
       "    </tr>\n",
       "    <tr>\n",
       "      <th>pv_u_std_x</th>\n",
       "      <td>27.281851</td>\n",
       "      <td>23.430696</td>\n",
       "      <td>11.492888</td>\n",
       "      <td>4.466771</td>\n",
       "      <td>2.138089</td>\n",
       "    </tr>\n",
       "    <tr>\n",
       "      <th>pv_v_mean_x</th>\n",
       "      <td>-4.846178</td>\n",
       "      <td>-19.538984</td>\n",
       "      <td>13.362260</td>\n",
       "      <td>-2.108374</td>\n",
       "      <td>-0.777698</td>\n",
       "    </tr>\n",
       "    <tr>\n",
       "      <th>pv_v_std_x</th>\n",
       "      <td>12.622939</td>\n",
       "      <td>10.261012</td>\n",
       "      <td>15.734375</td>\n",
       "      <td>4.275214</td>\n",
       "      <td>2.176962</td>\n",
       "    </tr>\n",
       "    <tr>\n",
       "      <th>pv_w_mean_x</th>\n",
       "      <td>-0.000723</td>\n",
       "      <td>-0.001674</td>\n",
       "      <td>0.000160</td>\n",
       "      <td>-0.000007</td>\n",
       "      <td>-0.000090</td>\n",
       "    </tr>\n",
       "    <tr>\n",
       "      <th>pv_w_std_x</th>\n",
       "      <td>0.003739</td>\n",
       "      <td>0.005229</td>\n",
       "      <td>0.003275</td>\n",
       "      <td>0.001940</td>\n",
       "      <td>0.001966</td>\n",
       "    </tr>\n",
       "    <tr>\n",
       "      <th>t2m_mean_x</th>\n",
       "      <td>266.677674</td>\n",
       "      <td>271.801301</td>\n",
       "      <td>274.849874</td>\n",
       "      <td>276.097354</td>\n",
       "      <td>281.669298</td>\n",
       "    </tr>\n",
       "    <tr>\n",
       "      <th>t2m_std_x</th>\n",
       "      <td>4.648611</td>\n",
       "      <td>3.107695</td>\n",
       "      <td>2.938513</td>\n",
       "      <td>3.591025</td>\n",
       "      <td>5.561861</td>\n",
       "    </tr>\n",
       "    <tr>\n",
       "      <th>year_y</th>\n",
       "      <td>1979.000000</td>\n",
       "      <td>1979.000000</td>\n",
       "      <td>1979.000000</td>\n",
       "      <td>1979.000000</td>\n",
       "      <td>1979.000000</td>\n",
       "    </tr>\n",
       "    <tr>\n",
       "      <th>month_y</th>\n",
       "      <td>1.000000</td>\n",
       "      <td>2.000000</td>\n",
       "      <td>3.000000</td>\n",
       "      <td>4.000000</td>\n",
       "      <td>5.000000</td>\n",
       "    </tr>\n",
       "    <tr>\n",
       "      <th>enso_y</th>\n",
       "      <td>0.470000</td>\n",
       "      <td>0.260000</td>\n",
       "      <td>-0.080000</td>\n",
       "      <td>0.200000</td>\n",
       "      <td>0.270000</td>\n",
       "    </tr>\n",
       "    <tr>\n",
       "      <th>pv_u_mean_y</th>\n",
       "      <td>-7.705095</td>\n",
       "      <td>-10.069668</td>\n",
       "      <td>0.974978</td>\n",
       "      <td>-2.369439</td>\n",
       "      <td>-2.055928</td>\n",
       "    </tr>\n",
       "    <tr>\n",
       "      <th>pv_u_std_y</th>\n",
       "      <td>27.281851</td>\n",
       "      <td>23.430696</td>\n",
       "      <td>11.492888</td>\n",
       "      <td>4.466771</td>\n",
       "      <td>2.138089</td>\n",
       "    </tr>\n",
       "    <tr>\n",
       "      <th>pv_v_mean_y</th>\n",
       "      <td>-4.846178</td>\n",
       "      <td>-19.538984</td>\n",
       "      <td>13.362260</td>\n",
       "      <td>-2.108374</td>\n",
       "      <td>-0.777698</td>\n",
       "    </tr>\n",
       "    <tr>\n",
       "      <th>pv_v_std_y</th>\n",
       "      <td>12.622939</td>\n",
       "      <td>10.261012</td>\n",
       "      <td>15.734375</td>\n",
       "      <td>4.275214</td>\n",
       "      <td>2.176962</td>\n",
       "    </tr>\n",
       "    <tr>\n",
       "      <th>pv_w_mean_y</th>\n",
       "      <td>-0.000723</td>\n",
       "      <td>-0.001674</td>\n",
       "      <td>0.000160</td>\n",
       "      <td>-0.000007</td>\n",
       "      <td>-0.000090</td>\n",
       "    </tr>\n",
       "    <tr>\n",
       "      <th>pv_w_std_y</th>\n",
       "      <td>0.003739</td>\n",
       "      <td>0.005229</td>\n",
       "      <td>0.003275</td>\n",
       "      <td>0.001940</td>\n",
       "      <td>0.001966</td>\n",
       "    </tr>\n",
       "    <tr>\n",
       "      <th>t2m_mean_y</th>\n",
       "      <td>266.677674</td>\n",
       "      <td>271.801301</td>\n",
       "      <td>274.849874</td>\n",
       "      <td>276.097354</td>\n",
       "      <td>281.669298</td>\n",
       "    </tr>\n",
       "    <tr>\n",
       "      <th>t2m_std_y</th>\n",
       "      <td>4.648611</td>\n",
       "      <td>3.107695</td>\n",
       "      <td>2.938513</td>\n",
       "      <td>3.591025</td>\n",
       "      <td>5.561861</td>\n",
       "    </tr>\n",
       "    <tr>\n",
       "      <th>rmm1_mean_x</th>\n",
       "      <td>-0.750029</td>\n",
       "      <td>0.458212</td>\n",
       "      <td>0.636508</td>\n",
       "      <td>0.038630</td>\n",
       "      <td>-0.114053</td>\n",
       "    </tr>\n",
       "    <tr>\n",
       "      <th>rmm2_mean_x</th>\n",
       "      <td>1.106029</td>\n",
       "      <td>-0.745376</td>\n",
       "      <td>-0.322627</td>\n",
       "      <td>-0.206593</td>\n",
       "      <td>0.409473</td>\n",
       "    </tr>\n",
       "    <tr>\n",
       "      <th>phase_mean_x</th>\n",
       "      <td>5.774194</td>\n",
       "      <td>3.285714</td>\n",
       "      <td>4.000000</td>\n",
       "      <td>3.866667</td>\n",
       "      <td>5.677419</td>\n",
       "    </tr>\n",
       "    <tr>\n",
       "      <th>amplitude_mean_x</th>\n",
       "      <td>1.719532</td>\n",
       "      <td>1.063415</td>\n",
       "      <td>1.389601</td>\n",
       "      <td>1.844991</td>\n",
       "      <td>1.677857</td>\n",
       "    </tr>\n",
       "    <tr>\n",
       "      <th>rmm1_std_x</th>\n",
       "      <td>0.795243</td>\n",
       "      <td>0.490798</td>\n",
       "      <td>1.202352</td>\n",
       "      <td>1.433251</td>\n",
       "      <td>1.295421</td>\n",
       "    </tr>\n",
       "    <tr>\n",
       "      <th>rmm2_std_x</th>\n",
       "      <td>0.988432</td>\n",
       "      <td>0.587141</td>\n",
       "      <td>0.615136</td>\n",
       "      <td>1.214100</td>\n",
       "      <td>1.133189</td>\n",
       "    </tr>\n",
       "    <tr>\n",
       "      <th>phase_std_x</th>\n",
       "      <td>2.390393</td>\n",
       "      <td>1.049061</td>\n",
       "      <td>1.788854</td>\n",
       "      <td>2.255007</td>\n",
       "      <td>1.868816</td>\n",
       "    </tr>\n",
       "    <tr>\n",
       "      <th>amplitude_std_x</th>\n",
       "      <td>0.632004</td>\n",
       "      <td>0.454729</td>\n",
       "      <td>0.595723</td>\n",
       "      <td>0.229275</td>\n",
       "      <td>0.489784</td>\n",
       "    </tr>\n",
       "    <tr>\n",
       "      <th>phase_mode_x</th>\n",
       "      <td>7.000000</td>\n",
       "      <td>3.000000</td>\n",
       "      <td>4.000000</td>\n",
       "      <td>3.000000</td>\n",
       "      <td>4.000000</td>\n",
       "    </tr>\n",
       "    <tr>\n",
       "      <th>rmm1_last_x</th>\n",
       "      <td>0.128084</td>\n",
       "      <td>0.891485</td>\n",
       "      <td>0.338955</td>\n",
       "      <td>-1.125560</td>\n",
       "      <td>-2.016050</td>\n",
       "    </tr>\n",
       "    <tr>\n",
       "      <th>rmm2_last_x</th>\n",
       "      <td>-0.582400</td>\n",
       "      <td>-0.655510</td>\n",
       "      <td>-1.188820</td>\n",
       "      <td>-1.158010</td>\n",
       "      <td>0.075006</td>\n",
       "    </tr>\n",
       "    <tr>\n",
       "      <th>phase_last_x</th>\n",
       "      <td>3.000000</td>\n",
       "      <td>4.000000</td>\n",
       "      <td>3.000000</td>\n",
       "      <td>2.000000</td>\n",
       "      <td>8.000000</td>\n",
       "    </tr>\n",
       "    <tr>\n",
       "      <th>amplitude_last_x</th>\n",
       "      <td>0.596314</td>\n",
       "      <td>1.106540</td>\n",
       "      <td>1.236190</td>\n",
       "      <td>1.614890</td>\n",
       "      <td>2.017440</td>\n",
       "    </tr>\n",
       "    <tr>\n",
       "      <th>rmm1_mean_y</th>\n",
       "      <td>-0.750029</td>\n",
       "      <td>0.458212</td>\n",
       "      <td>0.636508</td>\n",
       "      <td>0.038630</td>\n",
       "      <td>-0.114053</td>\n",
       "    </tr>\n",
       "    <tr>\n",
       "      <th>rmm2_mean_y</th>\n",
       "      <td>1.106029</td>\n",
       "      <td>-0.745376</td>\n",
       "      <td>-0.322627</td>\n",
       "      <td>-0.206593</td>\n",
       "      <td>0.409473</td>\n",
       "    </tr>\n",
       "    <tr>\n",
       "      <th>phase_mean_y</th>\n",
       "      <td>5.774194</td>\n",
       "      <td>3.285714</td>\n",
       "      <td>4.000000</td>\n",
       "      <td>3.866667</td>\n",
       "      <td>5.677419</td>\n",
       "    </tr>\n",
       "    <tr>\n",
       "      <th>amplitude_mean_y</th>\n",
       "      <td>1.719532</td>\n",
       "      <td>1.063415</td>\n",
       "      <td>1.389601</td>\n",
       "      <td>1.844991</td>\n",
       "      <td>1.677857</td>\n",
       "    </tr>\n",
       "    <tr>\n",
       "      <th>rmm1_std_y</th>\n",
       "      <td>0.795243</td>\n",
       "      <td>0.490798</td>\n",
       "      <td>1.202352</td>\n",
       "      <td>1.433251</td>\n",
       "      <td>1.295421</td>\n",
       "    </tr>\n",
       "    <tr>\n",
       "      <th>rmm2_std_y</th>\n",
       "      <td>0.988432</td>\n",
       "      <td>0.587141</td>\n",
       "      <td>0.615136</td>\n",
       "      <td>1.214100</td>\n",
       "      <td>1.133189</td>\n",
       "    </tr>\n",
       "    <tr>\n",
       "      <th>phase_std_y</th>\n",
       "      <td>2.390393</td>\n",
       "      <td>1.049061</td>\n",
       "      <td>1.788854</td>\n",
       "      <td>2.255007</td>\n",
       "      <td>1.868816</td>\n",
       "    </tr>\n",
       "    <tr>\n",
       "      <th>amplitude_std_y</th>\n",
       "      <td>0.632004</td>\n",
       "      <td>0.454729</td>\n",
       "      <td>0.595723</td>\n",
       "      <td>0.229275</td>\n",
       "      <td>0.489784</td>\n",
       "    </tr>\n",
       "    <tr>\n",
       "      <th>phase_mode_y</th>\n",
       "      <td>7.000000</td>\n",
       "      <td>3.000000</td>\n",
       "      <td>4.000000</td>\n",
       "      <td>3.000000</td>\n",
       "      <td>4.000000</td>\n",
       "    </tr>\n",
       "    <tr>\n",
       "      <th>rmm1_last_y</th>\n",
       "      <td>0.128084</td>\n",
       "      <td>0.891485</td>\n",
       "      <td>0.338955</td>\n",
       "      <td>-1.125560</td>\n",
       "      <td>-2.016050</td>\n",
       "    </tr>\n",
       "    <tr>\n",
       "      <th>rmm2_last_y</th>\n",
       "      <td>-0.582400</td>\n",
       "      <td>-0.655510</td>\n",
       "      <td>-1.188820</td>\n",
       "      <td>-1.158010</td>\n",
       "      <td>0.075006</td>\n",
       "    </tr>\n",
       "    <tr>\n",
       "      <th>phase_last_y</th>\n",
       "      <td>3.000000</td>\n",
       "      <td>4.000000</td>\n",
       "      <td>3.000000</td>\n",
       "      <td>2.000000</td>\n",
       "      <td>8.000000</td>\n",
       "    </tr>\n",
       "    <tr>\n",
       "      <th>amplitude_last_y</th>\n",
       "      <td>0.596314</td>\n",
       "      <td>1.106540</td>\n",
       "      <td>1.236190</td>\n",
       "      <td>1.614890</td>\n",
       "      <td>2.017440</td>\n",
       "    </tr>\n",
       "  </tbody>\n",
       "</table>\n",
       "</div>"
      ],
      "text/plain": [
       "index                  1979-1       1979-2       1979-3       1979-4  \\\n",
       "year_x            1979.000000  1979.000000  1979.000000  1979.000000   \n",
       "month_x              1.000000     2.000000     3.000000     4.000000   \n",
       "enso_x               0.470000     0.260000    -0.080000     0.200000   \n",
       "pv_u_mean_x         -7.705095   -10.069668     0.974978    -2.369439   \n",
       "pv_u_std_x          27.281851    23.430696    11.492888     4.466771   \n",
       "pv_v_mean_x         -4.846178   -19.538984    13.362260    -2.108374   \n",
       "pv_v_std_x          12.622939    10.261012    15.734375     4.275214   \n",
       "pv_w_mean_x         -0.000723    -0.001674     0.000160    -0.000007   \n",
       "pv_w_std_x           0.003739     0.005229     0.003275     0.001940   \n",
       "t2m_mean_x         266.677674   271.801301   274.849874   276.097354   \n",
       "t2m_std_x            4.648611     3.107695     2.938513     3.591025   \n",
       "year_y            1979.000000  1979.000000  1979.000000  1979.000000   \n",
       "month_y              1.000000     2.000000     3.000000     4.000000   \n",
       "enso_y               0.470000     0.260000    -0.080000     0.200000   \n",
       "pv_u_mean_y         -7.705095   -10.069668     0.974978    -2.369439   \n",
       "pv_u_std_y          27.281851    23.430696    11.492888     4.466771   \n",
       "pv_v_mean_y         -4.846178   -19.538984    13.362260    -2.108374   \n",
       "pv_v_std_y          12.622939    10.261012    15.734375     4.275214   \n",
       "pv_w_mean_y         -0.000723    -0.001674     0.000160    -0.000007   \n",
       "pv_w_std_y           0.003739     0.005229     0.003275     0.001940   \n",
       "t2m_mean_y         266.677674   271.801301   274.849874   276.097354   \n",
       "t2m_std_y            4.648611     3.107695     2.938513     3.591025   \n",
       "rmm1_mean_x         -0.750029     0.458212     0.636508     0.038630   \n",
       "rmm2_mean_x          1.106029    -0.745376    -0.322627    -0.206593   \n",
       "phase_mean_x         5.774194     3.285714     4.000000     3.866667   \n",
       "amplitude_mean_x     1.719532     1.063415     1.389601     1.844991   \n",
       "rmm1_std_x           0.795243     0.490798     1.202352     1.433251   \n",
       "rmm2_std_x           0.988432     0.587141     0.615136     1.214100   \n",
       "phase_std_x          2.390393     1.049061     1.788854     2.255007   \n",
       "amplitude_std_x      0.632004     0.454729     0.595723     0.229275   \n",
       "phase_mode_x         7.000000     3.000000     4.000000     3.000000   \n",
       "rmm1_last_x          0.128084     0.891485     0.338955    -1.125560   \n",
       "rmm2_last_x         -0.582400    -0.655510    -1.188820    -1.158010   \n",
       "phase_last_x         3.000000     4.000000     3.000000     2.000000   \n",
       "amplitude_last_x     0.596314     1.106540     1.236190     1.614890   \n",
       "rmm1_mean_y         -0.750029     0.458212     0.636508     0.038630   \n",
       "rmm2_mean_y          1.106029    -0.745376    -0.322627    -0.206593   \n",
       "phase_mean_y         5.774194     3.285714     4.000000     3.866667   \n",
       "amplitude_mean_y     1.719532     1.063415     1.389601     1.844991   \n",
       "rmm1_std_y           0.795243     0.490798     1.202352     1.433251   \n",
       "rmm2_std_y           0.988432     0.587141     0.615136     1.214100   \n",
       "phase_std_y          2.390393     1.049061     1.788854     2.255007   \n",
       "amplitude_std_y      0.632004     0.454729     0.595723     0.229275   \n",
       "phase_mode_y         7.000000     3.000000     4.000000     3.000000   \n",
       "rmm1_last_y          0.128084     0.891485     0.338955    -1.125560   \n",
       "rmm2_last_y         -0.582400    -0.655510    -1.188820    -1.158010   \n",
       "phase_last_y         3.000000     4.000000     3.000000     2.000000   \n",
       "amplitude_last_y     0.596314     1.106540     1.236190     1.614890   \n",
       "\n",
       "index                  1979-5  \n",
       "year_x            1979.000000  \n",
       "month_x              5.000000  \n",
       "enso_x               0.270000  \n",
       "pv_u_mean_x         -2.055928  \n",
       "pv_u_std_x           2.138089  \n",
       "pv_v_mean_x         -0.777698  \n",
       "pv_v_std_x           2.176962  \n",
       "pv_w_mean_x         -0.000090  \n",
       "pv_w_std_x           0.001966  \n",
       "t2m_mean_x         281.669298  \n",
       "t2m_std_x            5.561861  \n",
       "year_y            1979.000000  \n",
       "month_y              5.000000  \n",
       "enso_y               0.270000  \n",
       "pv_u_mean_y         -2.055928  \n",
       "pv_u_std_y           2.138089  \n",
       "pv_v_mean_y         -0.777698  \n",
       "pv_v_std_y           2.176962  \n",
       "pv_w_mean_y         -0.000090  \n",
       "pv_w_std_y           0.001966  \n",
       "t2m_mean_y         281.669298  \n",
       "t2m_std_y            5.561861  \n",
       "rmm1_mean_x         -0.114053  \n",
       "rmm2_mean_x          0.409473  \n",
       "phase_mean_x         5.677419  \n",
       "amplitude_mean_x     1.677857  \n",
       "rmm1_std_x           1.295421  \n",
       "rmm2_std_x           1.133189  \n",
       "phase_std_x          1.868816  \n",
       "amplitude_std_x      0.489784  \n",
       "phase_mode_x         4.000000  \n",
       "rmm1_last_x         -2.016050  \n",
       "rmm2_last_x          0.075006  \n",
       "phase_last_x         8.000000  \n",
       "amplitude_last_x     2.017440  \n",
       "rmm1_mean_y         -0.114053  \n",
       "rmm2_mean_y          0.409473  \n",
       "phase_mean_y         5.677419  \n",
       "amplitude_mean_y     1.677857  \n",
       "rmm1_std_y           1.295421  \n",
       "rmm2_std_y           1.133189  \n",
       "phase_std_y          1.868816  \n",
       "amplitude_std_y      0.489784  \n",
       "phase_mode_y         4.000000  \n",
       "rmm1_last_y         -2.016050  \n",
       "rmm2_last_y          0.075006  \n",
       "phase_last_y         8.000000  \n",
       "amplitude_last_y     2.017440  "
      ]
     },
     "execution_count": 26,
     "metadata": {},
     "output_type": "execute_result"
    }
   ],
   "source": [
    "#merging\n",
    "\n",
    "csv_files : list = [csv for csv in os.listdir(data_folder) if csv[:3] == \"df_\"]\n",
    "csv_files.remove(\"df_index_value.csv\")\n",
    "csv_files.sort()\n",
    "\n",
    "df = df_index_value\n",
    "\n",
    "for csv in csv_files:\n",
    "\n",
    "    df_i = pd.read_csv(os.path.join(data_folder, csv), index_col = \"index\")\n",
    "    df = pd.merge(df, df_i, left_index=True, right_index=True)\n",
    "\n",
    "df.head().T"
   ]
  },
  {
   "cell_type": "code",
   "execution_count": 27,
   "metadata": {},
   "outputs": [],
   "source": [
    "\n",
    "if save_data is True:\n",
    "    df.to_csv(os.path.join(data_folder, \"df_merged.csv\"))"
   ]
  }
 ],
 "metadata": {
  "interpreter": {
   "hash": "f6bbfc4e4f578cb9f7c85fe350d2fab0be0faacc19ccc874c1f1be2572a1188f"
  },
  "kernelspec": {
   "display_name": "Python 3.9.5 64-bit",
   "language": "python",
   "name": "python3"
  },
  "language_info": {
   "codemirror_mode": {
    "name": "ipython",
    "version": 3
   },
   "file_extension": ".py",
   "mimetype": "text/x-python",
   "name": "python",
   "nbconvert_exporter": "python",
   "pygments_lexer": "ipython3",
   "version": "3.10.8"
  },
  "orig_nbformat": 4
 },
 "nbformat": 4,
 "nbformat_minor": 2
}
