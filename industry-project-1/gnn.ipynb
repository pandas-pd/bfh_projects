{
 "cells": [
  {
   "cell_type": "markdown",
   "metadata": {},
   "source": [
    "## Examples (articels)\n",
    " - https://towardsdatascience.com/hands-on-graph-neural-networks-with-pytorch-pytorch-geometric-359487e221a8\n",
    " - https://github.com/basiralab/RegGNN\n",
    " - https://balabala76.medium.com/graph-neural-network-in-azure-machine-learning-regression-42e3195e094b\n",
    " - https://www.kaggle.com/code/awadelrahman/tutorial-graph-neural-networks-on-social-networks\n",
    " - https://www.sciencedirect.com/science/article/pii/S2666651021000012\n",
    "\n",
    "## Tutorial (Videos)\n",
    " - https://www.youtube.com/watch?v=fOctJB4kVlM&t=114s\n",
    " - https://www.youtube.com/watch?v=X_fmiIy_YyI\n",
    " - https://www.youtube.com/watch?v=0KH95BEz370"
   ]
  },
  {
   "cell_type": "markdown",
   "metadata": {},
   "source": [
    "## Local installation of moduls, with GPU processing\n",
    " - https://pytorch.org/get-started/locally/\n",
    " - https://pytorch-geometric.readthedocs.io/en/latest/notes/installation.html\n",
    " - https://developer.nvidia.com/cuda-11-6-1-download-archive\n",
    "\n",
    "Current in use in ENV_0 (Desktop):\n",
    " - pytorch, loacl, gpu\n",
    " - pytroch gemoetric, local ,gpu\n",
    " - cuda 11.6\n",
    "\n",
    "Current in use in ENV_1 (Notebook):\n",
    " - pytroch, local, cpu\n",
    " - pytroch geometric cpu"
   ]
  },
  {
   "cell_type": "markdown",
   "metadata": {},
   "source": [
    "## Example:\n",
    "https://towardsdatascience.com/hands-on-graph-neural-networks-with-pytorch-pytorch-geometric-359487e221a8"
   ]
  },
  {
   "cell_type": "code",
   "execution_count": 2,
   "metadata": {},
   "outputs": [],
   "source": [
    "import torch\n",
    "#import torch_geometric"
   ]
  },
  {
   "cell_type": "code",
   "execution_count": 4,
   "metadata": {},
   "outputs": [],
   "source": [
    "#defining node classes and features\n",
    "\n",
    "x = torch.tensor([ #[feature 1, feature 2, ... ,featreu n]\n",
    "    [4,5],\n",
    "    [1,2],\n",
    "    [6,7] \n",
    "])\n",
    "\n",
    "y = torch.tensor([\n",
    "    0,\n",
    "    0,\n",
    "    1\n",
    "]) #[class point 1, class point 2, ... ,class point n]\n"
   ]
  },
  {
   "cell_type": "code",
   "execution_count": null,
   "metadata": {},
   "outputs": [],
   "source": [
    "#define node edges and relations\n",
    "\n",
    "edge_index = torch.tensor([\n",
    "    [] #source nodes\n",
    "    [] #target nodes\n",
    "])"
   ]
  }
 ],
 "metadata": {
  "interpreter": {
   "hash": "f6bbfc4e4f578cb9f7c85fe350d2fab0be0faacc19ccc874c1f1be2572a1188f"
  },
  "kernelspec": {
   "display_name": "Python 3.9.5 64-bit",
   "language": "python",
   "name": "python3"
  },
  "language_info": {
   "codemirror_mode": {
    "name": "ipython",
    "version": 3
   },
   "file_extension": ".py",
   "mimetype": "text/x-python",
   "name": "python",
   "nbconvert_exporter": "python",
   "pygments_lexer": "ipython3",
   "version": "3.9.5"
  },
  "orig_nbformat": 4
 },
 "nbformat": 4,
 "nbformat_minor": 2
}
